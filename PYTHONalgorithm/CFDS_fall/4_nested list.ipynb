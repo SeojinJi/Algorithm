{
  "cells": [
    {
      "cell_type": "markdown",
      "id": "764fc4b0",
      "metadata": {
        "id": "764fc4b0"
      },
      "source": [
        "### Q3. Nested List"
      ]
    },
    {
      "cell_type": "markdown",
      "id": "a6ed4a38",
      "metadata": {
        "id": "a6ed4a38"
      },
      "source": [
        " Make a function P3 that receives a nested list as an input and returns a list that satisfies the conditions below.\n",
        "\n",
        "**Conditions**\n",
        "- The input list is looks like [[word, length]]\n",
        "- Words consist only of lower case letters\n",
        "- Collect words from the input list and return as a list\n",
        "- The list must be alphabetically ordered\n",
        "\n",
        "Ex 1) P3([[‘apple’, 5],[‘banana’, 6]])\n",
        "> [‘apple’, ‘banana’]\n",
        "\n",
        "Ex 2) P3([[‘cup’, 3], [‘ace’, 3], [‘nice’, 4], [‘good’, 4]])\n",
        "> [‘ace’, ‘cup’, ‘good’, ‘nice’]"
      ]
    },
    {
      "cell_type": "markdown",
      "id": "b1586baf",
      "metadata": {
        "id": "b1586baf"
      },
      "source": [
        "#### Solution"
      ]
    },
    {
      "cell_type": "code",
      "execution_count": 6,
      "id": "99f76b43",
      "metadata": {
        "id": "99f76b43"
      },
      "outputs": [],
      "source": [
        "from typing import List\n",
        "def P3(lst: List) -> List:\n",
        "    ### Write code here ###\n",
        "    word = []\n",
        "    for i in range(len(lst)):\n",
        "        word.append(lst[i][0])\n",
        "    word = sorted(word)\n",
        "    return word\n",
        "    ### End of your code ###"
      ]
    },
    {
      "cell_type": "code",
      "execution_count": 7,
      "id": "6241edea",
      "metadata": {
        "colab": {
          "base_uri": "https://localhost:8080/"
        },
        "id": "6241edea",
        "outputId": "f86f217a-97e1-40fb-877d-9c0dd3b9a921"
      },
      "outputs": [
        {
          "name": "stdout",
          "output_type": "stream",
          "text": [
            "Input: [[‘apple’, 5],[‘banana’, 6]] \n",
            " Expected: ['apple', 'banana'] \n",
            " Return: ['apple', 'banana']\n",
            "Input: [[‘cup’, 3], [‘ace’, 3], [‘nice’, 4], [‘good’, 4]] \n",
            " Expected: [‘ace’, ‘cup’, ‘good’, ‘nice’] \n",
            " Return: ['ace', 'cup', 'good', 'nice']\n"
          ]
        }
      ],
      "source": [
        "# Test code for given cases; run without modification\n",
        "print(\"Input: [[‘apple’, 5],[‘banana’, 6]] \\n Expected: ['apple', 'banana'] \\n Return:\", P3([['apple', 5],['banana', 6]]))\n",
        "print(\"Input: [[‘cup’, 3], [‘ace’, 3], [‘nice’, 4], [‘good’, 4]] \\n Expected: [‘ace’, ‘cup’, ‘good’, ‘nice’] \\n Return:\", P3([['cup', 3], ['ace', 3], ['nice', 4], ['good', 4]]))"
      ]
    },
    {
      "cell_type": "code",
      "execution_count": null,
      "id": "6791dd78",
      "metadata": {
        "id": "6791dd78"
      },
      "outputs": [],
      "source": [
        "# Try your own test case!\n",
        "test_input = _# your input\n",
        "P3(test_input)"
      ]
    }
  ],
  "metadata": {
    "colab": {
      "provenance": []
    },
    "kernelspec": {
      "display_name": "Python 3 (ipykernel)",
      "language": "python",
      "name": "python3"
    },
    "language_info": {
      "codemirror_mode": {
        "name": "ipython",
        "version": 3
      },
      "file_extension": ".py",
      "mimetype": "text/x-python",
      "name": "python",
      "nbconvert_exporter": "python",
      "pygments_lexer": "ipython3",
      "version": "3.11.4"
    }
  },
  "nbformat": 4,
  "nbformat_minor": 5
}
