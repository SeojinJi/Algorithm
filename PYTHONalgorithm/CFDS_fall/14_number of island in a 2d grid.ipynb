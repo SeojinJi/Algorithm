{
 "cells": [
  {
   "cell_type": "markdown",
   "id": "5afbb11d-76ac-46e5-99f8-1f190f89ad09",
   "metadata": {},
   "source": [
    "## Practice 2. Number of Islands in a 2D Grid\n",
    "\n",
    "The M x N list, the grid, is received as an input to the function.<br>\n",
    "The elements in the list are made up of 1 or 0, where 1 is land and 0 is water.<br>\n",
    "At this time, an area connected to adjacent land and surrounded by water is called an island.<br>\n",
    "Implement a function that returns the number of islands.\n",
    "\n",
    "- M and N are natural numbers starting from 1.\n",
    "- Assume outside the list is water.\n",
    "- Adjacent is attached in one of four directions: upper, lower, left, and right, and the diagonal direction is not adjacent.\n",
    "- There is no land other than an island.\n",
    "\n",
    "\n",
    "M x N 리스트인 grid를 함수의 입력으로 받는다.<br>\n",
    "리스트의 원소는 1 또는 0으로 이루어져 있고, 1은 땅, 0은 물을 의미한다.<br>\n",
    "이 때, 인접한 땅으로 연결되어 있고, 물로 둘러 싸여 있는 지역을 섬이라고 하자.<br> \n",
    "섬의 개수를 return 하는 함수를 구현하라.\n",
    "\n",
    "  - M과 N은 1이상 자연수이다.\n",
    "  - 리스트 바깥은 물이라고 가정한다.\n",
    "  - 인접해 있다는 것은 상, 하, 좌, 우 네 방향 중 한 곳에서 붙어 있는 것이고, 대각선 방향은 인접해 있는 것이 아니다.\n",
    "  - 섬이 아닌 땅은 없다."
   ]
  },
  {
   "cell_type": "code",
   "execution_count": 10,
   "id": "917cea5a",
   "metadata": {},
   "outputs": [],
   "source": [
    "from collections import deque\n",
    "\n",
    "class IslandCounter:\n",
    "    def __init__(self, grid):\n",
    "        self.grid = grid\n",
    "        self.rows = len(grid)\n",
    "        self.cols = len(grid[0])\n",
    "        self.visited = [[False for _ in range(self.cols)] for _ in range(self.rows)]\n",
    "        self.num_islands = 0\n",
    "\n",
    "        \n",
    "    def dfs(self, i, j):\n",
    "        #########################################\n",
    "        # write your code\n",
    "        if i < 0 or i >=self.rows or j < 0 or j >= self.cols or self.grid[i][j] == 0 or self.visited[i][j] == True:\n",
    "            return\n",
    "        self.visited[i][j] = True\n",
    "        self.dfs(i+1, j)\n",
    "        self.dfs(i-1, j)\n",
    "        self.dfs(i, j+1)\n",
    "        self.dfs(i, j-1)\n",
    "\n",
    "        #########################################\n",
    "\n",
    "    def islands_counter_dfs(self):\n",
    "        for i in range(self.rows):\n",
    "            for j in range(self.cols):\n",
    "                #########################################\n",
    "                # write your code\n",
    "                if self.grid[i][j] == 1 and not self.visited[i][j] :\n",
    "                    self.num_islands += 1\n",
    "                    self.dfs(i, j)\n",
    "                #########################################\n",
    "\n",
    "        return self.num_islands\n",
    "    \n",
    "    \n",
    "    def islands_counter_bfs(self):\n",
    "        if not self.grid:\n",
    "            return 0\n",
    "\n",
    "        d_row = [1, -1, 0, 0] # \"상하\"좌우 방향으로 이동하기 위한 델타값\n",
    "        d_col = [0, 0, 1, -1] # 상하\"좌우\" 방향으로 이동하기 위한 델타값\n",
    "\n",
    "        for i in range(self.rows):\n",
    "            for j in range(self.cols):\n",
    "                #########################################\n",
    "                # write your code\n",
    "                if self.grid[i][j] == 1 :\n",
    "                    q = deque([(i, j)])\n",
    "                    self.num_islands += 1\n",
    "\n",
    "                    while q :\n",
    "                        curr_row, curr_col = q.popleft()\n",
    "                        \n",
    "                        for d in range(4) :\n",
    "                            next_row, next_col = curr_row+d_row[d], curr_col+d_col[d]\n",
    "                            if 0 <= next_row < self.rows and 0 <= next_col < self.cols and self.grid[next_row][next_col] == 1 :\n",
    "                                q.append((next_row, next_col))\n",
    "                                self.grid[next_row][next_col] = 0\n",
    "                #########################################\n",
    "\n",
    "        return self.num_islands"
   ]
  },
  {
   "cell_type": "markdown",
   "id": "54cda015",
   "metadata": {},
   "source": [
    "**Test Case**"
   ]
  },
  {
   "cell_type": "code",
   "execution_count": 12,
   "id": "d8a0531f-8b52-4695-b5b4-dfbdf1f540ce",
   "metadata": {
    "scrolled": false
   },
   "outputs": [
    {
     "name": "stdout",
     "output_type": "stream",
     "text": [
      "Number of islands using DFS: 1\n",
      "Number of islands using BFS: 1\n"
     ]
    }
   ],
   "source": [
    "# 1\n",
    "grid = [\n",
    "    [1,1,1,1,0],\n",
    "    [1,0,0,1,0],\n",
    "    [1,1,0,1,0],\n",
    "    [1,1,0,0,0]\n",
    "    ]\n",
    "\n",
    "island_counter_for_dfs = IslandCounter(grid)\n",
    "island_counter_for_bfs = IslandCounter(grid)\n",
    "\n",
    "dfs_result = island_counter_for_dfs.islands_counter_dfs()\n",
    "bfs_result = island_counter_for_bfs.islands_counter_bfs()\n",
    "print(f\"Number of islands using DFS: {dfs_result}\\nNumber of islands using BFS: {bfs_result}\")"
   ]
  },
  {
   "cell_type": "code",
   "execution_count": 13,
   "id": "09a0d9b4",
   "metadata": {},
   "outputs": [
    {
     "name": "stdout",
     "output_type": "stream",
     "text": [
      "Number of islands using DFS: 1\n",
      "Number of islands using BFS: 1\n"
     ]
    }
   ],
   "source": [
    "# 1\n",
    "grid = [\n",
    "    [1,1,1,1,1],\n",
    "    [1,1,1,1,1],\n",
    "    [1,1,1,1,1],\n",
    "    [1,1,1,1,1]\n",
    "    ]\n",
    "\n",
    "island_counter_for_dfs = IslandCounter(grid)\n",
    "island_counter_for_bfs = IslandCounter(grid)\n",
    "\n",
    "dfs_result = island_counter_for_dfs.islands_counter_dfs()\n",
    "bfs_result = island_counter_for_bfs.islands_counter_bfs()\n",
    "print(f\"Number of islands using DFS: {dfs_result}\\nNumber of islands using BFS: {bfs_result}\")"
   ]
  },
  {
   "cell_type": "code",
   "execution_count": 14,
   "id": "3642a34d",
   "metadata": {},
   "outputs": [
    {
     "name": "stdout",
     "output_type": "stream",
     "text": [
      "Number of islands using DFS: 0\n",
      "Number of islands using BFS: 0\n"
     ]
    }
   ],
   "source": [
    "# 0\n",
    "grid = [\n",
    "    [0,0,0,0,0],\n",
    "    [0,0,0,0,0],\n",
    "    [0,0,0,0,0],\n",
    "    [0,0,0,0,0]\n",
    "    ]\n",
    "\n",
    "island_counter_for_dfs = IslandCounter(grid)\n",
    "island_counter_for_bfs = IslandCounter(grid)\n",
    "\n",
    "dfs_result = island_counter_for_dfs.islands_counter_dfs()\n",
    "bfs_result = island_counter_for_bfs.islands_counter_bfs()\n",
    "print(f\"Number of islands using DFS: {dfs_result}\\nNumber of islands using BFS: {bfs_result}\")"
   ]
  },
  {
   "cell_type": "code",
   "execution_count": 15,
   "id": "b76628e7",
   "metadata": {},
   "outputs": [
    {
     "name": "stdout",
     "output_type": "stream",
     "text": [
      "Number of islands using DFS: 4\n",
      "Number of islands using BFS: 4\n"
     ]
    }
   ],
   "source": [
    "# 4\n",
    "grid = [\n",
    "    [1,0,0,0,1],\n",
    "    [1,1,0,0,0],\n",
    "    [0,0,0,1,1],\n",
    "    [0,1,0,1,0]\n",
    "    ]\n",
    "\n",
    "island_counter_for_dfs = IslandCounter(grid)\n",
    "island_counter_for_bfs = IslandCounter(grid)\n",
    "\n",
    "dfs_result = island_counter_for_dfs.islands_counter_dfs()\n",
    "bfs_result = island_counter_for_bfs.islands_counter_bfs()\n",
    "print(f\"Number of islands using DFS: {dfs_result}\\nNumber of islands using BFS: {bfs_result}\")"
   ]
  },
  {
   "cell_type": "code",
   "execution_count": 16,
   "id": "bc5b202b",
   "metadata": {},
   "outputs": [
    {
     "name": "stdout",
     "output_type": "stream",
     "text": [
      "Number of islands using DFS: 2\n",
      "Number of islands using BFS: 2\n"
     ]
    }
   ],
   "source": [
    "# 2\n",
    "grid = [\n",
    "    [1],\n",
    "    [0],\n",
    "    [1],\n",
    "    [1]\n",
    "    ]\n",
    "\n",
    "island_counter_for_dfs = IslandCounter(grid)\n",
    "island_counter_for_bfs = IslandCounter(grid)\n",
    "\n",
    "dfs_result = island_counter_for_dfs.islands_counter_dfs()\n",
    "bfs_result = island_counter_for_bfs.islands_counter_bfs()\n",
    "print(f\"Number of islands using DFS: {dfs_result}\\nNumber of islands using BFS: {bfs_result}\")"
   ]
  },
  {
   "cell_type": "code",
   "execution_count": 17,
   "id": "2f1503c1",
   "metadata": {},
   "outputs": [
    {
     "name": "stdout",
     "output_type": "stream",
     "text": [
      "Number of islands using DFS: 2\n",
      "Number of islands using BFS: 2\n"
     ]
    }
   ],
   "source": [
    "# 2\n",
    "grid = [[1,0,0,0,1]]\n",
    "\n",
    "island_counter_for_dfs = IslandCounter(grid)\n",
    "island_counter_for_bfs = IslandCounter(grid)\n",
    "\n",
    "dfs_result = island_counter_for_dfs.islands_counter_dfs()\n",
    "bfs_result = island_counter_for_bfs.islands_counter_bfs()\n",
    "print(f\"Number of islands using DFS: {dfs_result}\\nNumber of islands using BFS: {bfs_result}\")"
   ]
  },
  {
   "cell_type": "code",
   "execution_count": null,
   "id": "061ec2a0",
   "metadata": {},
   "outputs": [],
   "source": []
  }
 ],
 "metadata": {
  "kernelspec": {
   "display_name": "Python 3 (ipykernel)",
   "language": "python",
   "name": "python3"
  },
  "language_info": {
   "codemirror_mode": {
    "name": "ipython",
    "version": 3
   },
   "file_extension": ".py",
   "mimetype": "text/x-python",
   "name": "python",
   "nbconvert_exporter": "python",
   "pygments_lexer": "ipython3",
   "version": "3.11.4"
  }
 },
 "nbformat": 4,
 "nbformat_minor": 5
}
