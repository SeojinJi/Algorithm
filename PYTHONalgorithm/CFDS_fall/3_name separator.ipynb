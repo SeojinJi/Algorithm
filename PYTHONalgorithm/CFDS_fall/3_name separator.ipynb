{
 "cells": [
  {
   "cell_type": "markdown",
   "id": "70163ceb",
   "metadata": {},
   "source": [
    "# Q2. Name Separator"
   ]
  },
  {
   "cell_type": "markdown",
   "id": "da9c09ab",
   "metadata": {},
   "source": [
    "### Taking a name as input, write a function that separates last name and first name."
   ]
  },
  {
   "cell_type": "code",
   "execution_count": 3,
   "id": "8bca9293",
   "metadata": {},
   "outputs": [
    {
     "name": "stdout",
     "output_type": "stream",
     "text": [
      "first name is  SEojin\n",
      "last name is  ji\n"
     ]
    }
   ],
   "source": [
    "def name_separator(name):\n",
    "    \n",
    "    #write your code here\n",
    "    first_name, last_name= name.split(\" \")\n",
    "    print(\"first name is \", first_name)\n",
    "    print(\"last name is \", last_name)\n",
    "    \n",
    "    # print()\n",
    "\n",
    "#for test     \n",
    "my_name = input(\"Write your name:(eg.Sun-sin Yi) \")\n",
    "name_separator(my_name)"
   ]
  }
 ],
 "metadata": {
  "kernelspec": {
   "display_name": "Python 3 (ipykernel)",
   "language": "python",
   "name": "python3"
  },
  "language_info": {
   "codemirror_mode": {
    "name": "ipython",
    "version": 3
   },
   "file_extension": ".py",
   "mimetype": "text/x-python",
   "name": "python",
   "nbconvert_exporter": "python",
   "pygments_lexer": "ipython3",
   "version": "3.11.4"
  }
 },
 "nbformat": 4,
 "nbformat_minor": 5
}
