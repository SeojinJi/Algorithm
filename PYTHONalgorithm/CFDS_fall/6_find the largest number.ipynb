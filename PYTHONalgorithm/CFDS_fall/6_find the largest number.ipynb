{
 "cells": [
  {
   "cell_type": "markdown",
   "id": "36383641",
   "metadata": {},
   "source": [
    "# Practice 2. Find the largest number\n",
    "\n",
    "Suppose the file (file_practice.txt) contains numbers ending with ‘.'   and comments written after hash symbol(#).  \n",
    "Write a code that finds the largest number in the file.\n",
    "\n",
    "* Ignore any part of the line commented with ‘#’."
   ]
  },
  {
   "cell_type": "code",
   "execution_count": null,
   "id": "59c8bdda",
   "metadata": {},
   "outputs": [],
   "source": [
    "from typing import TextIO"
   ]
  },
  {
   "cell_type": "code",
   "execution_count": 11,
   "id": "cd14198f",
   "metadata": {},
   "outputs": [],
   "source": [
    "def findLargestNum(filename : str) -> int:\n",
    "    # Write your code here\n",
    "    ## There would be some steps to get the maximum number\n",
    "    ## ex. Filter Comments, Extract Numbers, Update Maximum\n",
    "    file = open(filename, 'r')\n",
    "    result = []\n",
    "    for line in file :\n",
    "        line = line.strip()\n",
    "        if line[0] == '#' :\n",
    "            continue\n",
    "        value = line.split()\n",
    "        if '#' in value :\n",
    "            continue\n",
    "        for num in value :\n",
    "            result.append(int(num[:-1]))\n",
    "    maxNum = max(result)\n",
    "    return maxNum"
   ]
  },
  {
   "cell_type": "code",
   "execution_count": 12,
   "id": "bae50308",
   "metadata": {},
   "outputs": [
    {
     "data": {
      "text/plain": [
       "6721"
      ]
     },
     "execution_count": 12,
     "metadata": {},
     "output_type": "execute_result"
    }
   ],
   "source": [
    "findLargestNum('file_practice.txt')"
   ]
  }
 ],
 "metadata": {
  "kernelspec": {
   "display_name": "Python 3 (ipykernel)",
   "language": "python",
   "name": "python3"
  },
  "language_info": {
   "codemirror_mode": {
    "name": "ipython",
    "version": 3
   },
   "file_extension": ".py",
   "mimetype": "text/x-python",
   "name": "python",
   "nbconvert_exporter": "python",
   "pygments_lexer": "ipython3",
   "version": "3.11.4"
  }
 },
 "nbformat": 4,
 "nbformat_minor": 5
}
