{
  "cells": [
    {
      "cell_type": "markdown",
      "metadata": {
        "id": "I9FM6s1o9ZUc"
      },
      "source": [
        "# In-class Exercise"
      ]
    },
    {
      "cell_type": "markdown",
      "metadata": {
        "id": "YMPHMl5J9ZUi"
      },
      "source": [
        "### Q2. Reversing SLL"
      ]
    },
    {
      "cell_type": "markdown",
      "metadata": {
        "id": "sgdBwNQo9ZUi"
      },
      "source": [
        "※ Space complexity should be O(1)  \n",
        "(Generating new LinkedLists or lists is not allowed)"
      ]
    },
    {
      "cell_type": "code",
      "execution_count": 2,
      "metadata": {
        "id": "lTdCGhc49ZUj"
      },
      "outputs": [],
      "source": [
        "class ListNode:\n",
        "    def __init__(self, val=0, next=None):\n",
        "        self.val = val\n",
        "        self.next = next"
      ]
    },
    {
      "cell_type": "code",
      "execution_count": 14,
      "metadata": {
        "id": "ciRBsqcR9ZUj"
      },
      "outputs": [],
      "source": [
        "# converting list form into a singly linked list\n",
        "def create_linked_list(l: list) -> ListNode:\n",
        "    if len(l) == 0:\n",
        "        return None\n",
        "\n",
        "    start = ListNode(l[0])\n",
        "    node = start\n",
        "\n",
        "    for i in range(1, len(l)):\n",
        "        node_new = ListNode(l[i])\n",
        "        node.next = node_new\n",
        "        node = node_new\n",
        "\n",
        "    return start\n",
        "\n",
        "# printing linked-list in form of a list\n",
        "def print_linked_list(n: ListNode, l: list) -> None:\n",
        "    if n is not None:\n",
        "        l.append(n.val)\n",
        "        print_linked_list(n.next, l)\n",
        "    else:\n",
        "        print(l)\n",
        "\n",
        "\n",
        "def reverse_SSL(head: ListNode) -> ListNode:\n",
        "    ##### Write your Code Here #####\n",
        "    if head.next == None or head == None :\n",
        "        return head\n",
        "    curNode = head\n",
        "    parentNode = None\n",
        "    while curNode != None :\n",
        "        nextNode = curNode.next\n",
        "        curNode.next = parentNode\n",
        "        parentNode = curNode\n",
        "        curNode = nextNode\n",
        "\n",
        "    return parentNode\n",
        "    ################################"
      ]
    },
    {
      "cell_type": "code",
      "execution_count": 15,
      "metadata": {
        "colab": {
          "base_uri": "https://localhost:8080/"
        },
        "id": "W0IY8Azn9ZUj",
        "outputId": "afcea17a-b7fb-4554-f7fc-dbdefd968387"
      },
      "outputs": [
        {
          "name": "stdout",
          "output_type": "stream",
          "text": [
            "[3, 1, 2, 4]\n"
          ]
        }
      ],
      "source": [
        "l1 =  create_linked_list([4,2,1,3])\n",
        "print_linked_list(reverse_SSL(l1),[])"
      ]
    }
  ],
  "metadata": {
    "colab": {
      "provenance": []
    },
    "kernelspec": {
      "display_name": "Python 3 (ipykernel)",
      "language": "python",
      "name": "python3"
    },
    "language_info": {
      "codemirror_mode": {
        "name": "ipython",
        "version": 3
      },
      "file_extension": ".py",
      "mimetype": "text/x-python",
      "name": "python",
      "nbconvert_exporter": "python",
      "pygments_lexer": "ipython3",
      "version": "3.11.4"
    },
    "vscode": {
      "interpreter": {
        "hash": "e31f0f46eebab55a29f0e124b1401c6335879e1da13c450265b689861a18de2a"
      }
    }
  },
  "nbformat": 4,
  "nbformat_minor": 0
}
