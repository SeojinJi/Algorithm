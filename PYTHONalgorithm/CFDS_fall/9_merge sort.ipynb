{
 "cells": [
  {
   "cell_type": "markdown",
   "id": "70163ceb",
   "metadata": {
    "id": "70163ceb"
   },
   "source": [
    "# Q2. Merge Sort"
   ]
  },
  {
   "cell_type": "markdown",
   "id": "da9c09ab",
   "metadata": {
    "id": "da9c09ab"
   },
   "source": [
    "### Create a function for outputting a list and a value from the merge sort in the order"
   ]
  },
  {
   "cell_type": "code",
   "execution_count": 18,
   "id": "2b3e28f5",
   "metadata": {
    "id": "2b3e28f5",
    "outputId": "8e403c29-fb97-4868-a9bf-60fb2433c042"
   },
   "outputs": [],
   "source": [
    "def mergeSortHelp(L:list, first:int, last:int) -> None:\n",
    "    if first == last: # Base Case\n",
    "        return\n",
    "    else: # Recursive Case\n",
    "        # Step 1 : Divide it into two sublists\n",
    "        mid = first + (last - first) // 2\n",
    "        # Step 2 : Sort the two sublists\n",
    "        mergeSortHelp(L, first, mid)\n",
    "        mergeSortHelp(L, mid+1, last)\n",
    "        # Step 3 : Merge the two \"sorted\" sublists\n",
    "        merge(L, first, mid, last)\n",
    "        \n",
    "def merge(L:list, first:int, mid:int, last:int) -> None:\n",
    "    # Write your code\n",
    "    left_half = L[first:mid+1]\n",
    "    right_half = L[mid+1:last+1]\n",
    "    i = j = 0\n",
    "    k = first\n",
    "\n",
    "    while i < len(left_half) and j < len(right_half) :\n",
    "        if left_half[i] < right_half[j]:\n",
    "            L[k] = left_half[i]\n",
    "            i += 1\n",
    "        else :\n",
    "            L[k] = right_half[j]\n",
    "            j += 1\n",
    "        print(L, L[k])\n",
    "        k += 1\n",
    "    while i < len(left_half) :\n",
    "        L[k] = left_half[i]\n",
    "        i += 1\n",
    "        print(L, L[k])\n",
    "        k += 1\n",
    "    while j < len(right_half) :\n",
    "        L[k] = right_half[j]\n",
    "        j += 1\n",
    "        print(L, L[k])\n",
    "        k += 1"
   ]
  },
  {
   "cell_type": "code",
   "execution_count": 19,
   "id": "8678ffc3",
   "metadata": {},
   "outputs": [
    {
     "name": "stdout",
     "output_type": "stream",
     "text": [
      "[4, 5, 1, 3, 2] 4\n",
      "[4, 5, 1, 3, 2] 5\n",
      "[1, 5, 1, 3, 2] 1\n",
      "[1, 4, 1, 3, 2] 4\n",
      "[1, 4, 5, 3, 2] 5\n",
      "[1, 4, 5, 2, 2] 2\n",
      "[1, 4, 5, 2, 3] 3\n",
      "[1, 4, 5, 2, 3] 1\n",
      "[1, 2, 5, 2, 3] 2\n",
      "[1, 2, 3, 2, 3] 3\n",
      "[1, 2, 3, 4, 3] 4\n",
      "[1, 2, 3, 4, 5] 5\n"
     ]
    },
    {
     "data": {
      "text/plain": [
       "[1, 2, 3, 4, 5]"
      ]
     },
     "execution_count": 19,
     "metadata": {},
     "output_type": "execute_result"
    }
   ],
   "source": [
    "L = [4, 5, 1, 3, 2]\n",
    "mergeSortHelp(L, 0, 4)\n",
    "L"
   ]
  },
  {
   "cell_type": "code",
   "execution_count": null,
   "id": "e74507e5",
   "metadata": {},
   "outputs": [],
   "source": []
  }
 ],
 "metadata": {
  "colab": {
   "provenance": []
  },
  "kernelspec": {
   "display_name": "Python 3 (ipykernel)",
   "language": "python",
   "name": "python3"
  },
  "language_info": {
   "codemirror_mode": {
    "name": "ipython",
    "version": 3
   },
   "file_extension": ".py",
   "mimetype": "text/x-python",
   "name": "python",
   "nbconvert_exporter": "python",
   "pygments_lexer": "ipython3",
   "version": "3.11.4"
  }
 },
 "nbformat": 4,
 "nbformat_minor": 5
}
