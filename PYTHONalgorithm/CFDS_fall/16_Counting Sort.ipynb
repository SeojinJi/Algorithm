{
 "cells": [
  {
   "cell_type": "code",
   "execution_count": 1,
   "metadata": {},
   "outputs": [],
   "source": [
    "def countingSort(array) :\n",
    "    size = len(array)\n",
    "    output = [0] * size\n",
    "\n",
    "    # Initialize count array\n",
    "    count = [0] * 10\n",
    "\n",
    "    # Store the count of each elements in count array\n",
    "    for i in range(0, size) :\n",
    "        count[array[i]] += 1\n",
    "    \n",
    "    # Store the cummulative count\n",
    "    for i in range(1, 10) :\n",
    "        count[i] += count[i-1]\n",
    "    \n",
    "    # Find the index of each element of the original array in count array\n",
    "    # Place the elements in output array\n",
    "    i = size - 1\n",
    "    while i >= 0 :\n",
    "        output[count[array[i]] - 1] = array[i]\n",
    "        count[array[i]] -= 1\n",
    "        i -= 1\n",
    "\n",
    "    # Copy the sort elements into original array\n",
    "    for i in range(0, size) :\n",
    "        array[i] = output[i] "
   ]
  },
  {
   "cell_type": "code",
   "execution_count": 3,
   "metadata": {},
   "outputs": [
    {
     "name": "stdout",
     "output_type": "stream",
     "text": [
      "[1, 2, 2, 3, 3, 4, 8]\n"
     ]
    }
   ],
   "source": [
    "data = [4, 2, 2, 8, 3, 3, 1]\n",
    "countingSort(data)\n",
    "print(data)"
   ]
  }
 ],
 "metadata": {
  "kernelspec": {
   "display_name": "Python 3",
   "language": "python",
   "name": "python3"
  },
  "language_info": {
   "codemirror_mode": {
    "name": "ipython",
    "version": 3
   },
   "file_extension": ".py",
   "mimetype": "text/x-python",
   "name": "python",
   "nbconvert_exporter": "python",
   "pygments_lexer": "ipython3",
   "version": "3.11.4"
  }
 },
 "nbformat": 4,
 "nbformat_minor": 2
}
