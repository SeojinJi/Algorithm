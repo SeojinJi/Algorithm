{
 "cells": [
  {
   "cell_type": "code",
   "execution_count": 1,
   "metadata": {},
   "outputs": [],
   "source": [
    "def quick_sort(arr) : # Basic model\n",
    "    if len(arr) <= 1 :\n",
    "        return arr\n",
    "    pivot = arr[len(arr) // 2]\n",
    "    lesser_arr, equal_arr, greater_arr = [], [], []\n",
    "    for num in arr :\n",
    "        if num < pivot :\n",
    "            lesser_arr.append(num)\n",
    "        elif num > pivot :\n",
    "            greater_arr.append(num)\n",
    "        else :\n",
    "            equal_arr.append(num)\n",
    "    return quick_sort(lesser_arr) + equal_arr + quick_sort(greater_arr)"
   ]
  },
  {
   "cell_type": "code",
   "execution_count": 2,
   "metadata": {},
   "outputs": [],
   "source": [
    "def quick_sort(arr) :\n",
    "    def sort(low, high) :\n",
    "        if high <= low :\n",
    "            return\n",
    "        mid = partition(low, high)\n",
    "        sort(low, mid - 1)\n",
    "        sort(mid, high)\n",
    "    def partition(low, high) :\n",
    "        pivot = arr[(low+high) // 2]\n",
    "        while low <= high :\n",
    "            while arr[low] < pivot :\n",
    "                low += 1\n",
    "            while arr[high] > pivot :\n",
    "                high -= 1\n",
    "            if low <= high :\n",
    "                arr[low], arr[high] = arr[high], arr[low]\n",
    "                low, high = low+1, high-1\n",
    "        return low\n",
    "    return sort(0, len(arr)-1)\n",
    "        "
   ]
  },
  {
   "cell_type": "code",
   "execution_count": 4,
   "metadata": {},
   "outputs": [
    {
     "data": {
      "text/plain": [
       "[1, 2, 3, 4, 5, 6, 7]"
      ]
     },
     "execution_count": 4,
     "metadata": {},
     "output_type": "execute_result"
    }
   ],
   "source": [
    "arr = [6, 5, 1, 4, 7, 2, 3]\n",
    "quick_sort(arr)\n",
    "arr"
   ]
  }
 ],
 "metadata": {
  "kernelspec": {
   "display_name": "Python 3",
   "language": "python",
   "name": "python3"
  },
  "language_info": {
   "codemirror_mode": {
    "name": "ipython",
    "version": 3
   },
   "file_extension": ".py",
   "mimetype": "text/x-python",
   "name": "python",
   "nbconvert_exporter": "python",
   "pygments_lexer": "ipython3",
   "version": "3.11.4"
  }
 },
 "nbformat": 4,
 "nbformat_minor": 2
}
