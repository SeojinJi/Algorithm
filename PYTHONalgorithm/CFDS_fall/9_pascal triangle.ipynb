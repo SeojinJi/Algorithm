{
 "cells": [
  {
   "cell_type": "markdown",
   "id": "30b4ee4d",
   "metadata": {
    "id": "30b4ee4d"
   },
   "source": [
    "# Q1. Pascal's Triangle"
   ]
  },
  {
   "attachments": {},
   "cell_type": "markdown",
   "id": "7d527a27",
   "metadata": {
    "id": "7d527a27"
   },
   "source": [
    "### Create a function for calculating a list of row index of the Pascal’s triangle"
   ]
  },
  {
   "cell_type": "code",
   "execution_count": 3,
   "id": "6b416b8c",
   "metadata": {},
   "outputs": [],
   "source": [
    "from typing import List"
   ]
  },
  {
   "cell_type": "code",
   "execution_count": 4,
   "id": "24bdf330",
   "metadata": {},
   "outputs": [],
   "source": [
    "def Pascal(n: int) -> List[int]:\n",
    "    # Write your code\n",
    "    if n == 0 :\n",
    "        answer = [1]\n",
    "        return answer\n",
    "    elif n == 1 :\n",
    "        answer = [1, 1]\n",
    "        return answer\n",
    "    else :\n",
    "        temp = Pascal(n-1)\n",
    "        answer = [1]\n",
    "        for i in range(1, n) :\n",
    "            answer.append(temp[i-1] + temp[i])\n",
    "        answer.append(1)\n",
    "    return answer"
   ]
  },
  {
   "cell_type": "code",
   "execution_count": 5,
   "id": "a7c3aa06",
   "metadata": {},
   "outputs": [
    {
     "data": {
      "text/plain": [
       "[1, 4, 6, 4, 1]"
      ]
     },
     "execution_count": 5,
     "metadata": {},
     "output_type": "execute_result"
    }
   ],
   "source": [
    "Pascal(4)"
   ]
  }
 ],
 "metadata": {
  "colab": {
   "provenance": []
  },
  "kernelspec": {
   "display_name": "Python 3 (ipykernel)",
   "language": "python",
   "name": "python3"
  },
  "language_info": {
   "codemirror_mode": {
    "name": "ipython",
    "version": 3
   },
   "file_extension": ".py",
   "mimetype": "text/x-python",
   "name": "python",
   "nbconvert_exporter": "python",
   "pygments_lexer": "ipython3",
   "version": "3.11.4"
  }
 },
 "nbformat": 4,
 "nbformat_minor": 5
}
