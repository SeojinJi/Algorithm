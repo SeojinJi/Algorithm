{
  "cells": [
    {
      "cell_type": "markdown",
      "metadata": {
        "id": "I9FM6s1o9ZUc"
      },
      "source": [
        "# In-class Exercise"
      ]
    },
    {
      "cell_type": "markdown",
      "metadata": {
        "id": "pz0rVpAR9ZUf"
      },
      "source": [
        "### Q1.Stack"
      ]
    },
    {
      "cell_type": "markdown",
      "metadata": {
        "id": "q9INvpLR9ZUf"
      },
      "source": [
        "push(x): Add a LinkedNode that has val x to myStack  \n",
        "pop: Remove the most recently added LinkedNode from myStack  \n",
        "top: Return val of the most recently added LinkedNode  \n",
        "getSize: Return the number of LinkedNodes in myStack  \n",
        "isEmpty: Return True if myStack is empty, or False otherwise."
      ]
    },
    {
      "cell_type": "code",
      "execution_count": 1,
      "metadata": {
        "id": "a2xIR4I69ZUg",
        "tags": []
      },
      "outputs": [],
      "source": [
        "class LinkedNode():\n",
        "    def __init__(self,x):\n",
        "        self.val = x\n",
        "        self.next = None\n",
        "\n",
        "class myStack():\n",
        "    def __init__(self)->None:\n",
        "        self.sentinel = LinkedNode(0)\n",
        "        self.size = 0\n",
        "\n",
        "    def push(self, x:int)->None:\n",
        "        ##### Write your Code Here #####\n",
        "        self.size += 1\n",
        "        curNode = self.sentinel\n",
        "        while curNode.next != None :\n",
        "            curNode = curNode.next\n",
        "        curNode.next = LinkedNode(x)\n",
        "        ################################\n",
        "\n",
        "    def pop(self)->None:\n",
        "        ##### Write your Code Here #####\n",
        "        if self.size == 0 :\n",
        "            return\n",
        "        self.size -= 1\n",
        "        parNode = self.sentinel\n",
        "        curNode = parNode.next\n",
        "        while curNode.next != None :\n",
        "            parNode = curNode\n",
        "            curNode = curNode.next\n",
        "        parNode.next = None\n",
        "        ################################\n",
        "\n",
        "    def top(self)->int:\n",
        "        ##### Write your Code Here #####\n",
        "        curNode = self.sentinel\n",
        "        while curNode.next != None :\n",
        "            curNode = curNode.next\n",
        "        val = curNode.val\n",
        "        return val\n",
        "        ################################\n",
        "\n",
        "    def getSize(self)->int:\n",
        "         ##### Write your Code Here #####\n",
        "        return self.size\n",
        "         ################################\n",
        "\n",
        "    def isEmpty(self)->bool:\n",
        "        ##### Write your Code Here #####\n",
        "        if self.size > 0 :\n",
        "            return False\n",
        "        else :\n",
        "            return True\n",
        "        ################################"
      ]
    },
    {
      "cell_type": "code",
      "execution_count": 8,
      "metadata": {
        "id": "YRjWz5ls9ZUh",
        "tags": []
      },
      "outputs": [],
      "source": [
        "s = myStack()"
      ]
    },
    {
      "cell_type": "code",
      "execution_count": 9,
      "metadata": {
        "colab": {
          "base_uri": "https://localhost:8080/"
        },
        "id": "gzYTu59-9ZUh",
        "outputId": "cb15a90a-d84f-413f-e251-9000f15e867e",
        "tags": []
      },
      "outputs": [
        {
          "name": "stdout",
          "output_type": "stream",
          "text": [
            "False 2 20\n",
            "False 1 10\n"
          ]
        }
      ],
      "source": [
        "s.push(10)\n",
        "s.push(20)\n",
        "s.push(15)\n",
        "s.pop()\n",
        "s.push(30)\n",
        "s.pop()\n",
        "print(s.isEmpty(), s.getSize(), s.top())\n",
        "s.pop()\n",
        "print(s.isEmpty(), s.getSize(), s.top())"
      ]
    }
  ],
  "metadata": {
    "colab": {
      "provenance": []
    },
    "kernelspec": {
      "display_name": "Python 3 (ipykernel)",
      "language": "python",
      "name": "python3"
    },
    "language_info": {
      "codemirror_mode": {
        "name": "ipython",
        "version": 3
      },
      "file_extension": ".py",
      "mimetype": "text/x-python",
      "name": "python",
      "nbconvert_exporter": "python",
      "pygments_lexer": "ipython3",
      "version": "3.11.4"
    },
    "vscode": {
      "interpreter": {
        "hash": "e31f0f46eebab55a29f0e124b1401c6335879e1da13c450265b689861a18de2a"
      }
    }
  },
  "nbformat": 4,
  "nbformat_minor": 0
}
