{
 "cells": [
  {
   "cell_type": "markdown",
   "id": "37da5851",
   "metadata": {},
   "source": [
    "# Practice 1. Café menu\n",
    "\n",
    "Write two functions to read a cafe's menu from a text file (menu.txt) and return a list of menu.\n",
    "\n",
    "* menu - returns list of lists\n",
    "* reverse_menu - returns a list of strings in reverse order"
   ]
  },
  {
   "cell_type": "code",
   "execution_count": null,
   "id": "80d140a0",
   "metadata": {},
   "outputs": [],
   "source": [
    "from typing import TextIO, List"
   ]
  },
  {
   "cell_type": "code",
   "execution_count": 20,
   "id": "8a29fdd4",
   "metadata": {},
   "outputs": [],
   "source": [
    "def menu(filename : str) :\n",
    "    # Write your code here\n",
    "    out_list = []\n",
    "    file = open(filename, 'r')\n",
    "    for line in file :\n",
    "        line = line.strip()\n",
    "        value = line.split()\n",
    "        out_list.append(value)\n",
    "    return out_list"
   ]
  },
  {
   "cell_type": "code",
   "execution_count": 21,
   "id": "2301df84",
   "metadata": {},
   "outputs": [
    {
     "data": {
      "text/plain": [
       "[['Americano', '3.66', '4.11', '4.56'],\n",
       " ['CafeLatte', '4.11', '4.56', '5.00'],\n",
       " ['CafeMocha', '4.55', '5.00', '5.45'],\n",
       " ['DecafeCaffeLatte', '4.38', '4.82']]"
      ]
     },
     "execution_count": 21,
     "metadata": {},
     "output_type": "execute_result"
    }
   ],
   "source": [
    "menu('menu.txt')"
   ]
  },
  {
   "cell_type": "code",
   "execution_count": 26,
   "id": "b153071e",
   "metadata": {},
   "outputs": [],
   "source": [
    "def reverse_menu(filename: str) -> list:\n",
    "    # Write your code here\n",
    "    reverse_list = []\n",
    "    file = open(filename, 'r')\n",
    "    for line in file :\n",
    "        line = line.strip()\n",
    "        reverse_list.append(line)\n",
    "    for i in range(len(reverse_list)//2) :\n",
    "        reverse_list[i], reverse_list[len(reverse_list)-i-1] = reverse_list[len(reverse_list)-i-1], reverse_list[i]\n",
    "    return reverse_list"
   ]
  },
  {
   "cell_type": "code",
   "execution_count": 27,
   "id": "501bc6d0",
   "metadata": {},
   "outputs": [
    {
     "data": {
      "text/plain": [
       "['DecafeCaffeLatte 4.38 4.82',\n",
       " 'CafeMocha 4.55 5.00 5.45',\n",
       " 'CafeLatte 4.11 4.56 5.00',\n",
       " 'Americano 3.66 4.11 4.56']"
      ]
     },
     "execution_count": 27,
     "metadata": {},
     "output_type": "execute_result"
    }
   ],
   "source": [
    "reverse_menu('menu.txt')"
   ]
  }
 ],
 "metadata": {
  "kernelspec": {
   "display_name": "Python 3 (ipykernel)",
   "language": "python",
   "name": "python3"
  },
  "language_info": {
   "codemirror_mode": {
    "name": "ipython",
    "version": 3
   },
   "file_extension": ".py",
   "mimetype": "text/x-python",
   "name": "python",
   "nbconvert_exporter": "python",
   "pygments_lexer": "ipython3",
   "version": "3.11.4"
  }
 },
 "nbformat": 4,
 "nbformat_minor": 5
}
