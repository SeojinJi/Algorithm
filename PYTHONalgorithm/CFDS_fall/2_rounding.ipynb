{
 "cells": [
  {
   "cell_type": "code",
   "execution_count": 17,
   "metadata": {},
   "outputs": [],
   "source": [
    "def my_rounding(num1 : float) -> int :\n",
    "    if num1 > 0 :\n",
    "        number = num1 % 1\n",
    "        if number < 0.5 :\n",
    "            rounding = num1 // 1\n",
    "        else : \n",
    "            rounding = num1 // 1 + 1\n",
    "    else :\n",
    "        number = num1 % 1\n",
    "        if number > 0.5 :\n",
    "            rounding = num1 // 1 + 1\n",
    "        else :\n",
    "            rounding = num1 // 1\n",
    "    return rounding"
   ]
  },
  {
   "cell_type": "code",
   "execution_count": 19,
   "metadata": {},
   "outputs": [
    {
     "data": {
      "text/plain": [
       "-5.0"
      ]
     },
     "execution_count": 19,
     "metadata": {},
     "output_type": "execute_result"
    }
   ],
   "source": [
    "my_rounding(-4.8)"
   ]
  }
 ],
 "metadata": {
  "kernelspec": {
   "display_name": "Python 3",
   "language": "python",
   "name": "python3"
  },
  "language_info": {
   "codemirror_mode": {
    "name": "ipython",
    "version": 3
   },
   "file_extension": ".py",
   "mimetype": "text/x-python",
   "name": "python",
   "nbconvert_exporter": "python",
   "pygments_lexer": "ipython3",
   "version": "3.11.4"
  }
 },
 "nbformat": 4,
 "nbformat_minor": 2
}
