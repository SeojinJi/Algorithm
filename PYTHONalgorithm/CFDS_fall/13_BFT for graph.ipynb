{
 "cells": [
  {
   "cell_type": "markdown",
   "id": "5afbb11d-76ac-46e5-99f8-1f190f89ad09",
   "metadata": {},
   "source": [
    "## Practice 1. BFT (Breadth-first Traversal)\n",
    "\n",
    "### Implement BFT for graph\n",
    "*  implementation of a graph given"
   ]
  },
  {
   "cell_type": "code",
   "execution_count": 6,
   "id": "efe2a389-a274-4f1c-9c60-5c261410f123",
   "metadata": {},
   "outputs": [],
   "source": [
    "from collections import deque\n",
    "\n",
    "class undi_graph():\n",
    "    def __init__(self, V: list, E:list) -> None :\n",
    "        self.V = V[:]\n",
    "        self.neighbors = {}\n",
    "\n",
    "        for v in V:\n",
    "            self.neighbors[v] = []\n",
    "\n",
    "        for(v,w) in E:\n",
    "            self.neighbors[v].append(w)\n",
    "            self.neighbors[w].append(v)\n",
    "\n",
    "    def BFT(self) -> None :\n",
    "        if self.V : \n",
    "            visited = {}\n",
    "            #######################################\n",
    "            # write your code \n",
    "            for v in self.V :\n",
    "                visited[v] = False\n",
    "            q = deque()\n",
    "            for v in self.V :\n",
    "                q.append(v)\n",
    "                while q :\n",
    "                    v = q.popleft()\n",
    "                    if visited[v] == False :\n",
    "                        visited[v] = True\n",
    "                        print(v, end= \" \")\n",
    "                        for node in self.neighbors[v] :\n",
    "                            q.append(node)\n",
    "\n",
    "            #######################################"
   ]
  },
  {
   "cell_type": "code",
   "execution_count": 7,
   "id": "d8a0531f-8b52-4695-b5b4-dfbdf1f540ce",
   "metadata": {},
   "outputs": [
    {
     "name": "stdout",
     "output_type": "stream",
     "text": [
      "0 1 4 5 6 7 9 8 2 3 "
     ]
    }
   ],
   "source": [
    "V = [0,1,2,3,4,5,6,7,8,9]\n",
    "E = [(0,1),(1,4),(1,5),(2,3),(4,6),(5,6),(5,7),(6,9),(7,8)]\n",
    "\n",
    "graph = undi_graph(V,E)\n",
    "graph.BFT()"
   ]
  }
 ],
 "metadata": {
  "kernelspec": {
   "display_name": "Python 3 (ipykernel)",
   "language": "python",
   "name": "python3"
  },
  "language_info": {
   "codemirror_mode": {
    "name": "ipython",
    "version": 3
   },
   "file_extension": ".py",
   "mimetype": "text/x-python",
   "name": "python",
   "nbconvert_exporter": "python",
   "pygments_lexer": "ipython3",
   "version": "3.11.4"
  }
 },
 "nbformat": 4,
 "nbformat_minor": 5
}
