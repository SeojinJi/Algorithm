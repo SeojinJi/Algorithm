{
 "cells": [
  {
   "cell_type": "markdown",
   "id": "c2e46317",
   "metadata": {},
   "source": [
    "# Q3. Age and Gender Calculator"
   ]
  },
  {
   "cell_type": "markdown",
   "id": "7bda0c0f",
   "metadata": {},
   "source": [
    "### Taking the first seven digits of the residential number as input values, write a function that outputs the age and gender."
   ]
  },
  {
   "cell_type": "markdown",
   "id": "50365456",
   "metadata": {},
   "source": [
    "**Guidelines** \n",
    "1) Distinguish gender (hint: 7th digit: 1 or 3- male, 2 or 4-female) \\\n",
    "2) Calculate the age based on today's date (hint:compare birthday and today's date)"
   ]
  },
  {
   "cell_type": "code",
   "execution_count": 16,
   "id": "e1079db0",
   "metadata": {},
   "outputs": [
    {
     "name": "stdout",
     "output_type": "stream",
     "text": [
      "Gender : male\n",
      "Age :  30\n"
     ]
    }
   ],
   "source": [
    "from datetime import date\n",
    "today = date.today()\n",
    "today = today.strftime(\"%Y%m%d\")\n",
    "\n",
    "def q3(residential_number):\n",
    "    \n",
    "    #write your code here\n",
    "    ymd, gn = residential_number.split(\"-\") #split\n",
    "    if gn == \"2\" or gn == \"4\" : #gender\n",
    "        gender = \"female\"\n",
    "    elif gn == \"1\" or gn == \"3\" :\n",
    "        gender = \"male\"\n",
    "\n",
    "    year = today[:4] #year\n",
    "    ymdy  = ymd[:2]\n",
    "    if gn == \"1\" or gn == \"2\" :\n",
    "        ymdy = \"19\" + ymdy\n",
    "    elif gn == \"3\" or gn == \"4\" :\n",
    "        ymdy = \"20\" + ymdy\n",
    "    age = int(year) - int(ymdy)\n",
    "\n",
    "    day = today[4:] #date\n",
    "    birthday = ymd[2:]\n",
    "    if int(day) >= int(birthday) : \n",
    "        age += 1\n",
    "\n",
    "    print(\"Gender :\", gender)\n",
    "    print(\"Age : \", age)\n",
    "    \n",
    "#for test \n",
    "my_number = input(\"Write your residential number:(eg.220908-2)  \")\n",
    "q3(my_number)"
   ]
  },
  {
   "cell_type": "code",
   "execution_count": null,
   "id": "9b1c4d22",
   "metadata": {},
   "outputs": [],
   "source": []
  }
 ],
 "metadata": {
  "kernelspec": {
   "display_name": "Python 3 (ipykernel)",
   "language": "python",
   "name": "python3"
  },
  "language_info": {
   "codemirror_mode": {
    "name": "ipython",
    "version": 3
   },
   "file_extension": ".py",
   "mimetype": "text/x-python",
   "name": "python",
   "nbconvert_exporter": "python",
   "pygments_lexer": "ipython3",
   "version": "3.11.4"
  }
 },
 "nbformat": 4,
 "nbformat_minor": 5
}
