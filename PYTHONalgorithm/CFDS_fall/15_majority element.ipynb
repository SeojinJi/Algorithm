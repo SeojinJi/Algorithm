{
 "cells": [
  {
   "cell_type": "markdown",
   "id": "30b4ee4d",
   "metadata": {
    "id": "30b4ee4d"
   },
   "source": [
    "# Q1. Majority Element"
   ]
  },
  {
   "cell_type": "markdown",
   "id": "7d527a27",
   "metadata": {
    "id": "7d527a27"
   },
   "source": [
    "### Create a function that takes a list nums and returns its majority element"
   ]
  },
  {
   "cell_type": "code",
   "execution_count": 1,
   "id": "24bdf330",
   "metadata": {},
   "outputs": [],
   "source": [
    "def majorityelement(nums: list) -> int:\n",
    "    hash = {}\n",
    "    # Write your code\n",
    "    for num in nums :\n",
    "        if num in hash :\n",
    "            hash[num] += 1\n",
    "        else :\n",
    "            hash[num] = 1\n",
    "    largest = 0\n",
    "    result = -1\n",
    "    for k, v in hash.items() :\n",
    "        if v > largest :\n",
    "            result = k\n",
    "            largest = v\n",
    "    return result"
   ]
  },
  {
   "cell_type": "code",
   "execution_count": 2,
   "id": "a7c3aa06",
   "metadata": {},
   "outputs": [
    {
     "data": {
      "text/plain": [
       "3"
      ]
     },
     "execution_count": 2,
     "metadata": {},
     "output_type": "execute_result"
    }
   ],
   "source": [
    "L = [3, 3, 3, 2, 1, 3, 2, 1]\n",
    "majorityelement(L)"
   ]
  }
 ],
 "metadata": {
  "colab": {
   "provenance": []
  },
  "kernelspec": {
   "display_name": "Python 3 (ipykernel)",
   "language": "python",
   "name": "python3"
  },
  "language_info": {
   "codemirror_mode": {
    "name": "ipython",
    "version": 3
   },
   "file_extension": ".py",
   "mimetype": "text/x-python",
   "name": "python",
   "nbconvert_exporter": "python",
   "pygments_lexer": "ipython3",
   "version": "3.11.4"
  }
 },
 "nbformat": 4,
 "nbformat_minor": 5
}
