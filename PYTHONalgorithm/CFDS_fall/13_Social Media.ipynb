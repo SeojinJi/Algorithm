{
 "cells": [
  {
   "cell_type": "markdown",
   "id": "05575511-af86-4943-b119-6073159f86a0",
   "metadata": {},
   "source": [
    "## Practice 2. Social Media\n",
    "\n",
    "In some social media platforms, there are members numbered from 1 to n, and friend relationships can be represented as tuples.\n",
    "For example, (1, 2) indicates that member 1 and member 2 are friends.\n",
    "Therefore, friend relationships can be represented as a graph. \n",
    "In this context, let's define a cluster as all members connected through friend relationships.\n",
    "\n",
    "* Implement a function called \"cluster\" that returns the number of members in the cluster to which member 1 belongs."
   ]
  },
  {
   "cell_type": "code",
   "execution_count": 7,
   "id": "34afaa10-2e8f-496b-9600-f2c9bea9fcf4",
   "metadata": {},
   "outputs": [],
   "source": [
    "from collections import deque\n",
    "\n",
    "def socialMedia(total: int, relations: list) -> int:\n",
    "    #######################################\n",
    "    # write your code\n",
    "    neighbors = {}\n",
    "    for v in range(total+1) :\n",
    "        neighbors[v] = []\n",
    "    for (v, w) in relations :\n",
    "        neighbors[v].append(w)\n",
    "        neighbors[w].append(v)\n",
    "    visited = {}\n",
    "    for v in range(total) :\n",
    "        visited[v] = False\n",
    "    q = deque()\n",
    "    q.append(1)\n",
    "    cluster = 0\n",
    "    while q :\n",
    "        v = q.popleft()\n",
    "        if visited[v] == False :\n",
    "            visited[v] = True\n",
    "            cluster += 1\n",
    "            for w in neighbors[v] :\n",
    "                q.append(w)\n",
    "    return cluster\n",
    "    #########################################"
   ]
  },
  {
   "cell_type": "code",
   "execution_count": 9,
   "id": "9a315886-1227-4a31-a747-4d423873fc51",
   "metadata": {},
   "outputs": [
    {
     "data": {
      "text/plain": [
       "5"
      ]
     },
     "execution_count": 9,
     "metadata": {},
     "output_type": "execute_result"
    }
   ],
   "source": [
    "socialMedia(7, [(1, 2), (2,3), (1,5), (5, 2), (5, 6), (4, 7)])"
   ]
  },
  {
   "cell_type": "code",
   "execution_count": 10,
   "id": "4c5496e2-5b02-4401-b02f-c3e184d843d5",
   "metadata": {},
   "outputs": [
    {
     "data": {
      "text/plain": [
       "2"
      ]
     },
     "execution_count": 10,
     "metadata": {},
     "output_type": "execute_result"
    }
   ],
   "source": [
    "socialMedia(4, [(1, 2), (2, 1), (3, 4)])"
   ]
  }
 ],
 "metadata": {
  "kernelspec": {
   "display_name": "Python 3 (ipykernel)",
   "language": "python",
   "name": "python3"
  },
  "language_info": {
   "codemirror_mode": {
    "name": "ipython",
    "version": 3
   },
   "file_extension": ".py",
   "mimetype": "text/x-python",
   "name": "python",
   "nbconvert_exporter": "python",
   "pygments_lexer": "ipython3",
   "version": "3.11.4"
  }
 },
 "nbformat": 4,
 "nbformat_minor": 5
}
