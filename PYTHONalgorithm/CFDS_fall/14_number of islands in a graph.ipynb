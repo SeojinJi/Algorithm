{
 "cells": [
  {
   "cell_type": "markdown",
   "id": "467b9d21",
   "metadata": {},
   "source": [
    "----------------------------------------------------------------------------"
   ]
  },
  {
   "cell_type": "markdown",
   "id": "05575511-af86-4943-b119-6073159f86a0",
   "metadata": {},
   "source": [
    "## Practice 1. Number of Islands in a Graph\n",
    "\n",
    "The following code is a DFT (Depth-First Traversal) preorder code.\n",
    "Let's create a code to find out 'how many disjoint islands exist in the graph.' \n",
    "You can achieve this by making the appropriate modifications to the given code."
   ]
  },
  {
   "cell_type": "code",
   "execution_count": 1,
   "id": "34afaa10-2e8f-496b-9600-f2c9bea9fcf4",
   "metadata": {},
   "outputs": [],
   "source": [
    "class _undi_graph():\n",
    "    def __init__(self, V:list, E:list) -> None:\n",
    "        self.V = V[:]\n",
    "        self.neighbor = {}\n",
    "        for v in V : \n",
    "            self.neighbor[v] = []\n",
    "        for (v,w) in E:\n",
    "            self.neighbor[v].append(w)\n",
    "            self.neighbor[w].append(v)\n",
    "\n",
    "    def __DFTHelp(self, visited:list, v : int) -> None:\n",
    "        if not visited[v]:\n",
    "            visited[v] = True\n",
    "            print(v)            \n",
    "            for w in self.neighbor[v]:\n",
    "                self.__DFTHelp(visited, w)\n",
    "                \n",
    "    def DFT(self) -> int:\n",
    "        if self.V:\n",
    "            visited = {}\n",
    "            for v in self.V:\n",
    "                visited[v] = False\n",
    "        result = 0\n",
    "        for v in self.V:\n",
    "            if not visited[v]:\n",
    "                result += 1\n",
    "                self.__DFTHelp(visited,v)\n",
    "        return result"
   ]
  },
  {
   "cell_type": "markdown",
   "id": "45a5a982",
   "metadata": {},
   "source": [
    "**Test Case**"
   ]
  },
  {
   "cell_type": "code",
   "execution_count": 2,
   "id": "4cc82b60",
   "metadata": {},
   "outputs": [
    {
     "name": "stdout",
     "output_type": "stream",
     "text": [
      "a\n",
      "b\n",
      "c\n",
      "d\n",
      "g\n",
      "e\n",
      "i\n",
      "f\n",
      "h\n",
      "Dijoint Islands 개수: 3\n"
     ]
    }
   ],
   "source": [
    "# 답 : 3\n",
    "V = ['a','b','c','d','e','f','g','h','i']\n",
    "E = [('a','b'),('a','c'),('a','d'),('b','c'),('c','d'),('c','e'),('c','g'),('d','g'),('e','i'),('g','e')]\n",
    "\n",
    "graph = _undi_graph(V,E)\n",
    "disjoint_islands = graph.DFT()\n",
    "print(\"Dijoint Islands 개수:\", disjoint_islands)"
   ]
  },
  {
   "cell_type": "code",
   "execution_count": 4,
   "id": "5d8a5824",
   "metadata": {},
   "outputs": [
    {
     "name": "stdout",
     "output_type": "stream",
     "text": [
      "a\n",
      "b\n",
      "c\n",
      "d\n",
      "g\n",
      "e\n",
      "i\n",
      "f\n",
      "h\n",
      "j\n",
      "k\n",
      "Dijoint Islands 개수: 4\n"
     ]
    }
   ],
   "source": [
    "# 답 : 4\n",
    "V = ['a','b','c','d','e','f','g','h','i','j','k']\n",
    "E = [('a','b'),('a','c'),('a','d'),('b','c'),('c','d'),('c','e'),('c','g'),('d','g'),('e','i'),('g','e'),('j','k')]\n",
    "\n",
    "graph = _undi_graph(V,E)\n",
    "disjoint_islands = graph.DFT()\n",
    "print(\"Dijoint Islands 개수:\", disjoint_islands)"
   ]
  },
  {
   "cell_type": "code",
   "execution_count": 5,
   "id": "18019865",
   "metadata": {},
   "outputs": [
    {
     "name": "stdout",
     "output_type": "stream",
     "text": [
      "a\n",
      "b\n",
      "c\n",
      "d\n",
      "g\n",
      "e\n",
      "i\n",
      "f\n",
      "h\n",
      "j\n",
      "k\n",
      "l\n",
      "m\n",
      "n\n",
      "o\n",
      "p\n",
      "q\n",
      "r\n",
      "s\n",
      "t\n",
      "Dijoint Islands 개수: 7\n"
     ]
    }
   ],
   "source": [
    "# 답 : 7\n",
    "V = ['a', 'b', 'c', 'd', 'e', 'f', 'g', 'h', 'i', 'j', 'k', 'l', 'm', 'n', 'o', 'p', 'q', 'r', 's', 't']\n",
    "E = [('a','b'),('a','c'),('a','d'),('b','c'),('c','d'),('c','e'),('c','g'),('d','g'),('e','i'),('g','e'),\n",
    "     ('j','k'),('l','m'),('m','n'),('o','p'),('q','r'),('r','s'),('s','t')]\n",
    "\n",
    "graph = _undi_graph(V,E)\n",
    "disjoint_islands = graph.DFT()\n",
    "print(\"Dijoint Islands 개수:\", disjoint_islands)"
   ]
  },
  {
   "cell_type": "markdown",
   "id": "cd250472",
   "metadata": {},
   "source": [
    "-------------------------------------------------------------------------------------------------------------------------------------------"
   ]
  }
 ],
 "metadata": {
  "kernelspec": {
   "display_name": "Python 3 (ipykernel)",
   "language": "python",
   "name": "python3"
  },
  "language_info": {
   "codemirror_mode": {
    "name": "ipython",
    "version": 3
   },
   "file_extension": ".py",
   "mimetype": "text/x-python",
   "name": "python",
   "nbconvert_exporter": "python",
   "pygments_lexer": "ipython3",
   "version": "3.11.4"
  }
 },
 "nbformat": 4,
 "nbformat_minor": 5
}
