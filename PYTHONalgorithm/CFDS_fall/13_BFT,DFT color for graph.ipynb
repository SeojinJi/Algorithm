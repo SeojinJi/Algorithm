{
 "cells": [
  {
   "cell_type": "code",
   "execution_count": 1,
   "metadata": {},
   "outputs": [],
   "source": [
    "from enum import Enum\n",
    "class Colors(Enum) :\n",
    "    BLACK = 1\n",
    "    WHITE = 2\n",
    "    GRAY = 3"
   ]
  },
  {
   "cell_type": "code",
   "execution_count": 2,
   "metadata": {},
   "outputs": [],
   "source": [
    "NIL = float('-inf')\n",
    "sccCnt = 0"
   ]
  },
  {
   "cell_type": "code",
   "execution_count": 17,
   "metadata": {},
   "outputs": [],
   "source": [
    "from collections import deque\n",
    "class undi_graph():\n",
    "    def __init__(self, V: list, E:list) -> None :\n",
    "        self.V = V[:]\n",
    "        self.neighbors = {}\n",
    "\n",
    "        for v in V:\n",
    "            self.neighbors[v] = []\n",
    "\n",
    "        for(v,w) in E:\n",
    "            self.neighbors[v].append(w)\n",
    "            self.neighbors[w].append(v)\n",
    "\n",
    "        self.color = [Colors.WHITE] * len(self.V)\n",
    "        self.d = [100000] * len(self.V)\n",
    "        self.f = [100000] * len(self.V)\n",
    "        self.p = [NIL] * len(self.V)\n",
    "        self.t = 0\n",
    "    \n",
    "    def BFT(self) -> None :\n",
    "        self.color[0] = Colors.GRAY\n",
    "        self.d[0] = 0\n",
    "        q = deque()\n",
    "        for v in self.V :\n",
    "            if self.color[v] == Colors.WHITE :\n",
    "                q.append(v)\n",
    "            while q :\n",
    "                a = q.popleft()\n",
    "                print(a)\n",
    "                for u in self.neighbors[a] :\n",
    "                    if self.color[u] == Colors.WHITE :\n",
    "                        self.color[u] = Colors.GRAY\n",
    "                        self.d[u] = self.d[a] + 1\n",
    "                        self.p[u] = a\n",
    "                        q.append(u)\n",
    "                self.color[a] = Colors.BLACK\n",
    "    \n",
    "    def DFT(self) -> None :\n",
    "        for v in self.V :\n",
    "            if self.color[v] == Colors.WHITE :\n",
    "                self.DFT_VISIT(v)\n",
    "\n",
    "    def DFT_VISIT(self, v) -> None :\n",
    "        self.t += 1\n",
    "        self.d[v] = self.t\n",
    "        self.color[v] = Colors.GRAY\n",
    "        print(v)\n",
    "        for u in self.neighbors[v] :\n",
    "            if self.color[u] == Colors.WHITE :\n",
    "                self.p[u] = v\n",
    "                self.DFT_VISIT(u)\n",
    "        self.t += 1\n",
    "        self.f[v] = self.t\n",
    "        self.color[v] = Colors.BLACK\n",
    "\n",
    "\n",
    "\n"
   ]
  },
  {
   "cell_type": "code",
   "execution_count": 18,
   "metadata": {},
   "outputs": [
    {
     "name": "stdout",
     "output_type": "stream",
     "text": [
      "1\n",
      "4\n",
      "5\n",
      "6\n",
      "7\n",
      "9\n",
      "8\n",
      "2\n",
      "3\n"
     ]
    }
   ],
   "source": [
    "V = [0,1,2,3,4,5,6,7,8,9]\n",
    "E = [(0,1),(1,4),(1,5),(2,3),(4,6),(5,6),(5,7),(6,9),(7,8)]\n",
    "\n",
    "graph = undi_graph(V,E)\n",
    "graph.BFT()"
   ]
  },
  {
   "cell_type": "code",
   "execution_count": 19,
   "metadata": {},
   "outputs": [
    {
     "name": "stdout",
     "output_type": "stream",
     "text": [
      "0\n",
      "1\n",
      "4\n",
      "6\n",
      "5\n",
      "7\n",
      "8\n",
      "9\n",
      "2\n",
      "3\n"
     ]
    }
   ],
   "source": [
    "V = [0,1,2,3,4,5,6,7,8,9]\n",
    "E = [(0,1),(1,4),(1,5),(2,3),(4,6),(5,6),(5,7),(6,9),(7,8)]\n",
    "\n",
    "graph = undi_graph(V,E)\n",
    "graph.DFT()"
   ]
  }
 ],
 "metadata": {
  "kernelspec": {
   "display_name": "Python 3",
   "language": "python",
   "name": "python3"
  },
  "language_info": {
   "codemirror_mode": {
    "name": "ipython",
    "version": 3
   },
   "file_extension": ".py",
   "mimetype": "text/x-python",
   "name": "python",
   "nbconvert_exporter": "python",
   "pygments_lexer": "ipython3",
   "version": "3.11.4"
  }
 },
 "nbformat": 4,
 "nbformat_minor": 2
}
