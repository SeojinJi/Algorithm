{
  "cells": [
    {
      "cell_type": "markdown",
      "id": "e92f6f67",
      "metadata": {
        "id": "e92f6f67"
      },
      "source": [
        "# In-class Exercise"
      ]
    },
    {
      "cell_type": "markdown",
      "id": "59b87d01",
      "metadata": {
        "id": "59b87d01"
      },
      "source": [
        "### Q1. Finding Sum of Positive Integers in list"
      ]
    },
    {
      "cell_type": "markdown",
      "id": "a2c008f6",
      "metadata": {
        "id": "a2c008f6"
      },
      "source": [
        "Make a function P1 that takes a list consisting of only integers as input, adds only the positive integers among the elements of the list, and returns the sum.\n",
        "\n",
        "**Conditions**\n",
        "\n",
        "- The input list consists only of integers.\n",
        "\n",
        "- Return 0 if there are no positive integers in the list.\n",
        "\n",
        "Ex 1) P1([1, 2, -3])\n",
        "> 3\n",
        "\n",
        "\n",
        "Ex 2) P1([-1, 0])\n",
        "\n",
        "> 0"
      ]
    },
    {
      "cell_type": "markdown",
      "id": "d04c3808",
      "metadata": {
        "id": "d04c3808"
      },
      "source": [
        "#### Solution"
      ]
    },
    {
      "cell_type": "code",
      "execution_count": 5,
      "id": "8f162ac5",
      "metadata": {
        "id": "8f162ac5"
      },
      "outputs": [],
      "source": [
        "def P1(lst: list) -> int:\n",
        "    ### Write code here ###\n",
        "    result = 0\n",
        "    for num in lst :\n",
        "        if num > 0 :\n",
        "            result += num\n",
        "    return result\n",
        "\n",
        "    ### End of your code ###"
      ]
    },
    {
      "cell_type": "code",
      "execution_count": 6,
      "id": "fd529607",
      "metadata": {
        "colab": {
          "base_uri": "https://localhost:8080/"
        },
        "id": "fd529607",
        "outputId": "d201ba41-b2aa-429c-c9cb-389b015b1e78"
      },
      "outputs": [
        {
          "name": "stdout",
          "output_type": "stream",
          "text": [
            "Input: [1, 2, -3] / Expected: 3 / Return: 3\n",
            "Input: [-1, 0] / Expected: 0 / Return: 0\n"
          ]
        }
      ],
      "source": [
        "# Test code for given cases; run without modification\n",
        "print(\"Input: [1, 2, -3] / Expected: 3 / Return:\", P1([1, 2, -3]))\n",
        "print(\"Input: [-1, 0] / Expected: 0 / Return:\", P1([-1, 0]))"
      ]
    },
    {
      "cell_type": "code",
      "execution_count": 7,
      "id": "55f7a109",
      "metadata": {
        "id": "55f7a109"
      },
      "outputs": [
        {
          "data": {
            "text/plain": [
              "15"
            ]
          },
          "execution_count": 7,
          "metadata": {},
          "output_type": "execute_result"
        }
      ],
      "source": [
        "# Try your own test case!\n",
        "test_input = [3, 5, -2, 1, -8, 4, 2, 0] # your input\n",
        "P1(test_input)"
      ]
    }
  ],
  "metadata": {
    "colab": {
      "provenance": []
    },
    "kernelspec": {
      "display_name": "Python 3 (ipykernel)",
      "language": "python",
      "name": "python3"
    },
    "language_info": {
      "codemirror_mode": {
        "name": "ipython",
        "version": 3
      },
      "file_extension": ".py",
      "mimetype": "text/x-python",
      "name": "python",
      "nbconvert_exporter": "python",
      "pygments_lexer": "ipython3",
      "version": "3.11.4"
    }
  },
  "nbformat": 4,
  "nbformat_minor": 5
}
