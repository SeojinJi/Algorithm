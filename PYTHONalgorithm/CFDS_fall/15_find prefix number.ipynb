{
 "cells": [
  {
   "cell_type": "markdown",
   "id": "70163ceb",
   "metadata": {
    "id": "70163ceb"
   },
   "source": [
    "# Q2. Find Prefix Number"
   ]
  },
  {
   "cell_type": "markdown",
   "id": "da9c09ab",
   "metadata": {
    "id": "da9c09ab"
   },
   "source": [
    "### Create a function that returns whether a number’s element is a prefix of another element (Numbers can’t be more than 11 digits)"
   ]
  },
  {
   "cell_type": "code",
   "execution_count": 1,
   "id": "2b3e28f5",
   "metadata": {
    "id": "2b3e28f5",
    "outputId": "8e403c29-fb97-4868-a9bf-60fb2433c042"
   },
   "outputs": [],
   "source": [
    "def findprefix(number:list) -> bool:\n",
    "    hash = {}\n",
    "    # Write your code\n",
    "    for nums in number :\n",
    "        if nums in hash :\n",
    "            return False\n",
    "        else :\n",
    "            hash[nums] = 1\n",
    "    for nums in number :\n",
    "        strnum = \"\"\n",
    "        for n in nums :\n",
    "            strnum += n\n",
    "            if strnum in hash and strnum != nums :\n",
    "                return False\n",
    "    return True"
   ]
  },
  {
   "cell_type": "code",
   "execution_count": 2,
   "id": "8678ffc3",
   "metadata": {},
   "outputs": [
    {
     "data": {
      "text/plain": [
       "True"
      ]
     },
     "execution_count": 2,
     "metadata": {},
     "output_type": "execute_result"
    }
   ],
   "source": [
    "number = [\"112\", \"119\", \"01012345678\"]\n",
    "findprefix(number)"
   ]
  },
  {
   "cell_type": "code",
   "execution_count": 3,
   "id": "e74507e5",
   "metadata": {},
   "outputs": [
    {
     "data": {
      "text/plain": [
       "False"
      ]
     },
     "execution_count": 3,
     "metadata": {},
     "output_type": "execute_result"
    }
   ],
   "source": [
    "number = [\"112\", \"010\", \"01012345678\"]\n",
    "findprefix(number)"
   ]
  },
  {
   "cell_type": "code",
   "execution_count": null,
   "id": "065de1e1",
   "metadata": {},
   "outputs": [],
   "source": []
  }
 ],
 "metadata": {
  "colab": {
   "provenance": []
  },
  "kernelspec": {
   "display_name": "Python 3 (ipykernel)",
   "language": "python",
   "name": "python3"
  },
  "language_info": {
   "codemirror_mode": {
    "name": "ipython",
    "version": 3
   },
   "file_extension": ".py",
   "mimetype": "text/x-python",
   "name": "python",
   "nbconvert_exporter": "python",
   "pygments_lexer": "ipython3",
   "version": "3.11.4"
  }
 },
 "nbformat": 4,
 "nbformat_minor": 5
}
