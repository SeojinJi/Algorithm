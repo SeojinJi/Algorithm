{
 "cells": [
  {
   "cell_type": "markdown",
   "id": "ddb04c24-0089-476e-8a80-24017e97dfaf",
   "metadata": {},
   "source": [
    "746. Min Cost Climbing Stairs\n",
    "\n",
    "You are given an integer array cost where cost[i] is the cost of ith step on a staircase. Once you pay the cost, you can either climb one or two steps.\n",
    "\n",
    "You can either start from the step with index 0, or the step with index 1.\n",
    "\n",
    "Return the minimum cost to reach the top of the floor."
   ]
  },
  {
   "cell_type": "code",
   "execution_count": 1,
   "id": "53d56e2d-ce80-45ee-bc19-d122694bf903",
   "metadata": {},
   "outputs": [],
   "source": [
    "class Solution:\n",
    "    def minCostClimbingStairs(self, cost) :\n",
    "        output = []\n",
    "        if cost == None :\n",
    "            return 0\n",
    "        index = 0\n",
    "        while index < len(cost) :\n",
    "            if index == 0 :\n",
    "                output.append(cost[0])\n",
    "            elif index == 1 :\n",
    "                price = min(cost[0]+cost[1], cost[1])\n",
    "                output.append(price)\n",
    "            else :\n",
    "                price = min(output[index-1]+cost[index], output[index-2]+cost[index])\n",
    "                output.append(price)\n",
    "            index += 1\n",
    "        mincost = min(output[len(output)-1], output[len(output)-2])\n",
    "        return mincost"
   ]
  },
  {
   "cell_type": "code",
   "execution_count": 2,
   "id": "44ea05b0-de1b-41e5-9487-94ddece69b8e",
   "metadata": {},
   "outputs": [
    {
     "data": {
      "text/plain": [
       "15"
      ]
     },
     "execution_count": 2,
     "metadata": {},
     "output_type": "execute_result"
    }
   ],
   "source": [
    "cost = [10,15,20]\n",
    "S = Solution()\n",
    "result = S.minCostClimbingStairs(cost)\n",
    "result"
   ]
  }
 ],
 "metadata": {
  "kernelspec": {
   "display_name": "Python 3 (ipykernel)",
   "language": "python",
   "name": "python3"
  },
  "language_info": {
   "codemirror_mode": {
    "name": "ipython",
    "version": 3
   },
   "file_extension": ".py",
   "mimetype": "text/x-python",
   "name": "python",
   "nbconvert_exporter": "python",
   "pygments_lexer": "ipython3",
   "version": "3.11.4"
  }
 },
 "nbformat": 4,
 "nbformat_minor": 5
}
