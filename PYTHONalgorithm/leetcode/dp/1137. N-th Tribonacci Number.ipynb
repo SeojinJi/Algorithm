{
 "cells": [
  {
   "cell_type": "markdown",
   "id": "d098f377-a88f-43ad-8a0e-530b5b01dc0a",
   "metadata": {},
   "source": [
    "1137. N-th Tribonacci Number\n",
    "\n",
    "The Tribonacci sequence Tn is defined as follows: \n",
    "\n",
    "T0 = 0, T1 = 1, T2 = 1, and Tn+3 = Tn + Tn+1 + Tn+2 for n >= 0.\n",
    "\n",
    "Given n, return the value of Tn.\n",
    "\n",
    " \n",
    "\n",
    "Example 1:\n",
    "\n",
    "Input: n = 4\n",
    "Output: 4\n",
    "Explanation:\n",
    "T_3 = 0 + 1 + 1 = 2\n",
    "T_4 = 1 + 1 + 2 = 4\n",
    "Example 2:\n",
    "\n",
    "Input: n = 25\n",
    "Output: 1389537\n",
    " \n",
    "\n",
    "Constraints:\n",
    "\n",
    "0 <= n <= 37\n",
    "The answer is guaranteed to fit within a 32-bit integer, ie. answer <= 2^31 - 1."
   ]
  },
  {
   "cell_type": "code",
   "execution_count": 1,
   "id": "8a7a0b9c-b134-4cb4-943c-141e9e2ea6e2",
   "metadata": {},
   "outputs": [],
   "source": [
    "class Solution:\n",
    "    def tribonacci(self, n: int) -> int:\n",
    "        index = 3\n",
    "        T = [0, 1, 1]\n",
    "        if n <= 2 :\n",
    "            return T[n]\n",
    "        while index <= n :\n",
    "            T.append(T[index-3]+T[index-2]+T[index-1])\n",
    "            index += 1\n",
    "        return T[n]"
   ]
  },
  {
   "cell_type": "code",
   "execution_count": 2,
   "id": "7711401a-6de2-42a3-abb1-2571c9d4aa4c",
   "metadata": {},
   "outputs": [
    {
     "data": {
      "text/plain": [
       "4"
      ]
     },
     "execution_count": 2,
     "metadata": {},
     "output_type": "execute_result"
    }
   ],
   "source": [
    "n = 4\n",
    "S = Solution()\n",
    "S.tribonacci(n)"
   ]
  }
 ],
 "metadata": {
  "kernelspec": {
   "display_name": "Python 3 (ipykernel)",
   "language": "python",
   "name": "python3"
  },
  "language_info": {
   "codemirror_mode": {
    "name": "ipython",
    "version": 3
   },
   "file_extension": ".py",
   "mimetype": "text/x-python",
   "name": "python",
   "nbconvert_exporter": "python",
   "pygments_lexer": "ipython3",
   "version": "3.11.4"
  }
 },
 "nbformat": 4,
 "nbformat_minor": 5
}
