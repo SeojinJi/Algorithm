{
 "cells": [
  {
   "cell_type": "markdown",
   "id": "4396dc3d-b1d0-4f3f-9c66-69d650c7929c",
   "metadata": {},
   "source": [
    "450. Delete Node in a BST\n",
    "\n",
    "Given a root node reference of a BST and a key, delete the node with the given key in the BST. Return the root node reference (possibly updated) of the BST.\n",
    "\n",
    "Basically, the deletion can be divided into two stages:\n",
    "\n",
    "Search for a node to remove.\n",
    "If the node is found, delete the node.\n",
    " "
   ]
  },
  {
   "cell_type": "code",
   "execution_count": 2,
   "id": "b6c02b0b-598c-46f4-bd84-dfb042ccfebe",
   "metadata": {},
   "outputs": [],
   "source": [
    "# Definition for a binary tree node.\n",
    "class TreeNode:\n",
    "    def __init__(self, val=0, left=None, right=None):\n",
    "        self.val = val\n",
    "        self.left = left\n",
    "        self.right = right\n",
    "class Solution:\n",
    "    def deleteNode(self, root, key: int) :\n",
    "        if root == None :\n",
    "            return None\n",
    "        parent = None\n",
    "        current = root\n",
    "        while current :\n",
    "            if current.val == key :\n",
    "                if current.left == None and current.right == None :\n",
    "                    if parent :\n",
    "                        if parent.left == current :\n",
    "                            parent.left = None\n",
    "                        else :\n",
    "                            parent.right = None\n",
    "                    else :\n",
    "                        root = None\n",
    "                elif current.left == None or current.right == None :\n",
    "                    if parent :\n",
    "                        if parent.left == current :\n",
    "                            parent.left = current.left if current.left else current.right\n",
    "                        else :\n",
    "                            parent.right = current.left if current.left else current.right\n",
    "                    else :\n",
    "                        root = current.left if current.left else current.right\n",
    "                else :\n",
    "                    successor = current.right\n",
    "                    while successor.left :\n",
    "                        successor = successor.left\n",
    "                    current.val = successor.val\n",
    "                    key = successor.val\n",
    "                    parent = current\n",
    "                    current = current.right\n",
    "                    continue\n",
    "                break\n",
    "            elif current.val > key :\n",
    "                parent = current\n",
    "                current = current.left\n",
    "            elif current.val < key :\n",
    "                parent = current\n",
    "                current = current.right\n",
    "        return root"
   ]
  }
 ],
 "metadata": {
  "kernelspec": {
   "display_name": "Python 3 (ipykernel)",
   "language": "python",
   "name": "python3"
  },
  "language_info": {
   "codemirror_mode": {
    "name": "ipython",
    "version": 3
   },
   "file_extension": ".py",
   "mimetype": "text/x-python",
   "name": "python",
   "nbconvert_exporter": "python",
   "pygments_lexer": "ipython3",
   "version": "3.11.4"
  }
 },
 "nbformat": 4,
 "nbformat_minor": 5
}
