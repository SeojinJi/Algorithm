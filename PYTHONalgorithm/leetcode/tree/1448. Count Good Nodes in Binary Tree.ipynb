{
 "cells": [
  {
   "cell_type": "markdown",
   "id": "bee0766f-ffd0-4281-bb98-f0c827b9de96",
   "metadata": {},
   "source": [
    "1448. Count Good Nodes in Binary Tree\n",
    "\n",
    "Given a binary tree root, a node X in the tree is named good if in the path from root to X there are no nodes with a value greater than X.\n",
    "\n",
    "Return the number of good nodes in the binary tree."
   ]
  },
  {
   "cell_type": "code",
   "execution_count": 3,
   "id": "5f37ca38-a67a-438d-a39c-35797ff75ba0",
   "metadata": {},
   "outputs": [],
   "source": [
    "# Definition for a binary tree node.\n",
    "# class TreeNode:\n",
    "#     def __init__(self, val=0, left=None, right=None):\n",
    "#         self.val = val\n",
    "#         self.left = left\n",
    "#         self.right = right\n",
    "class Solution:\n",
    "   def goodNodes(self, root: TreeNode) -> int:\n",
    "        good = [0]\n",
    "        def DFS(root, max_val) :\n",
    "            if root == None :\n",
    "                return\n",
    "            if root.val >= max_val:\n",
    "                good[0] += 1\n",
    "            max_val = max(root.val, max_val)\n",
    "            if root.left :\n",
    "                DFS(root.left, max_val)\n",
    "            if root.right :\n",
    "                DFS(root.right, max_val)\n",
    "        DFS(root, -10000000)\n",
    "        return good[0]"
   ]
  },
  {
   "cell_type": "code",
   "execution_count": 4,
   "id": "4bb24478-7d6d-4988-ada9-e440e43bef6e",
   "metadata": {},
   "outputs": [
    {
     "data": {
      "text/plain": [
       "4"
      ]
     },
     "execution_count": 4,
     "metadata": {},
     "output_type": "execute_result"
    }
   ],
   "source": [
    "arr = [3,1,4,3,'null',1,5]\n",
    "root = TreeNode(arr[0])\n",
    "queue = [root]\n",
    "i = 1\n",
    "while queue and i < len(arr):\n",
    "    current = queue.pop(0)\n",
    "    if arr[i] != 'null' :\n",
    "        current.left = TreeNode(arr[i])\n",
    "        queue.append(current.left)\n",
    "    i += 1\n",
    "    if i < len(arr) and arr[i] != 'null' :\n",
    "        current.right = TreeNode(arr[i])\n",
    "        queue.append(current.right)\n",
    "    i += 1\n",
    "    \n",
    "S = Solution()\n",
    "result = S.goodNodes(root)\n",
    "result"
   ]
  }
 ],
 "metadata": {
  "kernelspec": {
   "display_name": "Python 3 (ipykernel)",
   "language": "python",
   "name": "python3"
  },
  "language_info": {
   "codemirror_mode": {
    "name": "ipython",
    "version": 3
   },
   "file_extension": ".py",
   "mimetype": "text/x-python",
   "name": "python",
   "nbconvert_exporter": "python",
   "pygments_lexer": "ipython3",
   "version": "3.11.4"
  }
 },
 "nbformat": 4,
 "nbformat_minor": 5
}
