{
 "cells": [
  {
   "cell_type": "markdown",
   "metadata": {},
   "source": [
    "1315. Sum of Nodes with Even-Valued Grandparent\n",
    "\n",
    "Given the root of a binary tree, return the sum of values of nodes with an even-valued grandparent. If there are no nodes with an even-valued grandparent, return 0.\n",
    "\n",
    "A grandparent of a node is the parent of its parent if it exists."
   ]
  },
  {
   "cell_type": "code",
   "execution_count": 7,
   "metadata": {},
   "outputs": [],
   "source": [
    "# Definition for a binary tree node.\n",
    "class TreeNode:\n",
    "    def __init__(self, val=0, left=None, right=None):\n",
    "        self.val = val\n",
    "        self.left = left\n",
    "        self.right = right\n",
    "class Solution:\n",
    "    def sumEvenGrandparent(self, root: TreeNode) -> int:\n",
    "        result = 0\n",
    "        stack = [(root, [])] if root else []\n",
    "        while stack :\n",
    "            node, path = stack.pop()\n",
    "            if node :\n",
    "                path.append(node.val)\n",
    "                length = len(path)\n",
    "                if length >= 3 and path[length-3] % 2 == 0 :\n",
    "                    result += path[length-1]\n",
    "                stack.append((node.left, path.copy()))\n",
    "                stack.append((node.right, path.copy()))\n",
    "        return result"
   ]
  },
  {
   "cell_type": "code",
   "execution_count": 5,
   "metadata": {},
   "outputs": [
    {
     "data": {
      "text/plain": [
       "18"
      ]
     },
     "execution_count": 5,
     "metadata": {},
     "output_type": "execute_result"
    }
   ],
   "source": [
    "null = 'null'\n",
    "arr1 = [6,7,8,2,7,1,3,9,null,1,4,null,null,null,5]\n",
    "root = TreeNode(arr1[0])\n",
    "queue1 = [root]\n",
    "i = 1\n",
    "while queue1 and i < len(arr1):\n",
    "    current = queue1.pop(0)\n",
    "    if arr1[i] != 'null' :\n",
    "        current.left = TreeNode(arr1[i])\n",
    "        queue1.append(current.left)\n",
    "    i += 1\n",
    "    if i < len(arr1) and arr1[i] != 'null' :\n",
    "        current.right = TreeNode(arr1[i])\n",
    "        queue1.append(current.right)\n",
    "    i += 1\n",
    "S = Solution()\n",
    "S.sumEvenGrandparent(root)"
   ]
  },
  {
   "cell_type": "code",
   "execution_count": 6,
   "metadata": {},
   "outputs": [
    {
     "data": {
      "text/plain": [
       "0"
      ]
     },
     "execution_count": 6,
     "metadata": {},
     "output_type": "execute_result"
    }
   ],
   "source": [
    "null = 'null'\n",
    "arr1 = [1]\n",
    "root = TreeNode(arr1[0])\n",
    "queue1 = [root]\n",
    "i = 1\n",
    "while queue1 and i < len(arr1):\n",
    "    current = queue1.pop(0)\n",
    "    if arr1[i] != 'null' :\n",
    "        current.left = TreeNode(arr1[i])\n",
    "        queue1.append(current.left)\n",
    "    i += 1\n",
    "    if i < len(arr1) and arr1[i] != 'null' :\n",
    "        current.right = TreeNode(arr1[i])\n",
    "        queue1.append(current.right)\n",
    "    i += 1\n",
    "S = Solution()\n",
    "S.sumEvenGrandparent(root)"
   ]
  }
 ],
 "metadata": {
  "kernelspec": {
   "display_name": "Python 3",
   "language": "python",
   "name": "python3"
  },
  "language_info": {
   "codemirror_mode": {
    "name": "ipython",
    "version": 3
   },
   "file_extension": ".py",
   "mimetype": "text/x-python",
   "name": "python",
   "nbconvert_exporter": "python",
   "pygments_lexer": "ipython3",
   "version": "3.11.4"
  }
 },
 "nbformat": 4,
 "nbformat_minor": 2
}
