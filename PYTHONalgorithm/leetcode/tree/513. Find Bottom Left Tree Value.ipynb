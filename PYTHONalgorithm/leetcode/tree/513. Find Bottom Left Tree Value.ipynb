{
 "cells": [
  {
   "cell_type": "markdown",
   "metadata": {},
   "source": [
    "513. Find Bottom Left Tree Value\n",
    "\n",
    "Given the root of a binary tree, return the leftmost value in the last row of the tree."
   ]
  },
  {
   "attachments": {
    "tree1.jpg": {
     "image/jpeg": "[encoded data removed]"
    }
   },
   "cell_type": "markdown",
   "metadata": {},
   "source": [
    "![tree1.jpg](attachment:tree1.jpg)"
   ]
  },
  {
   "cell_type": "markdown",
   "metadata": {},
   "source": [
    "Example 1:\n",
    "Input: root = [2,1,3]\n",
    "Output: 1"
   ]
  },
  {
   "cell_type": "code",
   "execution_count": 1,
   "metadata": {},
   "outputs": [],
   "source": [
    "class TreeNode:\n",
    "    def __init__(self, val=0, left=None, right=None):\n",
    "        self.val = val\n",
    "        self.left = left\n",
    "        self.right = right\n"
   ]
  },
  {
   "cell_type": "code",
   "execution_count": 5,
   "metadata": {},
   "outputs": [],
   "source": [
    "class Solution:\n",
    "    def findBottomLeftValue(self, root):\n",
    "        if not root :\n",
    "            return 0\n",
    "        deepest = [0] # 변수는 함수 안에 들어갈 수 없으므로 arr로 정의\n",
    "        def DFS(root, depth) :\n",
    "            deepest[0] = max(deepest[0], depth)\n",
    "            if root.left :\n",
    "                DFS(root.left, depth+1)\n",
    "            if root.right :\n",
    "                DFS(root.right, depth+1)\n",
    "        DFS(root, 0)\n",
    "        arr = []\n",
    "        def find(root, depth) :\n",
    "            if depth == deepest[0] :\n",
    "                arr.append(root.val) \n",
    "            if root.left :\n",
    "                find(root.left, depth+1)\n",
    "            if root.right :\n",
    "                find(root.right, depth+1)\n",
    "        find(root,0)\n",
    "        return arr[0]"
   ]
  },
  {
   "cell_type": "code",
   "execution_count": 6,
   "metadata": {},
   "outputs": [
    {
     "data": {
      "text/plain": [
       "7"
      ]
     },
     "execution_count": 6,
     "metadata": {},
     "output_type": "execute_result"
    }
   ],
   "source": [
    "S = Solution()\n",
    "null = 'null'\n",
    "arr = [1,2,3,4,null,5,6,null,null,7]\n",
    "root = TreeNode(arr[0])\n",
    "queue = [root]\n",
    "i = 1\n",
    "while queue and i < len(arr):\n",
    "    current = queue.pop(0)\n",
    "    if arr[i] != 'null' :\n",
    "        current.left = TreeNode(arr[i])\n",
    "        queue.append(current.left)\n",
    "    i += 1\n",
    "    if i < len(arr) and arr[i] != 'null' :\n",
    "        current.right = TreeNode(arr[i])\n",
    "        queue.append(current.right)\n",
    "    i += 1\n",
    "result = S.findBottomLeftValue(root)\n",
    "result"
   ]
  },
  {
   "cell_type": "code",
   "execution_count": 7,
   "metadata": {},
   "outputs": [
    {
     "data": {
      "text/plain": [
       "1"
      ]
     },
     "execution_count": 7,
     "metadata": {},
     "output_type": "execute_result"
    }
   ],
   "source": [
    "S = Solution()\n",
    "null = 'null'\n",
    "arr = [2,1,3]\n",
    "root = TreeNode(arr[0])\n",
    "queue = [root]\n",
    "i = 1\n",
    "while queue and i < len(arr):\n",
    "    current = queue.pop(0)\n",
    "    if arr[i] != 'null' :\n",
    "        current.left = TreeNode(arr[i])\n",
    "        queue.append(current.left)\n",
    "    i += 1\n",
    "    if i < len(arr) and arr[i] != 'null' :\n",
    "        current.right = TreeNode(arr[i])\n",
    "        queue.append(current.right)\n",
    "    i += 1\n",
    "result = S.findBottomLeftValue(root)\n",
    "result"
   ]
  },
  {
   "cell_type": "code",
   "execution_count": null,
   "metadata": {},
   "outputs": [],
   "source": []
  }
 ],
 "metadata": {
  "kernelspec": {
   "display_name": "Python 3",
   "language": "python",
   "name": "python3"
  },
  "language_info": {
   "codemirror_mode": {
    "name": "ipython",
    "version": 3
   },
   "file_extension": ".py",
   "mimetype": "text/x-python",
   "name": "python",
   "nbconvert_exporter": "python",
   "pygments_lexer": "ipython3",
   "version": "3.11.4"
  }
 },
 "nbformat": 4,
 "nbformat_minor": 2
}
