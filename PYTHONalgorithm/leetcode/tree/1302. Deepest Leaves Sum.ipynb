{
 "cells": [
  {
   "cell_type": "markdown",
   "id": "d51ce341-5007-4736-b4b5-ecc1664df9d2",
   "metadata": {},
   "source": [
    "1302. Deepest Leaves Sum\n",
    "\n",
    "Given the root of a binary tree, return the sum of values of its deepest leaves."
   ]
  },
  {
   "cell_type": "code",
   "execution_count": 1,
   "id": "7eb37a7a-6c73-4f97-88ee-2900923d9ee6",
   "metadata": {},
   "outputs": [],
   "source": [
    "# Definition for a binary tree node.\n",
    "class TreeNode:\n",
    "    def __init__(self, val=0, left=None, right=None):\n",
    "        self.val = val\n",
    "        self.left = left\n",
    "        self.right = right\n",
    "class Solution: \n",
    "    def deepestLeavesSum(self, root):\n",
    "        if not root :\n",
    "            return 0\n",
    "        deepest = [0] # 변수는 함수 안에 들어갈 수 없으므로 arr로 정의\n",
    "        def DFS(root, depth) :\n",
    "            deepest[0] = max(deepest[0], depth)\n",
    "            if root.left :\n",
    "                DFS(root.left, depth+1)\n",
    "            if root.right :\n",
    "                DFS(root.right, depth+1)\n",
    "        DFS(root, 0)\n",
    "        arr = [0]\n",
    "        def find(root, depth) :\n",
    "            if depth == deepest[0] :\n",
    "                arr[0] += root.val\n",
    "            if root.left :\n",
    "                find(root.left, depth+1)\n",
    "            if root.right :\n",
    "                find(root.right, depth+1)\n",
    "        find(root,0)\n",
    "        return arr[0]"
   ]
  },
  {
   "cell_type": "code",
   "execution_count": 2,
   "id": "c53c4ec6-9240-4500-a0de-e886917266f9",
   "metadata": {},
   "outputs": [
    {
     "data": {
      "text/plain": [
       "15"
      ]
     },
     "execution_count": 2,
     "metadata": {},
     "output_type": "execute_result"
    }
   ],
   "source": [
    "S = Solution()\n",
    "arr = [1,2,3,4,5,'null',6,7,'null','null','null','null',8]\n",
    "root = TreeNode(arr[0])\n",
    "queue = [root]\n",
    "i = 1\n",
    "while queue and i < len(arr):\n",
    "    current = queue.pop(0)\n",
    "    if arr[i] != 'null' :\n",
    "        current.left = TreeNode(arr[i])\n",
    "        queue.append(current.left)\n",
    "    i += 1\n",
    "    if i < len(arr) and arr[i] != 'null' :\n",
    "        current.right = TreeNode(arr[i])\n",
    "        queue.append(current.right)\n",
    "    i += 1\n",
    "result = S.deepestLeavesSum(root)\n",
    "result"
   ]
  }
 ],
 "metadata": {
  "kernelspec": {
   "display_name": "Python 3 (ipykernel)",
   "language": "python",
   "name": "python3"
  },
  "language_info": {
   "codemirror_mode": {
    "name": "ipython",
    "version": 3
   },
   "file_extension": ".py",
   "mimetype": "text/x-python",
   "name": "python",
   "nbconvert_exporter": "python",
   "pygments_lexer": "ipython3",
   "version": "3.11.4"
  }
 },
 "nbformat": 4,
 "nbformat_minor": 5
}
