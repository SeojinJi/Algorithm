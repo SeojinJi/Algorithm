{
 "cells": [
  {
   "cell_type": "markdown",
   "id": "018c2214-afa5-48e3-9cc7-48f49be813ba",
   "metadata": {},
   "source": [
    "1372. Longest ZigZag Path in a Binary Tree\n",
    "\n",
    "You are given the root of a binary tree.\n",
    "\n",
    "A ZigZag path for a binary tree is defined as follow:\n",
    "\n",
    "Choose any node in the binary tree and a direction (right or left).\n",
    "If the current direction is right, move to the right child of the current node; otherwise, move to the left child.\n",
    "Change the direction from right to left or from left to right.\n",
    "Repeat the second and third steps until you can't move in the tree.\n",
    "Zigzag length is defined as the number of nodes visited - 1. (A single node has a length of 0).\n",
    "\n",
    "Return the longest ZigZag path contained in that tree."
   ]
  },
  {
   "cell_type": "code",
   "execution_count": 1,
   "id": "4c61e096-c875-49c3-8129-59bf1e13f081",
   "metadata": {},
   "outputs": [],
   "source": [
    "# Definition for a binary tree node.\n",
    "class TreeNode:\n",
    "    def __init__(self, val=0, left=None, right=None):\n",
    "        self.val = val\n",
    "        self.left = left\n",
    "        self.right = right\n",
    "class Solution:\n",
    "    def longestZigZag(self, root) -> int: #time limit exceed\n",
    "        result = 0\n",
    "        stack = [(root, [], 2)] if root else []\n",
    "        while stack :\n",
    "            node, path, direction = stack.pop()\n",
    "            if node :\n",
    "                path.append(direction)\n",
    "                get = [0]\n",
    "                index = 0\n",
    "                for i in range(1,len(path)) :\n",
    "                    if path[i] != path[i-1] :\n",
    "                        get[index] += 1\n",
    "                    else :\n",
    "                        get.append(1)\n",
    "                        index += 1\n",
    "                getty = max(get)            \n",
    "                result = max(result, getty)\n",
    "                stack.append((node.left, path.copy(), 0))\n",
    "                stack.append((node.right, path.copy(),1))\n",
    "        return result"
   ]
  },
  {
   "cell_type": "code",
   "execution_count": 2,
   "id": "06f835c0-d0ae-445d-b389-5d99d38a5de9",
   "metadata": {},
   "outputs": [],
   "source": [
    "# Definition for a binary tree node.\n",
    "class TreeNode:\n",
    "    def __init__(self, val=0, left=None, right=None):\n",
    "        self.val = val\n",
    "        self.left = left\n",
    "        self.right = right\n",
    "class Solution:\n",
    "    def longestZigZag(self, root): #time limit exceed\n",
    "        result = 0\n",
    "        finalpath = []\n",
    "        get = []\n",
    "        index = -1\n",
    "        stack = [(root, [], 2)] if root else []\n",
    "        while stack :\n",
    "            node, path, direction = stack.pop()\n",
    "            if node :\n",
    "                path.append(direction)\n",
    "                if node.left == None and node.right == None :\n",
    "                    finalpath.append(path)\n",
    "                stack.append((node.left, path.copy(), 0))\n",
    "                stack.append((node.right, path.copy(),1))\n",
    "        print(finalpath)\n",
    "        for path in finalpath :\n",
    "            get.append(0)\n",
    "            index += 1\n",
    "            for i in range(0, len(path)-1) :\n",
    "                if path[i] != path[i+1] :\n",
    "                    get[index] += 1\n",
    "                else :\n",
    "                    get.append(1)\n",
    "                    index += 1\n",
    "        getty = max(get)            \n",
    "        result = max(result, getty)\n",
    "        return result"
   ]
  },
  {
   "cell_type": "code",
   "execution_count": 3,
   "id": "418f7942-8f0a-44ef-b433-6a0fd4c08634",
   "metadata": {},
   "outputs": [],
   "source": [
    "class TreeNode:\n",
    "    def __init__(self, val=0, left=None, right=None):\n",
    "        self.val = val\n",
    "        self.left = left\n",
    "        self.right = right\n",
    "class Solution:\n",
    "    def longestZigZag(self, root) -> int: # Solution\n",
    "        self.maxLength = 0\n",
    "        def solve(node, deep, dir):\n",
    "            self.maxLength = max(self.maxLength, deep)\n",
    "            if node.left is not None:\n",
    "                solve(node.left, deep+1,'left') if dir != 'left' else solve(node.left, 1, 'left')\n",
    "            if node.right is not None:\n",
    "                solve(node.right, deep+1, 'right') if dir != 'right' else solve(node.right, 1, 'right')\n",
    "        solve(root, 0, '')\n",
    "        return self.maxLength"
   ]
  },
  {
   "cell_type": "code",
   "execution_count": 4,
   "id": "54299911-9e6c-46f2-9539-dd483a183c82",
   "metadata": {},
   "outputs": [
    {
     "data": {
      "text/plain": [
       "1"
      ]
     },
     "execution_count": 4,
     "metadata": {},
     "output_type": "execute_result"
    }
   ],
   "source": [
    "S = Solution()\n",
    "null = 'null'\n",
    "arr = [1,1,1,1,null,null,1]\n",
    "root = TreeNode(arr[0])\n",
    "queue = [root]\n",
    "i = 1\n",
    "while queue and i < len(arr):\n",
    "    current = queue.pop(0)\n",
    "    if arr[i] != 'null' :\n",
    "        current.left = TreeNode(arr[i])\n",
    "        queue.append(current.left)\n",
    "    i += 1\n",
    "    if i < len(arr) and arr[i] != 'null' :\n",
    "        current.right = TreeNode(arr[i])\n",
    "        queue.append(current.right)\n",
    "    i += 1\n",
    "result = S.longestZigZag(root)\n",
    "result"
   ]
  },
  {
   "cell_type": "code",
   "execution_count": 5,
   "id": "0cce8adf-e473-4b73-9c2a-a5a0fd53c77d",
   "metadata": {},
   "outputs": [
    {
     "data": {
      "text/plain": [
       "4"
      ]
     },
     "execution_count": 5,
     "metadata": {},
     "output_type": "execute_result"
    }
   ],
   "source": [
    "S = Solution()\n",
    "null = 'null'\n",
    "arr = [1,2,3,null,4,null,null,5,6,null,7]\n",
    "root = TreeNode(arr[0])\n",
    "queue = [root]\n",
    "i = 1\n",
    "while queue and i < len(arr):\n",
    "    current = queue.pop(0)\n",
    "    if arr[i] != 'null' :\n",
    "        current.left = TreeNode(arr[i])\n",
    "        queue.append(current.left)\n",
    "    i += 1\n",
    "    if i < len(arr) and arr[i] != 'null' :\n",
    "        current.right = TreeNode(arr[i])\n",
    "        queue.append(current.right)\n",
    "    i += 1\n",
    "result = S.longestZigZag(root)\n",
    "result"
   ]
  }
 ],
 "metadata": {
  "kernelspec": {
   "display_name": "Python 3 (ipykernel)",
   "language": "python",
   "name": "python3"
  },
  "language_info": {
   "codemirror_mode": {
    "name": "ipython",
    "version": 3
   },
   "file_extension": ".py",
   "mimetype": "text/x-python",
   "name": "python",
   "nbconvert_exporter": "python",
   "pygments_lexer": "ipython3",
   "version": "3.11.4"
  }
 },
 "nbformat": 4,
 "nbformat_minor": 5
}
