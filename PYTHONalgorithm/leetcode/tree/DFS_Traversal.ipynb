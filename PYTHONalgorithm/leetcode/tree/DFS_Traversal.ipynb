{
 "cells": [
  {
   "cell_type": "code",
   "execution_count": 1,
   "id": "04c2010e-fd94-429d-b3e9-c123b96d900d",
   "metadata": {},
   "outputs": [],
   "source": [
    "class TreeNode:\n",
    "    def __init__(self, val=0, left=None, right=None):\n",
    "        self.val = val\n",
    "        self.left = left\n",
    "        self.right = right\n",
    "class Solution:\n",
    "    def preorder_DFS(self, root) : \n",
    "        if root :\n",
    "            print(root.val, end=\" \")\n",
    "            self.preorder_DFS(root.left)\n",
    "            self.preorder_DFS(root.right)\n",
    "    def inorder_DFS(self, root) :\n",
    "        if root :\n",
    "            self.inorder_DFS(root.left)\n",
    "            print(root.val, end=\" \")\n",
    "            self.inorder_DFS(root.right)\n",
    "    def postorder_DFS(self, root) :\n",
    "        if root :\n",
    "            self.postorder_DFS(root.left)\n",
    "            self.postorder_DFS(root.right)\n",
    "            print(root.val, end= \" \")"
   ]
  },
  {
   "cell_type": "code",
   "execution_count": 2,
   "id": "0ab6ba64-b4ff-45a5-b53a-2c0dbf62c5c9",
   "metadata": {},
   "outputs": [
    {
     "name": "stdout",
     "output_type": "stream",
     "text": [
      "1 2 4 8 5 3 6 7 \n",
      "8 4 2 5 1 6 3 7 \n",
      "8 4 5 2 6 7 3 1 "
     ]
    }
   ],
   "source": [
    "S = Solution()\n",
    "null = 'null'\n",
    "arr = [1,2,3,4,5,6,7,8]\n",
    "root = TreeNode(arr[0])\n",
    "queue = [root]\n",
    "i = 1\n",
    "while queue and i < len(arr):\n",
    "    current = queue.pop(0)\n",
    "    if arr[i] != 'null' :\n",
    "        current.left = TreeNode(arr[i])\n",
    "        queue.append(current.left)\n",
    "    i += 1\n",
    "    if i < len(arr) and arr[i] != 'null' :\n",
    "        current.right = TreeNode(arr[i])\n",
    "        queue.append(current.right)\n",
    "    i += 1\n",
    "S.preorder_DFS(root)\n",
    "print('')\n",
    "S.inorder_DFS(root)\n",
    "print('')\n",
    "S.postorder_DFS(root)"
   ]
  }
 ],
 "metadata": {
  "kernelspec": {
   "display_name": "Python 3 (ipykernel)",
   "language": "python",
   "name": "python3"
  },
  "language_info": {
   "codemirror_mode": {
    "name": "ipython",
    "version": 3
   },
   "file_extension": ".py",
   "mimetype": "text/x-python",
   "name": "python",
   "nbconvert_exporter": "python",
   "pygments_lexer": "ipython3",
   "version": "3.11.4"
  }
 },
 "nbformat": 4,
 "nbformat_minor": 5
}
