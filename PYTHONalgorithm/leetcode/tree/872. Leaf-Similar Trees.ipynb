{
 "cells": [
  {
   "cell_type": "markdown",
   "id": "dfd6042c-e08f-4952-bfef-066c292f0868",
   "metadata": {},
   "source": [
    "872. Leaf-Similar Trees\n",
    "\n",
    "Consider all the leaves of a binary tree, from left to right order, the values of those leaves form a leaf value sequence.\n",
    "\n",
    "For example, in the given tree above, the leaf value sequence is (6, 7, 4, 9, 8).\n",
    "\n",
    "Two binary trees are considered leaf-similar if their leaf value sequence is the same.\n",
    "\n",
    "Return true if and only if the two given trees with head nodes root1 and root2 are leaf-similar."
   ]
  },
  {
   "cell_type": "code",
   "execution_count": 1,
   "id": "3481de66-b38b-4a3f-8946-bf20f3de37b6",
   "metadata": {},
   "outputs": [],
   "source": [
    "# Definition for a binary tree node.\n",
    "class TreeNode:\n",
    "    def __init__(self, val=0, left=None, right=None):\n",
    "        self.val = val\n",
    "        self.left = left\n",
    "        self.right = right\n",
    "class Solution:\n",
    "    def traversal(self,root, arr):\n",
    "        if root :\n",
    "            if root.left == None and root.right == None :\n",
    "                arr.append(root.val)\n",
    "            else :\n",
    "                self.traversal(root.left, arr)\n",
    "                self.traversal(root.right, arr)\n",
    "            return arr\n",
    "        return arr\n",
    "    def leafSimilar(self, root1, root2) -> bool:\n",
    "        arr1 = []\n",
    "        arr2 = []\n",
    "        arr1 = self.traversal(root1, arr1)\n",
    "        arr2 = self.traversal(root2, arr2)\n",
    "        if len(arr1) != len(arr2) :\n",
    "            return False\n",
    "        for i in range(len(arr1)):\n",
    "            if arr1[i] != arr2[i] :\n",
    "                return False\n",
    "        return True"
   ]
  },
  {
   "cell_type": "code",
   "execution_count": 4,
   "id": "1c7df8a6-43ef-432f-a124-c246b5c78bcc",
   "metadata": {},
   "outputs": [],
   "source": [
    "arr1 = [3,5,1,6,2,9,8,'null','null',7,4]\n",
    "root1 = TreeNode(arr1[0])\n",
    "queue1 = [root1]\n",
    "i = 1\n",
    "while queue1 and i < len(arr1):\n",
    "    current = queue1.pop(0)\n",
    "    if arr1[i] != 'null' :\n",
    "        current.left = TreeNode(arr1[i])\n",
    "        queue1.append(current.left)\n",
    "    i += 1\n",
    "    if i < len(arr1) and arr1[i] != 'null' :\n",
    "        current.right = TreeNode(arr1[i])\n",
    "        queue1.append(current.right)\n",
    "    i += 1"
   ]
  },
  {
   "cell_type": "code",
   "execution_count": 5,
   "id": "a978e66b-7b98-4c2c-8f91-6cc33e3e523f",
   "metadata": {},
   "outputs": [],
   "source": [
    "arr2 = [3,5,1,6,2,9,8,'null','null',7,4]\n",
    "root2 = TreeNode(arr2[0])\n",
    "queue2 = [root2]\n",
    "i = 1\n",
    "while queue2 and i < len(arr2):\n",
    "    current = queue2.pop(0)\n",
    "    if arr2[i] != 'null' :\n",
    "        current.left = TreeNode(arr2[i])\n",
    "        queue2.append(current.left)\n",
    "    i += 1\n",
    "    if i < len(arr2) and arr2[i] != 'null' :\n",
    "        current.right = TreeNode(arr2[i])\n",
    "        queue2.append(current.right)\n",
    "    i += 1"
   ]
  },
  {
   "cell_type": "code",
   "execution_count": 6,
   "id": "6c3eb82f-3a2d-4318-b429-587bd4fa17c0",
   "metadata": {},
   "outputs": [
    {
     "data": {
      "text/plain": [
       "True"
      ]
     },
     "execution_count": 6,
     "metadata": {},
     "output_type": "execute_result"
    }
   ],
   "source": [
    "S = Solution()\n",
    "result = S.leafSimilar(root1, root2)\n",
    "result"
   ]
  }
 ],
 "metadata": {
  "kernelspec": {
   "display_name": "Python 3 (ipykernel)",
   "language": "python",
   "name": "python3"
  },
  "language_info": {
   "codemirror_mode": {
    "name": "ipython",
    "version": 3
   },
   "file_extension": ".py",
   "mimetype": "text/x-python",
   "name": "python",
   "nbconvert_exporter": "python",
   "pygments_lexer": "ipython3",
   "version": "3.11.4"
  }
 },
 "nbformat": 4,
 "nbformat_minor": 5
}
