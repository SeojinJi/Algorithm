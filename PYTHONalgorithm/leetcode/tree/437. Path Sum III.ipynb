{
 "cells": [
  {
   "cell_type": "markdown",
   "id": "f5a6910e-21de-4b23-946a-56a1b9d53011",
   "metadata": {},
   "source": [
    "437. Path Sum III\n",
    "\n",
    "Given the root of a binary tree and an integer targetSum, return the number of paths where the sum of the values along the path equals targetSum.\n",
    "\n",
    "The path does not need to start or end at the root or a leaf, but it must go downwards (i.e., traveling only from parent nodes to child nodes)."
   ]
  },
  {
   "cell_type": "code",
   "execution_count": 1,
   "id": "22756185-c68e-4c51-892c-9e7965e10c8f",
   "metadata": {},
   "outputs": [],
   "source": [
    "# Definition for a binary tree node.\n",
    "class TreeNode:\n",
    "    def __init__(self, val=0, left=None, right=None):\n",
    "        self.val = val\n",
    "        self.left = left\n",
    "        self.right = right\n",
    "class Solution:\n",
    "    def pathSum(self, root, targetSum):\n",
    "        result = 0\n",
    "        stack = [(root, [])] if root else []\n",
    "        while stack:\n",
    "            node, path = stack.pop()\n",
    "            if node:\n",
    "                path.append(node.val)\n",
    "                path_sum = 0\n",
    "                for i in range(len(path) - 1, -1, -1):\n",
    "                    path_sum += path[i]\n",
    "                    if path_sum == targetSum:\n",
    "                        result += 1\n",
    "                stack.append((node.right, path.copy()))\n",
    "                stack.append((node.left, path.copy()))\n",
    "        \n",
    "        return result"
   ]
  },
  {
   "cell_type": "code",
   "execution_count": 2,
   "id": "fcf12f86-0515-4547-b3b1-409a6a5ebf64",
   "metadata": {},
   "outputs": [
    {
     "data": {
      "text/plain": [
       "3"
      ]
     },
     "execution_count": 2,
     "metadata": {},
     "output_type": "execute_result"
    }
   ],
   "source": [
    "S = Solution()\n",
    "null = 'null'\n",
    "arr = [10,5,-3,3,2,null,11,3,-2,null,1]\n",
    "targetSum = 8\n",
    "root = TreeNode(arr[0])\n",
    "queue = [root]\n",
    "i = 1\n",
    "while queue and i < len(arr):\n",
    "    current = queue.pop(0)\n",
    "    if arr[i] != 'null' :\n",
    "        current.left = TreeNode(arr[i])\n",
    "        queue.append(current.left)\n",
    "    i += 1\n",
    "    if i < len(arr) and arr[i] != 'null' :\n",
    "        current.right = TreeNode(arr[i])\n",
    "        queue.append(current.right)\n",
    "    i += 1\n",
    "result = S.pathSum(root, targetSum)\n",
    "result"
   ]
  }
 ],
 "metadata": {
  "kernelspec": {
   "display_name": "Python 3 (ipykernel)",
   "language": "python",
   "name": "python3"
  },
  "language_info": {
   "codemirror_mode": {
    "name": "ipython",
    "version": 3
   },
   "file_extension": ".py",
   "mimetype": "text/x-python",
   "name": "python",
   "nbconvert_exporter": "python",
   "pygments_lexer": "ipython3",
   "version": "3.11.4"
  }
 },
 "nbformat": 4,
 "nbformat_minor": 5
}
