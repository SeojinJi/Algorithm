{
 "cells": [
  {
   "cell_type": "markdown",
   "metadata": {},
   "source": [
    "1609. Even Odd Tree\n",
    "\n",
    "A binary tree is named Even-Odd if it meets the following conditions:\n",
    "\n",
    "The root of the binary tree is at level index 0, its children are at level index 1, their children are at level index 2, etc.\n",
    "For every even-indexed level, all nodes at the level have odd integer values in strictly increasing order (from left to right).\n",
    "For every odd-indexed level, all nodes at the level have even integer values in strictly decreasing order (from left to right).\n",
    "Given the root of a binary tree, return true if the binary tree is Even-Odd, otherwise return false."
   ]
  },
  {
   "cell_type": "code",
   "execution_count": 1,
   "metadata": {},
   "outputs": [],
   "source": [
    "class TreeNode:\n",
    "    def __init__(self, val=0, left=None, right=None):\n",
    "        self.val = val\n",
    "        self.left = left\n",
    "        self.right = right"
   ]
  },
  {
   "cell_type": "code",
   "execution_count": 15,
   "metadata": {},
   "outputs": [],
   "source": [
    "class Solution:\n",
    "    def isEvenOddTree(self, root):\n",
    "        if not root :\n",
    "            return False\n",
    "        deepest = []\n",
    "        def DFS(root, depth) :\n",
    "            if len(deepest) <= depth :\n",
    "                deepest.append([root.val])\n",
    "            else :\n",
    "                deepest[depth].append(root.val)\n",
    "            if root.left :\n",
    "                DFS(root.left, depth+1)\n",
    "            if root.right :\n",
    "                DFS(root.right, depth+1)\n",
    "        DFS(root, 0)\n",
    "        for i in range(len(deepest)) :\n",
    "            for j in range(len(deepest[i])) :\n",
    "                if i % 2 == 1 :\n",
    "                    if j == 0 and deepest[i][j] % 2 == 0 :\n",
    "                        continue\n",
    "                    elif deepest[i][j] % 2 == 0 and deepest[i][j] < deepest[i][j-1] :\n",
    "                        continue\n",
    "                    else :\n",
    "                        return False\n",
    "                elif i % 2 == 0 :\n",
    "                    if j == 0 and deepest[i][j] % 2 == 1 :\n",
    "                        continue\n",
    "                    elif deepest[i][j] % 2 == 1 and deepest[i][j] > deepest[i][j-1] :\n",
    "                        continue\n",
    "                    else :\n",
    "                        return False\n",
    "        return True\n",
    "                    \n",
    "        "
   ]
  },
  {
   "cell_type": "code",
   "execution_count": 16,
   "metadata": {},
   "outputs": [
    {
     "data": {
      "text/plain": [
       "True"
      ]
     },
     "execution_count": 16,
     "metadata": {},
     "output_type": "execute_result"
    }
   ],
   "source": [
    "S = Solution()\n",
    "null = 'null'\n",
    "arr = [1,10,4,3,null,7,9,12,8,6,null,null,2]\n",
    "root = TreeNode(arr[0])\n",
    "queue = [root]\n",
    "i = 1\n",
    "while queue and i < len(arr):\n",
    "    current = queue.pop(0)\n",
    "    if arr[i] != 'null' :\n",
    "        current.left = TreeNode(arr[i])\n",
    "        queue.append(current.left)\n",
    "    i += 1\n",
    "    if i < len(arr) and arr[i] != 'null' :\n",
    "        current.right = TreeNode(arr[i])\n",
    "        queue.append(current.right)\n",
    "    i += 1\n",
    "result = S.isEvenOddTree(root)\n",
    "result"
   ]
  },
  {
   "cell_type": "code",
   "execution_count": 17,
   "metadata": {},
   "outputs": [
    {
     "data": {
      "text/plain": [
       "False"
      ]
     },
     "execution_count": 17,
     "metadata": {},
     "output_type": "execute_result"
    }
   ],
   "source": [
    "S = Solution()\n",
    "null = 'null'\n",
    "arr = [5,4,2,3,3,7]\n",
    "root = TreeNode(arr[0])\n",
    "queue = [root]\n",
    "i = 1\n",
    "while queue and i < len(arr):\n",
    "    current = queue.pop(0)\n",
    "    if arr[i] != 'null' :\n",
    "        current.left = TreeNode(arr[i])\n",
    "        queue.append(current.left)\n",
    "    i += 1\n",
    "    if i < len(arr) and arr[i] != 'null' :\n",
    "        current.right = TreeNode(arr[i])\n",
    "        queue.append(current.right)\n",
    "    i += 1\n",
    "result = S.isEvenOddTree(root)\n",
    "result"
   ]
  },
  {
   "cell_type": "code",
   "execution_count": 18,
   "metadata": {},
   "outputs": [
    {
     "data": {
      "text/plain": [
       "False"
      ]
     },
     "execution_count": 18,
     "metadata": {},
     "output_type": "execute_result"
    }
   ],
   "source": [
    "S = Solution()\n",
    "null = 'null'\n",
    "arr = [5,9,1,3,5,7]\n",
    "root = TreeNode(arr[0])\n",
    "queue = [root]\n",
    "i = 1\n",
    "while queue and i < len(arr):\n",
    "    current = queue.pop(0)\n",
    "    if arr[i] != 'null' :\n",
    "        current.left = TreeNode(arr[i])\n",
    "        queue.append(current.left)\n",
    "    i += 1\n",
    "    if i < len(arr) and arr[i] != 'null' :\n",
    "        current.right = TreeNode(arr[i])\n",
    "        queue.append(current.right)\n",
    "    i += 1\n",
    "result = S.isEvenOddTree(root)\n",
    "result"
   ]
  },
  {
   "cell_type": "code",
   "execution_count": 19,
   "metadata": {},
   "outputs": [
    {
     "data": {
      "text/plain": [
       "False"
      ]
     },
     "execution_count": 19,
     "metadata": {},
     "output_type": "execute_result"
    }
   ],
   "source": [
    "S = Solution()\n",
    "null = 'null'\n",
    "arr = [2,12,8,5,9,null,null,18,16]\n",
    "root = TreeNode(arr[0])\n",
    "queue = [root]\n",
    "i = 1\n",
    "while queue and i < len(arr):\n",
    "    current = queue.pop(0)\n",
    "    if arr[i] != 'null' :\n",
    "        current.left = TreeNode(arr[i])\n",
    "        queue.append(current.left)\n",
    "    i += 1\n",
    "    if i < len(arr) and arr[i] != 'null' :\n",
    "        current.right = TreeNode(arr[i])\n",
    "        queue.append(current.right)\n",
    "    i += 1\n",
    "result = S.isEvenOddTree(root)\n",
    "result"
   ]
  }
 ],
 "metadata": {
  "kernelspec": {
   "display_name": "Python 3",
   "language": "python",
   "name": "python3"
  },
  "language_info": {
   "codemirror_mode": {
    "name": "ipython",
    "version": 3
   },
   "file_extension": ".py",
   "mimetype": "text/x-python",
   "name": "python",
   "nbconvert_exporter": "python",
   "pygments_lexer": "ipython3",
   "version": "3.11.4"
  }
 },
 "nbformat": 4,
 "nbformat_minor": 2
}
