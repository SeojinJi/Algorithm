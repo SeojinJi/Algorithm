{
 "cells": [
  {
   "cell_type": "markdown",
   "id": "a04c0cc2-df21-4685-8268-9b03f3f427b5",
   "metadata": {},
   "source": [
    "700. Search in a Binary Search Tree\n",
    "You are given the root of a binary search tree (BST) and an integer val.\n",
    "\n",
    "Find the node in the BST that the node's value equals val and return the subtree rooted with that node. If such a node does not exist, return null."
   ]
  },
  {
   "cell_type": "code",
   "execution_count": 1,
   "id": "82d3348d-b6cf-4dd7-ab69-82657a13db5a",
   "metadata": {},
   "outputs": [],
   "source": [
    "# Definition for a binary tree node.\n",
    "class TreeNode:\n",
    "    def __init__(self, val=0, left=None, right=None):\n",
    "        self.val = val\n",
    "        self.left = left\n",
    "        self.right = right\n",
    "class Solution:\n",
    "    def searchBST(self, root, val: int) :\n",
    "        if not root :\n",
    "            return None\n",
    "        if root.val == val :\n",
    "            return root\n",
    "        elif root.val < val :\n",
    "            self.searchBST(root.right, val)\n",
    "        elif root.val > val :\n",
    "            self.searchBST(root.left, val)"
   ]
  }
 ],
 "metadata": {
  "kernelspec": {
   "display_name": "Python 3 (ipykernel)",
   "language": "python",
   "name": "python3"
  },
  "language_info": {
   "codemirror_mode": {
    "name": "ipython",
    "version": 3
   },
   "file_extension": ".py",
   "mimetype": "text/x-python",
   "name": "python",
   "nbconvert_exporter": "python",
   "pygments_lexer": "ipython3",
   "version": "3.11.4"
  }
 },
 "nbformat": 4,
 "nbformat_minor": 5
}
