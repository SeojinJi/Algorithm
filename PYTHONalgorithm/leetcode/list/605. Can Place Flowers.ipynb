{
 "cells": [
  {
   "cell_type": "markdown",
   "id": "6151008b-a457-449c-9354-f720595fe972",
   "metadata": {},
   "source": [
    "605. Can Place Flowers\n",
    "\n",
    "You have a long flowerbed in which some of the plots are planted, and some are not. However, flowers cannot be planted in adjacent plots.\n",
    "\n",
    "Given an integer array flowerbed containing 0's and 1's, where 0 means empty and 1 means not empty, and an integer n, return true if n new flowers can be planted in the flowerbed without violating the no-adjacent-flowers rule and false otherwise.\n",
    "\n",
    " \n",
    "\n",
    "Example 1:\n",
    "\n",
    "Input: flowerbed = [1,0,0,0,1], n = 1\n",
    "Output: true\n",
    "Example 2:\n",
    "\n",
    "Input: flowerbed = [1,0,0,0,1], n = 2\n",
    "Output: false"
   ]
  },
  {
   "cell_type": "code",
   "execution_count": 1,
   "id": "647d2148-8ff1-4b4c-87f8-59354cc736aa",
   "metadata": {},
   "outputs": [],
   "source": [
    "def canPlaceFlowers(flowerbed, n):\n",
    "    flowerlen = len(flowerbed)\n",
    "    n = n\n",
    "    i = 0\n",
    "    while i < flowerlen :\n",
    "        if flowerbed[i] == 1 :\n",
    "            i += 2\n",
    "        else :\n",
    "            if i - 1 < 0 :\n",
    "                if i + 1 >= flowerlen :\n",
    "                    flowerbed[i] = 1\n",
    "                    n -= 1\n",
    "                    i += 2\n",
    "                elif flowerbed[i+1] == 0 :\n",
    "                    flowerbed[i] = 1\n",
    "                    n -= 1\n",
    "                    i += 2\n",
    "                else :\n",
    "                    i += 3\n",
    "            elif i + 1 >= flowerlen :\n",
    "                if flowerbed[i-1] == 0 :\n",
    "                    flowerbed[i] = 1\n",
    "                    n -= 1\n",
    "                    i += 2\n",
    "                else :\n",
    "                    i += 1\n",
    "\n",
    "            else :\n",
    "                if flowerbed[i-1] == 0 and flowerbed[i+1] == 0 :\n",
    "                    flowerbed[i] = 1\n",
    "                    n -= 1\n",
    "                    i += 2\n",
    "                elif flowerbed[i-1] == 1 and flowerbed[i+1] == 0 :\n",
    "                    i += 1\n",
    "                elif flowerbed[i-1] == 0 and flowerbed[i+1] == 1 :\n",
    "                    i += 3\n",
    "                else :\n",
    "                    i += 3\n",
    "\n",
    "    if n > 0 :\n",
    "        return False\n",
    "    else :\n",
    "        return True"
   ]
  },
  {
   "cell_type": "code",
   "execution_count": 2,
   "id": "0f85fee1-76a8-4f83-be06-ee6f59a203ee",
   "metadata": {},
   "outputs": [
    {
     "data": {
      "text/plain": [
       "False"
      ]
     },
     "execution_count": 2,
     "metadata": {},
     "output_type": "execute_result"
    }
   ],
   "source": [
    "flowerbed = [1,0,0,0,1]\n",
    "n = 2\n",
    "canPlaceFlowers(flowerbed, n)"
   ]
  },
  {
   "cell_type": "code",
   "execution_count": 3,
   "id": "4e753142-fe69-4252-b82b-b1c8436a71e7",
   "metadata": {},
   "outputs": [
    {
     "data": {
      "text/plain": [
       "True"
      ]
     },
     "execution_count": 3,
     "metadata": {},
     "output_type": "execute_result"
    }
   ],
   "source": [
    "flowerbed = [1,0,0,0,1]\n",
    "n = 1\n",
    "canPlaceFlowers(flowerbed, n)"
   ]
  }
 ],
 "metadata": {
  "kernelspec": {
   "display_name": "Python 3 (ipykernel)",
   "language": "python",
   "name": "python3"
  },
  "language_info": {
   "codemirror_mode": {
    "name": "ipython",
    "version": 3
   },
   "file_extension": ".py",
   "mimetype": "text/x-python",
   "name": "python",
   "nbconvert_exporter": "python",
   "pygments_lexer": "ipython3",
   "version": "3.11.4"
  }
 },
 "nbformat": 4,
 "nbformat_minor": 5
}
