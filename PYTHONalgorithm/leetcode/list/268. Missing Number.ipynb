{
 "cells": [
  {
   "cell_type": "markdown",
   "id": "4a7b85aa-157c-496b-a49f-2f44ecb65a4a",
   "metadata": {},
   "source": [
    "268. Missing Number\n",
    "\n",
    "Given an array nums containing n distinct numbers in the range [0, n], return the only number in the range that is missing from the array.\n",
    "\n",
    " \n",
    "\n",
    "Example 1:\n",
    "\n",
    "Input: nums = [3,0,1]\n",
    "Output: 2\n",
    "Explanation: n = 3 since there are 3 numbers, so all numbers are in the range [0,3]. 2 is the missing number in the range since it does not appear in nums."
   ]
  },
  {
   "cell_type": "code",
   "execution_count": 1,
   "id": "27f7f193-6b53-4b14-af14-04fbdf85a09c",
   "metadata": {},
   "outputs": [],
   "source": [
    "def missingNumber(nums) :\n",
    "    largest = 0\n",
    "    for n in nums :\n",
    "        if n > largest :\n",
    "            largest = n\n",
    "    arr = [0] * (largest+1)\n",
    "    for i in range(len(nums)) :\n",
    "        arr[nums[i]] = 1\n",
    "    for i in range(largest+1) :\n",
    "        if arr[i] == 0 :\n",
    "            return i\n",
    "    return len(nums)"
   ]
  },
  {
   "cell_type": "code",
   "execution_count": 2,
   "id": "4b92d89a-2605-4a90-bf76-d8299bb7b13b",
   "metadata": {},
   "outputs": [
    {
     "data": {
      "text/plain": [
       "2"
      ]
     },
     "execution_count": 2,
     "metadata": {},
     "output_type": "execute_result"
    }
   ],
   "source": [
    "nums = [3,0,1]\n",
    "missingNumber(nums)"
   ]
  }
 ],
 "metadata": {
  "kernelspec": {
   "display_name": "Python 3 (ipykernel)",
   "language": "python",
   "name": "python3"
  },
  "language_info": {
   "codemirror_mode": {
    "name": "ipython",
    "version": 3
   },
   "file_extension": ".py",
   "mimetype": "text/x-python",
   "name": "python",
   "nbconvert_exporter": "python",
   "pygments_lexer": "ipython3",
   "version": "3.11.4"
  }
 },
 "nbformat": 4,
 "nbformat_minor": 5
}
