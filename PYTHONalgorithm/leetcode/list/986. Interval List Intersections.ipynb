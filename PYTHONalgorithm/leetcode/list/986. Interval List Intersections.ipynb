{
 "cells": [
  {
   "cell_type": "markdown",
   "metadata": {},
   "source": [
    "986. Interval List Intersections\n",
    "\n",
    "You are given two lists of closed intervals, firstList and secondList, where firstList[i] = [starti, endi] and secondList[j] = [startj, endj]. Each list of intervals is pairwise disjoint and in sorted order.\n",
    "\n",
    "Return the intersection of these two interval lists.\n",
    "\n",
    "A closed interval [a, b] (with a <= b) denotes the set of real numbers x with a <= x <= b.\n",
    "\n",
    "The intersection of two closed intervals is a set of real numbers that are either empty or represented as a closed interval. For example, the intersection of [1, 3] and [2, 4] is [2, 3].\n",
    "\n",
    " "
   ]
  },
  {
   "cell_type": "code",
   "execution_count": 11,
   "metadata": {},
   "outputs": [],
   "source": [
    "class Solution:\n",
    "    def intervalIntersection(self, firstList, secondList) :\n",
    "        if firstList is None or secondList is None :\n",
    "            return None\n",
    "        result = []\n",
    "        for i in range(len(firstList)) :\n",
    "            firstone = firstList[i][0]\n",
    "            firsttwo = firstList[i][1]\n",
    "            for j in range(len(secondList)) :\n",
    "                secondone = secondList[j][0]\n",
    "                secondtwo = secondList[j][1]\n",
    "                if ((firstone <= secondone) and (secondone <= firsttwo)) :\n",
    "                    if secondtwo <= firsttwo :\n",
    "                        result.append([secondone, secondtwo])\n",
    "                    else :\n",
    "                        result.append([secondone, firsttwo])\n",
    "                elif ((firstone <= secondtwo) and (secondtwo <= firsttwo)) :\n",
    "                    if secondone <= firstone :\n",
    "                        result.append([firstone, secondtwo])\n",
    "                    else :\n",
    "                        result.append([secondone, secondtwo])\n",
    "                elif ((secondone <= firstone) and (firsttwo <= secondtwo)) :\n",
    "                    result.append([firstone, firsttwo])\n",
    "        return result"
   ]
  },
  {
   "cell_type": "code",
   "execution_count": 12,
   "metadata": {},
   "outputs": [
    {
     "data": {
      "text/plain": [
       "[[1, 2], [5, 5], [8, 10], [15, 23], [24, 24], [25, 25]]"
      ]
     },
     "execution_count": 12,
     "metadata": {},
     "output_type": "execute_result"
    }
   ],
   "source": [
    "firstList = [[0,2],[5,10],[13,23],[24,25]]\n",
    "secondList = [[1,5],[8,12],[15,24],[25,26]]\n",
    "S = Solution()\n",
    "S.intervalIntersection(firstList, secondList)"
   ]
  },
  {
   "cell_type": "code",
   "execution_count": 13,
   "metadata": {},
   "outputs": [
    {
     "data": {
      "text/plain": [
       "[]"
      ]
     },
     "execution_count": 13,
     "metadata": {},
     "output_type": "execute_result"
    }
   ],
   "source": [
    "firstList = [[1,3],[5,9]]\n",
    "secondList = []\n",
    "S = Solution()\n",
    "S.intervalIntersection(firstList, secondList)"
   ]
  },
  {
   "cell_type": "code",
   "execution_count": null,
   "metadata": {},
   "outputs": [],
   "source": []
  }
 ],
 "metadata": {
  "kernelspec": {
   "display_name": "Python 3",
   "language": "python",
   "name": "python3"
  },
  "language_info": {
   "codemirror_mode": {
    "name": "ipython",
    "version": 3
   },
   "file_extension": ".py",
   "mimetype": "text/x-python",
   "name": "python",
   "nbconvert_exporter": "python",
   "pygments_lexer": "ipython3",
   "version": "3.11.4"
  }
 },
 "nbformat": 4,
 "nbformat_minor": 2
}
