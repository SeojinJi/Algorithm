{
 "cells": [
  {
   "cell_type": "markdown",
   "id": "abdf62ce-099a-4957-9565-305fc08fd931",
   "metadata": {},
   "source": [
    "1207. Unique Number of Occurrences\n",
    "\n",
    "Given an array of integers arr, return true if the number of occurrences of each value in the array is unique or false otherwise.\n",
    "\n",
    " \n",
    "\n",
    "Example 1:\n",
    "\n",
    "Input: arr = [1,2,2,1,1,3]\n",
    "Output: true\n",
    "Explanation: The value 1 has 3 occurrences, 2 has 2 and 3 has 1. No two values have the same number of occurrences.\n",
    "Example 2:\n",
    "\n",
    "Input: arr = [1,2]\n",
    "Output: false\n",
    "Example 3:\n",
    "\n",
    "Input: arr = [-3,0,1,-3,1,1,1,-3,10,0]\n",
    "Output: true"
   ]
  },
  {
   "cell_type": "code",
   "execution_count": 1,
   "id": "6afbf275-b146-4dd0-996e-f97414256465",
   "metadata": {},
   "outputs": [],
   "source": [
    "def uniqueOccurrences(arr) :\n",
    "    arrdict = {}\n",
    "    for i in arr :\n",
    "        if i in arrdict :\n",
    "            arrdict[i] += 1\n",
    "        else :\n",
    "            arrdict[i] = 1\n",
    "    arrdictdict = {}\n",
    "    for key, value in arrdict.items() :\n",
    "        if value in arrdictdict :\n",
    "            return False\n",
    "        else :\n",
    "            arrdictdict[value] = 1\n",
    "    return True"
   ]
  },
  {
   "cell_type": "code",
   "execution_count": 2,
   "id": "5df28ca0-1de6-4520-9234-d9f41e80d630",
   "metadata": {},
   "outputs": [
    {
     "data": {
      "text/plain": [
       "True"
      ]
     },
     "execution_count": 2,
     "metadata": {},
     "output_type": "execute_result"
    }
   ],
   "source": [
    "arr = [-3,0,1,-3,1,1,1,-3,10,0]\n",
    "uniqueOccurrences(arr)"
   ]
  },
  {
   "cell_type": "code",
   "execution_count": 3,
   "id": "8a3e1341-aa00-4bfa-8cf6-a0b68d11e8d1",
   "metadata": {},
   "outputs": [
    {
     "data": {
      "text/plain": [
       "True"
      ]
     },
     "execution_count": 3,
     "metadata": {},
     "output_type": "execute_result"
    }
   ],
   "source": [
    "arr = [1,2,2,1,1,3]\n",
    "uniqueOccurrences(arr)"
   ]
  },
  {
   "cell_type": "code",
   "execution_count": 5,
   "id": "ba7e5e75-d438-482d-9ac3-856bd1843c08",
   "metadata": {},
   "outputs": [
    {
     "data": {
      "text/plain": [
       "False"
      ]
     },
     "execution_count": 5,
     "metadata": {},
     "output_type": "execute_result"
    }
   ],
   "source": [
    "arr = [1,2]\n",
    "uniqueOccurrences(arr)"
   ]
  }
 ],
 "metadata": {
  "kernelspec": {
   "display_name": "Python 3 (ipykernel)",
   "language": "python",
   "name": "python3"
  },
  "language_info": {
   "codemirror_mode": {
    "name": "ipython",
    "version": 3
   },
   "file_extension": ".py",
   "mimetype": "text/x-python",
   "name": "python",
   "nbconvert_exporter": "python",
   "pygments_lexer": "ipython3",
   "version": "3.11.4"
  }
 },
 "nbformat": 4,
 "nbformat_minor": 5
}
