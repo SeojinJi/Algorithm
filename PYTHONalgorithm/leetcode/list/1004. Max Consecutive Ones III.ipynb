{
 "cells": [
  {
   "cell_type": "markdown",
   "id": "00d313be-794a-4360-bde3-1ef01841f8fe",
   "metadata": {},
   "source": [
    "1004. Max Consecutive Ones III\n",
    "\n",
    "Given a binary array nums and an integer k, return the maximum number of consecutive 1's in the array if you can flip at most k 0's.\n",
    "\n",
    " \n",
    "\n",
    "Example 1:\n",
    "\n",
    "Input: nums = [1,1,1,0,0,0,1,1,1,1,0], k = 2\n",
    "Output: 6\n",
    "Explanation: [1,1,1,0,0,1,1,1,1,1,1]\n",
    "Bolded numbers were flipped from 0 to 1. The longest subarray is underlined.\n",
    "Example 2:\n",
    "\n",
    "Input: nums = [0,0,1,1,0,0,1,1,1,0,1,1,0,0,0,1,1,1,1], k = 3\n",
    "Output: 10\n",
    "Explanation: [0,0,1,1,1,1,1,1,1,1,1,1,0,0,0,1,1,1,1]\n",
    "Bolded numbers were flipped from 0 to 1. The longest subarray is underlined.\n",
    " "
   ]
  },
  {
   "cell_type": "code",
   "execution_count": 1,
   "id": "e6ea5dcd-3a9e-4617-bdad-0d9e8048b6ea",
   "metadata": {},
   "outputs": [],
   "source": [
    "def longestOnes(nums, k) :\n",
    "    number = 0\n",
    "    start = 0\n",
    "    final = 0\n",
    "    maxnumber = 0\n",
    "    while k > 0 and final < len(nums):\n",
    "        if nums[final] == 1 :\n",
    "            number += 1\n",
    "        else :\n",
    "            k -= 1\n",
    "            number += 1\n",
    "        final += 1\n",
    "    maxnumber = number\n",
    "    while final < len(nums) : \n",
    "        if nums[final] == 0 :\n",
    "            k -= 1\n",
    "            number -= 1\n",
    "        number += 1\n",
    "        if k < 0 :\n",
    "            if nums[start] == 1 :\n",
    "                number -= 1\n",
    "            else :\n",
    "                k += 1\n",
    "            start += 1\n",
    "        if maxnumber < number and k == 0:\n",
    "            maxnumber = number            \n",
    "        final += 1\n",
    "    return maxnumber"
   ]
  },
  {
   "cell_type": "code",
   "execution_count": 2,
   "id": "8dfddd2d-0021-44e6-bd09-a342bd675bb5",
   "metadata": {},
   "outputs": [
    {
     "data": {
      "text/plain": [
       "6"
      ]
     },
     "execution_count": 2,
     "metadata": {},
     "output_type": "execute_result"
    }
   ],
   "source": [
    "nums = [1,1,1,0,0,0,1,1,1,1,0]\n",
    "k = 2\n",
    "longestOnes(nums,k)"
   ]
  },
  {
   "cell_type": "code",
   "execution_count": 3,
   "id": "a4d150a3-99df-4533-a1d3-882091f6bffc",
   "metadata": {},
   "outputs": [
    {
     "data": {
      "text/plain": [
       "10"
      ]
     },
     "execution_count": 3,
     "metadata": {},
     "output_type": "execute_result"
    }
   ],
   "source": [
    "nums = [0,0,1,1,0,0,1,1,1,0,1,1,0,0,0,1,1,1,1]\n",
    "k = 3\n",
    "longestOnes(nums,k)"
   ]
  },
  {
   "cell_type": "code",
   "execution_count": 4,
   "id": "32b45af3-dcd9-494a-a406-06d9ed9f8609",
   "metadata": {},
   "outputs": [
    {
     "data": {
      "text/plain": [
       "4"
      ]
     },
     "execution_count": 4,
     "metadata": {},
     "output_type": "execute_result"
    }
   ],
   "source": [
    "nums = [0,0,0,1]\n",
    "k = 4\n",
    "longestOnes(nums,k)"
   ]
  }
 ],
 "metadata": {
  "kernelspec": {
   "display_name": "Python 3 (ipykernel)",
   "language": "python",
   "name": "python3"
  },
  "language_info": {
   "codemirror_mode": {
    "name": "ipython",
    "version": 3
   },
   "file_extension": ".py",
   "mimetype": "text/x-python",
   "name": "python",
   "nbconvert_exporter": "python",
   "pygments_lexer": "ipython3",
   "version": "3.11.4"
  }
 },
 "nbformat": 4,
 "nbformat_minor": 5
}
