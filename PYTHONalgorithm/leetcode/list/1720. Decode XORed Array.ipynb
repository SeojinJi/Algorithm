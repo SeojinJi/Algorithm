{
 "cells": [
  {
   "cell_type": "markdown",
   "id": "bd9b6e04-5f54-4589-a347-afc9a76bc736",
   "metadata": {},
   "source": [
    "1720. Decode XORed Array\n",
    "\n",
    "There is a hidden integer array arr that consists of n non-negative integers.\n",
    "\n",
    "It was encoded into another integer array encoded of length n - 1, such that encoded[i] = arr[i] XOR arr[i + 1]. For example, if arr = [1,0,2,1], then encoded = [1,2,3].\n",
    "\n",
    "You are given the encoded array. You are also given an integer first, that is the first element of arr, i.e. arr[0].\n",
    "\n",
    "Return the original array arr. It can be proved that the answer exists and is unique.\n",
    "\n",
    " \n",
    "\n",
    "Example 1:\n",
    "\n",
    "Input: encoded = [1,2,3], first = 1\n",
    "Output: [1,0,2,1]\n",
    "Explanation: If arr = [1,0,2,1], then first = 1 and encoded = [1 XOR 0, 0 XOR 2, 2 XOR 1] = [1,2,3]\n",
    "Example 2:\n",
    "\n",
    "Input: encoded = [6,2,7,3], first = 4\n",
    "Output: [4,2,0,7,4]"
   ]
  },
  {
   "cell_type": "code",
   "execution_count": 2,
   "id": "fa4aa88d-8aae-47fd-adb6-8ac4e8ac3adc",
   "metadata": {},
   "outputs": [],
   "source": [
    "def decode(encoded, first) :\n",
    "    decoded = []\n",
    "    number = first\n",
    "    decoded.append(number)\n",
    "    for num in encoded :\n",
    "        number = bin(number)[2:]\n",
    "        num = bin(num)[2:]\n",
    "        if len(number) > len(num) :\n",
    "            length = len(number) - len(num)\n",
    "            num = '0'*length + num\n",
    "        elif len(number) < len(num) :\n",
    "            length = len(num) - len(number)\n",
    "            number = '0'*length + number\n",
    "        result = ''\n",
    "        for i in range(len(number)) :\n",
    "            if number[i] == num[i] :\n",
    "                result += '0'\n",
    "            else :\n",
    "                result += '1'\n",
    "        number = int(result, 2)\n",
    "        decoded.append(number)\n",
    "    return decoded"
   ]
  },
  {
   "cell_type": "code",
   "execution_count": 3,
   "id": "bd34a6a6-5561-4bea-847f-d2a11670b37c",
   "metadata": {},
   "outputs": [
    {
     "data": {
      "text/plain": [
       "[4, 2, 0, 7, 4]"
      ]
     },
     "execution_count": 3,
     "metadata": {},
     "output_type": "execute_result"
    }
   ],
   "source": [
    "encoded = [6,2,7,3]\n",
    "first = 4\n",
    "decode(encoded,first)"
   ]
  },
  {
   "cell_type": "code",
   "execution_count": 4,
   "id": "d79403d6-197d-416f-a85b-1a16524c5132",
   "metadata": {},
   "outputs": [
    {
     "data": {
      "text/plain": [
       "[1, 0, 2, 1]"
      ]
     },
     "execution_count": 4,
     "metadata": {},
     "output_type": "execute_result"
    }
   ],
   "source": [
    "encoded = [1,2,3]\n",
    "first = 1\n",
    "decode(encoded,first)"
   ]
  }
 ],
 "metadata": {
  "kernelspec": {
   "display_name": "Python 3 (ipykernel)",
   "language": "python",
   "name": "python3"
  },
  "language_info": {
   "codemirror_mode": {
    "name": "ipython",
    "version": 3
   },
   "file_extension": ".py",
   "mimetype": "text/x-python",
   "name": "python",
   "nbconvert_exporter": "python",
   "pygments_lexer": "ipython3",
   "version": "3.11.4"
  }
 },
 "nbformat": 4,
 "nbformat_minor": 5
}
