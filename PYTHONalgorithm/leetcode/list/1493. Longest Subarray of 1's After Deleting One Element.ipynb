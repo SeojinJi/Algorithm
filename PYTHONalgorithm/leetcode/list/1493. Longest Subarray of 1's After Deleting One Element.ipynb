{
 "cells": [
  {
   "cell_type": "markdown",
   "id": "3f4433a1-518a-4d4b-ad11-14bdaa6b6eea",
   "metadata": {},
   "source": [
    "1493. Longest Subarray of 1's After Deleting One Element\n",
    "\n",
    "Given a binary array nums, you should delete one element from it.\n",
    "\n",
    "Return the size of the longest non-empty subarray containing only 1's in the resulting array. Return 0 if there is no such subarray.\n",
    "\n",
    " \n",
    "\n",
    "Example 1:\n",
    "\n",
    "Input: nums = [1,1,0,1]\n",
    "Output: 3\n",
    "Explanation: After deleting the number in position 2, [1,1,1] contains 3 numbers with value of 1's.\n",
    "Example 2:\n",
    "\n",
    "Input: nums = [0,1,1,1,0,1,1,0,1]\n",
    "Output: 5\n",
    "Explanation: After deleting the number in position 4, [0,1,1,1,1,1,0,1] longest subarray with value of 1's is [1,1,1,1,1].\n",
    "Example 3:\n",
    "\n",
    "Input: nums = [1,1,1]\n",
    "Output: 2\n",
    "Explanation: You must delete one element.\n",
    " "
   ]
  },
  {
   "cell_type": "code",
   "execution_count": 3,
   "id": "bd95744f-7093-4a04-87a8-e2449f5c13c0",
   "metadata": {},
   "outputs": [],
   "source": [
    "def longestSubarray(nums) : # 이해 필요\n",
    "    number = 0\n",
    "    start = 0\n",
    "    final = 0\n",
    "    maxnumber = 0\n",
    "    k = 1\n",
    "    while final < len(nums) :\n",
    "        if nums[final] == 0 and k > 0 :\n",
    "            k -= 1\n",
    "        elif nums[final] == 0 :\n",
    "            break\n",
    "        else :\n",
    "            number += 1\n",
    "        final += 1\n",
    "    if number == len(nums) :\n",
    "        return len(nums) - 1\n",
    "    maxnumber = number\n",
    "    while final < len(nums) :\n",
    "        if nums[final] == 0 :\n",
    "            k -= 1\n",
    "        else :\n",
    "            number += 1\n",
    "        if k < 0 :\n",
    "            if nums[start] == 0 :\n",
    "                k += 1\n",
    "            else :\n",
    "                number -= 1\n",
    "            start += 1\n",
    "        if maxnumber < number and k == 0 :\n",
    "            maxnumber = number\n",
    "        final += 1\n",
    "    return maxnumber"
   ]
  },
  {
   "cell_type": "code",
   "execution_count": 4,
   "id": "41b51a4b-39cb-4781-beed-972b0eff616b",
   "metadata": {},
   "outputs": [
    {
     "data": {
      "text/plain": [
       "5"
      ]
     },
     "execution_count": 4,
     "metadata": {},
     "output_type": "execute_result"
    }
   ],
   "source": [
    "nums = [0,1,1,1,0,1,1,0,1]\n",
    "longestSubarray(nums)"
   ]
  },
  {
   "cell_type": "code",
   "execution_count": 5,
   "id": "ff36c178-dc9e-424d-bb56-21b22a12141e",
   "metadata": {},
   "outputs": [
    {
     "data": {
      "text/plain": [
       "2"
      ]
     },
     "execution_count": 5,
     "metadata": {},
     "output_type": "execute_result"
    }
   ],
   "source": [
    "nums = [1,1,1]\n",
    "longestSubarray(nums)"
   ]
  },
  {
   "cell_type": "code",
   "execution_count": 6,
   "id": "720e50d6-ebfc-4ec6-a627-31d93dc98289",
   "metadata": {},
   "outputs": [
    {
     "data": {
      "text/plain": [
       "1"
      ]
     },
     "execution_count": 6,
     "metadata": {},
     "output_type": "execute_result"
    }
   ],
   "source": [
    "nums = [0,1,0]\n",
    "longestSubarray(nums)"
   ]
  },
  {
   "cell_type": "code",
   "execution_count": 7,
   "id": "b7c0b918-f68f-4453-b4aa-2745001e0ac0",
   "metadata": {},
   "outputs": [
    {
     "data": {
      "text/plain": [
       "3"
      ]
     },
     "execution_count": 7,
     "metadata": {},
     "output_type": "execute_result"
    }
   ],
   "source": [
    "nums = [1,1,0,1]\n",
    "longestSubarray(nums)"
   ]
  }
 ],
 "metadata": {
  "kernelspec": {
   "display_name": "Python 3 (ipykernel)",
   "language": "python",
   "name": "python3"
  },
  "language_info": {
   "codemirror_mode": {
    "name": "ipython",
    "version": 3
   },
   "file_extension": ".py",
   "mimetype": "text/x-python",
   "name": "python",
   "nbconvert_exporter": "python",
   "pygments_lexer": "ipython3",
   "version": "3.11.4"
  }
 },
 "nbformat": 4,
 "nbformat_minor": 5
}
