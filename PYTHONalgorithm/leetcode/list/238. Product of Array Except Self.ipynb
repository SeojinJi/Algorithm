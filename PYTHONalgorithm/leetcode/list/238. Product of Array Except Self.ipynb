{
 "cells": [
  {
   "cell_type": "markdown",
   "id": "35f5d8ca-4695-4f69-b50b-e730936d1b35",
   "metadata": {},
   "source": [
    "238. Product of Array Except Self\n",
    "\n",
    "Given an integer array nums, return an array answer such that answer[i] is equal to the product of all the elements of nums except nums[i].\n",
    "\n",
    "The product of any prefix or suffix of nums is guaranteed to fit in a 32-bit integer.\n",
    "\n",
    "You must write an algorithm that runs in O(n) time and without using the division operation.\n",
    "\n",
    " \n",
    "\n",
    "Example 1:\n",
    "\n",
    "Input: nums = [1,2,3,4]\n",
    "Output: \n",
    "\n",
    "[24,12,8,6]\n",
    "Example 2:\n",
    "\n",
    "Input: nums = [-1,1,0,-3,3]\n",
    "Output: [0,0,9,0,0]"
   ]
  },
  {
   "cell_type": "code",
   "execution_count": 1,
   "id": "88cfb2bf-2b1a-4a5c-8c15-b8687349c131",
   "metadata": {},
   "outputs": [],
   "source": [
    "def productExceptSelf(nums) : # time limit exceed\n",
    "    answer = []\n",
    "    for i in range(len(nums)) :\n",
    "        number = 1\n",
    "        for j in range(len(nums)) :\n",
    "            if i == j :\n",
    "                continue\n",
    "            number *= nums[j]\n",
    "        answer.append(number)\n",
    "    return answer"
   ]
  },
  {
   "cell_type": "code",
   "execution_count": 2,
   "id": "8f00b073-9151-4236-8912-0a4435caa811",
   "metadata": {},
   "outputs": [],
   "source": [
    "def productExceptSelf(nums) :\n",
    "    answer = []\n",
    "    number = 1\n",
    "    for i in range(len(nums)) :\n",
    "        number *= nums[i]\n",
    "    for i in range(len(nums)) :\n",
    "        if nums[i] != 0 :\n",
    "            answer.append(number//nums[i])\n",
    "        else :\n",
    "            temp = 1\n",
    "            for j in range(len(nums)) :\n",
    "                if i == j :\n",
    "                    continue\n",
    "                temp *= nums[j]\n",
    "            answer.append(temp)\n",
    "    return answer"
   ]
  },
  {
   "cell_type": "code",
   "execution_count": 3,
   "id": "5b863769-f84f-404b-be55-1af4a38a2b30",
   "metadata": {},
   "outputs": [
    {
     "data": {
      "text/plain": [
       "[24, 12, 8, 6]"
      ]
     },
     "execution_count": 3,
     "metadata": {},
     "output_type": "execute_result"
    }
   ],
   "source": [
    "nums = [1,2,3,4]\n",
    "productExceptSelf(nums)"
   ]
  }
 ],
 "metadata": {
  "kernelspec": {
   "display_name": "Python 3 (ipykernel)",
   "language": "python",
   "name": "python3"
  },
  "language_info": {
   "codemirror_mode": {
    "name": "ipython",
    "version": 3
   },
   "file_extension": ".py",
   "mimetype": "text/x-python",
   "name": "python",
   "nbconvert_exporter": "python",
   "pygments_lexer": "ipython3",
   "version": "3.11.4"
  }
 },
 "nbformat": 4,
 "nbformat_minor": 5
}
