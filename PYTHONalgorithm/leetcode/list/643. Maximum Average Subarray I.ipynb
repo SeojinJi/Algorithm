{
 "cells": [
  {
   "cell_type": "markdown",
   "id": "4d1efdf9-0e90-4d11-8806-fc27ea4159c1",
   "metadata": {},
   "source": [
    "643. Maximum Average Subarray I\n",
    "\n",
    "You are given an integer array nums consisting of n elements, and an integer k.\n",
    "\n",
    "Find a contiguous subarray whose length is equal to k that has the maximum average value and return this value. Any answer with a calculation error less than 10-5 will be accepted.\n",
    "\n",
    " \n",
    "\n",
    "Example 1:\n",
    "\n",
    "Input: nums = [1,12,-5,-6,50,3], k = 4\n",
    "Output: 12.75000\n",
    "Explanation: Maximum average is (12 - 5 - 6 + 50) / 4 = 51 / 4 = 12.75\n",
    "Example 2:\n",
    "\n",
    "Input: nums = [5], k = 1\n",
    "Output: 5.00000"
   ]
  },
  {
   "cell_type": "code",
   "execution_count": 1,
   "id": "46ab0955-3b0f-43c9-adb7-5a3d9d910b68",
   "metadata": {},
   "outputs": [],
   "source": [
    "def findMaxAverage(nums, k) : # time limit exceed\n",
    "    start = 0\n",
    "    maximum = -10000\n",
    "    if len(nums) == 1 :\n",
    "        return float(nums[0])\n",
    "    while start + k <= len(nums) :\n",
    "        sum = 0\n",
    "        for i in range(k) :\n",
    "            sum += nums[start+i]\n",
    "        average = sum / k\n",
    "        if maximum < average :\n",
    "            maximum = average\n",
    "        start += 1\n",
    "    return float(maximum)"
   ]
  },
  {
   "cell_type": "code",
   "execution_count": 3,
   "id": "7c4828c0-16b7-46fa-91fe-aac644e8c664",
   "metadata": {},
   "outputs": [
    {
     "data": {
      "text/plain": [
       "2.0"
      ]
     },
     "execution_count": 3,
     "metadata": {},
     "output_type": "execute_result"
    }
   ],
   "source": [
    "nums = [0,1,1,3,3]\n",
    "k = 4\n",
    "findMaxAverage(nums, k)"
   ]
  },
  {
   "cell_type": "code",
   "execution_count": 4,
   "id": "22fe181d-a7f8-447b-a166-0c8b43320f81",
   "metadata": {},
   "outputs": [
    {
     "data": {
      "text/plain": [
       "5.0"
      ]
     },
     "execution_count": 4,
     "metadata": {},
     "output_type": "execute_result"
    }
   ],
   "source": [
    "nums = [5]\n",
    "k = 1\n",
    "findMaxAverage(nums, k)"
   ]
  }
 ],
 "metadata": {
  "kernelspec": {
   "display_name": "Python 3 (ipykernel)",
   "language": "python",
   "name": "python3"
  },
  "language_info": {
   "codemirror_mode": {
    "name": "ipython",
    "version": 3
   },
   "file_extension": ".py",
   "mimetype": "text/x-python",
   "name": "python",
   "nbconvert_exporter": "python",
   "pygments_lexer": "ipython3",
   "version": "3.11.4"
  }
 },
 "nbformat": 4,
 "nbformat_minor": 5
}
