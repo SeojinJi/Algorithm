{
 "cells": [
  {
   "cell_type": "markdown",
   "id": "743a8a51-cce1-41e3-9efd-105ecfce4812",
   "metadata": {},
   "source": [
    "1470. Shuffle the Array\n",
    "\n",
    "Given the array nums consisting of 2n elements in the form [x1,x2,...,xn,y1,y2,...,yn].\n",
    "\n",
    "Return the array in the form [x1,y1,x2,y2,...,xn,yn].\n",
    "\n",
    " \n",
    "\n",
    "Example 1:\n",
    "\n",
    "Input: nums = [2,5,1,3,4,7], n = 3\n",
    "Output: [2,3,5,4,1,7] \n",
    "Explanation: Since x1=2, x2=5, x3=1, y1=3, y2=4, y3=7 then the answer is [2,3,5,4,1,7].\n",
    "Example 2:\n",
    "\n",
    "Input: nums = [1,2,3,4,4,3,2,1], n = 4\n",
    "Output: [1,4,2,3,3,2,4,1]\n",
    "Example 3:\n",
    "\n",
    "Input: nums = [1,1,2,2], n = 2\n",
    "Output: [1,2,1,2]"
   ]
  },
  {
   "cell_type": "code",
   "execution_count": 1,
   "id": "1a4c6690-1d77-4d72-bac2-b32b8916f23b",
   "metadata": {},
   "outputs": [],
   "source": [
    "def shuffle(nums, n) :\n",
    "    numshuffle = []\n",
    "    for i in range(n) :\n",
    "        numshuffle.append(nums[i])\n",
    "        numshuffle.append(nums[n+i])\n",
    "    return numshuffle"
   ]
  },
  {
   "cell_type": "code",
   "execution_count": 3,
   "id": "32a614e8-1044-4451-9a16-8d02e6812462",
   "metadata": {},
   "outputs": [
    {
     "data": {
      "text/plain": [
       "[1, 4, 2, 3, 3, 2, 4, 1]"
      ]
     },
     "execution_count": 3,
     "metadata": {},
     "output_type": "execute_result"
    }
   ],
   "source": [
    "nums = [1,2,3,4,4,3,2,1]\n",
    "n = 4\n",
    "shuffle(nums,n)"
   ]
  },
  {
   "cell_type": "code",
   "execution_count": 4,
   "id": "b1e677ae-52e1-47a7-8889-c9e874e7ce7d",
   "metadata": {},
   "outputs": [
    {
     "data": {
      "text/plain": [
       "[1, 2, 1, 2]"
      ]
     },
     "execution_count": 4,
     "metadata": {},
     "output_type": "execute_result"
    }
   ],
   "source": [
    "nums = [1,1,2,2]\n",
    "n = 2\n",
    "shuffle(nums,n)"
   ]
  }
 ],
 "metadata": {
  "kernelspec": {
   "display_name": "Python 3 (ipykernel)",
   "language": "python",
   "name": "python3"
  },
  "language_info": {
   "codemirror_mode": {
    "name": "ipython",
    "version": 3
   },
   "file_extension": ".py",
   "mimetype": "text/x-python",
   "name": "python",
   "nbconvert_exporter": "python",
   "pygments_lexer": "ipython3",
   "version": "3.11.4"
  }
 },
 "nbformat": 4,
 "nbformat_minor": 5
}
