{
 "cells": [
  {
   "cell_type": "markdown",
   "id": "fbee6d95-3d31-43a9-b49b-1e100908388f",
   "metadata": {},
   "source": [
    "283. Move Zeroes\n",
    "\n",
    "Given an integer array nums, move all 0's to the end of it while maintaining the relative order of the non-zero elements.\n",
    "\n",
    "Note that you must do this in-place without making a copy of the array.\n",
    "\n",
    " \n",
    "\n",
    "Example 1:\n",
    "\n",
    "Input: nums = [0,1,0,3,12]\n",
    "Output: [1,3,12,0,0]\n",
    "Example 2:\n",
    "\n",
    "Input: nums = [0]\n",
    "Output: [0]"
   ]
  },
  {
   "cell_type": "code",
   "execution_count": 2,
   "id": "9f92a0b7-d4e8-4073-9284-c8a0688a781d",
   "metadata": {},
   "outputs": [],
   "source": [
    "def moveZeroes(nums): #time exceed\n",
    "    \"\"\"\n",
    "    Do not return anything, modify nums in-place instead.\n",
    "    \"\"\"\n",
    "    if len(nums) == 0 or len(nums) == 1 : \n",
    "        return\n",
    "    for i in range(len(nums)):\n",
    "        if nums[i] != 0 :\n",
    "            continue\n",
    "        for j in range(i+1, len(nums)) :\n",
    "            if nums[j] == 0 :\n",
    "                continue\n",
    "            nums[i], nums[j] = nums[j], nums[i]\n",
    "            break"
   ]
  },
  {
   "cell_type": "code",
   "execution_count": 3,
   "id": "b6e977f4-790e-4ece-90ae-6e48a48128e7",
   "metadata": {},
   "outputs": [],
   "source": [
    "def moveZeroes(nums): # Solution\n",
    "    slow = 0\n",
    "    for fast in range(len(nums)):\n",
    "        if nums[fast] != 0 and nums[slow] == 0 :\n",
    "            nums[fast], nums[slow] = nums[slow], nums[fast]\n",
    "        if nums[slow] != 0 :\n",
    "            slow += 1"
   ]
  },
  {
   "cell_type": "code",
   "execution_count": 4,
   "id": "57cd4f82-5ec9-4ead-ad93-2ab7b716e185",
   "metadata": {},
   "outputs": [],
   "source": [
    "nums = [0,1,0,3,12]\n",
    "moveZeroes(nums)"
   ]
  }
 ],
 "metadata": {
  "kernelspec": {
   "display_name": "Python 3 (ipykernel)",
   "language": "python",
   "name": "python3"
  },
  "language_info": {
   "codemirror_mode": {
    "name": "ipython",
    "version": 3
   },
   "file_extension": ".py",
   "mimetype": "text/x-python",
   "name": "python",
   "nbconvert_exporter": "python",
   "pygments_lexer": "ipython3",
   "version": "3.11.4"
  }
 },
 "nbformat": 4,
 "nbformat_minor": 5
}
