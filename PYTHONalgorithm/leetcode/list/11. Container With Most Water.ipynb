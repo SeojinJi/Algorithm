{
 "cells": [
  {
   "cell_type": "markdown",
   "id": "3e1d8aa5-b7e8-4d4c-a471-f204d2ec1e11",
   "metadata": {},
   "source": [
    "11. Container With Most Water\n",
    "\n",
    "You are given an integer array height of length n. There are n vertical lines drawn such that the two endpoints of the ith line are (i, 0) and (i, height[i]).\n",
    "\n",
    "Find two lines that together with the x-axis form a container, such that the container contains the most water.\n",
    "\n",
    "Return the maximum amount of water a container can store.\n",
    "\n",
    "Notice that you may not slant the container.\n",
    "\n",
    "Input: height = [1,8,6,2,5,4,8,3,7]\n",
    "Output: 49\n",
    "Explanation: The above vertical lines are represented by array [1,8,6,2,5,4,8,3,7]. \n",
    "In this case, the max area of water (blue section) the container can contain is 49.\n",
    "\n",
    "Example 2:\n",
    "\n",
    "Input: height = [1,1]\n",
    "Output: 1\n"
   ]
  },
  {
   "cell_type": "code",
   "execution_count": 1,
   "id": "2095ae6e-16a7-457e-8837-f9fa7e7f45bf",
   "metadata": {},
   "outputs": [],
   "source": [
    "def maxArea(height) : # memory limit exceed\n",
    "    area = []\n",
    "    for i in range(len(height)):\n",
    "        for j in range(i+1, len(height)):\n",
    "            if height[j] > height[i] :\n",
    "                a = height[i] * (j-i)\n",
    "            else :\n",
    "                a = height[j] * (j-i)\n",
    "            area.append(a)\n",
    "\n",
    "    return max(area)"
   ]
  },
  {
   "cell_type": "code",
   "execution_count": 2,
   "id": "02299bc7-c16d-47e5-b0f2-f7916c431d0d",
   "metadata": {},
   "outputs": [],
   "source": [
    "def maxArea(height) : # time limit exceed\n",
    "    maxarea = 0\n",
    "    for i in range(len(height)) :\n",
    "        for j in range(i+1, len(height)) :\n",
    "            if height[j] > height[i] :\n",
    "                a = height[i] * (j-i)\n",
    "            else :\n",
    "                a = height[j] * (j-i)\n",
    "            if maxarea < a :\n",
    "                maxarea = a\n",
    "    return maxarea"
   ]
  },
  {
   "cell_type": "code",
   "execution_count": 3,
   "id": "173f2a50-39f3-4212-b102-5093149fb9fc",
   "metadata": {},
   "outputs": [],
   "source": [
    "def maxArea(height) :\n",
    "    left = 0\n",
    "    right = len(height) - 1\n",
    "    maxarea = 0\n",
    "    while left < right :\n",
    "        if height[left] < height[right] :\n",
    "            h = height[left]\n",
    "        else :\n",
    "            h = height[right]\n",
    "        area = h * (right-left)\n",
    "        if maxarea < area :\n",
    "            maxarea = area\n",
    "        if height[left] < height[right] :\n",
    "            left += 1\n",
    "        else :\n",
    "            right -= 1\n",
    "    return maxarea"
   ]
  },
  {
   "cell_type": "code",
   "execution_count": 4,
   "id": "a9c8df47-36c7-4f55-9fcd-2a60ec7c18fa",
   "metadata": {},
   "outputs": [
    {
     "data": {
      "text/plain": [
       "49"
      ]
     },
     "execution_count": 4,
     "metadata": {},
     "output_type": "execute_result"
    }
   ],
   "source": [
    "height = [1,8,6,2,5,4,8,3,7]\n",
    "maxArea(height)"
   ]
  }
 ],
 "metadata": {
  "kernelspec": {
   "display_name": "Python 3 (ipykernel)",
   "language": "python",
   "name": "python3"
  },
  "language_info": {
   "codemirror_mode": {
    "name": "ipython",
    "version": 3
   },
   "file_extension": ".py",
   "mimetype": "text/x-python",
   "name": "python",
   "nbconvert_exporter": "python",
   "pygments_lexer": "ipython3",
   "version": "3.11.4"
  }
 },
 "nbformat": 4,
 "nbformat_minor": 5
}
