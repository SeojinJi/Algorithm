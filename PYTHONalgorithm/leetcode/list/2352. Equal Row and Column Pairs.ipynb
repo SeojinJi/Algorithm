{
 "cells": [
  {
   "cell_type": "markdown",
   "id": "b8368a0f-2272-49de-a050-cb80d694c5cb",
   "metadata": {},
   "source": [
    "2352. Equal Row and Column Pairs\n",
    "\n",
    "Given a 0-indexed n x n integer matrix grid, return the number of pairs (ri, cj) such that row ri and column cj are equal.\n",
    "\n",
    "A row and column pair is considered equal if they contain the same elements in the same order (i.e., an equal array).\n",
    "\n",
    "Example 1\n",
    "Input: grid = [[3,2,1],[1,7,6],[2,7,7]]\n",
    "Output: 1\n",
    "Explanation: There is 1 equal row and column pair:\n",
    "- (Row 2, Column 1): [2,7,7]"
   ]
  },
  {
   "cell_type": "code",
   "execution_count": 1,
   "id": "10c86b5a-bdbd-443f-a208-fba2942a5d8c",
   "metadata": {},
   "outputs": [],
   "source": [
    "def equalPairs(grid): # grid = [[3,1,2,2],[1,4,4,5],[2,4,2,2],[2,4,2,2]] 이게 적용이 안됨\n",
    "    number = 0\n",
    "    for i in range(len(grid)) :\n",
    "        pair = []\n",
    "        for j in range(len(grid)) :\n",
    "            pair.append(grid[j][i])\n",
    "        if pair in grid :\n",
    "            number += 1\n",
    "    return number"
   ]
  },
  {
   "cell_type": "code",
   "execution_count": 2,
   "id": "fe7fa4f8-a039-47d6-b871-3c91c4ba2d3b",
   "metadata": {},
   "outputs": [],
   "source": [
    "def equalPairs(grid):\n",
    "    number = 0\n",
    "    for i in range(len(grid)) :\n",
    "        pair = []\n",
    "        for j in range(len(grid)) :\n",
    "            pair.append(grid[j][i])\n",
    "        number += grid.count(pair)\n",
    "    return number"
   ]
  },
  {
   "cell_type": "code",
   "execution_count": 3,
   "id": "fc804418-9165-4892-8fb5-0766351d92dd",
   "metadata": {},
   "outputs": [
    {
     "data": {
      "text/plain": [
       "1"
      ]
     },
     "execution_count": 3,
     "metadata": {},
     "output_type": "execute_result"
    }
   ],
   "source": [
    "grid = [[3,2,1],[1,7,6],[2,7,7]]\n",
    "equalPairs(grid)"
   ]
  },
  {
   "cell_type": "code",
   "execution_count": 4,
   "id": "b5438545-0546-4c9f-82ea-7ec7972f1b31",
   "metadata": {},
   "outputs": [
    {
     "data": {
      "text/plain": [
       "3"
      ]
     },
     "execution_count": 4,
     "metadata": {},
     "output_type": "execute_result"
    }
   ],
   "source": [
    "grid = [[3,1,2,2],[1,4,4,5],[2,4,2,2],[2,4,2,2]]\n",
    "equalPairs(grid)"
   ]
  }
 ],
 "metadata": {
  "kernelspec": {
   "display_name": "Python 3 (ipykernel)",
   "language": "python",
   "name": "python3"
  },
  "language_info": {
   "codemirror_mode": {
    "name": "ipython",
    "version": 3
   },
   "file_extension": ".py",
   "mimetype": "text/x-python",
   "name": "python",
   "nbconvert_exporter": "python",
   "pygments_lexer": "ipython3",
   "version": "3.11.4"
  }
 },
 "nbformat": 4,
 "nbformat_minor": 5
}
