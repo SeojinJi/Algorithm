{
 "cells": [
  {
   "cell_type": "markdown",
   "id": "5a1eac44-8653-446c-a6db-787e7d013b99",
   "metadata": {},
   "source": [
    "1200. Minimum Absolute Difference\n",
    "\n",
    "Given an array of distinct integers arr, find all pairs of elements with the minimum absolute difference of any two elements.\r\n",
    "\r\n",
    "Return a list of pairs in ascending order(with respect to pairs), each pair [a, b] follows\r\n",
    "\r\n",
    "a, b are from arr\r\n",
    "a < b\r\n",
    "b - a equals to the minimum absolute difference of any two elements in arr\r\n",
    " \r\n",
    "\r\n",
    "Example 1:\r\n",
    "\r\n",
    "Input: arr = [4,2,1,3]\r\n",
    "Output: [[1,2],[2,3],[3,4]]\r\n",
    "Explanation: The minimum absolute difference is 1. List all pairs with difference equal to 1 in ascending order.\r\n",
    "Example 2:\r\n",
    "\r\n",
    "Input: arr = [1,3,6,10,15]\r\n",
    "Output: [[1,3]]\r\n",
    "Example 3:\r\n",
    "\r\n",
    "Input: arr = [3,8,-10,23,19,-4,-14,27]\r\n",
    "Output: [[-14,-10],[19,23],[23,27]]"
   ]
  },
  {
   "cell_type": "code",
   "execution_count": 31,
   "id": "b421bf36-d944-47d5-bc7c-20ef415cee50",
   "metadata": {},
   "outputs": [],
   "source": [
    "def minimumAbsDifference(arr) : # time limit exceed\n",
    "    absolutedict = {}\n",
    "    for i in range(len(arr)):\n",
    "        for j in range(i+1, len(arr)):\n",
    "            if arr[i] >= arr[j] :\n",
    "                diff = arr[i] - arr[j]\n",
    "                if diff in absolutedict :\n",
    "                    absolutedict[diff].append([arr[j], arr[i]])\n",
    "                else :\n",
    "                    absolutedict[diff] = [[arr[j], arr[i]]]\n",
    "            else :\n",
    "                diff = arr[j] - arr[i]\n",
    "                if diff in absolutedict :\n",
    "                    absolutedict[diff].append([arr[i], arr[j]])\n",
    "                else :\n",
    "                    absolutedict[diff] = [[arr[i], arr[j]]]\n",
    "    minkey = min(absolutedict)\n",
    "    return sorted(absolutedict[minkey])"
   ]
  },
  {
   "cell_type": "code",
   "execution_count": 35,
   "id": "2fda7bf1-e6fa-4c5a-a669-3f4f9c1e20f3",
   "metadata": {},
   "outputs": [],
   "source": [
    "def minimumAbsDifference(arr) :\n",
    "    arr = sorted(arr)\n",
    "    absolutedict = {}\n",
    "    for i in range(len(arr)-1) :\n",
    "        diff = arr[i+1] - arr[i]\n",
    "        if diff in absolutedict :\n",
    "            absolutedict[diff].append([arr[i], arr[i+1]])\n",
    "        else :\n",
    "            absolutedict[diff] = [[arr[i], arr[i+1]]]\n",
    "    minkey = min(absolutedict)\n",
    "    return sorted(absolutedict[minkey])"
   ]
  },
  {
   "cell_type": "code",
   "execution_count": 36,
   "id": "4e1222aa-5063-43a6-8150-c459809910fc",
   "metadata": {},
   "outputs": [
    {
     "data": {
      "text/plain": [
       "[[1, 2], [2, 3], [3, 4]]"
      ]
     },
     "execution_count": 36,
     "metadata": {},
     "output_type": "execute_result"
    }
   ],
   "source": [
    "arr = [4,2,1,3]\n",
    "minimumAbsDifference(arr)"
   ]
  },
  {
   "cell_type": "code",
   "execution_count": 37,
   "id": "3c43635f-a83e-48cf-91b4-75c3b97ea51f",
   "metadata": {},
   "outputs": [
    {
     "data": {
      "text/plain": [
       "[1, 2, 3, 4]"
      ]
     },
     "execution_count": 37,
     "metadata": {},
     "output_type": "execute_result"
    }
   ],
   "source": [
    "arr = [4,2,1,3]\n",
    "arr = sorted(arr)\n",
    "arr"
   ]
  }
 ],
 "metadata": {
  "kernelspec": {
   "display_name": "Python 3 (ipykernel)",
   "language": "python",
   "name": "python3"
  },
  "language_info": {
   "codemirror_mode": {
    "name": "ipython",
    "version": 3
   },
   "file_extension": ".py",
   "mimetype": "text/x-python",
   "name": "python",
   "nbconvert_exporter": "python",
   "pygments_lexer": "ipython3",
   "version": "3.11.4"
  }
 },
 "nbformat": 4,
 "nbformat_minor": 5
}
