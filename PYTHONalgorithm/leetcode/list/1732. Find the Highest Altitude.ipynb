{
 "cells": [
  {
   "cell_type": "markdown",
   "id": "50676864-81f3-487f-9f21-26356845be08",
   "metadata": {},
   "source": [
    "1732. Find the Highest Altitude\n",
    "\n",
    "There is a biker going on a road trip. The road trip consists of n + 1 points at different altitudes. The biker starts his trip on point 0 with altitude equal 0.\n",
    "\n",
    "You are given an integer array gain of length n where gain[i] is the net gain in altitude between points i​​​​​​ and i + 1 for all (0 <= i < n). Return the highest altitude of a point.\n",
    "\n",
    " \n",
    "\n",
    "Example 1:\n",
    "\n",
    "Input: gain = [-5,1,5,0,-7]\n",
    "Output: 1\n",
    "Explanation: The altitudes are [0,-5,-4,1,1,-6]. The highest is 1.\n",
    "Example 2:\n",
    "\n",
    "Input: gain = [-4,-3,-2,-1,4,3,2]\n",
    "Output: 0\n",
    "Explanation: The altitudes are [0,-4,-7,-9,-10,-6,-3,-1]. The highest is 0."
   ]
  },
  {
   "cell_type": "code",
   "execution_count": 1,
   "id": "346c6cc2-f269-48ab-99fa-0d1d70d80055",
   "metadata": {},
   "outputs": [],
   "source": [
    "def largestAltitude(gain):\n",
    "    largest = 0\n",
    "    altitude = 0\n",
    "    for i in gain :\n",
    "        altitude += i\n",
    "        if largest < altitude :\n",
    "            largest = altitude\n",
    "    return largest"
   ]
  },
  {
   "cell_type": "code",
   "execution_count": 2,
   "id": "44212d7f-6a6c-4648-acec-31ecd467b757",
   "metadata": {},
   "outputs": [
    {
     "data": {
      "text/plain": [
       "0"
      ]
     },
     "execution_count": 2,
     "metadata": {},
     "output_type": "execute_result"
    }
   ],
   "source": [
    "gain = [-4,-3,-2,-1,4,3,2]\n",
    "largestAltitude(gain)"
   ]
  },
  {
   "cell_type": "code",
   "execution_count": 3,
   "id": "fb553cb0-fc2a-4f31-b988-fb6613a277b8",
   "metadata": {},
   "outputs": [
    {
     "data": {
      "text/plain": [
       "1"
      ]
     },
     "execution_count": 3,
     "metadata": {},
     "output_type": "execute_result"
    }
   ],
   "source": [
    "gain = [-5,1,5,0,-7]\n",
    "largestAltitude(gain)"
   ]
  }
 ],
 "metadata": {
  "kernelspec": {
   "display_name": "Python 3 (ipykernel)",
   "language": "python",
   "name": "python3"
  },
  "language_info": {
   "codemirror_mode": {
    "name": "ipython",
    "version": 3
   },
   "file_extension": ".py",
   "mimetype": "text/x-python",
   "name": "python",
   "nbconvert_exporter": "python",
   "pygments_lexer": "ipython3",
   "version": "3.11.4"
  }
 },
 "nbformat": 4,
 "nbformat_minor": 5
}
