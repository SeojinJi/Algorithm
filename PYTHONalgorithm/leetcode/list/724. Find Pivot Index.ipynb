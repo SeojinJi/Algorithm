{
 "cells": [
  {
   "cell_type": "markdown",
   "id": "f24fabde",
   "metadata": {},
   "source": [
    "724. Find Pivot Index\n",
    "\n",
    "Given an array of integers nums, calculate the pivot index of this array.\n",
    "\n",
    "The pivot index is the index where the sum of all the numbers strictly to the left of the index is equal to the sum of all the numbers strictly to the index's right.\n",
    "\n",
    "If the index is on the left edge of the array, then the left sum is 0 because there are no elements to the left. This also applies to the right edge of the array.\n",
    "\n",
    "Return the leftmost pivot index. If no such index exists, return -1.\n",
    "\n",
    " \n",
    "\n",
    "Example 1:\n",
    "\n",
    "Input: nums = [1,7,3,6,5,6]\n",
    "Output: 3\n",
    "Explanation:\n",
    "The pivot index is 3.\n",
    "Left sum = nums[0] + nums[1] + nums[2] = 1 + 7 + 3 = 11\n",
    "Right sum = nums[4] + nums[5] = 5 + 6 = 11\n",
    "Example 2:\n",
    "\n",
    "Input: nums = [1,2,3]\n",
    "Output: -1\n",
    "Explanation:\n",
    "There is no index that satisfies the conditions in the problem statement.\n",
    "Example 3:\n",
    "\n",
    "Input: nums = [2,1,-1]\n",
    "Output: 0\n",
    "Explanation:\n",
    "The pivot index is 0.\n",
    "Left sum = 0 (no elements to the left of index 0)\n",
    "Right sum = nums[1] + nums[2] = 1 + -1 = 0"
   ]
  },
  {
   "cell_type": "code",
   "execution_count": 1,
   "id": "cb043f05-949b-4723-8006-b93fff8ed650",
   "metadata": {},
   "outputs": [],
   "source": [
    "def pivotIndex(nums):\n",
    "    index = 0\n",
    "    sumleft = 0\n",
    "    sumright = 0\n",
    "    for n in nums :\n",
    "        sumright += n # sumright에는 총합이 들어있음\n",
    "    while index < len(nums) :\n",
    "        if index == 0 :\n",
    "            sumright -= nums[index]\n",
    "        else : \n",
    "            sumleft += nums[index-1]\n",
    "            sumright -= nums[index]\n",
    "        print('sumright = ', sumright, 'sumleft = ', sumleft)\n",
    "        if sumright == sumleft :\n",
    "            return index\n",
    "        index += 1\n",
    "    return -1        "
   ]
  },
  {
   "cell_type": "code",
   "execution_count": 2,
   "id": "e25e8b23-f8e5-45dc-ad31-a5e16c20ba96",
   "metadata": {},
   "outputs": [
    {
     "name": "stdout",
     "output_type": "stream",
     "text": [
      "sumright =  27 sumleft =  0\n",
      "sumright =  20 sumleft =  1\n",
      "sumright =  17 sumleft =  8\n",
      "sumright =  11 sumleft =  11\n"
     ]
    },
    {
     "data": {
      "text/plain": [
       "3"
      ]
     },
     "execution_count": 2,
     "metadata": {},
     "output_type": "execute_result"
    }
   ],
   "source": [
    "nums = [1,7,3,6,5,6]\n",
    "pivotIndex(nums)"
   ]
  }
 ],
 "metadata": {
  "kernelspec": {
   "display_name": "Python 3 (ipykernel)",
   "language": "python",
   "name": "python3"
  },
  "language_info": {
   "codemirror_mode": {
    "name": "ipython",
    "version": 3
   },
   "file_extension": ".py",
   "mimetype": "text/x-python",
   "name": "python",
   "nbconvert_exporter": "python",
   "pygments_lexer": "ipython3",
   "version": "3.11.4"
  }
 },
 "nbformat": 4,
 "nbformat_minor": 5
}
