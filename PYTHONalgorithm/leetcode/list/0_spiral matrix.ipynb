{
 "cells": [
  {
   "cell_type": "markdown",
   "metadata": {},
   "source": [
    "54. Spiral Matrix\n",
    "Given an m x n matrix, return all elements of the matrix in spiral order."
   ]
  },
  {
   "attachments": {
    "spiral1.jpg": {
     "image/jpeg": "[encoded data removed]"
    }
   },
   "cell_type": "markdown",
   "metadata": {},
   "source": [
    "![spiral1.jpg](attachment:spiral1.jpg)"
   ]
  },
  {
   "cell_type": "markdown",
   "metadata": {},
   "source": [
    "Input: matrix = [[1,2,3],[4,5,6],[7,8,9]]\n",
    "Output: [1,2,3,6,9,8,7,4,5]"
   ]
  },
  {
   "cell_type": "code",
   "execution_count": 1,
   "metadata": {},
   "outputs": [],
   "source": [
    "class Solution:\n",
    "    def spiralOrder(self, matrix) :\n",
    "        m = len(matrix)\n",
    "        n = len(matrix[0])\n",
    "        total = m * n\n",
    "        top = left = 0\n",
    "        bottom = m - 1\n",
    "        right = n -1 \n",
    "        num = 0\n",
    "        result = []\n",
    "\n",
    "        while num < total :\n",
    "            # 위쪽 행\n",
    "            for i in range(left, right+1):\n",
    "                result.append(matrix[top][i])\n",
    "                num += 1\n",
    "            top += 1\n",
    "            if num >= total :\n",
    "                break\n",
    "            \n",
    "            # 오른쪽 열\n",
    "            for i in range(top, bottom+1) :\n",
    "                result.append(matrix[i][right])\n",
    "                num += 1\n",
    "            right -= 1\n",
    "            if num >= total :\n",
    "                break\n",
    "\n",
    "            # 아래쪽 행\n",
    "            for i in range(right, left - 1, -1) :\n",
    "                result.append(matrix[bottom][i])\n",
    "                num += 1\n",
    "            bottom -= 1\n",
    "            if num >= total :\n",
    "                break\n",
    "\n",
    "            # 왼쪽 행\n",
    "            for i in range(bottom, top -1, -1) :\n",
    "                result.append(matrix[i][left])\n",
    "                num += 1\n",
    "            left += 1\n",
    "            if num >= total :\n",
    "                break\n",
    "        return result"
   ]
  },
  {
   "cell_type": "code",
   "execution_count": 3,
   "metadata": {},
   "outputs": [
    {
     "data": {
      "text/plain": [
       "[1, 2, 3, 4, 8, 12, 11, 10, 9, 5, 6, 7]"
      ]
     },
     "execution_count": 3,
     "metadata": {},
     "output_type": "execute_result"
    }
   ],
   "source": [
    "matrix = [[1,2,3,4],[5,6,7,8],[9,10,11,12]]\n",
    "S = Solution()\n",
    "S.spiralOrder(matrix)"
   ]
  },
  {
   "cell_type": "code",
   "execution_count": null,
   "metadata": {},
   "outputs": [],
   "source": []
  }
 ],
 "metadata": {
  "kernelspec": {
   "display_name": "Python 3",
   "language": "python",
   "name": "python3"
  },
  "language_info": {
   "codemirror_mode": {
    "name": "ipython",
    "version": 3
   },
   "file_extension": ".py",
   "mimetype": "text/x-python",
   "name": "python",
   "nbconvert_exporter": "python",
   "pygments_lexer": "ipython3",
   "version": "3.11.4"
  }
 },
 "nbformat": 4,
 "nbformat_minor": 2
}
