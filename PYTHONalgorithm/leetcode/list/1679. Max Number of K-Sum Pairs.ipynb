{
 "cells": [
  {
   "cell_type": "markdown",
   "id": "3efbd9cb-96fc-4c97-8b0b-fae492c474f8",
   "metadata": {},
   "source": [
    "1679. Max Number of K-Sum Pairs\n",
    "\n",
    "You are given an integer array nums and an integer k.\n",
    "\n",
    "In one operation, you can pick two numbers from the array whose sum equals k and remove them from the array.\n",
    "\n",
    "Return the maximum number of operations you can perform on the array.\n",
    "\n",
    " \n",
    "\n",
    "Example 1:\n",
    "\n",
    "Input: nums = [1,2,3,4], k = 5\n",
    "Output: 2\n",
    "Explanation: Starting with nums = [1,2,3,4]:\n",
    "- Remove numbers 1 and 4, then nums = [2,3]\n",
    "- Remove numbers 2 and 3, then nums = []\n",
    "There are no more pairs that sum up to 5, hence a total of 2 operations.\n",
    "Example 2:\n",
    "\n",
    "Input: nums = [3,1,3,4,3], k = 6\n",
    "Output: 1\n",
    "Explanation: Starting with nums = [3,1,3,4,3]:\n",
    "- Remove the first two 3's, then nums = [1,4,3]\n",
    "There are no more pairs that sum up to 6, hence a total of 1 operation."
   ]
  },
  {
   "cell_type": "code",
   "execution_count": 1,
   "id": "4bb6dc7b-ebfd-4d8f-bca9-818fc3244c8e",
   "metadata": {},
   "outputs": [],
   "source": [
    "def maxOperations(nums, k): # time limit exceed\n",
    "    oper = 0\n",
    "    for i in range(len(nums)) :\n",
    "        if nums[i] == 0 :\n",
    "            continue\n",
    "        for j in range(i+1, len(nums)) :\n",
    "            if nums[j] == 0 :\n",
    "                continue\n",
    "            if nums[i] + nums[j] != k :\n",
    "                continue\n",
    "            oper += 1\n",
    "            nums[i] = 0\n",
    "            nums[j] = 0\n",
    "            break\n",
    "    return oper"
   ]
  },
  {
   "cell_type": "code",
   "execution_count": 2,
   "id": "828b60f3-0fa6-4b94-bfc6-df907308c6e1",
   "metadata": {},
   "outputs": [],
   "source": [
    "def maxOperations(nums,k) :\n",
    "    nums.sort()\n",
    "    oper = 0\n",
    "    left = 0\n",
    "    right = len(nums) - 1\n",
    "    while left < right :\n",
    "        if nums[left] + nums[right] == k :\n",
    "            oper += 1\n",
    "            left += 1\n",
    "            right -= 1\n",
    "        elif nums[left] + nums[right] > k :\n",
    "            right -= 1\n",
    "        else :\n",
    "            left += 1\n",
    "    return oper"
   ]
  },
  {
   "cell_type": "code",
   "execution_count": 3,
   "id": "874f31a3-7185-43e2-9e15-2cb0008387e0",
   "metadata": {},
   "outputs": [
    {
     "data": {
      "text/plain": [
       "2"
      ]
     },
     "execution_count": 3,
     "metadata": {},
     "output_type": "execute_result"
    }
   ],
   "source": [
    "nums = [4,4,1,3,1,3,2,2,5,5,1,5,2,1,2,3,5,4]\n",
    "k = 2\n",
    "maxOperations(nums,k)"
   ]
  },
  {
   "cell_type": "code",
   "execution_count": 4,
   "id": "df5d45dd-84d9-4ad2-9e1c-8a0f102cc4e4",
   "metadata": {},
   "outputs": [
    {
     "data": {
      "text/plain": [
       "2"
      ]
     },
     "execution_count": 4,
     "metadata": {},
     "output_type": "execute_result"
    }
   ],
   "source": [
    "nums = [1,2,3,4]\n",
    "k = 5\n",
    "maxOperations(nums,k)"
   ]
  },
  {
   "cell_type": "code",
   "execution_count": 5,
   "id": "2a49d14b-39a5-4a5a-8d73-ae2ef240f9f5",
   "metadata": {},
   "outputs": [
    {
     "data": {
      "text/plain": [
       "1"
      ]
     },
     "execution_count": 5,
     "metadata": {},
     "output_type": "execute_result"
    }
   ],
   "source": [
    "nums = [3,1,3,4,3]\n",
    "k = 6\n",
    "maxOperations(nums,k)"
   ]
  }
 ],
 "metadata": {
  "kernelspec": {
   "display_name": "Python 3 (ipykernel)",
   "language": "python",
   "name": "python3"
  },
  "language_info": {
   "codemirror_mode": {
    "name": "ipython",
    "version": 3
   },
   "file_extension": ".py",
   "mimetype": "text/x-python",
   "name": "python",
   "nbconvert_exporter": "python",
   "pygments_lexer": "ipython3",
   "version": "3.11.4"
  }
 },
 "nbformat": 4,
 "nbformat_minor": 5
}
