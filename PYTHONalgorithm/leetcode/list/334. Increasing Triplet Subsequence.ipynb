{
 "cells": [
  {
   "cell_type": "markdown",
   "id": "c55adae4",
   "metadata": {},
   "source": [
    "334. Increasing Triplet Subsequence\n",
    "\n",
    "Given an integer array nums, return true if there exists a triple of indices (i, j, k) such that i < j < k and nums[i] < nums[j] < nums[k]. If no such indices exists, return false.\n",
    "\n",
    " \n",
    "\n",
    "Example 1:\n",
    "\n",
    "Input: nums = [1,2,3,4,5]\n",
    "Output: true\n",
    "Explanation: Any triplet where i < j < k is valid.\n",
    "Example 2:\n",
    "\n",
    "Input: nums = [5,4,3,2,1]\n",
    "Output: false\n",
    "Explanation: No triplet exists.\n",
    "Example 3:\n",
    "\n",
    "Input: nums = [2,1,5,0,4,6]\n",
    "Output: true\n",
    "Explanation: The triplet (3, 4, 5) is valid because nums[3] == 0 < nums[4] == 4 < nums[5] == 6."
   ]
  },
  {
   "cell_type": "code",
   "execution_count": 1,
   "id": "29073016-e09a-42bc-8cca-babe3dc54476",
   "metadata": {},
   "outputs": [],
   "source": [
    "def increasingTriplet(nums): # 연속된 숫자일 때 / 문제는 연속되지 않은 숫자의 경우 어떻게 해야하느냐인데...\n",
    "    for i in range(len(nums)) :\n",
    "        if i+1 == len(nums) or i+2 == len(nums) :\n",
    "            continue\n",
    "        if nums[i] >= nums[i+1] :\n",
    "            continue\n",
    "        elif nums[i+1] >= nums[i+2] :\n",
    "            continue\n",
    "        else :\n",
    "            return True\n",
    "    return False"
   ]
  },
  {
   "cell_type": "code",
   "execution_count": 2,
   "id": "d2f5c7cd-55b9-412e-bcff-9939ba01b4c7",
   "metadata": {},
   "outputs": [],
   "source": [
    "def increasingTriplet(nums): # 0,4,1,2 같은 숫자는 적용 불가\n",
    "    for i in range(len(nums)) :\n",
    "        number = 0\n",
    "        value = nums[i]\n",
    "        for j in range(i+1, len(nums)):\n",
    "            if value < nums[j] :\n",
    "                value = nums[j]\n",
    "                number += 1\n",
    "        if number >= 2 :\n",
    "            return True\n",
    "    return False"
   ]
  },
  {
   "cell_type": "code",
   "execution_count": 3,
   "id": "556a1495-7fb5-423f-a4df-d5a57d234558",
   "metadata": {},
   "outputs": [],
   "source": [
    "def increasingTriplet(nums) : #time limit exceed\n",
    "    increase = {}\n",
    "    for i in range(len(nums)):\n",
    "        increase[i] = nums[i]\n",
    "    increase = sorted(increase.items(), key = lambda x : x[1])\n",
    "    print(increase)\n",
    "    for i in range(len(increase)):\n",
    "        index = increase[i][0]\n",
    "        value = increase[i][1]\n",
    "        number = 0\n",
    "        for j in range(i+1,len(increase)) :\n",
    "            if index < increase[j][0] and value != increase[j][1] :\n",
    "                index = increase[j][0]\n",
    "                value = increase[j][1]\n",
    "                number += 1\n",
    "        if number >= 2 :\n",
    "            return True\n",
    "    return False"
   ]
  },
  {
   "cell_type": "code",
   "execution_count": 4,
   "id": "e5a9c76e-3e61-4c74-a45c-836dfa82a1eb",
   "metadata": {},
   "outputs": [],
   "source": [
    "def increasingTriplet(nums) : # Solution\n",
    "    first = second = float('inf')\n",
    "    for n in nums :\n",
    "        if n <= first :\n",
    "            first = n\n",
    "        elif n <= second :\n",
    "            second = n\n",
    "        else :\n",
    "            return True\n",
    "    return False"
   ]
  },
  {
   "cell_type": "code",
   "execution_count": 5,
   "id": "4d3cdcd6-ed1c-4799-9cb3-b5809bdf442a",
   "metadata": {},
   "outputs": [
    {
     "data": {
      "text/plain": [
       "False"
      ]
     },
     "execution_count": 5,
     "metadata": {},
     "output_type": "execute_result"
    }
   ],
   "source": [
    "nums = [5,1,6]\n",
    "increasingTriplet(nums)"
   ]
  },
  {
   "cell_type": "code",
   "execution_count": 6,
   "id": "b319ae8b-618f-411b-ace4-a35eb89226a5",
   "metadata": {},
   "outputs": [
    {
     "data": {
      "text/plain": [
       "True"
      ]
     },
     "execution_count": 6,
     "metadata": {},
     "output_type": "execute_result"
    }
   ],
   "source": [
    "nums = [2,1,5,0,4,6]\n",
    "increasingTriplet(nums)"
   ]
  }
 ],
 "metadata": {
  "kernelspec": {
   "display_name": "Python 3 (ipykernel)",
   "language": "python",
   "name": "python3"
  },
  "language_info": {
   "codemirror_mode": {
    "name": "ipython",
    "version": 3
   },
   "file_extension": ".py",
   "mimetype": "text/x-python",
   "name": "python",
   "nbconvert_exporter": "python",
   "pygments_lexer": "ipython3",
   "version": "3.11.4"
  }
 },
 "nbformat": 4,
 "nbformat_minor": 5
}
