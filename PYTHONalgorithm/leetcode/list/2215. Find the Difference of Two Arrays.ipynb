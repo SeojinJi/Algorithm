{
 "cells": [
  {
   "cell_type": "markdown",
   "id": "245d30b1",
   "metadata": {},
   "source": [
    "2215. Find the Difference of Two Arrays\n",
    "\n",
    "Given two 0-indexed integer arrays nums1 and nums2, return a list answer of size 2 where:\n",
    "\n",
    "answer[0] is a list of all distinct integers in nums1 which are not present in nums2.\n",
    "answer[1] is a list of all distinct integers in nums2 which are not present in nums1.\n",
    "Note that the integers in the lists may be returned in any order.\n",
    "\n",
    " \n",
    "\n",
    "Example 1:\n",
    "\n",
    "Input: nums1 = [1,2,3], nums2 = [2,4,6]\n",
    "Output: [[1,3],[4,6]]\n",
    "Explanation:\n",
    "For nums1, nums1[1] = 2 is present at index 0 of nums2, whereas nums1[0] = 1 and nums1[2] = 3 are not present in nums2. Therefore, answer[0] = [1,3].\n",
    "For nums2, nums2[0] = 2 is present at index 1 of nums1, whereas nums2[1] = 4 and nums2[2] = 6 are not present in nums2. Therefore, answer[1] = [4,6].\n",
    "Example 2:\n",
    "\n",
    "Input: nums1 = [1,2,3,3], nums2 = [1,1,2,2]\n",
    "Output: [[3],[]]\n",
    "Explanation:\n",
    "For nums1, nums1[2] and nums1[3] are not present in nums2. Since nums1[2] == nums1[3], their value is only included once and answer[0] = [3].\n",
    "Every integer in nums2 is present in nums1. Therefore, answer[1] = []."
   ]
  },
  {
   "cell_type": "code",
   "execution_count": 1,
   "id": "13c7a69b-f7e6-43f3-a5c2-f784e71536da",
   "metadata": {},
   "outputs": [],
   "source": [
    "def findDifference(nums1, nums2) :\n",
    "    nums1dict = {}\n",
    "    answer = [[],[]]\n",
    "    for i in nums1 :\n",
    "        nums1dict[i] = 1\n",
    "    for j in nums2 :\n",
    "        if j in nums1dict :\n",
    "            nums1dict[j] = 0\n",
    "        else :\n",
    "            answer[1].append(j)\n",
    "    for key, value in nums1dict.items() :\n",
    "        if value != 0 :\n",
    "            answer[0].append(key)\n",
    "    return answer"
   ]
  },
  {
   "cell_type": "code",
   "execution_count": 3,
   "id": "7d0a0f15-e3d7-4716-9340-d5435a7b60c3",
   "metadata": {},
   "outputs": [],
   "source": [
    "def findDifference(nums1, nums2) :\n",
    "    s2 = set(nums2)\n",
    "    s1 = set(nums1)\n",
    "    return [list(s1-s2), list(s2-s1)]"
   ]
  },
  {
   "cell_type": "code",
   "execution_count": 4,
   "id": "cc3f29cb-3a6e-4b00-a773-bf71bbf8802b",
   "metadata": {},
   "outputs": [
    {
     "data": {
      "text/plain": [
       "[[1, 3], [4, 6]]"
      ]
     },
     "execution_count": 4,
     "metadata": {},
     "output_type": "execute_result"
    }
   ],
   "source": [
    "nums1 = [1,2,3]\n",
    "nums2 = [2,4,6]\n",
    "findDifference(nums1, nums2)"
   ]
  },
  {
   "cell_type": "code",
   "execution_count": 5,
   "id": "47504aca-dced-4c13-9bf7-4f3072d71504",
   "metadata": {},
   "outputs": [
    {
     "data": {
      "text/plain": [
       "[[3], []]"
      ]
     },
     "execution_count": 5,
     "metadata": {},
     "output_type": "execute_result"
    }
   ],
   "source": [
    "nums1 = [1,2,3,3]\n",
    "nums2 = [1,1,2,2]\n",
    "findDifference(nums1, nums2)"
   ]
  }
 ],
 "metadata": {
  "kernelspec": {
   "display_name": "Python 3 (ipykernel)",
   "language": "python",
   "name": "python3"
  },
  "language_info": {
   "codemirror_mode": {
    "name": "ipython",
    "version": 3
   },
   "file_extension": ".py",
   "mimetype": "text/x-python",
   "name": "python",
   "nbconvert_exporter": "python",
   "pygments_lexer": "ipython3",
   "version": "3.11.4"
  }
 },
 "nbformat": 4,
 "nbformat_minor": 5
}
