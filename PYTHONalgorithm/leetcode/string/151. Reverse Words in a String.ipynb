{
 "cells": [
  {
   "cell_type": "markdown",
   "id": "a3dfa059",
   "metadata": {},
   "source": [
    "151. Reverse Words in a String\n",
    "\n",
    "Given an input string s, reverse the order of the words.\n",
    "\n",
    "A word is defined as a sequence of non-space characters. The words in s will be separated by at least one space.\n",
    "\n",
    "Return a string of the words in reverse order concatenated by a single space.\n",
    "\n",
    "Note that s may contain leading or trailing spaces or multiple spaces between two words. The returned string should only have a single space separating the words. Do not include any extra spaces.\n",
    "\n",
    " \n",
    "\n",
    "Example 1:\n",
    "\n",
    "Input: s = \"the sky is blue\"\n",
    "Output: \"blue is sky the\"\n",
    "Example 2:\n",
    "\n",
    "Input: s = \"  hello world  \"\n",
    "Output: \"world hello\"\n",
    "Explanation: Your reversed string should not contain leading or trailing spaces.\n",
    "Example 3:\n",
    "\n",
    "Input: s = \"a good   example\"\n",
    "Output: \"example good a\"\n",
    "Explanation: You need to reduce multiple spaces between two words to a single space in the reversed string."
   ]
  },
  {
   "cell_type": "code",
   "execution_count": 1,
   "id": "5a380422-fffc-43ae-bfff-e0931bbc9ab1",
   "metadata": {},
   "outputs": [],
   "source": [
    "def reverseWords(s): \n",
    "    word = []\n",
    "    temp = \"\"\n",
    "    for i in range(len(s)+1) :\n",
    "        if i == len(s) or s[i] == ' ':\n",
    "            if temp == \"\" :\n",
    "                continue\n",
    "            word.append(temp)\n",
    "            temp = \"\"\n",
    "        else :\n",
    "            temp += s[i]\n",
    "\n",
    "    if len(word) == 0 or len(word) == 1 :\n",
    "        return s\n",
    "\n",
    "    else :\n",
    "        if len(word) %2 == 0 :\n",
    "            a = len(word) // 2\n",
    "            i = 1\n",
    "            while a + i <= len(word) and a - i >= 0 :\n",
    "                word[a+i-1], word[a-i] = word[a-i], word[a+i-1]\n",
    "                i += 1\n",
    "        else :\n",
    "            a = len(word) // 2\n",
    "            i = 1\n",
    "            while a - i >= 0 :\n",
    "                word[a-i], word[a+i] = word[a+i], word[a-i]\n",
    "                i += 1\n",
    "\n",
    "    sentence = \"\"\n",
    "    for i in range(len(word)) :\n",
    "        sentence += word[i]\n",
    "        if i == len(word) - 1 :\n",
    "            break\n",
    "        sentence += \" \"\n",
    "        \n",
    "    return sentence"
   ]
  },
  {
   "cell_type": "code",
   "execution_count": 2,
   "id": "6fdd1729-c6a7-490d-a91b-5f13d3c0b4d1",
   "metadata": {},
   "outputs": [
    {
     "data": {
      "text/plain": [
       "'example good a'"
      ]
     },
     "execution_count": 2,
     "metadata": {},
     "output_type": "execute_result"
    }
   ],
   "source": [
    "s = \"a good example\"\n",
    "reverseWords(s)"
   ]
  },
  {
   "cell_type": "markdown",
   "metadata": {},
   "source": []
  }
 ],
 "metadata": {
  "kernelspec": {
   "display_name": "Python 3 (ipykernel)",
   "language": "python",
   "name": "python3"
  },
  "language_info": {
   "codemirror_mode": {
    "name": "ipython",
    "version": 3
   },
   "file_extension": ".py",
   "mimetype": "text/x-python",
   "name": "python",
   "nbconvert_exporter": "python",
   "pygments_lexer": "ipython3",
   "version": "3.11.4"
  }
 },
 "nbformat": 4,
 "nbformat_minor": 5
}
