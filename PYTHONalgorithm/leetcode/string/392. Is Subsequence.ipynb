{
 "cells": [
  {
   "cell_type": "markdown",
   "id": "b40ef29a-b491-4aca-92e1-4ad73fc5258b",
   "metadata": {},
   "source": [
    "392. Is Subsequence\n",
    "\n",
    "Given two strings s and t, return true if s is a subsequence of t, or false otherwise.\n",
    "\n",
    "A subsequence of a string is a new string that is formed from the original string by deleting some (can be none) of the characters without disturbing the relative positions of the remaining characters. (i.e., \"ace\" is a subsequence of \"abcde\" while \"aec\" is not).\n",
    "\n",
    " \n",
    "\n",
    "Example 1:\n",
    "\n",
    "Input: s = \"abc\", t = \"ahbgdc\"\n",
    "Output: true\n",
    "Example 2:\n",
    "\n",
    "Input: s = \"axc\", t = \"ahbgdc\"\n",
    "Output: false"
   ]
  },
  {
   "cell_type": "code",
   "execution_count": 1,
   "id": "9b75c425-cfe8-419c-a037-93715912af16",
   "metadata": {},
   "outputs": [],
   "source": [
    "def isSubsequence(s, t): #ab와 baab는 true인데 false를 반환함 -> 어떻게 해결해야하지\n",
    "    slist = [] \n",
    "    tlist = []\n",
    "    for chars in s :\n",
    "        slist.append(chars)\n",
    "    for i in range(len(t)) :\n",
    "        if t[i] in slist :\n",
    "            tlist.append(t[i])\n",
    "    if len(slist) != len(tlist) :\n",
    "        return False\n",
    "    for i in range(len(slist)):\n",
    "        if slist[i] != tlist[i] :\n",
    "            return False\n",
    "    return True"
   ]
  },
  {
   "cell_type": "code",
   "execution_count": 2,
   "id": "bd51a590-9223-479c-a8a8-e0797cf20b77",
   "metadata": {},
   "outputs": [],
   "source": [
    "def isSubsequence(s, t):\n",
    "    if len(s) == 0 :\n",
    "        return True\n",
    "    slist = [] \n",
    "    tlist = []\n",
    "    for chars in s :\n",
    "        slist.append(chars)\n",
    "    for i in range(len(t)) :\n",
    "        if t[i] in slist :\n",
    "            tlist.append(t[i])\n",
    "    slisti = 0\n",
    "    tlisti = 0\n",
    "    while tlisti < len(tlist) :\n",
    "        if slist[slisti] == tlist[tlisti] :\n",
    "            slisti += 1\n",
    "            tlisti += 1\n",
    "            if slisti == len(slist) :\n",
    "                return True\n",
    "        else :\n",
    "            tlisti += 1\n",
    "    return False"
   ]
  },
  {
   "cell_type": "code",
   "execution_count": 3,
   "id": "d97ea5f4-6317-4ca2-bd5b-8050ca9193da",
   "metadata": {},
   "outputs": [
    {
     "data": {
      "text/plain": [
       "True"
      ]
     },
     "execution_count": 3,
     "metadata": {},
     "output_type": "execute_result"
    }
   ],
   "source": [
    "s = \"ab\"\n",
    "t = \"baab\"\n",
    "isSubsequence(s,t)"
   ]
  },
  {
   "cell_type": "code",
   "execution_count": 4,
   "id": "da7c3a77-47fd-48a6-8b7e-b6c62a0ef6fa",
   "metadata": {},
   "outputs": [
    {
     "data": {
      "text/plain": [
       "True"
      ]
     },
     "execution_count": 4,
     "metadata": {},
     "output_type": "execute_result"
    }
   ],
   "source": [
    "s = \"abc\"\n",
    "t = \"ahbgdc\"\n",
    "isSubsequence(s,t)"
   ]
  },
  {
   "cell_type": "code",
   "execution_count": 5,
   "id": "ea9e327d-0baa-425e-85ff-5b57ed977956",
   "metadata": {},
   "outputs": [
    {
     "data": {
      "text/plain": [
       "False"
      ]
     },
     "execution_count": 5,
     "metadata": {},
     "output_type": "execute_result"
    }
   ],
   "source": [
    "s = \"axc\"\n",
    "t = \"ahbgdc\"\n",
    "isSubsequence(s,t)"
   ]
  }
 ],
 "metadata": {
  "kernelspec": {
   "display_name": "Python 3 (ipykernel)",
   "language": "python",
   "name": "python3"
  },
  "language_info": {
   "codemirror_mode": {
    "name": "ipython",
    "version": 3
   },
   "file_extension": ".py",
   "mimetype": "text/x-python",
   "name": "python",
   "nbconvert_exporter": "python",
   "pygments_lexer": "ipython3",
   "version": "3.11.4"
  }
 },
 "nbformat": 4,
 "nbformat_minor": 5
}
