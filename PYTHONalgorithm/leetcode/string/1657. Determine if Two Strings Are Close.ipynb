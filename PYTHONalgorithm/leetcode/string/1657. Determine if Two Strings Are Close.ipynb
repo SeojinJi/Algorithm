{
 "cells": [
  {
   "cell_type": "markdown",
   "id": "f7a0f0f5-974b-43ae-bcf7-53ef47bfc3d8",
   "metadata": {},
   "source": [
    "1657. Determine if Two Strings Are Close\n",
    "\n",
    "Two strings are considered close if you can attain one from the other using the following operations:\n",
    "\n",
    "Operation 1: Swap any two existing characters.\n",
    "For example, abcde -> aecdb\n",
    "Operation 2: Transform every occurrence of one existing character into another existing character, and do the same with the other character.\n",
    "For example, aacabb -> bbcbaa (all a's turn into b's, and all b's turn into a's)\n",
    "You can use the operations on either string as many times as necessary.\n",
    "\n",
    "Given two strings, word1 and word2, return true if word1 and word2 are close, and false otherwise.\n",
    "\n",
    " \n",
    "\n",
    "Example 1:\n",
    "\n",
    "Input: word1 = \"abc\", word2 = \"bca\"\n",
    "Output: true\n",
    "Explanation: You can attain word2 from word1 in 2 operations.\n",
    "Apply Operation 1: \"abc\" -> \"acb\"\n",
    "Apply Operation 1: \"acb\" -> \"bca\"\n",
    "Example 2:\n",
    "\n",
    "Input: word1 = \"a\", word2 = \"aa\"\n",
    "Output: false\n",
    "Explanation: It is impossible to attain word2 from word1, or vice versa, in any number of operations.\n",
    "Example 3:\n",
    "\n",
    "Input: word1 = \"cabbba\", word2 = \"abbccc\"\n",
    "Output: true\n",
    "Explanation: You can attain word2 from word1 in 3 operations.\n",
    "Apply Operation 1: \"cabbba\" -> \"caabbb\"\n",
    "Apply Operation 2: \"caabbb\" -> \"baaccc\"\n",
    "Apply Operation 2: \"baaccc\" -> \"abbccc\""
   ]
  },
  {
   "cell_type": "code",
   "execution_count": 1,
   "id": "674750c7-9166-430f-8665-422f664af8b8",
   "metadata": {},
   "outputs": [],
   "source": [
    "def closeStrings(word1, word2) :\n",
    "    word1dict = {}\n",
    "    word2dict = {}\n",
    "    if len(word1) != len(word2) : # 우선 글자수가 동일하지 않으면 False 출력\n",
    "        return False\n",
    "    for c1 in word1 :\n",
    "        if c1 in word1dict :\n",
    "            word1dict[c1] += 1\n",
    "        else :\n",
    "            word1dict[c1] = 1\n",
    "    for c2 in word2 :\n",
    "        if c2 not in word1dict : # word1에 없는 character가 등장하면 False 출력\n",
    "            return False\n",
    "        if c2 in word2dict :\n",
    "            word2dict[c2] += 1\n",
    "        else :\n",
    "            word2dict[c2] = 1\n",
    "    dict1dict = {}\n",
    "    for key, value in word1dict.items() : # 이걸 또 value 값에 대해 정리\n",
    "        if value in dict1dict :\n",
    "            dict1dict[value] += 1\n",
    "        else :\n",
    "            dict1dict[value] = 1\n",
    "    for key, value in word2dict.items() : # 그걸 word2dict와 비교\n",
    "        if value in dict1dict and dict1dict[value] > 0 :\n",
    "            dict1dict[value] -= 1\n",
    "        else :\n",
    "            return False\n",
    "    return True"
   ]
  },
  {
   "cell_type": "code",
   "execution_count": 2,
   "id": "ba92fd96-96d0-4480-b40d-bb356cb1a5e6",
   "metadata": {},
   "outputs": [],
   "source": [
    "def closeStrings(word1: str, word2: str) -> bool:\n",
    "    word1arr = [0] * 26\n",
    "    word2arr = [0] * 26\n",
    "\n",
    "    for c1 in word1 :\n",
    "        word1arr[ord(c1) - ord('a')] += 1\n",
    "    for c2 in word2 :\n",
    "        word2arr[ord(c2) - ord('a')] += 1\n",
    "\n",
    "    for i in range(len(word1arr)) :\n",
    "        if (word1arr[i] == 0 and word2arr[i] != 0) or (word1arr[i] != 0 and word2arr[i] == 0) :\n",
    "            return False\n",
    "\n",
    "    word1arr = sorted(word1arr) # O(nlogn)\n",
    "    word2arr = sorted(word2arr)\n",
    "\n",
    "    for i in range(len(word1arr)) :\n",
    "        if word1arr[i] != word2arr[i] :\n",
    "            return False\n",
    "\n",
    "    return True"
   ]
  },
  {
   "cell_type": "code",
   "execution_count": 3,
   "id": "d4416547-42b4-4d07-bd5c-7cf25ea4fc0a",
   "metadata": {},
   "outputs": [
    {
     "data": {
      "text/plain": [
       "True"
      ]
     },
     "execution_count": 3,
     "metadata": {},
     "output_type": "execute_result"
    }
   ],
   "source": [
    "word1 = \"cabbba\"\n",
    "word2 = \"abbccc\"\n",
    "closeStrings(word1, word2)"
   ]
  },
  {
   "cell_type": "code",
   "execution_count": 4,
   "id": "194d8bb2-eb57-41a6-82d5-a7ce38d371f4",
   "metadata": {},
   "outputs": [
    {
     "data": {
      "text/plain": [
       "False"
      ]
     },
     "execution_count": 4,
     "metadata": {},
     "output_type": "execute_result"
    }
   ],
   "source": [
    "word1 = \"a\"\n",
    "word2 = \"aa\"\n",
    "closeStrings(word1, word2)"
   ]
  },
  {
   "cell_type": "code",
   "execution_count": 5,
   "id": "8199ab29-dc1f-417f-bc58-62e4f729e76a",
   "metadata": {},
   "outputs": [
    {
     "data": {
      "text/plain": [
       "False"
      ]
     },
     "execution_count": 5,
     "metadata": {},
     "output_type": "execute_result"
    }
   ],
   "source": [
    "word1 = \"a\"\n",
    "word2 = \"aa\"\n",
    "closeStrings(word1, word2)"
   ]
  },
  {
   "cell_type": "code",
   "execution_count": 6,
   "id": "cf19a2bf-2663-49ac-a8d4-6ac6819d431c",
   "metadata": {},
   "outputs": [
    {
     "data": {
      "text/plain": [
       "False"
      ]
     },
     "execution_count": 6,
     "metadata": {},
     "output_type": "execute_result"
    }
   ],
   "source": [
    "word1 = \"ac\"\n",
    "word2 = \"c\"\n",
    "closeStrings(word1, word2)"
   ]
  }
 ],
 "metadata": {
  "kernelspec": {
   "display_name": "Python 3 (ipykernel)",
   "language": "python",
   "name": "python3"
  },
  "language_info": {
   "codemirror_mode": {
    "name": "ipython",
    "version": 3
   },
   "file_extension": ".py",
   "mimetype": "text/x-python",
   "name": "python",
   "nbconvert_exporter": "python",
   "pygments_lexer": "ipython3",
   "version": "3.11.4"
  }
 },
 "nbformat": 4,
 "nbformat_minor": 5
}
