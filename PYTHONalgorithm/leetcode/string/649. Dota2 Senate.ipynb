{
 "cells": [
  {
   "cell_type": "markdown",
   "id": "13525440-f876-4b0c-8b5d-47820e72820e",
   "metadata": {},
   "source": [
    "649. Dota2 Senate\n",
    "\n",
    "In the world of Dota2, there are two parties: the Radiant and the Dire.\n",
    "\n",
    "The Dota2 senate consists of senators coming from two parties. Now the Senate wants to decide on a change in the Dota2 game. The voting for this change is a round-based procedure. In each round, each senator can exercise one of the two rights:\n",
    "\n",
    "Ban one senator's right: A senator can make another senator lose all his rights in this and all the following rounds.\n",
    "Announce the victory: If this senator found the senators who still have rights to vote are all from the same party, he can announce the victory and decide on the change in the game.\n",
    "Given a string senate representing each senator's party belonging. The character 'R' and 'D' represent the Radiant party and the Dire party. Then if there are n senators, the size of the given string will be n.\n",
    "\n",
    "The round-based procedure starts from the first senator to the last senator in the given order. This procedure will last until the end of voting. All the senators who have lost their rights will be skipped during the procedure.\n",
    "\n",
    "Suppose every senator is smart enough and will play the best strategy for his own party. Predict which party will finally announce the victory and change the Dota2 game. The output should be \"Radiant\" or \"Dire\".\n",
    "\n",
    " \n",
    "\n",
    "Example 1:\n",
    "\n",
    "Input: senate = \"RD\"\n",
    "Output: \"Radiant\"\n",
    "Explanation: \n",
    "The first senator comes from Radiant and he can just ban the next senator's right in round 1. \n",
    "And the second senator can't exercise any rights anymore since his right has been banned. \n",
    "And in round 2, the first senator can just announce the victory since he is the only guy in the senate who can vote.\n",
    "Example 2:\n",
    "\n",
    "Input: senate = \"RDD\"\n",
    "Output: \"Dire\"\n",
    "Explanation: \n",
    "The first senator comes from Radiant and he can just ban the next senator's right in round 1. \n",
    "And the second senator can't exercise any rights anymore since his right has been banned. \n",
    "And the third senator comes from Dire and he can ban the first senator's right in round 1. \n",
    "And in round 2, the third senator can just announce the victory since he is the only guy in the senate who can vote."
   ]
  },
  {
   "cell_type": "code",
   "execution_count": 1,
   "id": "6cfc421d-094c-41ed-8b13-eabd4c1f9df9",
   "metadata": {},
   "outputs": [],
   "source": [
    "def predictPartyVictory(senate):\n",
    "    radiant = []\n",
    "    dire = []\n",
    "    for i in range(len(senate)) :\n",
    "        if senate[i] == 'R' :\n",
    "            radiant.append(i)\n",
    "        else :\n",
    "            dire.append(i)\n",
    "    number = len(senate)\n",
    "    while len(radiant) != 0 and len(dire) != 0 :\n",
    "        r = radiant.pop(0)\n",
    "        d = dire.pop(0)\n",
    "        if r < d :\n",
    "            radiant.append(number)\n",
    "        else :\n",
    "            dire.append(number)\n",
    "        number += 1\n",
    "    if len(radiant) == 0 :\n",
    "        result = \"Dire\"\n",
    "    else :\n",
    "        result = \"Radiant\"\n",
    "    return result"
   ]
  },
  {
   "cell_type": "code",
   "execution_count": 2,
   "id": "a0d85a05-1dd7-4ab5-8e7f-17b11ea4e1d9",
   "metadata": {},
   "outputs": [
    {
     "data": {
      "text/plain": [
       "'Radiant'"
      ]
     },
     "execution_count": 2,
     "metadata": {},
     "output_type": "execute_result"
    }
   ],
   "source": [
    "senate = \"DDRRRR\"\n",
    "predictPartyVictory(senate)"
   ]
  },
  {
   "cell_type": "code",
   "execution_count": 3,
   "id": "07557450-dab3-4285-942d-c1a0f96963ec",
   "metadata": {},
   "outputs": [
    {
     "data": {
      "text/plain": [
       "'Dire'"
      ]
     },
     "execution_count": 3,
     "metadata": {},
     "output_type": "execute_result"
    }
   ],
   "source": [
    "senate = \"DDDDRRDDDRDRDRRDDRDDDRDRRRRDRRRRRDRDDRDDRRDDRRRDDRRRDDDDRRRRRRRDDRRRDDRDDDRRRDRDDRDDDRRDRRDRRRDRDRDR\"\n",
    "predictPartyVictory(senate)"
   ]
  }
 ],
 "metadata": {
  "kernelspec": {
   "display_name": "Python 3 (ipykernel)",
   "language": "python",
   "name": "python3"
  },
  "language_info": {
   "codemirror_mode": {
    "name": "ipython",
    "version": 3
   },
   "file_extension": ".py",
   "mimetype": "text/x-python",
   "name": "python",
   "nbconvert_exporter": "python",
   "pygments_lexer": "ipython3",
   "version": "3.11.4"
  }
 },
 "nbformat": 4,
 "nbformat_minor": 5
}
