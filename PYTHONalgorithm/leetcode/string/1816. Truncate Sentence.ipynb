{
 "cells": [
  {
   "cell_type": "markdown",
   "id": "1c9bf362-56e0-4f1c-87e7-480e4df89e3d",
   "metadata": {},
   "source": [
    "1816. Truncate Sentence\n",
    "\n",
    "A sentence is a list of words that are separated by a single space with no leading or trailing spaces. Each of the words consists of only uppercase and lowercase English letters (no punctuation).\n",
    "\n",
    "For example, \"Hello World\", \"HELLO\", and \"hello world hello world\" are all sentences.\n",
    "You are given a sentence s​​​​​​ and an integer k​​​​​​. You want to truncate s​​​​​​ such that it contains only the first k​​​​​​ words. Return s​​​​​​ after truncating it.\n",
    "\n",
    " \n",
    "\n",
    "Example 1:\n",
    "\n",
    "Input: s = \"Hello how are you Contestant\", k = 4\n",
    "Output: \"Hello how are you\"\n",
    "Explanation:\n",
    "The words in s are [\"Hello\", \"how\" \"are\", \"you\", \"Contestant\"].\n",
    "The first 4 words are [\"Hello\", \"how\", \"are\", \"you\"].\n",
    "Hence, you should return \"Hello how are you\".\n",
    "Example 2:\n",
    "\n",
    "Input: s = \"What is the solution to this problem\", k = 4\n",
    "Output: \"What is the solution\"\n",
    "Explanation:\n",
    "The words in s are [\"What\", \"is\" \"the\", \"solution\", \"to\", \"this\", \"problem\"].\n",
    "The first 4 words are [\"What\", \"is\", \"the\", \"solution\"].\n",
    "Hence, you should return \"What is the solution\".\n",
    "Example 3:\n",
    "\n",
    "Input: s = \"chopper is not a tanuki\", k = 5\n",
    "Output: \"chopper is not a tanuki\""
   ]
  },
  {
   "cell_type": "code",
   "execution_count": 1,
   "id": "1d2b6c6b-821a-45d2-830e-208132881543",
   "metadata": {},
   "outputs": [],
   "source": [
    "def truncateSentence(s, k):\n",
    "    word = ''\n",
    "    words = []\n",
    "    for c in s :\n",
    "        if c == ' ' :\n",
    "            words.append(word)\n",
    "            word = ''\n",
    "        else :\n",
    "            word += c\n",
    "    words.append(word)\n",
    "    sentence = ''\n",
    "    for i in range(k) :\n",
    "        sentence += words[i]\n",
    "        if i == k-1 :\n",
    "            break\n",
    "        else :\n",
    "            sentence += ' '\n",
    "    return sentence"
   ]
  },
  {
   "cell_type": "code",
   "execution_count": 2,
   "id": "ea1ad583-ecc2-4417-b9e4-c2822c4010ae",
   "metadata": {},
   "outputs": [],
   "source": [
    "def truncateSentence(s, k):\n",
    "    word = ''\n",
    "    number = 0\n",
    "    for c in s :\n",
    "        if c == ' ' :\n",
    "            number += 1\n",
    "            if number == k :\n",
    "                return word\n",
    "        word += c\n",
    "    return word"
   ]
  },
  {
   "cell_type": "code",
   "execution_count": 3,
   "id": "6a86ac26-2e2a-41f1-8a22-d7337f1596de",
   "metadata": {},
   "outputs": [
    {
     "data": {
      "text/plain": [
       "'chopper is not a tanuki'"
      ]
     },
     "execution_count": 3,
     "metadata": {},
     "output_type": "execute_result"
    }
   ],
   "source": [
    "s = \"chopper is not a tanuki\"\n",
    "k = 5\n",
    "truncateSentence(s,k)"
   ]
  }
 ],
 "metadata": {
  "kernelspec": {
   "display_name": "Python 3 (ipykernel)",
   "language": "python",
   "name": "python3"
  },
  "language_info": {
   "codemirror_mode": {
    "name": "ipython",
    "version": 3
   },
   "file_extension": ".py",
   "mimetype": "text/x-python",
   "name": "python",
   "nbconvert_exporter": "python",
   "pygments_lexer": "ipython3",
   "version": "3.11.4"
  }
 },
 "nbformat": 4,
 "nbformat_minor": 5
}
