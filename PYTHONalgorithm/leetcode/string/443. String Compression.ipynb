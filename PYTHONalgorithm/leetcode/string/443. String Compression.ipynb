{
 "cells": [
  {
   "cell_type": "markdown",
   "id": "e539b167-fe37-4875-9a1f-1bdcef7fe623",
   "metadata": {},
   "source": [
    "443. String Compression\n",
    "\n",
    "Given an array of characters chars, compress it using the following algorithm:\n",
    "\n",
    "Begin with an empty string s. For each group of consecutive repeating characters in chars:\n",
    "\n",
    "If the group's length is 1, append the character to s.\n",
    "Otherwise, append the character followed by the group's length.\n",
    "The compressed string s should not be returned separately, but instead, be stored in the input character array chars. Note that group lengths that are 10 or longer will be split into multiple characters in chars.\n",
    "\n",
    "After you are done modifying the input array, return the new length of the array.\n",
    "\n",
    "You must write an algorithm that uses only constant extra space.\n",
    "\n",
    " \n",
    "\n",
    "Example 1:\n",
    "\n",
    "Input: chars = [\"a\",\"a\",\"b\",\"b\",\"c\",\"c\",\"c\"]\n",
    "Output: Return 6, and the first 6 characters of the input array should be: [\"a\",\"2\",\"b\",\"2\",\"c\",\"3\"]\n",
    "Explanation: The groups are \"aa\", \"bb\", and \"ccc\". This compresses to \"a2b2c3\".\n",
    "Example 2:\n",
    "\n",
    "Input: chars = [\"a\"]\n",
    "Output: Return 1, and the first character of the input array should be: [\"a\"]\n",
    "Explanation: The only group is \"a\", which remains uncompressed since it's a single character.\n",
    "Example 3:\n",
    "\n",
    "Input: chars = [\"a\",\"b\",\"b\",\"b\",\"b\",\"b\",\"b\",\"b\",\"b\",\"b\",\"b\",\"b\",\"b\"]\n",
    "Output: Return 4, and the first 4 characters of the input array should be: [\"a\",\"b\",\"1\",\"2\"].\n",
    "Explanation: The groups are \"a\" and \"bbbbbbbbbbbb\". This compresses to \"ab12\"."
   ]
  },
  {
   "cell_type": "code",
   "execution_count": 1,
   "id": "873eb628-a87f-4463-bf44-e47939899b8e",
   "metadata": {},
   "outputs": [],
   "source": [
    "def compress(chars): \n",
    "    result = \"\"\n",
    "    if len(chars) == 1 :\n",
    "        result += chars[0]\n",
    "        return result\n",
    "    i = 1\n",
    "    temp = chars[0]\n",
    "    number = 1\n",
    "    while i < len(chars) :\n",
    "        if temp != chars[i] :\n",
    "            result += temp\n",
    "            if number > 1 :\n",
    "                result += str(number)\n",
    "                number = 1 \n",
    "            temp = chars[i]\n",
    "            i += 1\n",
    "            continue\n",
    "        else :\n",
    "            number += 1\n",
    "            i += 1\n",
    "    result += temp\n",
    "    if number > 1 :\n",
    "        result += str(number)\n",
    "    return result"
   ]
  },
  {
   "cell_type": "code",
   "execution_count": 2,
   "id": "aa72fb49-ac1b-46e4-ac9a-57b005efd650",
   "metadata": {},
   "outputs": [
    {
     "data": {
      "text/plain": [
       "'ab12'"
      ]
     },
     "execution_count": 2,
     "metadata": {},
     "output_type": "execute_result"
    }
   ],
   "source": [
    "chars = [\"a\",\"b\",\"b\",\"b\",\"b\",\"b\",\"b\",\"b\",\"b\",\"b\",\"b\",\"b\",\"b\"]\n",
    "compress(chars)"
   ]
  }
 ],
 "metadata": {
  "kernelspec": {
   "display_name": "Python 3 (ipykernel)",
   "language": "python",
   "name": "python3"
  },
  "language_info": {
   "codemirror_mode": {
    "name": "ipython",
    "version": 3
   },
   "file_extension": ".py",
   "mimetype": "text/x-python",
   "name": "python",
   "nbconvert_exporter": "python",
   "pygments_lexer": "ipython3",
   "version": "3.11.4"
  }
 },
 "nbformat": 4,
 "nbformat_minor": 5
}
