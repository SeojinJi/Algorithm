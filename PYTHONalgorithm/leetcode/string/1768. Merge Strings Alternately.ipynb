{
 "cells": [
  {
   "cell_type": "markdown",
   "id": "f8cdeba6-8eaa-4710-8539-34d0a4e7c25e",
   "metadata": {},
   "source": [
    "1768. Merge Strings Alternately\n",
    "\n",
    "Example 1:\n",
    "\n",
    "Input: word1 = \"abc\", word2 = \"pqr\"\n",
    "Output: \"apbqcr\"\n",
    "Explanation: The merged string will be merged as so:\n",
    "word1:  a   b   c\n",
    "word2:    p   q   r\n",
    "merged: a p b q c r\n",
    "Example 2:\n",
    "\n",
    "Input: word1 = \"ab\", word2 = \"pqrs\"\n",
    "Output: \"apbqrs\"\n",
    "Explanation: Notice that as word2 is longer, \"rs\" is appended to the end.\n",
    "word1:  a   b \n",
    "word2:    p   q   r   s\n",
    "merged: a p b q   r   s\n",
    "Example 3:\n",
    "\n",
    "Input: word1 = \"abcd\", word2 = \"pq\"\n",
    "Output: \"apbqcd\"\n",
    "Explanation: Notice that as word1 is longer, \"cd\" is appended to the end.\n",
    "word1:  a   b   c   d\n",
    "word2:    p   q \n",
    "merged: a p b q c   d\n",
    "merged: a p b q c   d\n",
    "merged: a p b q c   d"
   ]
  },
  {
   "cell_type": "code",
   "execution_count": 1,
   "id": "0dd3f579-cabc-4f80-a684-d23a19acdef1",
   "metadata": {},
   "outputs": [],
   "source": [
    "class Solution:\n",
    "    def mergeAlternately(self, word1: str, word2: str) -> str:\n",
    "        word1len = len(word1)\n",
    "        word2len = len(word2)\n",
    "        wordlen = 0\n",
    "        if word1len > word2len :\n",
    "            wordlen = word2len\n",
    "        else :\n",
    "            wordlen = word1len\n",
    "        wordsum = \"\"\n",
    "        \n",
    "        for i in range(wordlen):\n",
    "            wordsum += word1[i]\n",
    "            wordsum += word2[i]\n",
    "\n",
    "        if word1len > word2len :\n",
    "            for j in range(word2len, word1len):\n",
    "                wordsum += word1[j]\n",
    "\n",
    "        if word2len > word1len:\n",
    "            for j in range(word1len, word2len):\n",
    "                wordsum += word2[j]\n",
    "        \n",
    "        return wordsum"
   ]
  },
  {
   "cell_type": "code",
   "execution_count": 4,
   "id": "1a59a203-96cc-4419-b075-dd8067b7fe05",
   "metadata": {},
   "outputs": [
    {
     "data": {
      "text/plain": [
       "'apbqcr'"
      ]
     },
     "execution_count": 4,
     "metadata": {},
     "output_type": "execute_result"
    }
   ],
   "source": [
    "S = Solution()\n",
    "word1 = \"abc\"\n",
    "word2 = \"pqr\"\n",
    "result = S.mergeAlternately(word1, word2)\n",
    "result"
   ]
  }
 ],
 "metadata": {
  "kernelspec": {
   "display_name": "Python 3 (ipykernel)",
   "language": "python",
   "name": "python3"
  },
  "language_info": {
   "codemirror_mode": {
    "name": "ipython",
    "version": 3
   },
   "file_extension": ".py",
   "mimetype": "text/x-python",
   "name": "python",
   "nbconvert_exporter": "python",
   "pygments_lexer": "ipython3",
   "version": "3.11.4"
  }
 },
 "nbformat": 4,
 "nbformat_minor": 5
}
