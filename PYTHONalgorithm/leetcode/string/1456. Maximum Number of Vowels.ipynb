{
 "cells": [
  {
   "cell_type": "markdown",
   "id": "176b198b-097d-4a85-85d4-670e8facafa0",
   "metadata": {},
   "source": [
    "1456. Maximum Number of Vowels in a Substring of Given Length\n",
    "\n",
    "Given a string s and an integer k, return the maximum number of vowel letters in any substring of s with length k.\n",
    "\n",
    "Vowel letters in English are 'a', 'e', 'i', 'o', and 'u'.\n",
    "\n",
    " \n",
    "\n",
    "Example 1:\n",
    "\n",
    "Input: s = \"abciiidef\", k = 3\n",
    "Output: 3\n",
    "Explanation: The substring \"iii\" contains 3 vowel letters.\n",
    "Example 2:\n",
    "\n",
    "Input: s = \"aeiou\", k = 2\n",
    "Output: 2\n",
    "Explanation: Any substring of length 2 contains 2 vowels.\n",
    "Example 3:\n",
    "\n",
    "Input: s = \"leetcode\", k = 3\n",
    "Output: 2\n",
    "Explanation: \"lee\", \"eet\" and \"ode\" contain 2 vowels."
   ]
  },
  {
   "cell_type": "code",
   "execution_count": 1,
   "id": "a55f016f-d53c-4a71-b487-f38f22a43fcd",
   "metadata": {},
   "outputs": [],
   "source": [
    "def maxVowels(s, k):\n",
    "    vowelslist = []\n",
    "    for i in range(len(s)) :\n",
    "        if s[i] in ['a','e','i','o','u'] :\n",
    "            vowelslist.append(1)\n",
    "        else :\n",
    "            vowelslist.append(0)\n",
    "    sumvowels = sum(vowelslist[:k])\n",
    "    start = 1\n",
    "    maximumvowels = sumvowels\n",
    "    while start + k <= len(vowelslist) :\n",
    "        sumvowels = sumvowels - vowelslist[start-1] + vowelslist[start+k-1]\n",
    "        if maximumvowels < sumvowels :\n",
    "            maximumvowels = sumvowels\n",
    "        start += 1\n",
    "    return maximumvowels"
   ]
  },
  {
   "cell_type": "code",
   "execution_count": 2,
   "id": "63fd8e61-cf6a-4aa1-ab4f-10f0ef56daaf",
   "metadata": {},
   "outputs": [
    {
     "data": {
      "text/plain": [
       "2"
      ]
     },
     "execution_count": 2,
     "metadata": {},
     "output_type": "execute_result"
    }
   ],
   "source": [
    "s = \"leetcode\" \n",
    "k = 3\n",
    "maxVowels(s,k)"
   ]
  }
 ],
 "metadata": {
  "kernelspec": {
   "display_name": "Python 3 (ipykernel)",
   "language": "python",
   "name": "python3"
  },
  "language_info": {
   "codemirror_mode": {
    "name": "ipython",
    "version": 3
   },
   "file_extension": ".py",
   "mimetype": "text/x-python",
   "name": "python",
   "nbconvert_exporter": "python",
   "pygments_lexer": "ipython3",
   "version": "3.11.4"
  }
 },
 "nbformat": 4,
 "nbformat_minor": 5
}
