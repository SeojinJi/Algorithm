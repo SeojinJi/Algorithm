{
 "cells": [
  {
   "cell_type": "code",
   "execution_count": 1,
   "metadata": {},
   "outputs": [
    {
     "name": "stdout",
     "output_type": "stream",
     "text": [
      "abb\n",
      "abb\n",
      "bab\n",
      "bba\n",
      "bab\n",
      "bba\n"
     ]
    }
   ],
   "source": [
    "from itertools import permutations\n",
    "number = 'abb'\n",
    "perms = permutations(number)\n",
    "for perm in perms :\n",
    "    print(''.join(perm))"
   ]
  },
  {
   "cell_type": "code",
   "execution_count": 7,
   "metadata": {},
   "outputs": [],
   "source": [
    "def permutations(nums) :\n",
    "    result = []\n",
    "    def generate(current, remaining) :\n",
    "        if len(remaining) == 0 :\n",
    "            result.append(current)\n",
    "        else :\n",
    "            for i in range(len(remaining)) :\n",
    "                generate(current + remaining[i], remaining[:i] + remaining[i+1:])\n",
    "    \n",
    "    generate('', nums)\n",
    "    output = []\n",
    "    for i in range(len(result)) :\n",
    "        if result[i] not in output :\n",
    "            output.append(result[i])\n",
    "    output = sorted(output)\n",
    "    return output"
   ]
  },
  {
   "cell_type": "code",
   "execution_count": 8,
   "metadata": {},
   "outputs": [
    {
     "data": {
      "text/plain": [
       "['abb', 'bab', 'bba']"
      ]
     },
     "execution_count": 8,
     "metadata": {},
     "output_type": "execute_result"
    }
   ],
   "source": [
    "nums = 'abb'\n",
    "permutations(nums)"
   ]
  }
 ],
 "metadata": {
  "kernelspec": {
   "display_name": "Python 3",
   "language": "python",
   "name": "python3"
  },
  "language_info": {
   "codemirror_mode": {
    "name": "ipython",
    "version": 3
   },
   "file_extension": ".py",
   "mimetype": "text/x-python",
   "name": "python",
   "nbconvert_exporter": "python",
   "pygments_lexer": "ipython3",
   "version": "3.11.4"
  }
 },
 "nbformat": 4,
 "nbformat_minor": 2
}
