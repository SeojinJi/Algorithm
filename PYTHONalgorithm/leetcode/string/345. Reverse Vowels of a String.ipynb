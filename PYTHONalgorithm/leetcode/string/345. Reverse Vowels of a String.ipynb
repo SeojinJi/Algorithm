{
 "cells": [
  {
   "cell_type": "markdown",
   "id": "f385710a-6d69-4906-a3be-79de43072a6d",
   "metadata": {},
   "source": [
    "345. Reverse Vowels of a String\n",
    "\n",
    "Given a string s, reverse only all the vowels in the string and return it.\n",
    "\n",
    "The vowels are 'a', 'e', 'i', 'o', and 'u', and they can appear in both lower and upper cases, more than once.\n",
    "\n",
    " \n",
    "\n",
    "Example 1:\n",
    "\n",
    "Input: s = \"hello\"\n",
    "Output: \"holle\"\n",
    "Example 2:\n",
    "\n",
    "Input: s = \"leetcode\"\n",
    "Output: \"leotcede\""
   ]
  },
  {
   "cell_type": "code",
   "execution_count": 4,
   "id": "a75a79f0-d80e-4ecf-935d-11328d5b2bc7",
   "metadata": {},
   "outputs": [],
   "source": [
    "def reverseVowels(s):\n",
    "    vowels = []\n",
    "    for i in range(len(s)) :\n",
    "        if s[i] in ['a','e','i','o','u','A','E','I','O','U'] :\n",
    "            vowels.append([i, s[i]])\n",
    "\n",
    "    if len(vowels) == 0 or len(vowels) == 1 :\n",
    "        return s\n",
    "\n",
    "    else :\n",
    "        if len(vowels) % 2 == 0 :\n",
    "            a = len(vowels) // 2\n",
    "            i = 1\n",
    "            while a + i <= len(vowels) and a - i >= 0 :\n",
    "                vowels[a+i-1][1], vowels[a-i][1] = vowels[a-i][1], vowels[a+i-1][1]\n",
    "                i += 1\n",
    "\n",
    "        else :\n",
    "            a = len(vowels) // 2\n",
    "            i = 1 \n",
    "            while a - i >= 0 :\n",
    "                vowels[a-i][1], vowels[a+i][1] = vowels[a+i][1], vowels[a-i][1]\n",
    "                i += 1\n",
    "\n",
    "    print(vowels)\n",
    "\n",
    "    temp = \"\"\n",
    "    index = 0\n",
    "    for i in range(len(s)) :\n",
    "        if index < len(vowels) and i == vowels[index][0] :\n",
    "            temp += vowels[index][1]\n",
    "            index += 1\n",
    "        else :\n",
    "            temp += s[i]\n",
    "\n",
    "    return temp"
   ]
  },
  {
   "cell_type": "code",
   "execution_count": 5,
   "id": "857afbb6-22ae-4ec2-bdaa-1df1d9b06517",
   "metadata": {},
   "outputs": [
    {
     "name": "stdout",
     "output_type": "stream",
     "text": [
      "[[1, 'a'], [3, 'e'], [6, 'a']]\n"
     ]
    },
    {
     "data": {
      "text/plain": [
       "'race car'"
      ]
     },
     "execution_count": 5,
     "metadata": {},
     "output_type": "execute_result"
    }
   ],
   "source": [
    "s = \"race car\"\n",
    "\n",
    "reverseVowels(s)"
   ]
  },
  {
   "cell_type": "code",
   "execution_count": 6,
   "id": "27a848a2-9d12-432d-bb82-364134790fd3",
   "metadata": {},
   "outputs": [
    {
     "name": "stdout",
     "output_type": "stream",
     "text": [
      "[[1, 'o'], [4, 'e']]\n"
     ]
    },
    {
     "data": {
      "text/plain": [
       "'holle'"
      ]
     },
     "execution_count": 6,
     "metadata": {},
     "output_type": "execute_result"
    }
   ],
   "source": [
    "s = \"hello\"\n",
    "\n",
    "reverseVowels(s)"
   ]
  }
 ],
 "metadata": {
  "kernelspec": {
   "display_name": "Python 3 (ipykernel)",
   "language": "python",
   "name": "python3"
  },
  "language_info": {
   "codemirror_mode": {
    "name": "ipython",
    "version": 3
   },
   "file_extension": ".py",
   "mimetype": "text/x-python",
   "name": "python",
   "nbconvert_exporter": "python",
   "pygments_lexer": "ipython3",
   "version": "3.11.4"
  }
 },
 "nbformat": 4,
 "nbformat_minor": 5
}
