{
 "cells": [
  {
   "cell_type": "markdown",
   "metadata": {},
   "source": [
    "131. Palindrome Partitioning\n",
    "\n",
    "Given a string s, partition s such that every \n",
    "substring\n",
    " of the partition is a \n",
    "palindrome\n",
    ". Return all possible palindrome partitioning of s.\n",
    "\n",
    " \n",
    "\n",
    "Example 1:\n",
    "\n",
    "Input: s = \"aab\"\n",
    "Output: [[\"a\",\"a\",\"b\"],[\"aa\",\"b\"]]\n",
    "Example 2:\n",
    "\n",
    "Input: s = \"a\"\n",
    "Output: [[\"a\"]]\n",
    " \n",
    "\n",
    "Constraints:\n",
    "\n",
    "1 <= s.length <= 16\n",
    "s contains only lowercase English letters."
   ]
  },
  {
   "cell_type": "code",
   "execution_count": 1,
   "metadata": {},
   "outputs": [],
   "source": [
    "class Solution:\n",
    "    def partition(self, s: str) :\n",
    "        result = []\n",
    "        self.helper(result, [], s)\n",
    "        return result\n",
    "    \n",
    "    def helper(self, res, curr, s) :\n",
    "        if s == \"\":\n",
    "            res.append(curr)\n",
    "        for i in range(len(s)) :\n",
    "            if self.isPalindrome(s[:i+1]) :\n",
    "                self.helper(res, curr + [s[:i+1]], s[i+1:])\n",
    "    \n",
    "    def isPalindrome(self, s) :\n",
    "        for i in range(len(s) // 2) :\n",
    "            if s[i] != s[len(s) -1 - i] :\n",
    "                return False\n",
    "        return True"
   ]
  },
  {
   "cell_type": "code",
   "execution_count": 2,
   "metadata": {},
   "outputs": [
    {
     "data": {
      "text/plain": [
       "[['a', 'a', 'b', 'f', 'a', 's', 'd', 'd'],\n",
       " ['a', 'a', 'b', 'f', 'a', 's', 'dd'],\n",
       " ['aa', 'b', 'f', 'a', 's', 'd', 'd'],\n",
       " ['aa', 'b', 'f', 'a', 's', 'dd']]"
      ]
     },
     "execution_count": 2,
     "metadata": {},
     "output_type": "execute_result"
    }
   ],
   "source": [
    "# Given a astring s, partition s such that every substring of the partition is a palindrome.\n",
    "# Return all possible palindrome partitioning of s.\n",
    "\n",
    "def palindrome(s):\n",
    "    return True if s==s[::-1] else False\n",
    "\n",
    "def substring(s,t):\n",
    "    return (t in s)\n",
    "\n",
    "s=\"aabfasdd\"\n",
    "\n",
    "def partition(s):\n",
    "    n = len(s)\n",
    "    answer=[]\n",
    "    \n",
    "    if n==0:\n",
    "        return [[]]\n",
    "    for i in range(1,n+1):\n",
    "        if s[:i]!=s[:i][::-1]:\n",
    "            continue\n",
    "        cur = partition(s[i:])\n",
    "        for j in range(len(cur)):\n",
    "            answer.append([s[:i]]+cur[j])\n",
    "    return answer\n",
    "\n",
    "\n",
    "partition(s)"
   ]
  },
  {
   "cell_type": "code",
   "execution_count": 3,
   "metadata": {},
   "outputs": [
    {
     "data": {
      "text/plain": [
       "[['a', 'a', 'b'], ['aa', 'b']]"
      ]
     },
     "execution_count": 3,
     "metadata": {},
     "output_type": "execute_result"
    }
   ],
   "source": [
    "s = \"aab\"\n",
    "S = Solution()\n",
    "S.partition(s)"
   ]
  }
 ],
 "metadata": {
  "kernelspec": {
   "display_name": "Python 3",
   "language": "python",
   "name": "python3"
  },
  "language_info": {
   "codemirror_mode": {
    "name": "ipython",
    "version": 3
   },
   "file_extension": ".py",
   "mimetype": "text/x-python",
   "name": "python",
   "nbconvert_exporter": "python",
   "pygments_lexer": "ipython3",
   "version": "3.11.4"
  }
 },
 "nbformat": 4,
 "nbformat_minor": 2
}
