{
 "cells": [
  {
   "cell_type": "markdown",
   "id": "49c714aa-5672-451b-9c01-d790a72ac3b9",
   "metadata": {},
   "source": [
    "2131. Longest Palindrome by Concatenating Two Letter Words\n",
    "\n",
    "You are given an array of strings words. Each element of words consists of two lowercase English letters.\n",
    "\n",
    "Create the longest possible palindrome by selecting some elements from words and concatenating them in any order. Each element can be selected at most once.\n",
    "\n",
    "Return the length of the longest palindrome that you can create. If it is impossible to create any palindrome, return 0.\n",
    "\n",
    "A palindrome is a string that reads the same forward and backward."
   ]
  },
  {
   "cell_type": "code",
   "execution_count": 1,
   "id": "14069732-c8ef-4808-98d9-184fc072c2c6",
   "metadata": {},
   "outputs": [],
   "source": [
    "class Solution:\n",
    "    def longestPalindrome(self, words) :\n",
    "        palindrome = {}\n",
    "        mirror = {}\n",
    "        result = 0\n",
    "        for word in words :\n",
    "            if word[0] == word[1] :\n",
    "                if word in palindrome :\n",
    "                    palindrome[word] += 1\n",
    "                else :\n",
    "                    palindrome[word] = 1\n",
    "            else :\n",
    "                if word in mirror :\n",
    "                    mirror[word] += 1\n",
    "                else :\n",
    "                    mirror[word] =1\n",
    "        for word, value in mirror.items() :\n",
    "            str = word[1]+word[0]\n",
    "            if str not in mirror :\n",
    "                mirror[word] = 0\n",
    "        print(palindrome)\n",
    "        print(mirror)\n",
    "        number = 0\n",
    "        for k, v in palindrome.items() :\n",
    "            if v % 2 == 1 and number == 0 :\n",
    "                result += v * 2\n",
    "                number = 1\n",
    "            else :\n",
    "                result += ((v // 2) * 4)\n",
    "        for word, value in mirror.items() :\n",
    "            if mirror[word] == 0 :\n",
    "                continue\n",
    "            str = word[1]+word[0]\n",
    "            wrmin = min(value, mirror[str])\n",
    "            result += wrmin * 2\n",
    "        return result"
   ]
  },
  {
   "cell_type": "code",
   "execution_count": 2,
   "id": "70e7ea65-489f-437c-bf45-babede931d2f",
   "metadata": {},
   "outputs": [
    {
     "name": "stdout",
     "output_type": "stream",
     "text": [
      "{'gg': 1}\n",
      "{'lc': 1, 'cl': 1}\n"
     ]
    },
    {
     "data": {
      "text/plain": [
       "6"
      ]
     },
     "execution_count": 2,
     "metadata": {},
     "output_type": "execute_result"
    }
   ],
   "source": [
    "words = [\"lc\",\"cl\",\"gg\"]\n",
    "S = Solution()\n",
    "result = S.longestPalindrome(words)\n",
    "result"
   ]
  },
  {
   "cell_type": "code",
   "execution_count": 4,
   "id": "f43c26e2-549c-4e3c-b4c0-66cd365e3a35",
   "metadata": {},
   "outputs": [],
   "source": [
    "from collections import defaultdict\n",
    "class Solution:\n",
    "    def longestPalindrome(self, words) -> int:\n",
    "        dc=defaultdict(lambda:0)\n",
    "        for a in words:\n",
    "            dc[a]+=1\n",
    "        count=0\n",
    "        palindromswords=0\n",
    "        inmiddle=0\n",
    "        wds=set(words)\n",
    "        for a in wds:\n",
    "            if(a==a[::-1]):\n",
    "                if(dc[a]%2==1):\n",
    "                    inmiddle=1\n",
    "                palindromswords+=(dc[a]//2)*2\n",
    "            elif(dc[a[::-1]]>0):\n",
    "                count+=(2*(min(dc[a],dc[a[::-1]])))\n",
    "                dc[a]=0\n",
    "        return (palindromswords+count+inmiddle)*2"
   ]
  }
 ],
 "metadata": {
  "kernelspec": {
   "display_name": "Python 3 (ipykernel)",
   "language": "python",
   "name": "python3"
  },
  "language_info": {
   "codemirror_mode": {
    "name": "ipython",
    "version": 3
   },
   "file_extension": ".py",
   "mimetype": "text/x-python",
   "name": "python",
   "nbconvert_exporter": "python",
   "pygments_lexer": "ipython3",
   "version": "3.11.4"
  }
 },
 "nbformat": 4,
 "nbformat_minor": 5
}
