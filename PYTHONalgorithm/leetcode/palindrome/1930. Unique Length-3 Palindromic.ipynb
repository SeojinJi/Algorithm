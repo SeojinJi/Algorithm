{
 "cells": [
  {
   "cell_type": "markdown",
   "metadata": {},
   "source": [
    "1930. Unique Length-3 Palindromic Subsequences\n",
    "Given a string s, return the number of unique palindromes of length three that are a subsequence of s.\n",
    "\n",
    "Note that even if there are multiple ways to obtain the same subsequence, it is still only counted once.\n",
    "\n",
    "A palindrome is a string that reads the same forwards and backwards.\n",
    "\n",
    "A subsequence of a string is a new string generated from the original string with some characters (can be none) deleted without changing the relative order of the remaining characters.\n",
    "\n",
    "For example, \"ace\" is a subsequence of \"abcde\".\n",
    "\n",
    "Example 1:\n",
    "\n",
    "Input: s = \"aabca\"\n",
    "Output: 3\n",
    "Explanation: The 3 palindromic subsequences of length 3 are:\n",
    "- \"aba\" (subsequence of \"aabca\")\n",
    "- \"aaa\" (subsequence of \"aabca\")\n",
    "- \"aca\" (subsequence of \"aabca\")"
   ]
  },
  {
   "cell_type": "code",
   "execution_count": 1,
   "metadata": {},
   "outputs": [],
   "source": [
    "class Solution:\n",
    "    def isPalindromic(self, s) :\n",
    "        for i in range(len(s)) :\n",
    "            if s[i] != s[len(s) - 1 - i] :\n",
    "                return False\n",
    "        return True\n",
    "    \n",
    "    def countPalindromicSubsequence(self, s: str) -> int: # time limit exceed\n",
    "        result = []\n",
    "        for i in range(len(s)) :\n",
    "            for j in range(i+1, len(s)) :\n",
    "                for k in range(j+1, len(s)) :\n",
    "                    st = s[i] + s[j] + s[k]\n",
    "                    if self.isPalindromic(st) and st not in result :\n",
    "                        result.append(st)\n",
    "        return len(result)\n"
   ]
  },
  {
   "cell_type": "code",
   "execution_count": 9,
   "metadata": {},
   "outputs": [],
   "source": [
    "class Solution:\n",
    "    def isPalindromic(self, s) :\n",
    "        for i in range(len(s)) :\n",
    "            if s[i] != s[len(s) - 1 - i] :\n",
    "                return False\n",
    "        return True\n",
    "    \n",
    "    def countPalindromicSubsequence(self, s: str) -> int: #time limit exceed\n",
    "        result = {}\n",
    "        for i in range(len(s)) :\n",
    "            for j in range(i+1, len(s)) :\n",
    "                if s[i] == s[j] and j > i+1 :\n",
    "                    mid = i+1\n",
    "                    while mid < j :\n",
    "                        st = s[i] + s[mid] + s[j]\n",
    "                        if self.isPalindromic(st) :\n",
    "                            if st in result :\n",
    "                                result[st] += 1\n",
    "                            else :\n",
    "                                result[st] = 1\n",
    "                        mid += 1\n",
    "        return len(result)"
   ]
  },
  {
   "cell_type": "code",
   "execution_count": 10,
   "metadata": {},
   "outputs": [
    {
     "data": {
      "text/plain": [
       "3"
      ]
     },
     "execution_count": 10,
     "metadata": {},
     "output_type": "execute_result"
    }
   ],
   "source": [
    "s = \"aabca\"\n",
    "S = Solution()\n",
    "S.countPalindromicSubsequence(s)"
   ]
  },
  {
   "cell_type": "code",
   "execution_count": 14,
   "metadata": {},
   "outputs": [
    {
     "data": {
      "text/plain": [
       "676"
      ]
     },
     "execution_count": 14,
     "metadata": {},
     "output_type": "execute_result"
    }
   ],
   "source": [
    "s = \"cmrbntqnmmijssmgkxpaffwkhxoyjodcljpmqlmkuijegqjcvnquycbaffihvrhszzttxahvukkprmntdkftmnutsluieusflojpdyavvikrkuniauxdyiqppwzfknecolxccoarmebzhgrbbnewkecnmbywdflsmpypnrhadbkunxwlothwlsshpvegxtlxeokygwhqhxssfmzozbctilgnmbstjtwkacxitmbogydvveachnkctrdjfarfsvvqsxkibautyjgckzierfwuveekcioefoydfjekiklbvqjbfhpzcnzweypzsrzsiqwiwmippjqgpzgqxittqbjhdfaypytihqtnzqhawigoxrgrspjilawbfqdfcpvygcsisgeghlqhuczkelnttvuajwtxpdsgmljpbdmeeansmyyzjmqpkbxkoflgxsnmrsqytgavqrsqglrgpyvauqxkpxnekvghzrjikwscquidtykizvabsnrtejsfeylvebetgxkqqwehjhipmrcbtapzcnapztymiljxzvyrjbjiclssxdpwhsvjqrmkezyvajbuilpkpclyyzwxthfdnownduhroweldrgftrclseyxtfgmxddnscrwytpqjstjqowvfdcctytdjwyoabnwzijrunpfknldyvmlpdruspizdzsmvmsjzivftvsbwemkzrwzoirztknhsfwkdtpuwsledshdfttasorzdylvyczebzqpzqkagmryqjruruwqhqjdcmrnaoohtuemqlocbxuevaonvmnpsudtzxepeouddfeowaznjokyahynurlpsnzjnfcvgehvypfjd\"\n",
    "S = Solution()\n",
    "S.countPalindromicSubsequence(s)"
   ]
  },
  {
   "cell_type": "code",
   "execution_count": 12,
   "metadata": {},
   "outputs": [
    {
     "data": {
      "text/plain": [
       "4"
      ]
     },
     "execution_count": 12,
     "metadata": {},
     "output_type": "execute_result"
    }
   ],
   "source": [
    "s = \"bbcbaba\"\n",
    "S = Solution()\n",
    "S.countPalindromicSubsequence(s)"
   ]
  },
  {
   "cell_type": "code",
   "execution_count": 13,
   "metadata": {},
   "outputs": [
    {
     "data": {
      "text/plain": [
       "4"
      ]
     },
     "execution_count": 13,
     "metadata": {},
     "output_type": "execute_result"
    }
   ],
   "source": [
    "s = \"ckafnafqo\"\n",
    "S = Solution()\n",
    "S.countPalindromicSubsequence(s)"
   ]
  },
  {
   "cell_type": "code",
   "execution_count": null,
   "metadata": {},
   "outputs": [],
   "source": []
  }
 ],
 "metadata": {
  "kernelspec": {
   "display_name": "Python 3",
   "language": "python",
   "name": "python3"
  },
  "language_info": {
   "codemirror_mode": {
    "name": "ipython",
    "version": 3
   },
   "file_extension": ".py",
   "mimetype": "text/x-python",
   "name": "python",
   "nbconvert_exporter": "python",
   "pygments_lexer": "ipython3",
   "version": "3.11.4"
  }
 },
 "nbformat": 4,
 "nbformat_minor": 2
}
