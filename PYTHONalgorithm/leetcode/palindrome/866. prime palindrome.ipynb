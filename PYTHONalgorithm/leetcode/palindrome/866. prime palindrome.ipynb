{
 "cells": [
  {
   "cell_type": "markdown",
   "metadata": {},
   "source": [
    "866. Prime Palindrome\n",
    "\n",
    "Given an integer n, return the smallest prime palindrome greater than or equal to n.\n",
    "\n",
    "An integer is prime if it has exactly two divisors: 1 and itself. Note that 1 is not a prime number.\n",
    "\n",
    "For example, 2, 3, 5, 7, 11, and 13 are all primes.\n",
    "An integer is a palindrome if it reads the same from left to right as it does from right to left.\n",
    "\n",
    "For example, 101 and 12321 are palindromes.\n",
    "The test cases are generated so that the answer always exists and is in the range [2, 2 * 108].\n",
    "\n",
    " \n",
    "\n",
    "Example 1:\n",
    "\n",
    "Input: n = 6\n",
    "Output: 7\n",
    "Example 2:\n",
    "\n",
    "Input: n = 8\n",
    "Output: 11\n",
    "Example 3:\n",
    "\n",
    "Input: n = 13\n",
    "Output: 101"
   ]
  },
  {
   "cell_type": "code",
   "execution_count": 36,
   "metadata": {},
   "outputs": [],
   "source": [
    "from math import sqrt\n",
    "class Solution: # time limit exceed\n",
    "    def prime(self, n) :\n",
    "        if n == 2 :\n",
    "            return True\n",
    "        number = round(sqrt(n))\n",
    "        for i in range(2, number+1) :\n",
    "            if n % i == 0 :\n",
    "                return False\n",
    "        return True\n",
    "    def Palindrome(self, n):\n",
    "        if n < 10 :\n",
    "            return True\n",
    "        result = str(n)\n",
    "        return result == result[::-1]\n",
    "    def primePalindrome(self, n: int) -> int:\n",
    "        if n == 1 :\n",
    "            return 2\n",
    "        index = n\n",
    "        while index < 1000000000 :\n",
    "            if self.prime(index) :\n",
    "                if self.Palindrome(index) :\n",
    "                    return index\n",
    "            index += 1"
   ]
  },
  {
   "cell_type": "code",
   "execution_count": 42,
   "metadata": {},
   "outputs": [
    {
     "ename": "KeyboardInterrupt",
     "evalue": "",
     "output_type": "error",
     "traceback": [
      "\u001b[1;31m---------------------------------------------------------------------------\u001b[0m",
      "\u001b[1;31mKeyboardInterrupt\u001b[0m                         Traceback (most recent call last)",
      "Cell \u001b[1;32mIn[42], line 3\u001b[0m\n\u001b[0;32m      1\u001b[0m n \u001b[38;5;241m=\u001b[39m \u001b[38;5;241m9989900\u001b[39m\n\u001b[0;32m      2\u001b[0m S \u001b[38;5;241m=\u001b[39m Solution()\n\u001b[1;32m----> 3\u001b[0m \u001b[43mS\u001b[49m\u001b[38;5;241;43m.\u001b[39;49m\u001b[43mprimePalindrome\u001b[49m\u001b[43m(\u001b[49m\u001b[43mn\u001b[49m\u001b[43m)\u001b[49m\n",
      "Cell \u001b[1;32mIn[36], line 21\u001b[0m, in \u001b[0;36mSolution.primePalindrome\u001b[1;34m(self, n)\u001b[0m\n\u001b[0;32m     19\u001b[0m index \u001b[38;5;241m=\u001b[39m n\n\u001b[0;32m     20\u001b[0m \u001b[38;5;28;01mwhile\u001b[39;00m index \u001b[38;5;241m<\u001b[39m \u001b[38;5;241m1000000000\u001b[39m :\n\u001b[1;32m---> 21\u001b[0m     \u001b[38;5;28;01mif\u001b[39;00m \u001b[38;5;28;43mself\u001b[39;49m\u001b[38;5;241;43m.\u001b[39;49m\u001b[43mprime\u001b[49m\u001b[43m(\u001b[49m\u001b[43mindex\u001b[49m\u001b[43m)\u001b[49m :\n\u001b[0;32m     22\u001b[0m         \u001b[38;5;28;01mif\u001b[39;00m \u001b[38;5;28mself\u001b[39m\u001b[38;5;241m.\u001b[39mPalindrome(index) :\n\u001b[0;32m     23\u001b[0m             \u001b[38;5;28;01mreturn\u001b[39;00m index\n",
      "Cell \u001b[1;32mIn[36], line 8\u001b[0m, in \u001b[0;36mSolution.prime\u001b[1;34m(self, n)\u001b[0m\n\u001b[0;32m      6\u001b[0m number \u001b[38;5;241m=\u001b[39m \u001b[38;5;28mround\u001b[39m(sqrt(n))\n\u001b[0;32m      7\u001b[0m \u001b[38;5;28;01mfor\u001b[39;00m i \u001b[38;5;129;01min\u001b[39;00m \u001b[38;5;28mrange\u001b[39m(\u001b[38;5;241m2\u001b[39m, number\u001b[38;5;241m+\u001b[39m\u001b[38;5;241m1\u001b[39m) :\n\u001b[1;32m----> 8\u001b[0m     \u001b[38;5;28;01mif\u001b[39;00m n \u001b[38;5;241m%\u001b[39m i \u001b[38;5;241m==\u001b[39m \u001b[38;5;241m0\u001b[39m :\n\u001b[0;32m      9\u001b[0m         \u001b[38;5;28;01mreturn\u001b[39;00m \u001b[38;5;28;01mFalse\u001b[39;00m\n\u001b[0;32m     10\u001b[0m \u001b[38;5;28;01mreturn\u001b[39;00m \u001b[38;5;28;01mTrue\u001b[39;00m\n",
      "\u001b[1;31mKeyboardInterrupt\u001b[0m: "
     ]
    }
   ],
   "source": [
    "n = 9989900\n",
    "S = Solution()\n",
    "S.primePalindrome(n)"
   ]
  }
 ],
 "metadata": {
  "kernelspec": {
   "display_name": "Python 3",
   "language": "python",
   "name": "python3"
  },
  "language_info": {
   "codemirror_mode": {
    "name": "ipython",
    "version": 3
   },
   "file_extension": ".py",
   "mimetype": "text/x-python",
   "name": "python",
   "nbconvert_exporter": "python",
   "pygments_lexer": "ipython3",
   "version": "3.11.4"
  }
 },
 "nbformat": 4,
 "nbformat_minor": 2
}
