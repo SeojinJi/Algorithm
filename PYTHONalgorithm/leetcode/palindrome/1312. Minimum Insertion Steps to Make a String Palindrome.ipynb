{
 "cells": [
  {
   "cell_type": "markdown",
   "metadata": {},
   "source": [
    "1312. Minimum Insertion Steps to Make a String Palindrome\n",
    "Given a string s. In one step you can insert any character at any index of the string.\n",
    "\n",
    "Return the minimum number of steps to make s palindrome.\n",
    "\n",
    "A Palindrome String is one that reads the same backward as well as forward.\n",
    "\n",
    " \n",
    "\n",
    "Example 1:\n",
    "\n",
    "Input: s = \"zzazz\"\n",
    "Output: 0\n",
    "Explanation: The string \"zzazz\" is already palindrome we do not need any insertions.\n",
    "Example 2:\n",
    "\n",
    "Input: s = \"mbadm\"\n",
    "Output: 2\n",
    "Explanation: String can be \"mbdadbm\" or \"mdbabdm\".\n"
   ]
  },
  {
   "cell_type": "code",
   "execution_count": 15,
   "metadata": {},
   "outputs": [],
   "source": [
    "class Solution:\n",
    "    def minInsertions(self, s: str) -> int:\n",
    "        if s == s[::-1] :\n",
    "            return 0\n",
    "        length = len(s)\n",
    "        dp = [[0] * length for _ in range(length)]\n",
    "        for i in range(length-1, -1, -1):\n",
    "            dp[i][i] = 1\n",
    "            for j in range(i+1, length):\n",
    "                if s[i] == s[j] :\n",
    "                    dp[i][j] = dp[i+1][j-1]+2\n",
    "                else :\n",
    "                    dp[i][j] = max(dp[i+1][j], dp[i][j-1])\n",
    "        return length - dp[0][length-1]"
   ]
  },
  {
   "cell_type": "code",
   "execution_count": 17,
   "metadata": {},
   "outputs": [
    {
     "name": "stdout",
     "output_type": "stream",
     "text": [
      "[[1, 1, 1, 1, 3], [0, 1, 1, 1, 1], [0, 0, 1, 1, 1], [0, 0, 0, 1, 1], [0, 0, 0, 0, 1]]\n"
     ]
    },
    {
     "data": {
      "text/plain": [
       "2"
      ]
     },
     "execution_count": 17,
     "metadata": {},
     "output_type": "execute_result"
    }
   ],
   "source": [
    "s = \"mbadm\"\n",
    "S = Solution()\n",
    "result = S.minInsertions(s)\n",
    "result"
   ]
  },
  {
   "cell_type": "code",
   "execution_count": 13,
   "metadata": {},
   "outputs": [
    {
     "data": {
      "text/plain": [
       "8"
      ]
     },
     "execution_count": 13,
     "metadata": {},
     "output_type": "execute_result"
    }
   ],
   "source": [
    "s = \"ccewnxhytsr\"\n",
    "S = Solution()\n",
    "result = S.minInsertions(s)\n",
    "result"
   ]
  },
  {
   "cell_type": "code",
   "execution_count": 14,
   "metadata": {},
   "outputs": [
    {
     "data": {
      "text/plain": [
       "8"
      ]
     },
     "execution_count": 14,
     "metadata": {},
     "output_type": "execute_result"
    }
   ],
   "source": [
    "s = \"swizunxvbbvjr\"\n",
    "S = Solution()\n",
    "result = S.minInsertions(s)\n",
    "result"
   ]
  },
  {
   "cell_type": "code",
   "execution_count": null,
   "metadata": {},
   "outputs": [],
   "source": []
  }
 ],
 "metadata": {
  "kernelspec": {
   "display_name": "Python 3",
   "language": "python",
   "name": "python3"
  },
  "language_info": {
   "codemirror_mode": {
    "name": "ipython",
    "version": 3
   },
   "file_extension": ".py",
   "mimetype": "text/x-python",
   "name": "python",
   "nbconvert_exporter": "python",
   "pygments_lexer": "ipython3",
   "version": "3.11.4"
  }
 },
 "nbformat": 4,
 "nbformat_minor": 2
}
