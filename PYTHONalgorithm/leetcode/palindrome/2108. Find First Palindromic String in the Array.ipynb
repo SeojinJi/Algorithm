{
 "cells": [
  {
   "cell_type": "markdown",
   "id": "88398371-e7fa-4e19-a216-dba36dffd04a",
   "metadata": {},
   "source": [
    "2108. Find First Palindromic String in the Array\n",
    "\n",
    "Given an array of strings words, return the first palindromic string in the array. If there is no such string, return an empty string \"\".\n",
    "\n",
    "A string is palindromic if it reads the same forward and backward."
   ]
  },
  {
   "cell_type": "code",
   "execution_count": 1,
   "id": "72bccabe-9e76-4085-abca-03c1c36cabfa",
   "metadata": {},
   "outputs": [],
   "source": [
    "def firstPalindrome(words) :\n",
    "    result = \"\"\n",
    "    for word in words :\n",
    "        number = 0\n",
    "        for i in range(len(word)) :\n",
    "            if word[i] != word[len(word)-1-i] :\n",
    "                break\n",
    "            number += 1\n",
    "        if number == len(word) :\n",
    "            result = word\n",
    "            return result\n",
    "    return result"
   ]
  },
  {
   "cell_type": "code",
   "execution_count": 2,
   "id": "5e134990-65bf-44dc-89b0-96927e1dba68",
   "metadata": {},
   "outputs": [
    {
     "data": {
      "text/plain": [
       "'ada'"
      ]
     },
     "execution_count": 2,
     "metadata": {},
     "output_type": "execute_result"
    }
   ],
   "source": [
    "words = [\"abc\",\"car\",\"ada\",\"racecar\",\"cool\"]\n",
    "firstPalindrome(words)"
   ]
  }
 ],
 "metadata": {
  "kernelspec": {
   "display_name": "Python 3 (ipykernel)",
   "language": "python",
   "name": "python3"
  },
  "language_info": {
   "codemirror_mode": {
    "name": "ipython",
    "version": 3
   },
   "file_extension": ".py",
   "mimetype": "text/x-python",
   "name": "python",
   "nbconvert_exporter": "python",
   "pygments_lexer": "ipython3",
   "version": "3.11.4"
  }
 },
 "nbformat": 4,
 "nbformat_minor": 5
}
