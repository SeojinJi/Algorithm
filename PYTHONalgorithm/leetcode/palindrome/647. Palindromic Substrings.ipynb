{
 "cells": [
  {
   "cell_type": "markdown",
   "metadata": {},
   "source": [
    "647. Palindromic Substrings\n",
    "\n",
    "Given a string s, return the number of palindromic substrings in it.\n",
    "\n",
    "A string is a palindrome when it reads the same backward as forward.\n",
    "\n",
    "A substring is a contiguous sequence of characters within the string.\n",
    "\n",
    " \n",
    "\n",
    "Example 1:\n",
    "\n",
    "Input: s = \"abc\"\n",
    "Output: 3\n",
    "Explanation: Three palindromic strings: \"a\", \"b\", \"c\"."
   ]
  },
  {
   "cell_type": "code",
   "execution_count": 1,
   "metadata": {},
   "outputs": [],
   "source": [
    "class Solution:\n",
    "    def isPalindromic(self, s) :\n",
    "        if s == s[::-1] :\n",
    "            return True\n",
    "        else :\n",
    "            return False\n",
    "    def countSubstrings(self, s: str) -> int:\n",
    "        length = len(s)\n",
    "        index = 0\n",
    "        result = 0\n",
    "        while index < length :\n",
    "            st = s[index]\n",
    "            result += 1\n",
    "            for i in range(index+1, length) :\n",
    "                st += s[i]\n",
    "                if self.isPalindromic(st) :\n",
    "                    result += 1\n",
    "            index += 1\n",
    "        return result\n",
    "            "
   ]
  },
  {
   "cell_type": "code",
   "execution_count": 5,
   "metadata": {},
   "outputs": [
    {
     "data": {
      "text/plain": [
       "7"
      ]
     },
     "execution_count": 5,
     "metadata": {},
     "output_type": "execute_result"
    }
   ],
   "source": [
    "s = \"abcba\"\n",
    "S = Solution()\n",
    "S.countSubstrings(s)"
   ]
  }
 ],
 "metadata": {
  "kernelspec": {
   "display_name": "Python 3",
   "language": "python",
   "name": "python3"
  },
  "language_info": {
   "codemirror_mode": {
    "name": "ipython",
    "version": 3
   },
   "file_extension": ".py",
   "mimetype": "text/x-python",
   "name": "python",
   "nbconvert_exporter": "python",
   "pygments_lexer": "ipython3",
   "version": "3.11.4"
  }
 },
 "nbformat": 4,
 "nbformat_minor": 2
}
