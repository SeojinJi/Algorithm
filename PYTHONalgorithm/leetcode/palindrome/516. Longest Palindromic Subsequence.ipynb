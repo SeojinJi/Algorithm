{
 "cells": [
  {
   "cell_type": "markdown",
   "metadata": {},
   "source": [
    "516. Longest Palindromic Subsequence\n",
    "\n",
    "Given a string s, find the longest palindromic subsequence's length in s.\n",
    "\n",
    "A subsequence is a sequence that can be derived from another sequence by deleting some or no elements without changing the order of the remaining elements.\n",
    "\n",
    " \n",
    "\n",
    "Example 1:\n",
    "\n",
    "Input: s = \"bbbab\"\n",
    "Output: 4\n",
    "Explanation: One possible longest palindromic subsequence is \"bbbb\"."
   ]
  },
  {
   "cell_type": "code",
   "execution_count": 30,
   "metadata": {},
   "outputs": [],
   "source": [
    "from collections import defaultdict\n",
    "class Solution:\n",
    "    def isPalindromic(self, s) :\n",
    "        for i in range(len(s) // 2) :\n",
    "            if s[i] != s[len(s) - 1 - i] :\n",
    "                return False\n",
    "        return True\n",
    "    \n",
    "    def longestPalindromeSubseq(self, s: str) -> int:\n",
    "        if len(s) == 0 or len(s) == 1 : # give up\n",
    "            return len(s)\n",
    "        if self.isPalindromic(s) :\n",
    "            return len(s)\n",
    "        alpha = defaultdict(list)\n",
    "        for i in range(len(s)) :\n",
    "            alpha[s[i]].append(i)\n",
    "        for k, v in alpha.items() :\n",
    "            largest = 0\n",
    "            if len(alpha[k]) % 2 == 0 :\n",
    "                number = alpha[k][len(alpha[k])-1] - alpha[k][0]\n",
    "                if largest < number :\n",
    "                    largest = number\n",
    "                    first = alpha[k][0]\n",
    "                    second = alpha[k][len(alpha[k])-1]\n",
    "                    "
   ]
  },
  {
   "cell_type": "code",
   "execution_count": 32,
   "metadata": {},
   "outputs": [],
   "source": [
    "class Solution:\n",
    "    def longestPalindromeSubseq(self, s: str) -> int:\n",
    "        n = len(s)\n",
    "        prev = [0] * n\n",
    "        prev[n-1] = 1\n",
    "        for i in range(n-2, -1, -1):\n",
    "            curr = [0] * n\n",
    "            curr[i] = 1\n",
    "            for j in range(i+1, n):\n",
    "                x = 0\n",
    "                if s[i] == s[j]:\n",
    "                    x = prev[j-1] + 2\n",
    "                y = max(prev[j], curr[j-1])\n",
    "                curr[j] = max(x, y)\n",
    "            prev = curr\n",
    "        return prev[-1]"
   ]
  },
  {
   "cell_type": "code",
   "execution_count": 33,
   "metadata": {},
   "outputs": [
    {
     "data": {
      "text/plain": [
       "4"
      ]
     },
     "execution_count": 33,
     "metadata": {},
     "output_type": "execute_result"
    }
   ],
   "source": [
    "s = \"bbbab\"\n",
    "S = Solution()\n",
    "S.longestPalindromeSubseq(s)"
   ]
  },
  {
   "cell_type": "code",
   "execution_count": 34,
   "metadata": {},
   "outputs": [
    {
     "data": {
      "text/plain": [
       "2"
      ]
     },
     "execution_count": 34,
     "metadata": {},
     "output_type": "execute_result"
    }
   ],
   "source": [
    "s = \"cbbd\"\n",
    "S = Solution()\n",
    "S.longestPalindromeSubseq(s)"
   ]
  },
  {
   "cell_type": "code",
   "execution_count": 35,
   "metadata": {},
   "outputs": [
    {
     "data": {
      "text/plain": [
       "7"
      ]
     },
     "execution_count": 35,
     "metadata": {},
     "output_type": "execute_result"
    }
   ],
   "source": [
    "s =\"abcabcabcabc\"\n",
    "S = Solution()\n",
    "S.longestPalindromeSubseq(s)"
   ]
  },
  {
   "cell_type": "code",
   "execution_count": null,
   "metadata": {},
   "outputs": [],
   "source": []
  }
 ],
 "metadata": {
  "kernelspec": {
   "display_name": "Python 3",
   "language": "python",
   "name": "python3"
  },
  "language_info": {
   "codemirror_mode": {
    "name": "ipython",
    "version": 3
   },
   "file_extension": ".py",
   "mimetype": "text/x-python",
   "name": "python",
   "nbconvert_exporter": "python",
   "pygments_lexer": "ipython3",
   "version": "3.11.4"
  }
 },
 "nbformat": 4,
 "nbformat_minor": 2
}
