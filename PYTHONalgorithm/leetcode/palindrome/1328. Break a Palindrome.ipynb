{
 "cells": [
  {
   "cell_type": "markdown",
   "metadata": {},
   "source": [
    "1328. Break a Palindrome\n",
    "\n",
    "Given a palindromic string of lowercase English letters palindrome, replace exactly one character with any lowercase English letter so that the resulting string is not a palindrome and that it is the lexicographically smallest one possible.\n",
    "\n",
    "Return the resulting string. If there is no way to replace a character to make it not a palindrome, return an empty string.\n",
    "\n",
    "A string a is lexicographically smaller than a string b (of the same length) if in the first position where a and b differ, a has a character strictly smaller than the corresponding character in b. For example, \"abcc\" is lexicographically smaller than \"abcd\" because the first position they differ is at the fourth character, and 'c' is smaller than 'd'.\n",
    "\n",
    " \n",
    "\n",
    "Example 1:\n",
    "\n",
    "Input: palindrome = \"abccba\"\n",
    "Output: \"aaccba\"\n",
    "Explanation: There are many ways to make \"abccba\" not a palindrome, such as \"zbccba\", \"aaccba\", and \"abacba\".\n",
    "Of all the ways, \"aaccba\" is the lexicographically smallest."
   ]
  },
  {
   "cell_type": "code",
   "execution_count": 1,
   "metadata": {},
   "outputs": [],
   "source": [
    "class Solution:\n",
    "    def breakPalindrome(self, palindrome: str) -> str:\n",
    "        result = \"\"\n",
    "        if len(palindrome) == 1 :\n",
    "            return result\n",
    "        flag = 0\n",
    "        for i in range(len(palindrome)) :\n",
    "            if palindrome[i] != 'a' and flag != 1 and i != len(palindrome) // 2:\n",
    "                flag = 1\n",
    "                result += 'a'\n",
    "                continue\n",
    "            result += palindrome[i]\n",
    "        if flag == 0 :\n",
    "            result = result[:-1]\n",
    "            result += 'b'\n",
    "        return result"
   ]
  },
  {
   "cell_type": "code",
   "execution_count": 2,
   "metadata": {},
   "outputs": [
    {
     "data": {
      "text/plain": [
       "'aaccba'"
      ]
     },
     "execution_count": 2,
     "metadata": {},
     "output_type": "execute_result"
    }
   ],
   "source": [
    "palindrome = \"abccba\"\n",
    "S = Solution()\n",
    "S.breakPalindrome(palindrome)"
   ]
  }
 ],
 "metadata": {
  "kernelspec": {
   "display_name": "Python 3",
   "language": "python",
   "name": "python3"
  },
  "language_info": {
   "codemirror_mode": {
    "name": "ipython",
    "version": 3
   },
   "file_extension": ".py",
   "mimetype": "text/x-python",
   "name": "python",
   "nbconvert_exporter": "python",
   "pygments_lexer": "ipython3",
   "version": "3.11.4"
  }
 },
 "nbformat": 4,
 "nbformat_minor": 2
}
