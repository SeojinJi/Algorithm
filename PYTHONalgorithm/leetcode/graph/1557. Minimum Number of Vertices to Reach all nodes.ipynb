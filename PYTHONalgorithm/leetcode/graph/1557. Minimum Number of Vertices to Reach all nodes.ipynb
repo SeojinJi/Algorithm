{
 "cells": [
  {
   "cell_type": "markdown",
   "metadata": {},
   "source": [
    "1557. Minimum Number of Vertices to Reach All Nodes\n",
    "\n",
    "Given a directed acyclic graph, with n vertices numbered from 0 to n-1, and an array edges where edges[i] = [fromi, toi] represents a directed edge from node fromi to node toi.\n",
    "\n",
    "Find the smallest set of vertices from which all nodes in the graph are reachable. It's guaranteed that a unique solution exists.\n",
    "\n",
    "Notice that you can return the vertices in any order."
   ]
  },
  {
   "cell_type": "code",
   "execution_count": 3,
   "metadata": {},
   "outputs": [],
   "source": [
    "from collections import defaultdict\n",
    "class Solution:\n",
    "    def DFS(self, visited : dict, v : int) :\n",
    "        visited[v] = True\n",
    "        for u in self.neighbors[v] :\n",
    "            if visited[u] == False :\n",
    "                self.DFS(visited, u)\n",
    "\n",
    "    def findSmallestSetOfVertices(self, n: int, edges) :\n",
    "        self.neighbors = {}\n",
    "        for i in range(n) :\n",
    "            self.neighbors[i] = []\n",
    "        for v, u in edges :\n",
    "            self.neighbors[v].append(u)\n",
    "        print(self.neighbors)\n",
    "        # countneighbors = []\n",
    "        # for i in range(len(self.neighbors)) :\n",
    "        #     length = -1\n",
    "        #     index = -1\n",
    "        #     for k, v in self.neighbors.items() :\n",
    "        #         if len(self.neighbors[k]) > length and k not in countneighbors :\n",
    "        #             length = len(self.neighbors[k])\n",
    "        #             index = k\n",
    "        #     countneighbors.append(index)\n",
    "        countneighbors = [k for k in sorted(self.neighbors, key = lambda k : len(self.neighbors[k]), reverse = True)]\n",
    "        print(countneighbors)\n",
    "        visited = {}\n",
    "        result = []\n",
    "        for i in range(n) :\n",
    "            visited[i] = False\n",
    "        for v in countneighbors :\n",
    "            if visited[v] == False :\n",
    "                result.append(v)\n",
    "                self.DFS(visited, v)\n",
    "        return result"
   ]
  },
  {
   "cell_type": "code",
   "execution_count": 2,
   "metadata": {},
   "outputs": [],
   "source": [
    "class Solution:\n",
    "    def findSmallestSetOfVertices(self, n: int, edges): # Solution\n",
    "        parent=[False]*n\n",
    "        for u,v in edges:\n",
    "            parent[v]=True\n",
    "\n",
    "        ans=[]\n",
    "        for u in range(n):\n",
    "            if not parent[u]:\n",
    "                ans.append(u)\n",
    "\n",
    "        return ans   "
   ]
  },
  {
   "cell_type": "code",
   "execution_count": 4,
   "metadata": {},
   "outputs": [
    {
     "name": "stdout",
     "output_type": "stream",
     "text": [
      "{0: [1, 2], 1: [], 2: [5], 3: [4], 4: [2], 5: []}\n",
      "[0, 2, 3, 4, 1, 5]\n"
     ]
    },
    {
     "data": {
      "text/plain": [
       "[0, 3]"
      ]
     },
     "execution_count": 4,
     "metadata": {},
     "output_type": "execute_result"
    }
   ],
   "source": [
    "n = 6\n",
    "edges = [[0,1],[0,2],[2,5],[3,4],[4,2]]\n",
    "S = Solution()\n",
    "S.findSmallestSetOfVertices(n, edges)"
   ]
  },
  {
   "cell_type": "code",
   "execution_count": 47,
   "metadata": {},
   "outputs": [
    {
     "name": "stdout",
     "output_type": "stream",
     "text": [
      "{0: [3], 1: [], 2: [0], 3: [1]}\n",
      "[0, 2, 3, 1]\n"
     ]
    },
    {
     "data": {
      "text/plain": [
       "[0, 2]"
      ]
     },
     "execution_count": 47,
     "metadata": {},
     "output_type": "execute_result"
    }
   ],
   "source": [
    "n = 4\n",
    "edges = [[2,0],[0,3],[3,1]]\n",
    "S = Solution()\n",
    "S.findSmallestSetOfVertices(n, edges)"
   ]
  },
  {
   "cell_type": "code",
   "execution_count": null,
   "metadata": {},
   "outputs": [],
   "source": []
  }
 ],
 "metadata": {
  "kernelspec": {
   "display_name": "Python 3",
   "language": "python",
   "name": "python3"
  },
  "language_info": {
   "codemirror_mode": {
    "name": "ipython",
    "version": 3
   },
   "file_extension": ".py",
   "mimetype": "text/x-python",
   "name": "python",
   "nbconvert_exporter": "python",
   "pygments_lexer": "ipython3",
   "version": "3.11.4"
  }
 },
 "nbformat": 4,
 "nbformat_minor": 2
}
