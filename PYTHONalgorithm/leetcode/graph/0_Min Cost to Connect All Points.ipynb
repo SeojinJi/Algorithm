{
 "cells": [
  {
   "cell_type": "markdown",
   "id": "f73aef13-508b-47cb-b610-5454a3db5867",
   "metadata": {},
   "source": [
    "1584. Min Cost to Connect All Points\n",
    "\n",
    "You are given an array points representing integer coordinates of some points on a 2D-plane, where points[i] = [xi, yi].\n",
    "\n",
    "The cost of connecting two points [xi, yi] and [xj, yj] is the manhattan distance between them: |xi - xj| + |yi - yj|, where |val| denotes the absolute value of val.\n",
    "\n",
    "Return the minimum cost to make all points connected. All points are connected if there is exactly one simple path between any two points."
   ]
  },
  {
   "cell_type": "code",
   "execution_count": 2,
   "id": "25cec1fb-89f5-4f2a-bcf3-1295b226b57f",
   "metadata": {},
   "outputs": [],
   "source": [
    "class Solution:\n",
    "    def allGraph(self, points) :\n",
    "        edges = []\n",
    "        for i in range(len(points)) :\n",
    "            for j in range(len(points)) :\n",
    "                if i == j :\n",
    "                    continue\n",
    "                number = abs(points[i][0] - points[j][0]) + abs(points[i][1] - points[j][1])\n",
    "                edges.append([number, i, j])\n",
    "        return edges\n",
    "    def find(self, u, parent) :\n",
    "        if parent[u] == u :\n",
    "            return u\n",
    "        return self.find(parent[u], parent)\n",
    "\n",
    "    def merge(self, u, v, rank, parent) :\n",
    "        uparent = self.find(u, parent)\n",
    "        vparent = self.find(v, parent)\n",
    "        if uparent == vparent :\n",
    "            return ;\n",
    "        if rank[uparent] > rank[vparent] :\n",
    "            parent[uparent] = vparent\n",
    "        elif rank[uparent] < rank[vparent] :\n",
    "            parent[vparent] = uparent\n",
    "        else :\n",
    "            parent[uparent] = vparent\n",
    "            rank[vparent] += 1\n",
    "\n",
    "    def minCostConnectPoints(self, points):\n",
    "        edges = self.allGraph(points)\n",
    "        edges = sorted(edges)\n",
    "        parent = []\n",
    "        rank = [0] * len(points)\n",
    "        for i in range(len(points)):\n",
    "            parent.append(i)\n",
    "        number = 0\n",
    "        index = 0\n",
    "        result = 0\n",
    "        while number < len(points)-1 :\n",
    "            w, u, v = edges[index]\n",
    "            index += 1\n",
    "            x = self.find(u, parent)\n",
    "            y = self.find(v, parent)\n",
    "            if x != y :\n",
    "                number += 1\n",
    "                result += w\n",
    "                self.merge(x, y, rank, parent)\n",
    "        return result"
   ]
  },
  {
   "cell_type": "code",
   "execution_count": 3,
   "id": "d6829e34-a805-4609-bff6-489c8a4e5710",
   "metadata": {},
   "outputs": [
    {
     "data": {
      "text/plain": [
       "102"
      ]
     },
     "execution_count": 3,
     "metadata": {},
     "output_type": "execute_result"
    }
   ],
   "source": [
    "points = [[-14,-14],[-18,5],[18,-10],[18,18],[10,-2]]\n",
    "S = Solution()\n",
    "output = S.minCostConnectPoints(points)\n",
    "output "
   ]
  },
  {
   "cell_type": "code",
   "execution_count": 4,
   "id": "d9b23d6b-f1c1-473d-a4ef-0436d8031f00",
   "metadata": {},
   "outputs": [
    {
     "data": {
      "text/plain": [
       "20"
      ]
     },
     "execution_count": 4,
     "metadata": {},
     "output_type": "execute_result"
    }
   ],
   "source": [
    "points = [[0,0],[2,2],[3,10],[5,2],[7,0]]\n",
    "S = Solution()\n",
    "output = S.minCostConnectPoints(points)\n",
    "output "
   ]
  },
  {
   "cell_type": "code",
   "execution_count": 5,
   "id": "43f52958-ea3b-4e46-a32b-6d1bf07bb4db",
   "metadata": {},
   "outputs": [
    {
     "data": {
      "text/plain": [
       "18"
      ]
     },
     "execution_count": 5,
     "metadata": {},
     "output_type": "execute_result"
    }
   ],
   "source": [
    "points = [[3,12],[-2,5],[-4,1]]\n",
    "S = Solution()\n",
    "output = S.minCostConnectPoints(points)\n",
    "output "
   ]
  }
 ],
 "metadata": {
  "kernelspec": {
   "display_name": "Python 3 (ipykernel)",
   "language": "python",
   "name": "python3"
  },
  "language_info": {
   "codemirror_mode": {
    "name": "ipython",
    "version": 3
   },
   "file_extension": ".py",
   "mimetype": "text/x-python",
   "name": "python",
   "nbconvert_exporter": "python",
   "pygments_lexer": "ipython3",
   "version": "3.11.4"
  }
 },
 "nbformat": 4,
 "nbformat_minor": 5
}
