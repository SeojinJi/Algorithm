{
 "cells": [
  {
   "cell_type": "markdown",
   "metadata": {},
   "source": [
    "1319. Number of Operations to Make Network Connected\n",
    "\n",
    "There are n computers numbered from 0 to n - 1 connected by ethernet cables connections forming a network where connections[i] = [ai, bi] represents a connection between computers ai and bi. Any computer can reach any other computer directly or indirectly through the network.\n",
    "\n",
    "You are given an initial computer network connections. You can extract certain cables between two directly connected computers, and place them between any pair of disconnected computers to make them directly connected.\n",
    "\n",
    "Return the minimum number of times you need to do this in order to make all the computers connected. If it is not possible, return -1."
   ]
  },
  {
   "attachments": {
    "sample_1_1677.png": {
     "image/png": "[encoded data removed]"
    }
   },
   "cell_type": "markdown",
   "metadata": {},
   "source": [
    "![sample_1_1677.png](attachment:sample_1_1677.png)"
   ]
  },
  {
   "cell_type": "markdown",
   "metadata": {},
   "source": [
    "Input: n = 4, connections = [[0,1],[0,2],[1,2]]\n",
    "Output: 1\n",
    "Explanation: Remove cable between computer 1 and 2 and place between computers 1 and 3."
   ]
  },
  {
   "cell_type": "code",
   "execution_count": 1,
   "metadata": {},
   "outputs": [],
   "source": [
    "class Solution:\n",
    "    def makeConnected(self, n: int, connections) :\n",
    "        if(len(connections) < n - 1) :\n",
    "            return -1\n",
    "        parent = [False] * n\n",
    "        for v, w in connections :\n",
    "            parent[v] = True\n",
    "            parent[w] = True\n",
    "        num = 0\n",
    "        for i in range(len(parent)) :\n",
    "            if(parent[i] == False) :\n",
    "                num += 1\n",
    "        return num"
   ]
  },
  {
   "cell_type": "code",
   "execution_count": 4,
   "metadata": {},
   "outputs": [],
   "source": [
    "from collections import defaultdict\n",
    "class Solution:\n",
    "    def dfs_help(self, v, visited) :\n",
    "        visited[v] = True\n",
    "        for u in self.neighbors[v] :\n",
    "            if visited[u] == False :\n",
    "                self.dfs_help(u, visited)\n",
    "\n",
    "    def makeConnected(self, n : int, connections) :\n",
    "        if(len(connections) < n - 1) :\n",
    "            return -1\n",
    "        self.neighbors = defaultdict(list)\n",
    "        for v, w in connections :\n",
    "            self.neighbors[v].append(w)\n",
    "            self.neighbors[w].append(v)\n",
    "        visited = [False] * n\n",
    "        num = 0\n",
    "        for i in range(n) :\n",
    "            if visited[i] == False :\n",
    "                num += 1\n",
    "                self.dfs_help(i, visited)\n",
    "        return num - 1"
   ]
  },
  {
   "cell_type": "code",
   "execution_count": 5,
   "metadata": {},
   "outputs": [
    {
     "data": {
      "text/plain": [
       "1"
      ]
     },
     "execution_count": 5,
     "metadata": {},
     "output_type": "execute_result"
    }
   ],
   "source": [
    "n = 4\n",
    "connections = [[0,1],[0,2],[1,2]]\n",
    "S = Solution()\n",
    "S.makeConnected(n, connections)\n"
   ]
  },
  {
   "cell_type": "code",
   "execution_count": 6,
   "metadata": {},
   "outputs": [
    {
     "data": {
      "text/plain": [
       "2"
      ]
     },
     "execution_count": 6,
     "metadata": {},
     "output_type": "execute_result"
    }
   ],
   "source": [
    "n = 6\n",
    "connections = [[0,1],[0,2],[0,3],[1,2],[1,3]]\n",
    "S = Solution()\n",
    "S.makeConnected(n, connections)\n"
   ]
  },
  {
   "cell_type": "code",
   "execution_count": 7,
   "metadata": {},
   "outputs": [
    {
     "data": {
      "text/plain": [
       "13"
      ]
     },
     "execution_count": 7,
     "metadata": {},
     "output_type": "execute_result"
    }
   ],
   "source": [
    "n = 100\n",
    "connections = [[17,51],[33,83],[53,62],[25,34],[35,90],[29,41],[14,53],[40,84],[41,64],[13,68],[44,85],[57,58],[50,74],[20,69],[15,62],[25,88],[4,56],[37,39],[30,62],[69,79],[33,85],[24,83],[35,77],[2,73],[6,28],[46,98],[11,82],[29,72],[67,71],[12,49],[42,56],[56,65],[40,70],[24,64],[29,51],[20,27],[45,88],[58,92],[60,99],[33,46],[19,69],[33,89],[54,82],[16,50],[35,73],[19,45],[19,72],[1,79],[27,80],[22,41],[52,61],[50,85],[27,45],[4,84],[11,96],[0,99],[29,94],[9,19],[66,99],[20,39],[16,85],[12,27],[16,67],[61,80],[67,83],[16,17],[24,27],[16,25],[41,79],[51,95],[46,47],[27,51],[31,44],[0,69],[61,63],[33,95],[17,88],[70,87],[40,42],[21,42],[67,77],[33,65],[3,25],[39,83],[34,40],[15,79],[30,90],[58,95],[45,56],[37,48],[24,91],[31,93],[83,90],[17,86],[61,65],[15,48],[34,56],[12,26],[39,98],[1,48],[21,76],[72,96],[30,69],[46,80],[6,29],[29,81],[22,77],[85,90],[79,83],[6,26],[33,57],[3,65],[63,84],[77,94],[26,90],[64,77],[0,3],[27,97],[66,89],[18,77],[27,43]]\n",
    "S = Solution()\n",
    "S.makeConnected(n, connections)"
   ]
  },
  {
   "cell_type": "code",
   "execution_count": null,
   "metadata": {},
   "outputs": [],
   "source": []
  }
 ],
 "metadata": {
  "kernelspec": {
   "display_name": "Python 3",
   "language": "python",
   "name": "python3"
  },
  "language_info": {
   "codemirror_mode": {
    "name": "ipython",
    "version": 3
   },
   "file_extension": ".py",
   "mimetype": "text/x-python",
   "name": "python",
   "nbconvert_exporter": "python",
   "pygments_lexer": "ipython3",
   "version": "3.11.4"
  }
 },
 "nbformat": 4,
 "nbformat_minor": 2
}
