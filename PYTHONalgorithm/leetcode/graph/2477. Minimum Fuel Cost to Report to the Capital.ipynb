{
 "cells": [
  {
   "cell_type": "markdown",
   "metadata": {},
   "source": [
    "2477. Minimum Fuel Cost to Report to the Capital\n",
    "There is a tree (i.e., a connected, undirected graph with no cycles) structure country network consisting of n cities numbered from 0 to n - 1 and exactly n - 1 roads. The capital city is city 0. You are given a 2D integer array roads where roads[i] = [ai, bi] denotes that there exists a bidirectional road connecting cities ai and bi.\n",
    "\n",
    "There is a meeting for the representatives of each city. The meeting is in the capital city.\n",
    "\n",
    "There is a car in each city. You are given an integer seats that indicates the number of seats in each car.\n",
    "\n",
    "A representative can use the car in their city to travel or change the car and ride with another representative. The cost of traveling between two cities is one liter of fuel.\n",
    "\n",
    "Return the minimum number of liters of fuel to reach the capital city."
   ]
  },
  {
   "attachments": {
    "a4c380025e3ff0c379525e96a7d63a3.png": {
     "image/png": "[encoded data removed]"
    }
   },
   "cell_type": "markdown",
   "metadata": {},
   "source": [
    "![a4c380025e3ff0c379525e96a7d63a3.png](attachment:a4c380025e3ff0c379525e96a7d63a3.png)"
   ]
  },
  {
   "cell_type": "markdown",
   "metadata": {},
   "source": [
    "Input: roads = [[0,1],[0,2],[0,3]], seats = 5\n",
    "Output: 3\n",
    "Explanation: \n",
    "- Representative1 goes directly to the capital with 1 liter of fuel.\n",
    "- Representative2 goes directly to the capital with 1 liter of fuel.\n",
    "- Representative3 goes directly to the capital with 1 liter of fuel.\n",
    "It costs 3 liters of fuel at minimum. \n",
    "It can be proven that 3 is the minimum number of liters of fuel needed."
   ]
  },
  {
   "attachments": {
    "2.png": {
     "image/png": "[encoded data removed]"
    }
   },
   "cell_type": "markdown",
   "metadata": {},
   "source": [
    "![2.png](attachment:2.png)"
   ]
  },
  {
   "cell_type": "markdown",
   "metadata": {},
   "source": [
    "Input: roads = [[3,1],[3,2],[1,0],[0,4],[0,5],[4,6]], seats = 2\n",
    "Output: 7\n",
    "Explanation: \n",
    "- Representative2 goes directly to city 3 with 1 liter of fuel.\n",
    "- Representative2 and representative3 go together to city 1 with 1 liter of fuel.\n",
    "- Representative2 and representative3 go together to the capital with 1 liter of fuel.\n",
    "- Representative1 goes directly to the capital with 1 liter of fuel.\n",
    "- Representative5 goes directly to the capital with 1 liter of fuel.\n",
    "- Representative6 goes directly to city 4 with 1 liter of fuel.\n",
    "- Representative4 and representative6 go together to the capital with 1 liter of fuel.\n",
    "It costs 7 liters of fuel at minimum. \n",
    "It can be proven that 7 is the minimum number of liters of fuel needed."
   ]
  },
  {
   "cell_type": "code",
   "execution_count": 99,
   "metadata": {},
   "outputs": [],
   "source": [
    "from collections import defaultdict, deque\n",
    "class Solution:\n",
    "    def minimumFuelCost(self, roads, seats: int):\n",
    "        if len(roads) == 0 :\n",
    "            return 0\n",
    "        neighbors = defaultdict(list)\n",
    "        for v, w in roads :\n",
    "            neighbors[v].append(w)\n",
    "            neighbors[w].append(v)\n",
    "        visited = {}\n",
    "        for v in range(len(neighbors)) :\n",
    "            visited[v] = False\n",
    "        allpath = defaultdict(list)\n",
    "        q = deque()\n",
    "        q.append((0, []))\n",
    "        while q :\n",
    "            node, path = q.pop()\n",
    "            if visited[node] == False :\n",
    "                visited[node] = True\n",
    "                allpath[node] = path\n",
    "                for ni in neighbors[node] :\n",
    "                    q.append((ni, path+[ni]))\n",
    "        allpath = {k : allpath[k] for k in sorted(allpath, key = lambda k : len(allpath[k]), reverse = True)}\n",
    "        print(allpath)\n",
    "        result = []\n",
    "        carpool = {}\n",
    "        carpool[0] = True\n",
    "        for v in range(1, len(neighbors)) :\n",
    "            carpool[v] = False\n",
    "        for k, v in allpath.items() :\n",
    "            if carpool[k] == False :\n",
    "                num = 0\n",
    "                length = len(allpath[k])\n",
    "                car = []\n",
    "                while num < seats and num < length:\n",
    "                    car.append(v[length - num - 1])\n",
    "                    carpool[v[length-num-1]] = True\n",
    "                    num += 1\n",
    "                result.append(car)\n",
    "        print(result)\n",
    "        fuel = 0\n",
    "        for i in range(len(result)) :\n",
    "            fuel += len(allpath[result[i][0]])\n",
    "        return fuel\n"
   ]
  },
  {
   "cell_type": "code",
   "execution_count": 102,
   "metadata": {},
   "outputs": [],
   "source": [
    "import math\n",
    "class Solution:    \n",
    "    def minimumFuelCost(self, roads, seats: int) -> int: \n",
    "        adjacency_list = defaultdict(list)\n",
    "        for a, b in roads:\n",
    "            adjacency_list[a].append(b)\n",
    "            adjacency_list[b].append(a)            \n",
    "        total_fuel_cost = [0]        \n",
    "        def dfs(node, parent):\n",
    "            people = 1            \n",
    "            for neighbor in adjacency_list[node]:\n",
    "                if neighbor == parent:\n",
    "                    continue\n",
    "                people += dfs(neighbor, node)                \n",
    "            if node != 0:\n",
    "                total_fuel_cost[0] += math.ceil(people / seats)                \n",
    "            return people        \n",
    "        dfs(0, None)\n",
    "        return total_fuel_cost[0]"
   ]
  },
  {
   "cell_type": "code",
   "execution_count": 103,
   "metadata": {},
   "outputs": [
    {
     "data": {
      "text/plain": [
       "4"
      ]
     },
     "execution_count": 103,
     "metadata": {},
     "output_type": "execute_result"
    }
   ],
   "source": [
    "roads = [[0,1],[0,2],[1,3],[1,4]]\n",
    "seats = 5\n",
    "S = Solution()\n",
    "S.minimumFuelCost(roads, seats)"
   ]
  },
  {
   "cell_type": "code",
   "execution_count": 104,
   "metadata": {},
   "outputs": [
    {
     "data": {
      "text/plain": [
       "7"
      ]
     },
     "execution_count": 104,
     "metadata": {},
     "output_type": "execute_result"
    }
   ],
   "source": [
    "roads = [[3,1],[3,2],[1,0],[0,4],[0,5],[4,6]]\n",
    "seats = 2\n",
    "S = Solution()\n",
    "S.minimumFuelCost(roads, seats)"
   ]
  },
  {
   "cell_type": "code",
   "execution_count": null,
   "metadata": {},
   "outputs": [],
   "source": []
  }
 ],
 "metadata": {
  "kernelspec": {
   "display_name": "Python 3",
   "language": "python",
   "name": "python3"
  },
  "language_info": {
   "codemirror_mode": {
    "name": "ipython",
    "version": 3
   },
   "file_extension": ".py",
   "mimetype": "text/x-python",
   "name": "python",
   "nbconvert_exporter": "python",
   "pygments_lexer": "ipython3",
   "version": "3.11.4"
  }
 },
 "nbformat": 4,
 "nbformat_minor": 2
}
