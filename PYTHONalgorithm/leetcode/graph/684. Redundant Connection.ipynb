{
 "cells": [
  {
   "cell_type": "markdown",
   "metadata": {},
   "source": [
    "684. Redundant Connection\n",
    "\n",
    "In this problem, a tree is an undirected graph that is connected and has no cycles.\n",
    "\n",
    "You are given a graph that started as a tree with n nodes labeled from 1 to n, with one additional edge added. The added edge has two different vertices chosen from 1 to n, and was not an edge that already existed. The graph is represented as an array edges of length n where edges[i] = [ai, bi] indicates that there is an edge between nodes ai and bi in the graph.\n",
    "\n",
    "Return an edge that can be removed so that the resulting graph is a tree of n nodes. If there are multiple answers, return the answer that occurs last in the input.\n"
   ]
  },
  {
   "attachments": {
    "reduntant1-2-graph.jpg": {
     "image/jpeg": "[encoded data removed]"
    }
   },
   "cell_type": "markdown",
   "metadata": {},
   "source": [
    "![reduntant1-2-graph.jpg](attachment:reduntant1-2-graph.jpg)"
   ]
  },
  {
   "cell_type": "markdown",
   "metadata": {},
   "source": [
    "Input: edges = [[1,2],[2,3],[3,4],[1,4],[1,5]]\n",
    "Output: [1,4]"
   ]
  },
  {
   "cell_type": "code",
   "execution_count": 16,
   "metadata": {},
   "outputs": [],
   "source": [
    "from collections import defaultdict, deque\n",
    "class Solution:\n",
    "    def isCyclicUtil(self, v, visited, parent):\n",
    "        visited[v] = True\n",
    "        for i in self.neighbors[v]:\n",
    "            if visited[i] == False:\n",
    "                if(self.isCyclicUtil(i, visited, v)):\n",
    "                    return True\n",
    "            elif parent != i:\n",
    "                return True\n",
    "        return False\n",
    "    \n",
    "    def isCyclic(self):\n",
    "        visited = [False]*(self.V)\n",
    "        for i in range(self.V):\n",
    "            if visited[i] == False:\n",
    "                if(self.isCyclicUtil(i, visited, -1)) == True:\n",
    "                    return True\n",
    "        return False\n",
    "    \n",
    "    def findRedundantConnection(self, edges) :\n",
    "        self.neighbors = defaultdict(list)\n",
    "        vertex = []\n",
    "        for v, w in edges :\n",
    "            self.neighbors[v].append(w)\n",
    "            self.neighbors[w].append(v)\n",
    "            if v not in vertex :\n",
    "                vertex.append(v)\n",
    "            if w not in vertex :\n",
    "                vertex.append(w)\n",
    "            vertex = sorted(vertex)\n",
    "            self.V = max(vertex) + 1\n",
    "            if(self.isCyclic()) :\n",
    "                result = [v, w]\n",
    "                return result\n",
    "            \n",
    "        result = []\n",
    "        return result\n",
    "        "
   ]
  },
  {
   "cell_type": "code",
   "execution_count": 17,
   "metadata": {},
   "outputs": [
    {
     "data": {
      "text/plain": [
       "[2, 3]"
      ]
     },
     "execution_count": 17,
     "metadata": {},
     "output_type": "execute_result"
    }
   ],
   "source": [
    "edges = [[1,2],[1,3],[2,3]]\n",
    "S = Solution()\n",
    "S.findRedundantConnection(edges)"
   ]
  },
  {
   "cell_type": "code",
   "execution_count": 18,
   "metadata": {},
   "outputs": [
    {
     "data": {
      "text/plain": [
       "[1, 4]"
      ]
     },
     "execution_count": 18,
     "metadata": {},
     "output_type": "execute_result"
    }
   ],
   "source": [
    "edges = [[1,2],[2,3],[3,4],[1,4],[1,5]]\n",
    "S = Solution()\n",
    "S.findRedundantConnection(edges)"
   ]
  }
 ],
 "metadata": {
  "kernelspec": {
   "display_name": "Python 3",
   "language": "python",
   "name": "python3"
  },
  "language_info": {
   "codemirror_mode": {
    "name": "ipython",
    "version": 3
   },
   "file_extension": ".py",
   "mimetype": "text/x-python",
   "name": "python",
   "nbconvert_exporter": "python",
   "pygments_lexer": "ipython3",
   "version": "3.11.4"
  }
 },
 "nbformat": 4,
 "nbformat_minor": 2
}
