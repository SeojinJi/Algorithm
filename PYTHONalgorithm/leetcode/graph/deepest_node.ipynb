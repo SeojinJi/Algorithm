{
 "cells": [
  {
   "cell_type": "code",
   "execution_count": 52,
   "metadata": {},
   "outputs": [],
   "source": [
    "from collections import defaultdict\n",
    "def cost(roads) :\n",
    "    neighbors = defaultdict(list)\n",
    "    neighbors[0] = []\n",
    "    for v, w in roads :\n",
    "        neighbors[v].append(w)\n",
    "        neighbors[w].append(v)\n",
    "    print(neighbors)\n",
    "    visited = {}\n",
    "    for v in range(len(neighbors)) :\n",
    "        visited[v] = False\n",
    "    result = [0 for _ in range(len(neighbors))]\n",
    "    arr = [(1, 0)]\n",
    "    while arr :\n",
    "        node, path = arr.pop(0)\n",
    "        if visited[node] == False :\n",
    "            result[node] = path\n",
    "            visited[node] = True\n",
    "            for ni in neighbors[node] :\n",
    "                arr.append((ni, path+1))\n",
    "    print(result)\n",
    "    final = []\n",
    "    max_path = max(result)\n",
    "    for i in range(len(result)) :\n",
    "        if result[i] == max_path :\n",
    "            final.append(i)\n",
    "    return final"
   ]
  },
  {
   "cell_type": "code",
   "execution_count": 53,
   "metadata": {},
   "outputs": [
    {
     "name": "stdout",
     "output_type": "stream",
     "text": [
      "defaultdict(<class 'list'>, {0: [], 1: [3, 2], 3: [1, 2, 4, 6], 2: [1, 3, 4, 5], 4: [2, 3], 6: [3], 5: [2]})\n",
      "[0, 0, 1, 1, 2, 2, 2]\n"
     ]
    },
    {
     "data": {
      "text/plain": [
       "[4, 5, 6]"
      ]
     },
     "execution_count": 53,
     "metadata": {},
     "output_type": "execute_result"
    }
   ],
   "source": [
    "roads = [[1, 3], [1, 2], [2, 3], [2 ,4], [3, 4], [3, 6], [2, 5]]\n",
    "cost(roads)"
   ]
  }
 ],
 "metadata": {
  "kernelspec": {
   "display_name": "Python 3",
   "language": "python",
   "name": "python3"
  },
  "language_info": {
   "codemirror_mode": {
    "name": "ipython",
    "version": 3
   },
   "file_extension": ".py",
   "mimetype": "text/x-python",
   "name": "python",
   "nbconvert_exporter": "python",
   "pygments_lexer": "ipython3",
   "version": "3.11.4"
  }
 },
 "nbformat": 4,
 "nbformat_minor": 2
}
