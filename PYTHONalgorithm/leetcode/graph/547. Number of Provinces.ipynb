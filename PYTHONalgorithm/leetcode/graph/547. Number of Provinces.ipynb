{
 "cells": [
  {
   "cell_type": "markdown",
   "metadata": {},
   "source": [
    "547. Number of Provinces\n",
    "\n",
    "There are n cities. Some of them are connected, while some are not. If city a is connected directly with city b, and city b is connected directly with city c, then city a is connected indirectly with city c.\n",
    "\n",
    "A province is a group of directly or indirectly connected cities and no other cities outside of the group.\n",
    "\n",
    "You are given an n x n matrix isConnected where isConnected[i][j] = 1 if the ith city and the jth city are directly connected, and isConnected[i][j] = 0 otherwise.\n",
    "\n",
    "Return the total number of provinces."
   ]
  },
  {
   "cell_type": "code",
   "execution_count": 1,
   "metadata": {},
   "outputs": [],
   "source": [
    "class Solution:\n",
    "    def undi_graph(self, isConnected) :\n",
    "        self.neighbors = {}\n",
    "        for v in range(len(isConnected)) :\n",
    "            self.neighbors[v] = []\n",
    "        for i in range(len(isConnected)) :\n",
    "            for j in range(i+1, len(isConnected)) :\n",
    "                if isConnected[i][j] == 1 :\n",
    "                    self.neighbors[i].append(j)\n",
    "                    self.neighbors[j].append(i)\n",
    "\n",
    "    def findCircleNum(self, isConnected) -> int:\n",
    "        self.undi_graph(isConnected)\n",
    "        visited = {}\n",
    "        for v in range(len(isConnected)) :\n",
    "            visited[v] = False\n",
    "        province = 0\n",
    "        for v in range(len(isConnected)) :\n",
    "            if visited[v] == False :\n",
    "                province += 1\n",
    "                self.__DFTHelp(visited, v)\n",
    "        return province\n",
    "    \n",
    "    def __DFTHelp(self, visited, v) :\n",
    "        visited[v] = True\n",
    "        for w in self.neighbors[v] :\n",
    "            if visited[w] == False :\n",
    "                self.__DFTHelp(visited, w) "
   ]
  },
  {
   "cell_type": "code",
   "execution_count": 2,
   "metadata": {},
   "outputs": [
    {
     "data": {
      "text/plain": [
       "2"
      ]
     },
     "execution_count": 2,
     "metadata": {},
     "output_type": "execute_result"
    }
   ],
   "source": [
    "isConnected = [[1,1,0],[1,1,0],[0,0,1]]\n",
    "S = Solution()\n",
    "S.findCircleNum(isConnected)"
   ]
  },
  {
   "cell_type": "code",
   "execution_count": 3,
   "metadata": {},
   "outputs": [
    {
     "data": {
      "text/plain": [
       "3"
      ]
     },
     "execution_count": 3,
     "metadata": {},
     "output_type": "execute_result"
    }
   ],
   "source": [
    "isConnected = [[1,0,0],[0,1,0],[0,0,1]]\n",
    "S = Solution()\n",
    "S.findCircleNum(isConnected)"
   ]
  }
 ],
 "metadata": {
  "kernelspec": {
   "display_name": "Python 3",
   "language": "python",
   "name": "python3"
  },
  "language_info": {
   "codemirror_mode": {
    "name": "ipython",
    "version": 3
   },
   "file_extension": ".py",
   "mimetype": "text/x-python",
   "name": "python",
   "nbconvert_exporter": "python",
   "pygments_lexer": "ipython3",
   "version": "3.11.4"
  }
 },
 "nbformat": 4,
 "nbformat_minor": 2
}
