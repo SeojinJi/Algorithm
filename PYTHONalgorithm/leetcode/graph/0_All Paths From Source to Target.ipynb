{
 "cells": [
  {
   "cell_type": "markdown",
   "id": "5d28e662-1919-4115-a210-d7f3eff38d1b",
   "metadata": {},
   "source": [
    "797. All Paths From Source to Target\n",
    "\n",
    "Given a directed acyclic graph (DAG) of n nodes labeled from 0 to n - 1, find all possible paths from node 0 to node n - 1 and return them in any order.\n",
    "\n",
    "The graph is given as follows: graph[i] is a list of all nodes you can visit from node i (i.e., there is a directed edge from node i to node graph[i][j])."
   ]
  },
  {
   "cell_type": "code",
   "execution_count": 1,
   "id": "3298f12d-50f6-48ff-8594-426be5679cb9",
   "metadata": {},
   "outputs": [],
   "source": [
    "def allPathsSourceTarget(graph): # bfs 구현\n",
    "    dict = {}\n",
    "    for i in range(len(graph)) :\n",
    "        dict[i] = graph[i]\n",
    "    n = len(graph) - 1\n",
    "    result = []\n",
    "    arr = [(0, [0])]\n",
    "    while arr :\n",
    "        node, path = arr.pop()\n",
    "        if node == n :\n",
    "            result.append(path)\n",
    "        for ni in dict[node] :\n",
    "            arr.append((ni, path+[ni]))\n",
    "    return result"
   ]
  },
  {
   "cell_type": "code",
   "execution_count": 2,
   "id": "6f59d7d8",
   "metadata": {},
   "outputs": [],
   "source": [
    "class Solution:\n",
    "    def dfs(self, graph, curr, path, result):\n",
    "        # 현재 노드가 (n-1) 노드이면, 찾은 path를 result에 추가\n",
    "        if curr == len(graph)-1:\n",
    "            result.append(path[:])              # path의 복사본을 result에 추가 (이후에 path를 변경하면서 재사용할 것이기 때문)\n",
    "            return\n",
    "        \n",
    "        # 현재 노드의 adj를 돌면서,\n",
    "        for v in graph[curr]:\n",
    "            path.append(v)                      # path에 방문한 노드 추가\n",
    "            self.dfs(graph, v, path, result)    # recursive하게 반복\n",
    "            path.pop()                          # result에 추가한 path는 지우기\n",
    "    \n",
    "    def allPathsSourceTarget(self, graph) :\n",
    "        result = []\n",
    "        self.dfs(graph, 0, [0], result)\n",
    "        return result"
   ]
  },
  {
   "cell_type": "code",
   "execution_count": 3,
   "id": "998e2bf3-d626-4bd6-9335-8d9a0f6323ee",
   "metadata": {},
   "outputs": [
    {
     "data": {
      "text/plain": [
       "[[0, 1, 3], [0, 2, 3]]"
      ]
     },
     "execution_count": 3,
     "metadata": {},
     "output_type": "execute_result"
    }
   ],
   "source": [
    "graph = [[1,2],[3],[3],[]]\n",
    "S = Solution()\n",
    "S.allPathsSourceTarget(graph)"
   ]
  }
 ],
 "metadata": {
  "kernelspec": {
   "display_name": "Python 3 (ipykernel)",
   "language": "python",
   "name": "python3"
  },
  "language_info": {
   "codemirror_mode": {
    "name": "ipython",
    "version": 3
   },
   "file_extension": ".py",
   "mimetype": "text/x-python",
   "name": "python",
   "nbconvert_exporter": "python",
   "pygments_lexer": "ipython3",
   "version": "3.11.4"
  }
 },
 "nbformat": 4,
 "nbformat_minor": 5
}
