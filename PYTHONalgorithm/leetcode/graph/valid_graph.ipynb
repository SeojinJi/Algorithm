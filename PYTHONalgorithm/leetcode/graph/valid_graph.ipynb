{
 "cells": [
  {
   "cell_type": "markdown",
   "id": "7dae7a3c-d247-42c2-b609-c1e85a1aad21",
   "metadata": {},
   "source": [
    "### Description ###\n",
    "\n",
    "##### You are given a undirectional graph with n vertices labeled from 0 to n-1.\n",
    "##### The graph is represented by an array of edges, where edge is denoted as edges[i] = [ui, vi], indicating a connection between vertex ui and vertex vi.\n",
    "##### Your goal is to check if there is a valid path from a given source vertex to a destination vertex.\n",
    "##### If such a path exists, return true. Otherwise, return false."
   ]
  },
  {
   "cell_type": "code",
   "execution_count": 1,
   "id": "16453513-6d5b-4055-8c09-349392744788",
   "metadata": {},
   "outputs": [],
   "source": [
    "import re"
   ]
  },
  {
   "cell_type": "code",
   "execution_count": 2,
   "id": "703fc54a-2e5d-4147-97de-13acc1dbe109",
   "metadata": {},
   "outputs": [],
   "source": [
    "from collections import deque"
   ]
  },
  {
   "cell_type": "code",
   "execution_count": 3,
   "id": "757390cd-1c68-4560-91fc-5efdbfdfe39c",
   "metadata": {},
   "outputs": [],
   "source": [
    "class Graph(object) :          \n",
    "    def getresult(self, n : int, E : list, source : int, destination : int) -> bool :\n",
    "        ### initial - Do not change below code ###\n",
    "        V = list(range(n))\n",
    "        neighbor = dict()\n",
    "        for v in V :\n",
    "            neighbor[v] = set()\n",
    "        for (v,w) in E :\n",
    "            neighbor[v].add(w)\n",
    "            neighbor[w].add(v)   \n",
    "        \n",
    "        ans = False\n",
    "        ### Fill in your code ###\n",
    "        visited = {}\n",
    "        for v in V :\n",
    "            visited[v] = False\n",
    "        q = deque()\n",
    "        nlabel = []\n",
    "        q.append(source)\n",
    "        while q :\n",
    "            v = q.popleft()\n",
    "            if not visited[v] :\n",
    "                visited[v] = True\n",
    "                nlabel.append(v)\n",
    "                for w in neighbor[v] :\n",
    "                    q.append(w)\n",
    "\n",
    "        for i in range(len(nlabel)) :\n",
    "            if nlabel[i] == destination :\n",
    "                ans = True\n",
    "                break\n",
    "        #########################\n",
    "        return ans"
   ]
  },
  {
   "cell_type": "code",
   "execution_count": 4,
   "id": "3adc69a8-9f5a-47c5-adcd-d0030c1592ae",
   "metadata": {},
   "outputs": [],
   "source": [
    "## Do not change below code ##        \n",
    "if __name__ == '__main__':\n",
    "    calc = graph()"
   ]
  }
 ],
 "metadata": {
  "kernelspec": {
   "display_name": "Python 3 (ipykernel)",
   "language": "python",
   "name": "python3"
  },
  "language_info": {
   "codemirror_mode": {
    "name": "ipython",
    "version": 3
   },
   "file_extension": ".py",
   "mimetype": "text/x-python",
   "name": "python",
   "nbconvert_exporter": "python",
   "pygments_lexer": "ipython3",
   "version": "3.11.4"
  }
 },
 "nbformat": 4,
 "nbformat_minor": 5
}
