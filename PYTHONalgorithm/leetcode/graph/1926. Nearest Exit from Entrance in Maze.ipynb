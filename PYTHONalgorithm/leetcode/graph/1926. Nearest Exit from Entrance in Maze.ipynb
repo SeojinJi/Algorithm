{
 "cells": [
  {
   "cell_type": "markdown",
   "metadata": {},
   "source": [
    "1926. Nearest Exit from Entrance in Maze\n",
    "\n",
    "You are given an m x n matrix maze (0-indexed) with empty cells (represented as '.') and walls (represented as '+'). You are also given the entrance of the maze, where entrance = [entrancerow, entrancecol] denotes the row and column of the cell you are initially standing at.\n",
    "\n",
    "In one step, you can move one cell up, down, left, or right. You cannot step into a cell with a wall, and you cannot step outside the maze. Your goal is to find the nearest exit from the entrance. An exit is defined as an empty cell that is at the border of the maze. The entrance does not count as an exit.\n",
    "\n",
    "Return the number of steps in the shortest path from the entrance to the nearest exit, or -1 if no such path exists."
   ]
  },
  {
   "attachments": {
    "nearest1-grid.jpg": {
     "image/jpeg": "[encoded data removed]"
    }
   },
   "cell_type": "markdown",
   "metadata": {},
   "source": [
    "![nearest1-grid.jpg](attachment:nearest1-grid.jpg)"
   ]
  },
  {
   "cell_type": "markdown",
   "metadata": {},
   "source": [
    "Example 1:\n",
    "Input: maze = [[\"+\",\"+\",\".\",\"+\"],[\".\",\".\",\".\",\"+\"],[\"+\",\"+\",\"+\",\".\"]], entrance = [1,2]\n",
    "Output: 1\n",
    "Explanation: There are 3 exits in this maze at [1,0], [0,2], and [2,3].\n",
    "Initially, you are at the entrance cell [1,2].\n",
    "- You can reach [1,0] by moving 2 steps left.\n",
    "- You can reach [0,2] by moving 1 step up.\n",
    "It is impossible to reach [2,3] from the entrance.\n",
    "Thus, the nearest exit is [0,2], which is 1 step away."
   ]
  },
  {
   "cell_type": "code",
   "execution_count": 12,
   "metadata": {},
   "outputs": [],
   "source": [
    "from collections import deque\n",
    "\n",
    "class Solution:\n",
    "    def nearestExit(self, maze, entrance):\n",
    "        rows = len(maze)\n",
    "        cols = len(maze[0])\n",
    "        directions = [(1, 0), (-1, 0), (0, 1), (0, -1)]\n",
    "        \n",
    "        queue = deque([(entrance[0], entrance[1], 0)])  # (x, y, distance)\n",
    "        visited = set()\n",
    "        visited.add((entrance[0], entrance[1]))\n",
    "        \n",
    "        while queue:\n",
    "            x, y, distance = queue.popleft()\n",
    "            \n",
    "            if (x != entrance[0] or y != entrance[1]) and (x == 0 or x == rows - 1 or y == 0 or y == cols - 1):\n",
    "                return distance\n",
    "            \n",
    "            for dx, dy in directions:\n",
    "                nx, ny = x + dx, y + dy\n",
    "                \n",
    "                if 0 <= nx < rows and 0 <= ny < cols and maze[nx][ny] == '.' and (nx, ny) not in visited:\n",
    "                    visited.add((nx, ny))\n",
    "                    queue.append((nx, ny, distance + 1))\n",
    "        \n",
    "        return -1"
   ]
  },
  {
   "cell_type": "code",
   "execution_count": 9,
   "metadata": {},
   "outputs": [],
   "source": [
    "class Solution:\n",
    "    def nearestExit(self, maze, entrance) :\n",
    "        self.maze = maze\n",
    "        self.rows = len(maze)\n",
    "        self.cols = len(maze[0])\n",
    "        self.entrancex = entrance[0]\n",
    "        self.entrancey = entrance[1]\n",
    "        self.visited = [[False for _ in range(self.cols)] for _ in range(self.rows)]\n",
    "        self.smallest = 100000\n",
    "        self.number = 0\n",
    "        result = []\n",
    "        self.dfs(entrance[0], entrance[1], [[entrance[0], entrance[1]]], result)\n",
    "        minimum = 10000\n",
    "        print(result)\n",
    "        for i in range(len(result)) :\n",
    "            if minimum > len(result[i]) :\n",
    "                minimum = len(result[i])\n",
    "        if minimum == 10000 :\n",
    "            return -1\n",
    "        return minimum - 1\n",
    "\n",
    "    def dfs(self, i, j, path, result):\n",
    "        # 이상한 곳\n",
    "        if (i < 0 or i > self.rows-1 or j < 0 or j > self.cols-1) :\n",
    "            return\n",
    "        if self.maze[i][j] == '+' or self.visited[i][j] == True :\n",
    "            return\n",
    "        # 현재 노드가 벽에 닿았으면 탈출 성공! # 문제는 현재 노드가 entrance node이면 안돼\n",
    "        if (i == 0 or i == self.rows-1 or j == 0 or j == self.cols-1) and ((i == self.entrancex and j == self.entrancey) == True) :\n",
    "            pass\n",
    "        elif (i == 0 or i == self.rows-1 or j == 0 or j == self.cols-1) :\n",
    "            result.append(path[:])              \n",
    "            return\n",
    "    \n",
    "        self.visited[i][j] = True\n",
    "        path.append([i+1, j])\n",
    "        self.dfs(i+1, j, path, result)\n",
    "        path.pop()\n",
    "        path.append([i-1, j])\n",
    "        self.dfs(i-1, j, path, result)\n",
    "        path.pop()\n",
    "        path.append([i, j+1])\n",
    "        self.dfs(i, j+1, path, result)\n",
    "        path.pop()\n",
    "        path.append([i, j-1])\n",
    "        self.dfs(i, j-1, path, result)\n",
    "        path.pop()\n",
    "    "
   ]
  },
  {
   "cell_type": "code",
   "execution_count": 13,
   "metadata": {},
   "outputs": [
    {
     "data": {
      "text/plain": [
       "7"
      ]
     },
     "execution_count": 13,
     "metadata": {},
     "output_type": "execute_result"
    }
   ],
   "source": [
    "maze = [[\"+\",\".\",\"+\",\"+\",\"+\",\"+\",\"+\"],[\"+\",\".\",\"+\",\".\",\".\",\".\",\"+\"],[\"+\",\".\",\"+\",\".\",\"+\",\".\",\"+\"],[\"+\",\".\",\".\",\".\",\".\",\".\",\"+\"],[\"+\",\"+\",\"+\",\"+\",\".\",\"+\",\".\"]]\n",
    "entrance = [0, 1]\n",
    "S = Solution()\n",
    "S.nearestExit(maze, entrance)"
   ]
  },
  {
   "cell_type": "code",
   "execution_count": 10,
   "metadata": {},
   "outputs": [
    {
     "name": "stdout",
     "output_type": "stream",
     "text": [
      "[[[1, 2], [0, 2]], [[1, 2], [1, 1], [1, 0]]]\n"
     ]
    },
    {
     "data": {
      "text/plain": [
       "1"
      ]
     },
     "execution_count": 10,
     "metadata": {},
     "output_type": "execute_result"
    }
   ],
   "source": [
    "maze = [[\"+\",\"+\",\".\",\"+\"],[\".\",\".\",\".\",\"+\"],[\"+\",\"+\",\"+\",\".\"]]\n",
    "entrance = [1,2]\n",
    "S = Solution()\n",
    "S.nearestExit(maze, entrance)\n"
   ]
  },
  {
   "cell_type": "code",
   "execution_count": 11,
   "metadata": {},
   "outputs": [
    {
     "name": "stdout",
     "output_type": "stream",
     "text": [
      "[[[1, 0], [1, 1], [1, 2]]]\n"
     ]
    },
    {
     "data": {
      "text/plain": [
       "2"
      ]
     },
     "execution_count": 11,
     "metadata": {},
     "output_type": "execute_result"
    }
   ],
   "source": [
    "maze = [[\"+\",\"+\",\"+\"],[\".\",\".\",\".\"],[\"+\",\"+\",\"+\"]]\n",
    "entrance = [1,0]\n",
    "S = Solution()\n",
    "S.nearestExit(maze, entrance)"
   ]
  },
  {
   "cell_type": "code",
   "execution_count": 6,
   "metadata": {},
   "outputs": [
    {
     "data": {
      "text/plain": [
       "-1"
      ]
     },
     "execution_count": 6,
     "metadata": {},
     "output_type": "execute_result"
    }
   ],
   "source": [
    "maze = [[\".\",\"+\"]]\n",
    "entrance = [0,0]\n",
    "S = Solution()\n",
    "S.nearestExit(maze, entrance)\n"
   ]
  },
  {
   "cell_type": "code",
   "execution_count": null,
   "metadata": {},
   "outputs": [],
   "source": []
  }
 ],
 "metadata": {
  "kernelspec": {
   "display_name": "Python 3",
   "language": "python",
   "name": "python3"
  },
  "language_info": {
   "codemirror_mode": {
    "name": "ipython",
    "version": 3
   },
   "file_extension": ".py",
   "mimetype": "text/x-python",
   "name": "python",
   "nbconvert_exporter": "python",
   "pygments_lexer": "ipython3",
   "version": "3.11.4"
  }
 },
 "nbformat": 4,
 "nbformat_minor": 2
}
