{
 "cells": [
  {
   "cell_type": "markdown",
   "metadata": {},
   "source": [
    "1466. Reorder Routes to Make All Paths Lead to the City Zero\n",
    "\n",
    "There are n cities numbered from 0 to n - 1 and n - 1 roads such that there is only one way to travel between two different cities (this network form a tree). Last year, The ministry of transport decided to orient the roads in one direction because they are too narrow.\n",
    "\n",
    "Roads are represented by connections where connections[i] = [ai, bi] represents a road from city ai to city bi.\n",
    "\n",
    "This year, there will be a big event in the capital (city 0), and many people want to travel to this city.\n",
    "\n",
    "Your task consists of reorienting some roads such that each city can visit the city 0. Return the minimum number of edges changed.\n",
    "\n",
    "It's guaranteed that each city can reach city 0 after reorder."
   ]
  },
  {
   "cell_type": "code",
   "execution_count": 21,
   "metadata": {},
   "outputs": [],
   "source": [
    "from collections import deque\n",
    "class Solution: # time limit exceed\n",
    "    def minReorder(self, n: int, connections) :\n",
    "        #initialize\n",
    "        V = []\n",
    "        for i in range(n) :\n",
    "            V.append(i)\n",
    "        neighbors = {}\n",
    "        for i in range(n) :\n",
    "            neighbors[i] = []\n",
    "        for [v, w] in connections :\n",
    "            neighbors[v].append(w)\n",
    "            neighbors[w].append(v)\n",
    "\n",
    "        NIL = float('-inf')\n",
    "        p = [NIL] * n\n",
    "        \n",
    "        # BFS\n",
    "        visited = {}\n",
    "        for v in range(n) :\n",
    "            visited[v] = False\n",
    "        q = deque()\n",
    "        q.append(0)\n",
    "        while q :\n",
    "            v = q.popleft()\n",
    "            visited[v] = True\n",
    "            for u in neighbors[v] :\n",
    "                if visited[u] == False :\n",
    "                    p[u] = v\n",
    "                    q.append(u)\n",
    "        \n",
    "        new_connect = []\n",
    "        for v in range(1, n) :\n",
    "            new_connect.append([p[v], v])\n",
    "        \n",
    "        number = 0\n",
    "        for v in new_connect :\n",
    "            if v not in connections :\n",
    "                number += 1\n",
    "        \n",
    "        return len(connections) - number"
   ]
  },
  {
   "cell_type": "code",
   "execution_count": 26,
   "metadata": {},
   "outputs": [],
   "source": [
    "from collections import deque\n",
    "class Solution:\n",
    "    def minReorder(self, n: int, connections) :\n",
    "        neighbors = []\n",
    "        for i in range(n) :\n",
    "            neighbors.append([])\n",
    "        for item in connections :\n",
    "            neighbors[item[0]].append([item[1], 0])\n",
    "            neighbors[item[1]].append([item[0], 1])\n",
    "        \n",
    "        # BFS\n",
    "        visited = {}\n",
    "        for v in range(n) :\n",
    "            visited[v] = False\n",
    "        \n",
    "        q = deque()\n",
    "        q.append(0)\n",
    "        result = 0\n",
    "        while q :\n",
    "            v = q.popleft()\n",
    "            visited[v] = True\n",
    "            for u, neg in neighbors[v] :\n",
    "                if visited[u] == False :\n",
    "                    q.append(u)\n",
    "                    if neg == 1 :\n",
    "                        result += 1\n",
    "        \n",
    "        return len(connections) - result"
   ]
  },
  {
   "cell_type": "code",
   "execution_count": 28,
   "metadata": {},
   "outputs": [
    {
     "data": {
      "text/plain": [
       "3"
      ]
     },
     "execution_count": 28,
     "metadata": {},
     "output_type": "execute_result"
    }
   ],
   "source": [
    "n = 6 \n",
    "connections = [[0,1],[1,3],[2,3],[4,0],[4,5]]\n",
    "S = Solution()\n",
    "S.minReorder(n, connections)"
   ]
  },
  {
   "cell_type": "code",
   "execution_count": 29,
   "metadata": {},
   "outputs": [
    {
     "data": {
      "text/plain": [
       "2"
      ]
     },
     "execution_count": 29,
     "metadata": {},
     "output_type": "execute_result"
    }
   ],
   "source": [
    "n = 5\n",
    "connections = [[1,0],[1,2],[3,2],[3,4]]\n",
    "S = Solution()\n",
    "S.minReorder(n, connections)"
   ]
  },
  {
   "cell_type": "code",
   "execution_count": 30,
   "metadata": {},
   "outputs": [
    {
     "data": {
      "text/plain": [
       "0"
      ]
     },
     "execution_count": 30,
     "metadata": {},
     "output_type": "execute_result"
    }
   ],
   "source": [
    "n = 3\n",
    "connections = [[1,0],[2,0]]\n",
    "S = Solution()\n",
    "S.minReorder(n, connections)"
   ]
  }
 ],
 "metadata": {
  "kernelspec": {
   "display_name": "Python 3",
   "language": "python",
   "name": "python3"
  },
  "language_info": {
   "codemirror_mode": {
    "name": "ipython",
    "version": 3
   },
   "file_extension": ".py",
   "mimetype": "text/x-python",
   "name": "python",
   "nbconvert_exporter": "python",
   "pygments_lexer": "ipython3",
   "version": "3.11.4"
  }
 },
 "nbformat": 4,
 "nbformat_minor": 2
}
