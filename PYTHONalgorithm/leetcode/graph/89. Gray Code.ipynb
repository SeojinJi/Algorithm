{
 "cells": [
  {
   "cell_type": "markdown",
   "metadata": {},
   "source": [
    "89. Gray Code\n",
    "An n-bit gray code sequence is a sequence of 2n integers where:\n",
    "\n",
    "Every integer is in the inclusive range [0, 2n - 1],\n",
    "The first integer is 0,\n",
    "An integer appears no more than once in the sequence,\n",
    "The binary representation of every pair of adjacent integers differs by exactly one bit, and\n",
    "The binary representation of the first and last integers differs by exactly one bit.\n",
    "Given an integer n, return any valid n-bit gray code sequence."
   ]
  },
  {
   "cell_type": "code",
   "execution_count": 27,
   "metadata": {},
   "outputs": [],
   "source": [
    "class Solution:\n",
    "    def poweroftwo(self, n) :\n",
    "        if n == 1 :\n",
    "            return True\n",
    "        while n > 1 :\n",
    "            if n % 2 != 0 :\n",
    "                return False\n",
    "            n = n // 2\n",
    "        return True\n",
    "    def grayCode(self, n: int) :\n",
    "        number = 2 ** n\n",
    "        V = [i for i in range(number)]\n",
    "        self.neighbor = {}\n",
    "        for i in range(number) :\n",
    "            self.neighbor[i] = []\n",
    "        for i in range(number) :\n",
    "            for j in range(n) :\n",
    "                power = 2 ** j\n",
    "                if i + power < number and i == 0 :\n",
    "                    self.neighbor[i].append(i+power)\n",
    "                    self.neighbor[i+power].append(i)\n",
    "                elif i + power < number and self.poweroftwo(i+power) == False :\n",
    "                    self.neighbor[i].append(i+power)\n",
    "                    self.neighbor[i+power].append(i)\n",
    "        visited = {}\n",
    "        path = []\n",
    "        for v in V :\n",
    "            visited[v] = False\n",
    "        self.__DFTHelp(visited, 0, path)\n",
    "        return path\n",
    "\n",
    "    def __DFTHelp(self, visited: list, v : int, path) -> None :\n",
    "        if not visited[v] :\n",
    "            visited[v] = True\n",
    "            path.append(v)\n",
    "            for w in self.neighbor[v] :\n",
    "                self.__DFTHelp(visited, w, path)\n",
    "    "
   ]
  },
  {
   "cell_type": "code",
   "execution_count": null,
   "metadata": {},
   "outputs": [],
   "source": [
    "class Solution:\n",
    "    def grayCode(self, n: int) : #Solution\n",
    "        res = [0]\n",
    "        for i in range(n):\n",
    "            for j in range(len(res) - 1, -1, -1):\n",
    "                res.append(res[j] | (1 << i))\n",
    "        return res"
   ]
  },
  {
   "cell_type": "code",
   "execution_count": 29,
   "metadata": {},
   "outputs": [
    {
     "data": {
      "text/plain": [
       "[0, 1, 3, 2]"
      ]
     },
     "execution_count": 29,
     "metadata": {},
     "output_type": "execute_result"
    }
   ],
   "source": [
    "n = 2\n",
    "S = Solution()\n",
    "S.grayCode(n)"
   ]
  },
  {
   "cell_type": "code",
   "execution_count": 3,
   "metadata": {},
   "outputs": [
    {
     "data": {
      "text/plain": [
       "8"
      ]
     },
     "execution_count": 3,
     "metadata": {},
     "output_type": "execute_result"
    }
   ],
   "source": [
    "2**3"
   ]
  }
 ],
 "metadata": {
  "kernelspec": {
   "display_name": "Python 3",
   "language": "python",
   "name": "python3"
  },
  "language_info": {
   "codemirror_mode": {
    "name": "ipython",
    "version": 3
   },
   "file_extension": ".py",
   "mimetype": "text/x-python",
   "name": "python",
   "nbconvert_exporter": "python",
   "pygments_lexer": "ipython3",
   "version": "3.11.4"
  }
 },
 "nbformat": 4,
 "nbformat_minor": 2
}
