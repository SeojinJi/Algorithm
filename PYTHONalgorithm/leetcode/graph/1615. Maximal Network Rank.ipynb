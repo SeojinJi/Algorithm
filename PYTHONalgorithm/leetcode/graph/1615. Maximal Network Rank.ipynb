{
 "cells": [
  {
   "cell_type": "markdown",
   "metadata": {},
   "source": [
    "1615. Maximal Network Rank\n",
    "\n",
    "There is an infrastructure of n cities with some number of roads connecting these cities. Each roads[i] = [ai, bi] indicates that there is a bidirectional road between cities ai and bi.\n",
    "\n",
    "The network rank of two different cities is defined as the total number of directly connected roads to either city. If a road is directly connected to both cities, it is only counted once.\n",
    "\n",
    "The maximal network rank of the infrastructure is the maximum network rank of all pairs of different cities.\n",
    "\n",
    "Given the integer n and the array roads, return the maximal network rank of the entire infrastructure."
   ]
  },
  {
   "attachments": {
    "ex1.png": {
     "image/png": "[encoded data removed]"
    }
   },
   "cell_type": "markdown",
   "metadata": {},
   "source": [
    "![ex1.png](attachment:ex1.png)"
   ]
  },
  {
   "cell_type": "markdown",
   "metadata": {},
   "source": [
    "Input: n = 4, roads = [[0,1],[0,3],[1,2],[1,3]]\n",
    "Output: 4\n",
    "Explanation: The network rank of cities 0 and 1 is 4 as there are 4 roads that are connected to either 0 or 1. The road between 0 and 1 is only counted once."
   ]
  },
  {
   "cell_type": "code",
   "execution_count": 32,
   "metadata": {},
   "outputs": [],
   "source": [
    "from collections import defaultdict\n",
    "class Solution:\n",
    "    def maximalNetworkRank(self, n: int, roads) :\n",
    "        neighbors = {}\n",
    "        for i in range(n) :\n",
    "            neighbors[i] = []\n",
    "        for v, w in roads :\n",
    "            neighbors[v].append(w)\n",
    "            neighbors[w].append(v)\n",
    "        result = defaultdict(list)\n",
    "        for i in range(len(neighbors)) :\n",
    "            largest = len(neighbors[i])\n",
    "            largestindex = i\n",
    "            for j in range(len(neighbors)) :\n",
    "                number = len(neighbors[j])\n",
    "                if largest < number and j not in result :\n",
    "                    largest = number\n",
    "                    largestindex = j\n",
    "            result[largestindex] = neighbors[largestindex]\n",
    "        \n",
    "        resultlist = []\n",
    "        for k, v in result.items() :\n",
    "            resultlist.append(k)\n",
    "        maximum = 0\n",
    "        for i in range(len(resultlist)) :\n",
    "            for j in range(i+1, len(resultlist)) :\n",
    "                number = len(result[resultlist[i]]) + len(result[resultlist[j]])\n",
    "                if resultlist[i] in result[resultlist[j]] :\n",
    "                    number -= 1\n",
    "                if maximum < number :\n",
    "                    maximum = number\n",
    "        return maximum\n",
    "    "
   ]
  },
  {
   "cell_type": "code",
   "execution_count": 10,
   "metadata": {},
   "outputs": [],
   "source": [
    "from collections import defaultdict\n",
    "class Solution:\n",
    "    def maximalNetworkRank(self, n: int, roads) :\n",
    "        neighbors = {}\n",
    "        for i in range(n) :\n",
    "            neighbors[i] = []\n",
    "        for v, w in roads :\n",
    "            neighbors[v].append(w)\n",
    "            neighbors[w].append(v)\n",
    "        \n",
    "        # neighbors 문자 개수만큼 내림차순으로 정렬\n",
    "        sorted_neighbors = {k : neighbors[k] for k in sorted(neighbors, key = lambda k : len(neighbors[k]), reverse = True)}\n",
    "        \n",
    "        resultlist = []\n",
    "        for k, v in sorted_neighbors.items() :\n",
    "            resultlist.append(k)\n",
    "        maximum = 0\n",
    "        for i in range(len(resultlist)) :\n",
    "            for j in range(i+1, len(resultlist)) :\n",
    "                number = len(sorted_neighbors[resultlist[i]]) + len(sorted_neighbors[resultlist[j]])\n",
    "                if resultlist[i] in sorted_neighbors[resultlist[j]] :\n",
    "                    number -= 1\n",
    "                if maximum < number :\n",
    "                    maximum = number\n",
    "        return maximum\n",
    "    "
   ]
  },
  {
   "cell_type": "code",
   "execution_count": 12,
   "metadata": {},
   "outputs": [
    {
     "data": {
      "text/plain": [
       "4"
      ]
     },
     "execution_count": 12,
     "metadata": {},
     "output_type": "execute_result"
    }
   ],
   "source": [
    "n = 4\n",
    "roads = [[0,1],[0,3],[1,2],[1,3]]\n",
    "S = Solution()\n",
    "S.maximalNetworkRank(n, roads)"
   ]
  },
  {
   "cell_type": "code",
   "execution_count": 13,
   "metadata": {},
   "outputs": [
    {
     "data": {
      "text/plain": [
       "5"
      ]
     },
     "execution_count": 13,
     "metadata": {},
     "output_type": "execute_result"
    }
   ],
   "source": [
    "n = 5\n",
    "roads = [[0,1],[0,3],[1,2],[1,3],[2,3],[2,4]]\n",
    "S = Solution()\n",
    "S.maximalNetworkRank(n, roads)"
   ]
  },
  {
   "cell_type": "code",
   "execution_count": 14,
   "metadata": {},
   "outputs": [
    {
     "data": {
      "text/plain": [
       "5"
      ]
     },
     "execution_count": 14,
     "metadata": {},
     "output_type": "execute_result"
    }
   ],
   "source": [
    "n = 8\n",
    "roads = [[0,1],[1,2],[2,3],[2,4],[5,6],[5,7]]\n",
    "S = Solution()\n",
    "S.maximalNetworkRank(n, roads)"
   ]
  },
  {
   "cell_type": "code",
   "execution_count": 15,
   "metadata": {},
   "outputs": [
    {
     "data": {
      "text/plain": [
       "4"
      ]
     },
     "execution_count": 15,
     "metadata": {},
     "output_type": "execute_result"
    }
   ],
   "source": [
    "n = 5\n",
    "roads = [[2,3],[0,3],[0,4],[4,1]]\n",
    "S = Solution()\n",
    "S.maximalNetworkRank(n, roads)"
   ]
  },
  {
   "cell_type": "code",
   "execution_count": null,
   "metadata": {},
   "outputs": [],
   "source": []
  }
 ],
 "metadata": {
  "kernelspec": {
   "display_name": "Python 3",
   "language": "python",
   "name": "python3"
  },
  "language_info": {
   "codemirror_mode": {
    "name": "ipython",
    "version": 3
   },
   "file_extension": ".py",
   "mimetype": "text/x-python",
   "name": "python",
   "nbconvert_exporter": "python",
   "pygments_lexer": "ipython3",
   "version": "3.11.4"
  }
 },
 "nbformat": 4,
 "nbformat_minor": 2
}
