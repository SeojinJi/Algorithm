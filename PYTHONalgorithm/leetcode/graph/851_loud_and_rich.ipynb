{
 "cells": [
  {
   "cell_type": "markdown",
   "metadata": {},
   "source": [
    "851. Loud and Rich\n",
    "\n",
    "There is a group of n people labeled from 0 to n - 1 where each person has a different amount of money and a different level of quietness.\n",
    "\n",
    "You are given an array richer where richer[i] = [ai, bi] indicates that ai has more money than bi and an integer array quiet where quiet[i] is the quietness of the ith person. All the given data in richer are logically correct (i.e., the data will not lead you to a situation where x is richer than y and y is richer than x at the same time).\n",
    "\n",
    "Return an integer array answer where answer[x] = y if y is the least quiet person (that is, the person y with the smallest value of quiet[y]) among all people who definitely have equal to or more money than the person x."
   ]
  },
  {
   "cell_type": "markdown",
   "metadata": {},
   "source": [
    "Example 1:\n",
    "\n",
    "Input: richer = [[1,0],[2,1],[3,1],[3,7],[4,3],[5,3],[6,3]], quiet = [3,2,5,4,6,1,7,0]\n",
    "Output: [5,5,2,5,4,5,6,7]\n",
    "Explanation: \n",
    "answer[0] = 5.\n",
    "Person 5 has more money than 3, which has more money than 1, which has more money than 0.\n",
    "The only person who is quieter (has lower quiet[x]) is person 7, but it is not clear if they have more money than person 0.\n",
    "answer[7] = 7.\n",
    "Among all people that definitely have equal to or more money than person 7 (which could be persons 3, 4, 5, 6, or 7), the person who is the quietest (has lower quiet[x]) is person 7.\n",
    "The other answers can be filled out with similar reasoning."
   ]
  },
  {
   "cell_type": "code",
   "execution_count": 5,
   "metadata": {},
   "outputs": [],
   "source": [
    "from collections import defaultdict\n",
    "class Solution:\n",
    "    def dfs_help(self, v, visited, arr) :\n",
    "        visited[v] = True\n",
    "        arr.append(v)\n",
    "        for u in self.neighbors[v] :\n",
    "            if visited[u] == False :\n",
    "                self.dfs_help(u, visited, arr)\n",
    "    \n",
    "    def loudAndRich(self, richer, quiet) :\n",
    "        self.neighbors = defaultdict(list)\n",
    "        for v, w in richer :\n",
    "            self.neighbors[w].append(v)\n",
    "        if(len(quiet) == 1) :\n",
    "            return [0]\n",
    "        arr = []\n",
    "        for v in range(len(quiet)) :\n",
    "            visited = [False] * len(quiet)\n",
    "            nodes = []\n",
    "            self.dfs_help(v, visited, nodes)\n",
    "            index = -1\n",
    "            smallest = 10000\n",
    "            for i in range(len(nodes)) :\n",
    "                if smallest > quiet[nodes[i]] :\n",
    "                    index = nodes[i]\n",
    "                    smallest = quiet[nodes[i]]\n",
    "            arr.append(index)\n",
    "        return arr"
   ]
  },
  {
   "cell_type": "code",
   "execution_count": 6,
   "metadata": {},
   "outputs": [
    {
     "data": {
      "text/plain": [
       "[5, 5, 2, 5, 4, 5, 6, 7]"
      ]
     },
     "execution_count": 6,
     "metadata": {},
     "output_type": "execute_result"
    }
   ],
   "source": [
    "richer = [[1,0],[2,1],[3,1],[3,7],[4,3],[5,3],[6,3]]\n",
    "quiet = [3,2,5,4,6,1,7,0]\n",
    "S = Solution()\n",
    "S.loudAndRich(richer, quiet)"
   ]
  },
  {
   "cell_type": "code",
   "execution_count": null,
   "metadata": {},
   "outputs": [],
   "source": []
  }
 ],
 "metadata": {
  "kernelspec": {
   "display_name": "Python 3",
   "language": "python",
   "name": "python3"
  },
  "language_info": {
   "codemirror_mode": {
    "name": "ipython",
    "version": 3
   },
   "file_extension": ".py",
   "mimetype": "text/x-python",
   "name": "python",
   "nbconvert_exporter": "python",
   "pygments_lexer": "ipython3",
   "version": "3.11.4"
  }
 },
 "nbformat": 4,
 "nbformat_minor": 2
}
