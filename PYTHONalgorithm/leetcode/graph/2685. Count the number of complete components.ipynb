{
 "cells": [
  {
   "cell_type": "markdown",
   "metadata": {},
   "source": [
    "2685. Count the Number of Complete Components\n",
    "\n",
    "You are given an integer n. There is an undirected graph with n vertices, numbered from 0 to n - 1. You are given a 2D integer array edges where edges[i] = [ai, bi] denotes that there exists an undirected edge connecting vertices ai and bi.\n",
    "\n",
    "Return the number of complete connected components of the graph.\n",
    "\n",
    "A connected component is a subgraph of a graph in which there exists a path between any two vertices, and no vertex of the subgraph shares an edge with a vertex outside of the subgraph.\n",
    "\n",
    "A connected component is said to be complete if there exists an edge between every pair of its vertices."
   ]
  },
  {
   "attachments": {
    "screenshot-from-2023-04-11-23-31-23.png": {
     "image/png": "[encoded data removed]"
    }
   },
   "cell_type": "markdown",
   "metadata": {},
   "source": [
    "![screenshot-from-2023-04-11-23-31-23.png](attachment:screenshot-from-2023-04-11-23-31-23.png)"
   ]
  },
  {
   "cell_type": "markdown",
   "metadata": {},
   "source": [
    "Input: n = 6, edges = [[0,1],[0,2],[1,2],[3,4]]\n",
    "Output: 3\n",
    "Explanation: From the picture above, one can see that all of the components of this graph are complete."
   ]
  },
  {
   "cell_type": "code",
   "execution_count": 40,
   "metadata": {},
   "outputs": [],
   "source": [
    "class Solution:\n",
    "    def countCompleteComponents(self, n: int, edges):\n",
    "        neighbors = {}\n",
    "        for i in range(n) :\n",
    "            neighbors[i] = [i]\n",
    "        for v, w in edges :\n",
    "            neighbors[v].append(w)\n",
    "            neighbors[w].append(v)\n",
    "        for i in range(n) :\n",
    "            neighbors[i] = sorted(neighbors[i])\n",
    "        print(neighbors)\n",
    "        arr = []\n",
    "        for v in range(n) :\n",
    "            flag = 0\n",
    "            if len(neighbors[v]) == 1 :\n",
    "                arr.append(neighbors[v])\n",
    "                continue\n",
    "            for w in neighbors[v] :\n",
    "                if neighbors[v] != neighbors[w] :\n",
    "                    flag = 1\n",
    "                    break\n",
    "            if flag == 0 and neighbors[v] not in arr :\n",
    "                arr.append(neighbors[v])\n",
    "        return len(arr)"
   ]
  },
  {
   "cell_type": "code",
   "execution_count": 41,
   "metadata": {},
   "outputs": [
    {
     "name": "stdout",
     "output_type": "stream",
     "text": [
      "{0: [0, 1, 2], 1: [0, 1, 2], 2: [0, 1, 2], 3: [3, 4, 5], 4: [3, 4], 5: [3, 5]}\n"
     ]
    },
    {
     "data": {
      "text/plain": [
       "1"
      ]
     },
     "execution_count": 41,
     "metadata": {},
     "output_type": "execute_result"
    }
   ],
   "source": [
    "n = 6\n",
    "edges = [[0,1],[0,2],[1,2],[3,4],[3,5]]\n",
    "S = Solution()\n",
    "S.countCompleteComponents(n, edges)"
   ]
  },
  {
   "cell_type": "code",
   "execution_count": 42,
   "metadata": {},
   "outputs": [
    {
     "name": "stdout",
     "output_type": "stream",
     "text": [
      "{0: [0, 1, 2], 1: [0, 1, 2], 2: [0, 1, 2], 3: [3, 4], 4: [3, 4], 5: [5]}\n"
     ]
    },
    {
     "data": {
      "text/plain": [
       "3"
      ]
     },
     "execution_count": 42,
     "metadata": {},
     "output_type": "execute_result"
    }
   ],
   "source": [
    "n = 6\n",
    "edges = [[0,1],[0,2],[1,2],[3,4]]\n",
    "S = Solution()\n",
    "S.countCompleteComponents(n, edges)"
   ]
  },
  {
   "cell_type": "code",
   "execution_count": 43,
   "metadata": {},
   "outputs": [
    {
     "name": "stdout",
     "output_type": "stream",
     "text": [
      "{0: [0, 1, 2, 3], 1: [0, 1, 2], 2: [0, 1, 2], 3: [0, 3]}\n"
     ]
    },
    {
     "data": {
      "text/plain": [
       "0"
      ]
     },
     "execution_count": 43,
     "metadata": {},
     "output_type": "execute_result"
    }
   ],
   "source": [
    "n = 4\n",
    "edges = [[1,0],[2,0],[2,1],[3,0]]\n",
    "S = Solution()\n",
    "S.countCompleteComponents(n, edges)"
   ]
  }
 ],
 "metadata": {
  "kernelspec": {
   "display_name": "Python 3",
   "language": "python",
   "name": "python3"
  },
  "language_info": {
   "codemirror_mode": {
    "name": "ipython",
    "version": 3
   },
   "file_extension": ".py",
   "mimetype": "text/x-python",
   "name": "python",
   "nbconvert_exporter": "python",
   "pygments_lexer": "ipython3",
   "version": "3.11.4"
  }
 },
 "nbformat": 4,
 "nbformat_minor": 2
}
