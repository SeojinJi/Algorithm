{
 "cells": [
  {
   "cell_type": "markdown",
   "metadata": {},
   "source": [
    "399. Evaluate Division\n",
    "\n",
    "You are given an array of variable pairs equations and an array of real numbers values, where equations[i] = [Ai, Bi] and values[i] represent the equation Ai / Bi = values[i]. Each Ai or Bi is a string that represents a single variable.\n",
    "\n",
    "You are also given some queries, where queries[j] = [Cj, Dj] represents the jth query where you must find the answer for Cj / Dj = ?.\n",
    "\n",
    "Return the answers to all queries. If a single answer cannot be determined, return -1.0.\n",
    "\n",
    "Note: The input is always valid. You may assume that evaluating the queries will not result in division by zero and that there is no contradiction.\n",
    "\n",
    "Note: The variables that do not occur in the list of equations are undefined, so the answer cannot be determined for them."
   ]
  },
  {
   "cell_type": "code",
   "execution_count": 56,
   "metadata": {},
   "outputs": [],
   "source": [
    "class Solution:\n",
    "    def DFS(self, variables, curr, second, visited, path) :\n",
    "        if curr == second :\n",
    "            print(path)\n",
    "            return True\n",
    "        \n",
    "        for v, value in variables[curr] :\n",
    "            if not visited[v] :\n",
    "                visited[v] = True\n",
    "                path.append(value)\n",
    "                if self.DFS(variables, v, second, visited, path):\n",
    "                    return True\n",
    "                path.pop()  # Backtrack\n",
    "        return False\n",
    "\n",
    "    def calcEquation(self, equations, values, queries) :\n",
    "        neighbors = {}\n",
    "        for i in range(len(equations)) :\n",
    "            first = equations[i][0]\n",
    "            second = equations[i][1]\n",
    "            if len(first) > 1 or len(second) > 1 :\n",
    "                first = ''.join([char for char in equations[i][0] if char not in equations[i][1]])\n",
    "                second = ''.join([char for char in equations[i][1] if char not in equations[i][0]])\n",
    "            if first not in neighbors :\n",
    "                neighbors[first] = 1\n",
    "            if second not in neighbors :\n",
    "                neighbors[second] = 1\n",
    "\n",
    "        variables = {}\n",
    "        for k, v in neighbors.items() :\n",
    "            variables[k] = []\n",
    "        for i in range(len(equations)) :\n",
    "            first = equations[i][0]\n",
    "            second = equations[i][1]\n",
    "            if len(first) > 1 or len(second) > 1 :\n",
    "                first = ''.join([char for char in equations[i][0] if char not in equations[i][1]])\n",
    "                second = ''.join([char for char in equations[i][1] if char not in equations[i][0]])\n",
    "            variables[first].append([second, values[i]])\n",
    "            variables[second].append([first, 1 / values[i]])\n",
    "\n",
    "        \n",
    "        result = []\n",
    "        for first, second in queries :\n",
    "            charfirst = first\n",
    "            charsecond = second\n",
    "            if len(first) > 1 or len(second) > 1 :\n",
    "                first = ''.join([char for char in charfirst if char not in charsecond])\n",
    "                second = ''.join([char for char in charsecond if char not in charfirst])\n",
    "            print(first, second)\n",
    "            if first not in neighbors or second not in neighbors :\n",
    "                result.append(-1)\n",
    "                continue\n",
    "            if first == second :\n",
    "                result.append(1)\n",
    "                continue\n",
    "            visited = {}\n",
    "            for k, v in neighbors.items() :\n",
    "                visited[k] = False\n",
    "            visited[first] = True\n",
    "            path = [1]\n",
    "            self.DFS(variables, first, second, visited, path)\n",
    "            out = 1\n",
    "            for num in path :\n",
    "                out *= num\n",
    "            result.append(out)\n",
    "        return result"
   ]
  },
  {
   "cell_type": "code",
   "execution_count": 57,
   "metadata": {},
   "outputs": [
    {
     "name": "stdout",
     "output_type": "stream",
     "text": [
      "{'a': [['b', 2.0]], 'b': [['a', 0.5], ['c', 3.0]], 'c': [['b', 0.3333333333333333]]}\n",
      "a c\n",
      "[1, 2.0, 3.0]\n",
      "b a\n",
      "[1, 0.5]\n",
      "a e\n",
      "a a\n",
      "x x\n"
     ]
    },
    {
     "data": {
      "text/plain": [
       "[6.0, 0.5, -1, 1, -1]"
      ]
     },
     "execution_count": 57,
     "metadata": {},
     "output_type": "execute_result"
    }
   ],
   "source": [
    "equations = [[\"a\",\"b\"],[\"b\",\"c\"]]\n",
    "values = [2.0,3.0]\n",
    "queries = [[\"a\",\"c\"],[\"b\",\"a\"],[\"a\",\"e\"],[\"a\",\"a\"],[\"x\",\"x\"]]\n",
    "S = Solution()\n",
    "S.calcEquation(equations, values, queries)"
   ]
  },
  {
   "cell_type": "code",
   "execution_count": 58,
   "metadata": {},
   "outputs": [
    {
     "name": "stdout",
     "output_type": "stream",
     "text": [
      "{'a': [['b', 1.5]], 'b': [['a', 0.6666666666666666], ['c', 2.5], ['d', 5.0]], 'c': [['b', 0.4]], 'd': [['b', 0.2]]}\n",
      "a c\n",
      "[1, 1.5, 2.5]\n",
      "c b\n",
      "[1, 0.4]\n",
      "b d\n",
      "[1, 5.0]\n",
      "d b\n",
      "[1, 0.2]\n"
     ]
    },
    {
     "data": {
      "text/plain": [
       "[3.75, 0.4, 5.0, 0.2]"
      ]
     },
     "execution_count": 58,
     "metadata": {},
     "output_type": "execute_result"
    }
   ],
   "source": [
    "equations = [[\"a\",\"b\"],[\"b\",\"c\"],[\"bc\",\"cd\"]]\n",
    "values = [1.5,2.5,5.0]\n",
    "queries = [[\"a\",\"c\"],[\"c\",\"b\"],[\"bc\",\"cd\"],[\"cd\",\"bc\"]]\n",
    "S = Solution()\n",
    "S.calcEquation(equations, values, queries)"
   ]
  },
  {
   "cell_type": "code",
   "execution_count": 59,
   "metadata": {},
   "outputs": [
    {
     "name": "stdout",
     "output_type": "stream",
     "text": [
      "{'a': [['b', 0.5]], 'b': [['a', 2.0]]}\n",
      "a b\n",
      "[1, 0.5]\n",
      "b a\n",
      "[1, 2.0]\n",
      "a c\n",
      "x y\n"
     ]
    },
    {
     "data": {
      "text/plain": [
       "[0.5, 2.0, -1, -1]"
      ]
     },
     "execution_count": 59,
     "metadata": {},
     "output_type": "execute_result"
    }
   ],
   "source": [
    "equations = [[\"a\",\"b\"]]\n",
    "values = [0.5]\n",
    "queries = [[\"a\",\"b\"],[\"b\",\"a\"],[\"a\",\"c\"],[\"x\",\"y\"]]\n",
    "S = Solution()\n",
    "S.calcEquation(equations, values, queries)"
   ]
  },
  {
   "cell_type": "code",
   "execution_count": 60,
   "metadata": {},
   "outputs": [
    {
     "name": "stdout",
     "output_type": "stream",
     "text": [
      "{'': [['', 9.0], ['', 0.1111111111111111]]}\n",
      " \n",
      " \n"
     ]
    },
    {
     "data": {
      "text/plain": [
       "[1, 1]"
      ]
     },
     "execution_count": 60,
     "metadata": {},
     "output_type": "execute_result"
    }
   ],
   "source": [
    "equations = [[\"a\", \"aa\"]]\n",
    "values = [9.0]\n",
    "queries = [[\"aa\", \"a\"], [\"aa\", \"aa\"]]\n",
    "S = Solution()\n",
    "S.calcEquation(equations, values, queries)"
   ]
  },
  {
   "cell_type": "code",
   "execution_count": 27,
   "metadata": {},
   "outputs": [],
   "source": [
    "from collections import defaultdict, deque\n",
    "\n",
    "class Solution: # Solution\n",
    "    def calcEquation(self, equations, values, queries):\n",
    "        graph = self.buildGraph(equations, values)\n",
    "        results = []\n",
    "        \n",
    "        for dividend, divisor in queries:\n",
    "            if dividend not in graph or divisor not in graph:\n",
    "                results.append(-1.0)\n",
    "            else:\n",
    "                result = self.bfs(dividend, divisor, graph)\n",
    "                results.append(result)\n",
    "        \n",
    "        return results\n",
    "    \n",
    "    def buildGraph(self, equations, values):\n",
    "        graph = defaultdict(dict)\n",
    "        \n",
    "        for (dividend, divisor), value in zip(equations, values):\n",
    "            graph[dividend][divisor] = value\n",
    "            graph[divisor][dividend] = 1.0 / value\n",
    "        \n",
    "        return graph\n",
    "    \n",
    "    def bfs(self, start, end, graph):\n",
    "        queue = deque([(start, 1.0)])\n",
    "        visited = set()\n",
    "        \n",
    "        while queue:\n",
    "            node, value = queue.popleft()\n",
    "            \n",
    "            if node == end:\n",
    "                return value\n",
    "            \n",
    "            visited.add(node)\n",
    "            \n",
    "            for neighbor, weight in graph[node].items():\n",
    "                if neighbor not in visited:\n",
    "                    queue.append((neighbor, value * weight))\n",
    "        \n",
    "        return -1.0"
   ]
  },
  {
   "cell_type": "code",
   "execution_count": 28,
   "metadata": {},
   "outputs": [
    {
     "data": {
      "text/plain": [
       "[6.0, 0.5, -1.0, 1.0, -1.0]"
      ]
     },
     "execution_count": 28,
     "metadata": {},
     "output_type": "execute_result"
    }
   ],
   "source": [
    "equations = [[\"a\",\"b\"],[\"b\",\"c\"]]\n",
    "values = [2.0,3.0]\n",
    "queries = [[\"a\",\"c\"],[\"b\",\"a\"],[\"a\",\"e\"],[\"a\",\"a\"],[\"x\",\"x\"]]\n",
    "S = Solution()\n",
    "S.calcEquation(equations, values, queries)"
   ]
  }
 ],
 "metadata": {
  "kernelspec": {
   "display_name": "Python 3",
   "language": "python",
   "name": "python3"
  },
  "language_info": {
   "codemirror_mode": {
    "name": "ipython",
    "version": 3
   },
   "file_extension": ".py",
   "mimetype": "text/x-python",
   "name": "python",
   "nbconvert_exporter": "python",
   "pygments_lexer": "ipython3",
   "version": "3.11.4"
  }
 },
 "nbformat": 4,
 "nbformat_minor": 2
}
