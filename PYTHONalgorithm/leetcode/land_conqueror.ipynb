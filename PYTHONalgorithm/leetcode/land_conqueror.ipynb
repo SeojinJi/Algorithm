{
 "cells": [
  {
   "cell_type": "code",
   "execution_count": 1,
   "id": "b3766eb0-5405-4385-9e82-abe627627f26",
   "metadata": {},
   "outputs": [],
   "source": [
    "import re"
   ]
  },
  {
   "cell_type": "code",
   "execution_count": 54,
   "id": "d68af678-f28f-4cf4-80eb-6e9dfa79aff6",
   "metadata": {},
   "outputs": [],
   "source": [
    "class Land(object) :\n",
    "    def __init__(self) :\n",
    "        self.white = 0\n",
    "        self.red = 0\n",
    "\n",
    "    def t_conquer(self,x,y,N,territory):\n",
    "        color = territory[x][y]\n",
    "        for i in range(x, x+N):\n",
    "            for j in range(y, y+N):\n",
    "                if color != territory[i][j]:\n",
    "                    self.t_conquer(x,y,N//2,territory)\n",
    "                    self.t_conquer(x+(N//2),y,N//2,territory)\n",
    "                    self.t_conquer(x,y+(N//2),N//2,territory)\n",
    "                    self.t_conquer(x+(N//2),y+(N//2),N//2,territory)\n",
    "                    return [self.white, self.red]\n",
    "        if color == 0:\n",
    "            self.white += 1\n",
    "        else:\n",
    "            self.red += 1\n",
    "        return [self.white, self.red]"
   ]
  },
  {
   "cell_type": "code",
   "execution_count": 55,
   "id": "0763e6cb-7d82-4990-bde5-3eeb67f5d77a",
   "metadata": {},
   "outputs": [],
   "source": [
    "## Do not change below code ##        \n",
    "if __name__ == '__main__':\n",
    "    calc = Land()"
   ]
  },
  {
   "cell_type": "code",
   "execution_count": null,
   "id": "01ecc406-ca5b-43a2-be58-93f459faecd4",
   "metadata": {},
   "outputs": [],
   "source": []
  }
 ],
 "metadata": {
  "kernelspec": {
   "display_name": "Python 3 (ipykernel)",
   "language": "python",
   "name": "python3"
  },
  "language_info": {
   "codemirror_mode": {
    "name": "ipython",
    "version": 3
   },
   "file_extension": ".py",
   "mimetype": "text/x-python",
   "name": "python",
   "nbconvert_exporter": "python",
   "pygments_lexer": "ipython3",
   "version": "3.11.4"
  }
 },
 "nbformat": 4,
 "nbformat_minor": 5
}
