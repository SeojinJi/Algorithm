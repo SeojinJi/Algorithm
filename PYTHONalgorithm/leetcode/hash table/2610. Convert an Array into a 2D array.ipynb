{
 "cells": [
  {
   "cell_type": "markdown",
   "metadata": {},
   "source": [
    "2610. Convert an Array Into a 2D Array With Conditions\n",
    "\n",
    "You are given an integer array nums. You need to create a 2D array from nums satisfying the following conditions:\n",
    "\n",
    "The 2D array should contain only the elements of the array nums.\n",
    "Each row in the 2D array contains distinct integers.\n",
    "The number of rows in the 2D array should be minimal.\n",
    "Return the resulting array. If there are multiple answers, return any of them.\n",
    "\n",
    "Note that the 2D array can have a different number of elements on each row.\n",
    "\n",
    " "
   ]
  },
  {
   "cell_type": "code",
   "execution_count": 13,
   "metadata": {},
   "outputs": [],
   "source": [
    "from collections import defaultdict\n",
    "class Solution:\n",
    "    def findMatrix(self, nums) :\n",
    "        resultdict = defaultdict(int)\n",
    "        for num in nums :\n",
    "            resultdict[num] += 1\n",
    "        largest = 0\n",
    "        for k, v in resultdict.items() :\n",
    "            if largest < v :\n",
    "                largest = v\n",
    "        result = [[] for _ in range(largest)]\n",
    "        for k, v in resultdict.items() :\n",
    "            num = 0\n",
    "            while v != 0 :\n",
    "                result[num].append(k)\n",
    "                v -= 1\n",
    "                num += 1\n",
    "        return result"
   ]
  },
  {
   "cell_type": "code",
   "execution_count": 14,
   "metadata": {},
   "outputs": [
    {
     "data": {
      "text/plain": [
       "[[1, 3, 4, 2], [1, 3], [1]]"
      ]
     },
     "execution_count": 14,
     "metadata": {},
     "output_type": "execute_result"
    }
   ],
   "source": [
    "nums = [1,3,4,1,2,3,1]\n",
    "S = Solution()\n",
    "S.findMatrix(nums)"
   ]
  },
  {
   "cell_type": "code",
   "execution_count": 15,
   "metadata": {},
   "outputs": [
    {
     "data": {
      "text/plain": [
       "[[1, 2, 3, 4]]"
      ]
     },
     "execution_count": 15,
     "metadata": {},
     "output_type": "execute_result"
    }
   ],
   "source": [
    "nums = [1,2,3,4]\n",
    "S = Solution()\n",
    "S.findMatrix(nums)"
   ]
  },
  {
   "cell_type": "code",
   "execution_count": null,
   "metadata": {},
   "outputs": [],
   "source": []
  }
 ],
 "metadata": {
  "kernelspec": {
   "display_name": "Python 3",
   "language": "python",
   "name": "python3"
  },
  "language_info": {
   "codemirror_mode": {
    "name": "ipython",
    "version": 3
   },
   "file_extension": ".py",
   "mimetype": "text/x-python",
   "name": "python",
   "nbconvert_exporter": "python",
   "pygments_lexer": "ipython3",
   "version": "3.11.4"
  }
 },
 "nbformat": 4,
 "nbformat_minor": 2
}
