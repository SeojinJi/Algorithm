{
 "cells": [
  {
   "cell_type": "markdown",
   "metadata": {},
   "source": [
    "1630. Arithmetic Subarrays\n",
    "\n",
    "A sequence of numbers is called arithmetic if it consists of at least two elements, and the difference between every two consecutive elements is the same. More formally, a sequence s is arithmetic if and only if s[i+1] - s[i] == s[1] - s[0] for all valid i.\n",
    "\n",
    "For example, these are arithmetic sequences:\n",
    "\n",
    "1, 3, 5, 7, 9\n",
    "7, 7, 7, 7\n",
    "3, -1, -5, -9\n",
    "The following sequence is not arithmetic:\n",
    "\n",
    "1, 1, 2, 5, 7\n",
    "You are given an array of n integers, nums, and two arrays of m integers each, l and r, representing the m range queries, where the ith query is the range [l[i], r[i]]. All the arrays are 0-indexed.\n",
    "\n",
    "Return a list of boolean elements answer, where answer[i] is true if the subarray nums[l[i]], nums[l[i]+1], ... , nums[r[i]] can be rearranged to form an arithmetic sequence, and false otherwise.\n",
    "\n",
    " "
   ]
  },
  {
   "cell_type": "markdown",
   "metadata": {},
   "source": [
    "Input: nums = [4,6,5,9,3,7], l = [0,0,2], r = [2,3,5]\n",
    "Output: [true,false,true]"
   ]
  },
  {
   "cell_type": "code",
   "execution_count": 2,
   "metadata": {},
   "outputs": [],
   "source": [
    "class Solution:\n",
    "    def checkArithmeticSubarrays(self, nums, l, r) :\n",
    "        result = []\n",
    "        for i in range(len(l)) :\n",
    "            start = l[i]\n",
    "            end = r[i] + 1\n",
    "            query = nums[start : end]\n",
    "            query = sorted(query)\n",
    "            number = query[1] - query[0]\n",
    "            flag = 0\n",
    "            for i in range(1, len(query)-1) :\n",
    "                if query[i+1] - query[i] != number :\n",
    "                    result.append(False)\n",
    "                    flag = 1\n",
    "                    break\n",
    "            if flag == 0 :\n",
    "                result.append(True)\n",
    "        return result\n",
    "            "
   ]
  },
  {
   "cell_type": "code",
   "execution_count": 3,
   "metadata": {},
   "outputs": [
    {
     "data": {
      "text/plain": [
       "[True, False, True]"
      ]
     },
     "execution_count": 3,
     "metadata": {},
     "output_type": "execute_result"
    }
   ],
   "source": [
    "nums = [4,6,5,9,3,7]\n",
    "l = [0,0,2]\n",
    "r = [2,3,5]\n",
    "S = Solution()\n",
    "S.checkArithmeticSubarrays(nums, l, r)"
   ]
  },
  {
   "cell_type": "code",
   "execution_count": 4,
   "metadata": {},
   "outputs": [
    {
     "data": {
      "text/plain": [
       "[False, True, False, False, True, True]"
      ]
     },
     "execution_count": 4,
     "metadata": {},
     "output_type": "execute_result"
    }
   ],
   "source": [
    "nums = [-12,-9,-3,-12,-6,15,20,-25,-20,-15,-10]\n",
    "l = [0,1,6,4,8,7]\n",
    "r = [4,4,9,7,9,10]\n",
    "S = Solution()\n",
    "S.checkArithmeticSubarrays(nums, l, r)"
   ]
  },
  {
   "cell_type": "code",
   "execution_count": 1,
   "metadata": {},
   "outputs": [
    {
     "name": "stdout",
     "output_type": "stream",
     "text": [
      "1\n"
     ]
    }
   ],
   "source": [
    "for i in range(1,2) :\n",
    "    print(i)"
   ]
  },
  {
   "cell_type": "code",
   "execution_count": null,
   "metadata": {},
   "outputs": [],
   "source": []
  }
 ],
 "metadata": {
  "kernelspec": {
   "display_name": "Python 3",
   "language": "python",
   "name": "python3"
  },
  "language_info": {
   "codemirror_mode": {
    "name": "ipython",
    "version": 3
   },
   "file_extension": ".py",
   "mimetype": "text/x-python",
   "name": "python",
   "nbconvert_exporter": "python",
   "pygments_lexer": "ipython3",
   "version": "3.11.4"
  }
 },
 "nbformat": 4,
 "nbformat_minor": 2
}
