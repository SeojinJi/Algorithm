{
 "cells": [
  {
   "cell_type": "markdown",
   "metadata": {},
   "source": [
    "1282. Group the People Given the Group Size They Belong To\n",
    "\n",
    "There are n people that are split into some unknown number of groups. Each person is labeled with a unique ID from 0 to n - 1.\n",
    "\n",
    "You are given an integer array groupSizes, where groupSizes[i] is the size of the group that person i is in. For example, if groupSizes[1] = 3, then person 1 must be in a group of size 3.\n",
    "\n",
    "Return a list of groups such that each person i is in a group of size groupSizes[i].\n",
    "\n",
    "Each person should appear in exactly one group, and every person must be in a group. If there are multiple answers, return any of them. It is guaranteed that there will be at least one valid solution for the given input."
   ]
  },
  {
   "cell_type": "markdown",
   "metadata": {},
   "source": [
    "Example 1:\n",
    "\n",
    "Input: groupSizes = [3,3,3,3,3,1,3]\n",
    "Output: [[5],[0,1,2],[3,4,6]]\n",
    "Explanation: \n",
    "The first group is [5]. The size is 1, and groupSizes[5] = 1.\n",
    "The second group is [0,1,2]. The size is 3, and groupSizes[0] = groupSizes[1] = groupSizes[2] = 3.\n",
    "The third group is [3,4,6]. The size is 3, and groupSizes[3] = groupSizes[4] = groupSizes[6] = 3.\n",
    "Other possible solutions are [[2,1,6],[5],[0,4,3]] and [[5],[0,6,2],[4,3,1]]."
   ]
  },
  {
   "cell_type": "code",
   "execution_count": 38,
   "metadata": {},
   "outputs": [],
   "source": [
    "from collections import defaultdict\n",
    "class Solution:\n",
    "    def groupThePeople(self, groupSizes) :\n",
    "        result = defaultdict(list)\n",
    "        for i in range(len(groupSizes)) :\n",
    "            result[groupSizes[i]].append(i)\n",
    "        resultkey = sorted(result.keys())\n",
    "        output = []\n",
    "        for num in resultkey :\n",
    "            number = 0\n",
    "            listout = []\n",
    "            while len(result[num]) != 0 :\n",
    "                listout.append(result[num][0])\n",
    "                result[num].pop(0)\n",
    "                number += 1\n",
    "                if number == num :\n",
    "                    output.append(listout)\n",
    "                    number = 0\n",
    "                    listout = []\n",
    "\n",
    "        return output"
   ]
  },
  {
   "cell_type": "code",
   "execution_count": 39,
   "metadata": {},
   "outputs": [
    {
     "data": {
      "text/plain": [
       "[[5], [0, 1, 2], [3, 4, 6]]"
      ]
     },
     "execution_count": 39,
     "metadata": {},
     "output_type": "execute_result"
    }
   ],
   "source": [
    "groupSizes = [3,3,3,3,3,1,3]\n",
    "S = Solution()\n",
    "S.groupThePeople(groupSizes)"
   ]
  },
  {
   "cell_type": "code",
   "execution_count": 40,
   "metadata": {},
   "outputs": [
    {
     "data": {
      "text/plain": [
       "[[1], [0, 5], [2, 3, 4]]"
      ]
     },
     "execution_count": 40,
     "metadata": {},
     "output_type": "execute_result"
    }
   ],
   "source": [
    "groupSizes = [2,1,3,3,3,2]\n",
    "S = Solution()\n",
    "S.groupThePeople(groupSizes)"
   ]
  },
  {
   "cell_type": "code",
   "execution_count": 30,
   "metadata": {},
   "outputs": [],
   "source": [
    "dict = {1 : []}\n",
    "if len(dict) == 0:\n",
    "    print(\"hello\")"
   ]
  },
  {
   "cell_type": "code",
   "execution_count": 35,
   "metadata": {},
   "outputs": [
    {
     "data": {
      "text/plain": [
       "2"
      ]
     },
     "execution_count": 35,
     "metadata": {},
     "output_type": "execute_result"
    }
   ],
   "source": [
    "result = [0, 1, 2]\n",
    "result.pop()"
   ]
  },
  {
   "cell_type": "code",
   "execution_count": null,
   "metadata": {},
   "outputs": [],
   "source": []
  }
 ],
 "metadata": {
  "kernelspec": {
   "display_name": "Python 3",
   "language": "python",
   "name": "python3"
  },
  "language_info": {
   "codemirror_mode": {
    "name": "ipython",
    "version": 3
   },
   "file_extension": ".py",
   "mimetype": "text/x-python",
   "name": "python",
   "nbconvert_exporter": "python",
   "pygments_lexer": "ipython3",
   "version": "3.11.4"
  }
 },
 "nbformat": 4,
 "nbformat_minor": 2
}
