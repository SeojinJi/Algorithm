{
 "cells": [
  {
   "cell_type": "markdown",
   "metadata": {},
   "source": [
    "1347. Minimum Number of Steps to Make Two Strings Anagram\n",
    "\n",
    "You are given two strings of the same length s and t. In one step you can choose any character of t and replace it with another character.\n",
    "\n",
    "Return the minimum number of steps to make t an anagram of s.\n",
    "\n",
    "An Anagram of a string is a string that contains the same characters with a different (or the same) ordering."
   ]
  },
  {
   "cell_type": "code",
   "execution_count": 8,
   "metadata": {},
   "outputs": [],
   "source": [
    "from collections import defaultdict\n",
    "class Solution:\n",
    "    def minSteps(self, s: str, t: str) -> int:\n",
    "        sdict = defaultdict(int)\n",
    "        tdict = defaultdict(int)\n",
    "        for i in range(len(s)) :\n",
    "            sdict[s[i]] += 1\n",
    "            tdict[t[i]] += 1\n",
    "        result = 0\n",
    "        for k, v in sdict.items() :\n",
    "            result += abs(sdict[k] - tdict[k])\n",
    "        for k, v in tdict.items() :\n",
    "            if sdict[k] == 0 :\n",
    "                result += tdict[k]\n",
    "        return result // 2"
   ]
  },
  {
   "cell_type": "code",
   "execution_count": 9,
   "metadata": {},
   "outputs": [
    {
     "data": {
      "text/plain": [
       "1"
      ]
     },
     "execution_count": 9,
     "metadata": {},
     "output_type": "execute_result"
    }
   ],
   "source": [
    "s = \"bab\"\n",
    "t = \"abc\"\n",
    "S = Solution()\n",
    "S.minSteps(s, t)"
   ]
  },
  {
   "cell_type": "code",
   "execution_count": 10,
   "metadata": {},
   "outputs": [
    {
     "data": {
      "text/plain": [
       "5"
      ]
     },
     "execution_count": 10,
     "metadata": {},
     "output_type": "execute_result"
    }
   ],
   "source": [
    "s = \"leetcode\"\n",
    "t = \"practice\"\n",
    "S = Solution()\n",
    "S.minSteps(s, t)"
   ]
  },
  {
   "cell_type": "code",
   "execution_count": 11,
   "metadata": {},
   "outputs": [
    {
     "data": {
      "text/plain": [
       "0"
      ]
     },
     "execution_count": 11,
     "metadata": {},
     "output_type": "execute_result"
    }
   ],
   "source": [
    "s = \"anagram\"\n",
    "t = \"mangaar\"\n",
    "S = Solution()\n",
    "S.minSteps(s, t)"
   ]
  }
 ],
 "metadata": {
  "kernelspec": {
   "display_name": "Python 3",
   "language": "python",
   "name": "python3"
  },
  "language_info": {
   "codemirror_mode": {
    "name": "ipython",
    "version": 3
   },
   "file_extension": ".py",
   "mimetype": "text/x-python",
   "name": "python",
   "nbconvert_exporter": "python",
   "pygments_lexer": "ipython3",
   "version": "3.11.4"
  }
 },
 "nbformat": 4,
 "nbformat_minor": 2
}
