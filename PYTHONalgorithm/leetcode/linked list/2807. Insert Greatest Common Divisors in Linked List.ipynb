{
 "cells": [
  {
   "cell_type": "markdown",
   "metadata": {},
   "source": [
    "2807. Insert Greatest Common Divisors in Linked List\n",
    "\n",
    "Given the head of a linked list head, in which each node contains an integer value.\n",
    "\n",
    "Between every pair of adjacent nodes, insert a new node with a value equal to the greatest common divisor of them.\n",
    "\n",
    "Return the linked list after insertion.\n",
    "\n",
    "The greatest common divisor of two numbers is the largest positive integer that evenly divides both numbers."
   ]
  },
  {
   "cell_type": "code",
   "execution_count": 1,
   "metadata": {},
   "outputs": [],
   "source": [
    "class ListNode:\n",
    "    def __init__(self, val=0, next=None):\n",
    "        self.val = val\n",
    "        self.next = next"
   ]
  },
  {
   "cell_type": "code",
   "execution_count": 2,
   "metadata": {},
   "outputs": [],
   "source": [
    "def create_linked_list(l: list) -> ListNode:\n",
    "    if len(l) == 0:\n",
    "        return None\n",
    "\n",
    "    start = ListNode(l[0])\n",
    "    node = start\n",
    "\n",
    "    for i in range(1, len(l)):\n",
    "        node_new = ListNode(l[i])\n",
    "        node.next = node_new\n",
    "        node = node_new\n",
    "\n",
    "    return start"
   ]
  },
  {
   "cell_type": "code",
   "execution_count": 6,
   "metadata": {},
   "outputs": [],
   "source": [
    "class Solution:\n",
    "    def GCD(self, valA, valB) :\n",
    "        if valA % valB == 0 :\n",
    "            return valB\n",
    "        else :\n",
    "            return self.GCD(valB, valA%valB)\n",
    "        \n",
    "    def insertGreatestCommonDivisors(self, head):\n",
    "        if head is None or head.next is None:\n",
    "            return head\n",
    "        curr = head\n",
    "        currnext = head.next\n",
    "        while currnext is not None :\n",
    "            if curr.val >= currnext.val :\n",
    "                val = self.GCD(curr.val, currnext.val)\n",
    "            else :\n",
    "                val = self.GCD(currnext.val, curr.val)\n",
    "            newNode = ListNode(val)\n",
    "            curr.next = newNode\n",
    "            newNode.next = currnext\n",
    "            curr = currnext\n",
    "            currnext = currnext.next            \n",
    "        return head"
   ]
  },
  {
   "cell_type": "code",
   "execution_count": 7,
   "metadata": {},
   "outputs": [
    {
     "name": "stdout",
     "output_type": "stream",
     "text": [
      "18\n",
      "6\n",
      "6\n",
      "2\n",
      "10\n",
      "1\n",
      "3\n"
     ]
    }
   ],
   "source": [
    "head = [18,6,10,3]\n",
    "listA = create_linked_list(head)\n",
    "S = Solution()\n",
    "result = S.insertGreatestCommonDivisors(listA)\n",
    "while result is not None :\n",
    "    print(result.val)\n",
    "    result = result.next"
   ]
  },
  {
   "cell_type": "code",
   "execution_count": 5,
   "metadata": {},
   "outputs": [
    {
     "data": {
      "text/plain": [
       "6"
      ]
     },
     "execution_count": 5,
     "metadata": {},
     "output_type": "execute_result"
    }
   ],
   "source": [
    "a = 18\n",
    "b = 12\n",
    "S = Solution()\n",
    "S.GCD(a,b)"
   ]
  },
  {
   "cell_type": "code",
   "execution_count": null,
   "metadata": {},
   "outputs": [],
   "source": []
  }
 ],
 "metadata": {
  "kernelspec": {
   "display_name": "Python 3",
   "language": "python",
   "name": "python3"
  },
  "language_info": {
   "codemirror_mode": {
    "name": "ipython",
    "version": 3
   },
   "file_extension": ".py",
   "mimetype": "text/x-python",
   "name": "python",
   "nbconvert_exporter": "python",
   "pygments_lexer": "ipython3",
   "version": "3.11.4"
  }
 },
 "nbformat": 4,
 "nbformat_minor": 2
}
