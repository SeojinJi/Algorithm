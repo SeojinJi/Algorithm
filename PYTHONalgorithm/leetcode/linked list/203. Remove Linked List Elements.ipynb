{
 "cells": [
  {
   "cell_type": "markdown",
   "metadata": {},
   "source": [
    "203. Remove Linked List Elements\n",
    "\n",
    "Given the head of a linked list and an integer val, remove all the nodes of the linked list that has Node.val == val, and return the new head."
   ]
  },
  {
   "cell_type": "code",
   "execution_count": 2,
   "metadata": {},
   "outputs": [],
   "source": [
    "# Definition for singly-linked list.\n",
    "class ListNode:\n",
    "    def __init__(self, val=0, next=None):\n",
    "        self.val = val\n",
    "        self.next = next"
   ]
  },
  {
   "cell_type": "code",
   "execution_count": 3,
   "metadata": {},
   "outputs": [],
   "source": [
    "def create_linked_list(l: list) -> ListNode:\n",
    "    if len(l) == 0:\n",
    "        return None\n",
    "\n",
    "    start = ListNode(l[0])\n",
    "    node = start\n",
    "\n",
    "    for i in range(1, len(l)):\n",
    "        node_new = ListNode(l[i])\n",
    "        node.next = node_new\n",
    "        node = node_new\n",
    "\n",
    "    return start"
   ]
  },
  {
   "cell_type": "code",
   "execution_count": 42,
   "metadata": {},
   "outputs": [],
   "source": [
    "class Solution:\n",
    "    def removeElements(self, head, val) :\n",
    "        if head is not None :\n",
    "            curr = head\n",
    "            while curr is not None : \n",
    "                currnext = curr.next\n",
    "                while currnext is not None and currnext.val == val :\n",
    "                    currnext = currnext.next\n",
    "                curr.next = currnext\n",
    "                curr = curr.next\n",
    "        if head is not None and head.val == val :\n",
    "            head = head.next\n",
    "        return head"
   ]
  },
  {
   "cell_type": "code",
   "execution_count": 46,
   "metadata": {},
   "outputs": [],
   "source": [
    "class Solution:\n",
    "    def removeElements(self, head, val) :\n",
    "        if head is None :\n",
    "            return head\n",
    "        list = ListNode(0)\n",
    "        curr = list\n",
    "        result = 0\n",
    "        while head is not None :\n",
    "            if head.val == val :\n",
    "                head = head.next\n",
    "            else :\n",
    "                newNode = ListNode(head.val)\n",
    "                curr.next = newNode\n",
    "                head = head.next\n",
    "                curr = curr.next\n",
    "                result += 1\n",
    "        if result == 0 :\n",
    "            return None\n",
    "        curr = list.next\n",
    "        return curr"
   ]
  },
  {
   "cell_type": "code",
   "execution_count": 47,
   "metadata": {},
   "outputs": [
    {
     "name": "stdout",
     "output_type": "stream",
     "text": [
      "1 2 3 4 5 "
     ]
    }
   ],
   "source": [
    "head = [1,2,6,3,4,5,6]\n",
    "val = 6\n",
    "linked = create_linked_list(head)\n",
    "S = Solution()\n",
    "hello = S.removeElements(linked, val)\n",
    "while hello is not None :\n",
    "    print(hello.val, end = \" \")\n",
    "    hello = hello.next"
   ]
  },
  {
   "cell_type": "code",
   "execution_count": 48,
   "metadata": {},
   "outputs": [],
   "source": [
    "head = []\n",
    "val = 1\n",
    "linked = create_linked_list(head)\n",
    "S = Solution()\n",
    "hello = S.removeElements(linked, val)\n",
    "while hello is not None :\n",
    "    print(hello.val, end = \" \")\n",
    "    hello = hello.next"
   ]
  },
  {
   "cell_type": "code",
   "execution_count": 49,
   "metadata": {},
   "outputs": [],
   "source": [
    "head = [7,7,7,7]\n",
    "val = 7\n",
    "linked = create_linked_list(head)\n",
    "S = Solution()\n",
    "hello = S.removeElements(linked, val)\n",
    "while hello is not None :\n",
    "    print(hello.val, end = \" \")\n",
    "    hello = hello.next"
   ]
  }
 ],
 "metadata": {
  "kernelspec": {
   "display_name": "Python 3",
   "language": "python",
   "name": "python3"
  },
  "language_info": {
   "codemirror_mode": {
    "name": "ipython",
    "version": 3
   },
   "file_extension": ".py",
   "mimetype": "text/x-python",
   "name": "python",
   "nbconvert_exporter": "python",
   "pygments_lexer": "ipython3",
   "version": "3.11.4"
  }
 },
 "nbformat": 4,
 "nbformat_minor": 2
}
