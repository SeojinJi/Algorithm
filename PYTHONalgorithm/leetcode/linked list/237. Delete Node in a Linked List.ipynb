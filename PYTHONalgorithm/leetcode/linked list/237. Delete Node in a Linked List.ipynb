{
 "cells": [
  {
   "cell_type": "markdown",
   "metadata": {},
   "source": [
    "237. Delete Node in a Linked List\n",
    "\n",
    "There is a singly-linked list head and we want to delete a node node in it.\n",
    "\n",
    "You are given the node to be deleted node. You will not be given access to the first node of head.\n",
    "\n",
    "All the values of the linked list are unique, and it is guaranteed that the given node node is not the last node in the linked list.\n",
    "\n",
    "Delete the given node. Note that by deleting the node, we do not mean removing it from memory. We mean:\n",
    "\n",
    "The value of the given node should not exist in the linked list.\n",
    "The number of nodes in the linked list should decrease by one.\n",
    "All the values before node should be in the same order.\n",
    "All the values after node should be in the same order."
   ]
  },
  {
   "cell_type": "code",
   "execution_count": 1,
   "metadata": {},
   "outputs": [],
   "source": [
    "# Definition for singly-linked list.\n",
    "class ListNode:\n",
    "    def __init__(self, x):\n",
    "        self.val = x\n",
    "        self.next = None"
   ]
  },
  {
   "cell_type": "code",
   "execution_count": 2,
   "metadata": {},
   "outputs": [],
   "source": [
    "def create_linked_list(l: list) -> ListNode:\n",
    "    if len(l) == 0:\n",
    "        return None\n",
    "\n",
    "    start = ListNode(l[0])\n",
    "    node = start\n",
    "\n",
    "    for i in range(1, len(l)):\n",
    "        node_new = ListNode(l[i])\n",
    "        node.next = node_new\n",
    "        node = node_new\n",
    "\n",
    "    return start"
   ]
  },
  {
   "cell_type": "code",
   "execution_count": 5,
   "metadata": {},
   "outputs": [],
   "source": [
    "class Solution:\n",
    "    def deleteNode(self, node, val):\n",
    "        if node is None :\n",
    "            return node\n",
    "        curr = node\n",
    "        while curr is not None and curr.next is not None:\n",
    "            if curr.next.val == val :\n",
    "                curr.next = curr.next.next\n",
    "            curr = curr.next\n",
    "        if node.val == val :\n",
    "            curr = node.next\n",
    "        else :\n",
    "            curr = node\n",
    "        return curr\n"
   ]
  },
  {
   "cell_type": "code",
   "execution_count": 7,
   "metadata": {},
   "outputs": [
    {
     "name": "stdout",
     "output_type": "stream",
     "text": [
      "4\n",
      "1\n",
      "9\n"
     ]
    }
   ],
   "source": [
    "head = [4,5,1,9] \n",
    "node = 5\n",
    "listA = create_linked_list(head)\n",
    "S = Solution()\n",
    "result = S.deleteNode(listA, node)\n",
    "while result is not None :\n",
    "    print(result.val)\n",
    "    result = result.next"
   ]
  },
  {
   "cell_type": "code",
   "execution_count": null,
   "metadata": {},
   "outputs": [],
   "source": []
  }
 ],
 "metadata": {
  "kernelspec": {
   "display_name": "Python 3",
   "language": "python",
   "name": "python3"
  },
  "language_info": {
   "codemirror_mode": {
    "name": "ipython",
    "version": 3
   },
   "file_extension": ".py",
   "mimetype": "text/x-python",
   "name": "python",
   "nbconvert_exporter": "python",
   "pygments_lexer": "ipython3",
   "version": "3.11.4"
  }
 },
 "nbformat": 4,
 "nbformat_minor": 2
}
