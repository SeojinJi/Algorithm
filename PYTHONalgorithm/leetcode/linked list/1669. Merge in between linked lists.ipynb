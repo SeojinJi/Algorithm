{
 "cells": [
  {
   "cell_type": "markdown",
   "metadata": {},
   "source": [
    "1669. Merge In Between Linked Lists\n",
    "\n",
    "You are given two linked lists: list1 and list2 of sizes n and m respectively.\n",
    "\n",
    "Remove list1's nodes from the ath node to the bth node, and put list2 in their place.\n",
    "\n",
    "The blue edges and nodes in the following figure indicate the result:"
   ]
  },
  {
   "cell_type": "code",
   "execution_count": 1,
   "metadata": {},
   "outputs": [],
   "source": [
    "# Definition for singly-linked list.\n",
    "class ListNode:\n",
    "    def __init__(self, x):\n",
    "        self.val = x\n",
    "        self.next = None"
   ]
  },
  {
   "cell_type": "code",
   "execution_count": 2,
   "metadata": {},
   "outputs": [],
   "source": [
    "def create_linked_list(l: list) -> ListNode:\n",
    "    if len(l) == 0:\n",
    "        return None\n",
    "\n",
    "    start = ListNode(l[0])\n",
    "    node = start\n",
    "\n",
    "    for i in range(1, len(l)):\n",
    "        node_new = ListNode(l[i])\n",
    "        node.next = node_new\n",
    "        node = node_new\n",
    "\n",
    "    return start"
   ]
  },
  {
   "cell_type": "code",
   "execution_count": 12,
   "metadata": {},
   "outputs": [],
   "source": [
    "class Solution:\n",
    "    def mergeInBetween(self, list1: ListNode, a: int, b: int, list2: ListNode) -> ListNode:\n",
    "        if list1 is None or list2 is None :\n",
    "            return list1\n",
    "        num = 0\n",
    "        currA = list1\n",
    "        currB = list1\n",
    "        while num < a-1 :\n",
    "            currA = currA.next\n",
    "            currB = currB.next\n",
    "            num += 1\n",
    "        while num < b+1 :\n",
    "            currB = currB.next  \n",
    "            num += 1\n",
    "        currA.next = list2\n",
    "        while currA.next is not None :\n",
    "            currA = currA.next\n",
    "        currA.next = currB\n",
    "        return list1"
   ]
  },
  {
   "cell_type": "code",
   "execution_count": 14,
   "metadata": {},
   "outputs": [
    {
     "name": "stdout",
     "output_type": "stream",
     "text": [
      "0\n",
      "1\n",
      "1000000\n",
      "1000001\n",
      "1000002\n",
      "1000003\n",
      "1000004\n",
      "6\n"
     ]
    }
   ],
   "source": [
    "list1 = [0,1,2,3,4,5,6]\n",
    "a = 2\n",
    "b = 5\n",
    "list2 = [1000000,1000001,1000002,1000003,1000004]\n",
    "listA = create_linked_list(list1)\n",
    "listB = create_linked_list(list2)\n",
    "S = Solution()\n",
    "result = S.mergeInBetween(listA, a, b, listB)\n",
    "while result is not None :\n",
    "    print(result.val)\n",
    "    result = result.next"
   ]
  },
  {
   "cell_type": "code",
   "execution_count": null,
   "metadata": {},
   "outputs": [],
   "source": []
  }
 ],
 "metadata": {
  "kernelspec": {
   "display_name": "Python 3",
   "language": "python",
   "name": "python3"
  },
  "language_info": {
   "codemirror_mode": {
    "name": "ipython",
    "version": 3
   },
   "file_extension": ".py",
   "mimetype": "text/x-python",
   "name": "python",
   "nbconvert_exporter": "python",
   "pygments_lexer": "ipython3",
   "version": "3.11.4"
  }
 },
 "nbformat": 4,
 "nbformat_minor": 2
}
