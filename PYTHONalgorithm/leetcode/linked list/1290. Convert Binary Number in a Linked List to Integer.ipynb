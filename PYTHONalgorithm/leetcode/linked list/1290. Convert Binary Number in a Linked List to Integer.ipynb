{
 "cells": [
  {
   "cell_type": "markdown",
   "metadata": {},
   "source": [
    "1290. Convert Binary Number in a Linked List to Integer\n",
    "Given head which is a reference node to a singly-linked list. The value of each node in the linked list is either 0 or 1. The linked list holds the binary representation of a number.\n",
    "\n",
    "Return the decimal value of the number in the linked list.\n",
    "\n",
    "The most significant bit is at the head of the linked list."
   ]
  },
  {
   "cell_type": "code",
   "execution_count": 2,
   "metadata": {},
   "outputs": [
    {
     "name": "stdout",
     "output_type": "stream",
     "text": [
      "10진수 값: 10\n"
     ]
    }
   ],
   "source": [
    "def binary_to_decimal(binary_str): # 2진수를 10진수로 바꾸는 방법\n",
    "    decimal_value = int(binary_str, 2)\n",
    "    return decimal_value\n",
    "\n",
    "# 예제 사용법\n",
    "binary_str = \"1010\"\n",
    "decimal_value = binary_to_decimal(binary_str)\n",
    "print(\"10진수 값:\", decimal_value)"
   ]
  },
  {
   "cell_type": "code",
   "execution_count": 3,
   "metadata": {},
   "outputs": [],
   "source": [
    "class ListNode:\n",
    "    def __init__(self, val=0, next=None):\n",
    "        self.val = val\n",
    "        self.next = next"
   ]
  },
  {
   "cell_type": "code",
   "execution_count": 4,
   "metadata": {},
   "outputs": [],
   "source": [
    "def create_linked_list(l: list) -> ListNode:\n",
    "    if len(l) == 0:\n",
    "        return None\n",
    "\n",
    "    start = ListNode(l[0])\n",
    "    node = start\n",
    "\n",
    "    for i in range(1, len(l)):\n",
    "        node_new = ListNode(l[i])\n",
    "        node.next = node_new\n",
    "        node = node_new\n",
    "\n",
    "    return start"
   ]
  },
  {
   "cell_type": "code",
   "execution_count": 8,
   "metadata": {},
   "outputs": [],
   "source": [
    "class Solution:\n",
    "    def getDecimalValue(self, head: ListNode) -> int:\n",
    "        if head is None :\n",
    "            return head\n",
    "        output = \"\"\n",
    "        while head is not None :\n",
    "            output += str(head.val)\n",
    "            head = head.next\n",
    "        return int(output, 2)"
   ]
  },
  {
   "cell_type": "code",
   "execution_count": 9,
   "metadata": {},
   "outputs": [
    {
     "data": {
      "text/plain": [
       "5"
      ]
     },
     "execution_count": 9,
     "metadata": {},
     "output_type": "execute_result"
    }
   ],
   "source": [
    "head = [1,0,1]\n",
    "listA = create_linked_list(head)\n",
    "S = Solution()\n",
    "S.getDecimalValue(listA)"
   ]
  },
  {
   "cell_type": "code",
   "execution_count": 5,
   "metadata": {},
   "outputs": [
    {
     "data": {
      "text/plain": [
       "'5'"
      ]
     },
     "execution_count": 5,
     "metadata": {},
     "output_type": "execute_result"
    }
   ],
   "source": [
    "a = 5\n",
    "b = str(a)\n",
    "b"
   ]
  }
 ],
 "metadata": {
  "kernelspec": {
   "display_name": "Python 3",
   "language": "python",
   "name": "python3"
  },
  "language_info": {
   "codemirror_mode": {
    "name": "ipython",
    "version": 3
   },
   "file_extension": ".py",
   "mimetype": "text/x-python",
   "name": "python",
   "nbconvert_exporter": "python",
   "pygments_lexer": "ipython3",
   "version": "3.11.4"
  }
 },
 "nbformat": 4,
 "nbformat_minor": 2
}
