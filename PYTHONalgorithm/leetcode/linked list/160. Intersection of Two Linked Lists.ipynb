{
 "cells": [
  {
   "cell_type": "markdown",
   "metadata": {},
   "source": [
    "160. Intersection of Two Linked Lists\n",
    "\n",
    "Given the heads of two singly linked-lists headA and headB, return the node at which the two lists intersect. If the two linked lists have no intersection at all, return null.\n",
    "\n",
    "For example, the following two linked lists begin to intersect at node c1:"
   ]
  },
  {
   "cell_type": "code",
   "execution_count": 1,
   "metadata": {},
   "outputs": [],
   "source": [
    "# Definition for singly-linked list.\n",
    "class ListNode:\n",
    "    def __init__(self, x):\n",
    "        self.val = x\n",
    "        self.next = None"
   ]
  },
  {
   "cell_type": "code",
   "execution_count": 2,
   "metadata": {},
   "outputs": [],
   "source": [
    "def create_linked_list(l: list) -> ListNode:\n",
    "    if len(l) == 0:\n",
    "        return None\n",
    "\n",
    "    start = ListNode(l[0])\n",
    "    node = start\n",
    "\n",
    "    for i in range(1, len(l)):\n",
    "        node_new = ListNode(l[i])\n",
    "        node.next = node_new\n",
    "        node = node_new\n",
    "\n",
    "    return start"
   ]
  },
  {
   "cell_type": "code",
   "execution_count": 5,
   "metadata": {},
   "outputs": [],
   "source": [
    "def create_intersection_list(headA, listB, skipA, skipB) :\n",
    "    currA = headA\n",
    "    numberA = 0\n",
    "    while numberA < skipA :\n",
    "        currA = currA.next\n",
    "        numberA += 1\n",
    "    \n",
    "    start = ListNode(listB[0])\n",
    "    node = start\n",
    "\n",
    "    for i in range(1, skipB) :\n",
    "        node_new = ListNode(listB[i])\n",
    "        node.next = node_new\n",
    "        node = node_new\n",
    "    \n",
    "    node.next = currA\n",
    "    return start"
   ]
  },
  {
   "cell_type": "code",
   "execution_count": 27,
   "metadata": {},
   "outputs": [],
   "source": [
    "class Solution:\n",
    "    def getIntersectionNode(self, headA: ListNode, headB: ListNode) : # time limit exceed\n",
    "        currA = headA\n",
    "        currB = headB\n",
    "        while currA is not None :\n",
    "            while currB is not None :\n",
    "                if currA == currB :\n",
    "                    return currA\n",
    "                currB = currB.next\n",
    "            currB = headB\n",
    "            currA = currA.next"
   ]
  },
  {
   "cell_type": "code",
   "execution_count": null,
   "metadata": {},
   "outputs": [],
   "source": [
    "class Solution:\n",
    "    def getIntersectionNode(self, headA: ListNode, headB: ListNode): # Solution\n",
    "        stackA = ['A']\n",
    "        stackB = ['B']\n",
    "\n",
    "        while headA or headB:\n",
    "            if headA:\n",
    "                stackA.append(headA)\n",
    "                headA = headA.next\n",
    "\n",
    "            if headB:\n",
    "                stackB.append(headB)\n",
    "                headB = headB.next\n",
    "\n",
    "        prev = None\n",
    "        while stackA and stackB:\n",
    "            nodeA = stackA.pop(-1)\n",
    "            nodeB = stackB.pop(-1)\n",
    "\n",
    "            if nodeA != nodeB:\n",
    "                return prev\n",
    "\n",
    "            prev = nodeA"
   ]
  },
  {
   "cell_type": "code",
   "execution_count": 25,
   "metadata": {},
   "outputs": [],
   "source": [
    "intersectVal = 2\n",
    "listA = [4,1,8,4,5]\n",
    "listB = [5,6,1,8,4,5]\n",
    "skipA = 2\n",
    "skipB = 3\n",
    "headA = create_linked_list(listA)\n",
    "headB = create_intersection_list(headA, listB, skipA, skipB)\n",
    "# while headB is not None :\n",
    "#     print(headB.val, end = \" \")\n",
    "#     headB = headB.next"
   ]
  },
  {
   "cell_type": "code",
   "execution_count": 28,
   "metadata": {},
   "outputs": [
    {
     "data": {
      "text/plain": [
       "8"
      ]
     },
     "execution_count": 28,
     "metadata": {},
     "output_type": "execute_result"
    }
   ],
   "source": [
    "S = Solution()\n",
    "S.getIntersectionNode(headA, headB).val"
   ]
  }
 ],
 "metadata": {
  "kernelspec": {
   "display_name": "Python 3",
   "language": "python",
   "name": "python3"
  },
  "language_info": {
   "codemirror_mode": {
    "name": "ipython",
    "version": 3
   },
   "file_extension": ".py",
   "mimetype": "text/x-python",
   "name": "python",
   "nbconvert_exporter": "python",
   "pygments_lexer": "ipython3",
   "version": "3.11.4"
  }
 },
 "nbformat": 4,
 "nbformat_minor": 2
}
